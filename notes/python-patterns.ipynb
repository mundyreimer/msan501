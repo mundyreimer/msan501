{
 "cells": [
  {
   "cell_type": "markdown",
   "metadata": {},
   "source": [
    "# Programming Patterns in Python\n",
    "\n",
    "Now that we have an understanding of how computers organize data and have some low level programming operations, let's look at a few common high-level programming patterns. Each of these operations has an implementation using conditional and loop patterns, which we can very easily express using python syntax. We can also use existing library functions to achieve the same thing, which we'll explore also.\n",
    "\n",
    "As we go through, you will see that program design and coding are a game of word association. A high-level operation, such as map, should trigger a pseudocode (English-like \"code\") loop template in your mind, which should then trigger a for-each Python code template.\n",
    "\n",
    "*Keep in mind that we design programs by selecting and applying operations, not specific code sequences. Coding is the final act in the design process where we get an executable document.* So, think visually about how you would manipulate lists of data or extract information from data. I often draw things out or put them into a spreadsheet to help me visualize. Manually moving some data around on paper helps me to understand the operations to perform. \n",
    "\n",
    "After designing a sequence or combination of high-level operations, we can write things out in pseudocode or go straight to Python syntax. As you gain more experience, it will be easier to go straight from the operation to the code, but we still design programs using operations, not code, in our head. For complex problems, I still write out pseudocode, despite 35+ years coding experience."
   ]
  },
  {
   "cell_type": "markdown",
   "metadata": {},
   "source": [
    "## Programming patterns"
   ]
  },
  {
   "cell_type": "markdown",
   "metadata": {},
   "source": [
    "Programmers draw from a set of patterns or templates when choosing an overall program plan. The same is true of the individual operations themselves.  Programmers have a catalog of common operations that they rely on when choosing the steps of a plan.\n",
    "\n",
    "You're no doubt familiar with operations such as:\n",
    "\n",
    "* *sum the numbers in a list*\n",
    "* *count the numbers in a list*.\n",
    "\n",
    "But we can abstract those further into:\n",
    "\n",
    "* *find all values in a list satisfying a condition*\n",
    "* *apply an operation to each element in the list*. \n",
    "* ...\n",
    "\n",
    "The more abstract the operation, the more widely applicable it is.  The kinds of operations we use depends partly on a programmer's style but is heavily influenced by the capabilities of the programming language and its libraries of pre-existing functionality."
   ]
  },
  {
   "cell_type": "markdown",
   "metadata": {},
   "source": [
    "## Data for exercises\n",
    "\n",
    "We will be doing several small exercises as we go through this material. Please cut and paste this Python code into the notebook you are using.\n",
    "\n",
    "Please try to do the exercises without looking at the solutions, which appear immediately below the exercise description."
   ]
  },
  {
   "cell_type": "code",
   "execution_count": 1,
   "metadata": {
    "collapsed": true
   },
   "outputs": [],
   "source": [
    "UnitPrice = [38.94, 208.16, 8.69, 195.99]\n",
    "Shipping = [35, 68.02, 2.99, 3.99, 5.94, 4.95, 7.72, 6.22]\n",
    "names=['Xue', 'Mary', 'Bob']\n",
    "Oscars = [\n",
    "    [1984, \"A Soldier's Story\", 0],\n",
    "    [1984, 'Places in the Heart', 0],\n",
    "    [1984, 'The Killing Fields', 0],\n",
    "    [1984, 'A Passage to India', 0],\n",
    "    [1984, 'Amadeus', 1],\n",
    "    [1985, \"Prizzi's Honor\", 0],\n",
    "    [1985, 'Kiss of the Spider Woman', 0],\n",
    "    [1985, 'Witness', 0],\n",
    "    [1985, 'The Color Purple', 0],\n",
    "    [1985, 'Out of Africa', 1]\n",
    "]\n",
    "Quantity = [6, 49, 27, 30, 19, 21, 12, 22, 21]\n",
    "A = [\n",
    "    [1, 3, 10],\n",
    "    [4, -9, 0],\n",
    "    [2, 5, 8]\n",
    "]\n",
    "B = [\n",
    "    [7, 4, 0],\n",
    "    [4, 3, 1],\n",
    "    [1, 6, 8]\n",
    "]\n",
    "first=['Xue', 'Mary', 'Robert']\n",
    "last=['Li', 'Smith', 'Dixon']"
   ]
  },
  {
   "cell_type": "markdown",
   "metadata": {},
   "source": [
    "## Accumulate"
   ]
  },
  {
   "cell_type": "markdown",
   "metadata": {},
   "source": [
    "Let's start with a very simple but extremely common pattern called  accumulate. The pattern traverses a sequence of elements and accumulates a value. For example, to sum the numbers in a sequence, we use the accumulator operation with the `+` operator. As we traverse the sequence, we update a running sum that's initialized to 0:\n",
    "\n",
    "<img src=\"images/accumulator.png\" width=\"290\">\n",
    "\n",
    "In Excel, this is like using `sum(...)` in a cell. In Python, the implementation of this pattern has an initialization step and a loop:"
   ]
  },
  {
   "cell_type": "code",
   "execution_count": 2,
   "metadata": {},
   "outputs": [
    {
     "name": "stdout",
     "output_type": "stream",
     "text": [
      "207\n"
     ]
    }
   ],
   "source": [
    "sum = 0\n",
    "for q in Quantity:\n",
    "    sum += q # same as: sum = sum + q\n",
    "print(sum)"
   ]
  },
  {
   "cell_type": "markdown",
   "metadata": {},
   "source": [
    "We can use any other arithmetic operator we want, such as `*`. In fact, we can use any function that takes two operands and returns a new value. For summing, the two \"input\" numbers of the function are the previous accumulated value and the next value in the sequence. The result of that function is the new accumulated value. `+` and `*` are the most common operators. \n",
    "\n",
    "You will also see this operation called *reduce*, as in *map*/*reduce* in the distributed computing world of Hadoop and Spark.\n",
    "\n",
    "A **counter** is a special case of an accumulator that counts the number of elements in a sequence. It also uses the `+` operator but the two \"input\" numbers are the previous accumulated value and a fixed 1 value, not the next element in the sequence.\n",
    "\n",
    "We can update multiple running accumulated values, not just one. For example, let's say we wanted to count the number of even and odd values in a sequence. We need two accumulator values, both starting at zero, but the operation is the same:\n",
    "\n",
    "<img src=\"images/accumulator-even-odd.png\" width=\"320\">\n",
    "\n",
    "The `+1` indicates an \"add one to accumulated value\" operation applied at each step but only if the current value is even or odd. In Python code, we'd do something like the following:"
   ]
  },
  {
   "cell_type": "code",
   "execution_count": 3,
   "metadata": {},
   "outputs": [
    {
     "name": "stdout",
     "output_type": "stream",
     "text": [
      "4 5\n"
     ]
    }
   ],
   "source": [
    "even = 0\n",
    "odd = 0\n",
    "for q in Quantity:\n",
    "    if q % 2 == 0: even += 1 # % is mod operator\n",
    "    else: odd += 1\n",
    "print(even, odd)"
   ]
  },
  {
   "cell_type": "markdown",
   "metadata": {},
   "source": [
    "## Map\n",
    "\n",
    "Perhaps the most common operation *maps* one sequence to another, applying an operator or function to each element. (It's like an accumulator that accumulates a list of stuff instead of a single value.) For example, using a spreadsheet to create a new column containing the unit price discounted by 5% starts like this in a spreadsheet:\n",
    "\n",
    "<img src=\"images/map-discount-op.png\" width=\"390\">\n",
    "\n",
    "We can represent both lists at time 0 using list literals:"
   ]
  },
  {
   "cell_type": "code",
   "execution_count": 4,
   "metadata": {
    "collapsed": true
   },
   "outputs": [],
   "source": [
    "UnitPrice = [38.94, 208.16, 8.69, 195.99]\n",
    "Discounted = [] # empty list"
   ]
  },
  {
   "cell_type": "markdown",
   "metadata": {},
   "source": [
    "In other words:\n",
    "\n",
    "<img src=\"images/price-time0.png\" width=\"400\">\n",
    "\n",
    "The translation process in our heads from high-level operation to pseudocode to code is a game of *word association*\". When your brain sees an operation that maps a column of data to another, think \"map\". When your brain hears \"map\" it should generate the appropriate pseudocode loop, filling in the pieces appropriately.  When your brain hears \"for each blah blah\", think \"oh, for-each loop\" and use the appropriate coding pattern:"
   ]
  },
  {
   "cell_type": "code",
   "execution_count": 5,
   "metadata": {
    "code_folding": [],
    "collapsed": false,
    "scrolled": true
   },
   "outputs": [
    {
     "name": "stdout",
     "output_type": "stream",
     "text": [
      "[36.992999999999995, 197.75199999999998, 8.2555, 186.1905]\n"
     ]
    }
   ],
   "source": [
    "Discounted = [] # empty list\n",
    "for price in UnitPrice:\n",
    "    Discounted.append(price * 0.95)\n",
    "print(Discounted)"
   ]
  },
  {
   "cell_type": "markdown",
   "metadata": {},
   "source": [
    "Notice that I have included the initialization of the empty list as part of this code snippet. The reason is that we really want to mentally associate the initialization with this code pattern.\n",
    "\n",
    "Even at the microlevel, think about mapping operations to code. For example, when I think about \"*add <ins>x</ins> to list <ins>y</ins>*\", my brain translates that to `y.append(x)`.\n",
    "\n",
    "### List comprehension for map operation\n",
    "\n",
    "This is such a common pattern that Python has an explicit construct to make things easier.  It's called a *list comprehension* and it's really just shorthand that looks more like mathematical set notation:"
   ]
  },
  {
   "cell_type": "code",
   "execution_count": 6,
   "metadata": {
    "collapsed": false,
    "solution": "hidden",
    "solution_first": true
   },
   "outputs": [
    {
     "name": "stdout",
     "output_type": "stream",
     "text": [
      "[36.992999999999995, 197.75199999999998, 8.2555, 186.1905]\n"
     ]
    }
   ],
   "source": [
    "Discounted = [price * 0.95 for price in UnitPrice] # a list comprehension\n",
    "print(Discounted)"
   ]
  },
  {
   "cell_type": "markdown",
   "metadata": {},
   "source": [
    "### Exercise\n",
    "\n",
    "Without looking at the code we just did, try to write the code out for a map operation using a list comprehension that divides the prices in half, again putting the values in `Discounted`. **Don't cut/paste. Type!**"
   ]
  },
  {
   "cell_type": "code",
   "execution_count": 7,
   "metadata": {
    "collapsed": false,
    "scrolled": true
   },
   "outputs": [
    {
     "name": "stdout",
     "output_type": "stream",
     "text": [
      "[19.47, 104.08, 4.345, 97.995]\n"
     ]
    }
   ],
   "source": [
    "Discounted = [price/2 for price in UnitPrice] # a list comprehension\n",
    "print(Discounted)"
   ]
  },
  {
   "cell_type": "markdown",
   "metadata": {},
   "source": [
    "### Exercise\n",
    "\n",
    "Given a list of names, `['Xue', 'Mary', 'Robert']`, give code to implement a map operation that converts the names to list `namelens` containing the length of the names. Hint: Function call `len('Xue')` returns 3. **Don't cut/paste. Type!**"
   ]
  },
  {
   "cell_type": "code",
   "execution_count": 8,
   "metadata": {
    "collapsed": false
   },
   "outputs": [
    {
     "name": "stdout",
     "output_type": "stream",
     "text": [
      "[3, 4, 6]\n"
     ]
    }
   ],
   "source": [
    "names = ['Xue', 'Mary', 'Robert']\n",
    "namelens = [len(name) for name in names]\n",
    "print(namelens)"
   ]
  },
  {
   "cell_type": "markdown",
   "metadata": {},
   "source": [
    "## Combine\n",
    "\n",
    "Let's look at the code pattern to traverse two lists at once placing the result in a third list. For example, to compute the cost of a sales transaction, we multiply the quantity times the unit price. In a spreadsheet, that looks like this:\n",
    "\n",
    "<img src=\"images/map-formula.png\" width=\"250\">\n",
    "\n",
    "Dragging that formula down the Cost column, applies the formula to the following rows, thus, filling the new column.\n",
    "\n",
    "Programmatically, what we're doing is multiplying the *ith* element from two different sequences and placing the result in the *ith* position of the output sequence:\n",
    "\n",
    "<img src=\"images/map-mult.png\" width=\"490\">\n",
    "\n",
    "At time zero, we have the following data available:"
   ]
  },
  {
   "cell_type": "code",
   "execution_count": 9,
   "metadata": {
    "collapsed": true
   },
   "outputs": [],
   "source": [
    "Quantity = [6, 49, 27, 30, 19, 21, 12, 22, 21]\n",
    "UnitPrice = [38.94, 208.16, 8.69, 195.99, 21.78, 6.64, 7.3, 42.76, 138.14]"
   ]
  },
  {
   "cell_type": "markdown",
   "metadata": {},
   "source": [
    "When traversing more than a single list, we typically need to use an indexed loop rather than a for-each loop:"
   ]
  },
  {
   "cell_type": "code",
   "execution_count": 10,
   "metadata": {
    "collapsed": false
   },
   "outputs": [
    {
     "name": "stdout",
     "output_type": "stream",
     "text": [
      "[233.64, 10199.84, 234.63, 5879.700000000001, 413.82000000000005, 139.44, 87.6, 940.7199999999999, 2900.9399999999996]\n"
     ]
    }
   ],
   "source": [
    "Cost = []\n",
    "for i in range(len(Quantity)): # from 0 to length of Quantity-1, inclusively\n",
    "    Cost.append( Quantity[i] * UnitPrice[i] )\n",
    "print(Cost)"
   ]
  },
  {
   "cell_type": "markdown",
   "metadata": {},
   "source": [
    "### List comprehension for combine operation\n",
    "\n",
    "Or, better yet, use a list comprehension:"
   ]
  },
  {
   "cell_type": "code",
   "execution_count": 11,
   "metadata": {
    "collapsed": false
   },
   "outputs": [
    {
     "name": "stdout",
     "output_type": "stream",
     "text": [
      "[233.64, 10199.84, 234.63, 5879.700000000001, 413.82000000000005, 139.44, 87.6, 940.7199999999999, 2900.9399999999996]\n"
     ]
    }
   ],
   "source": [
    "Cost = [Quantity[i] * UnitPrice[i] for i in range(len(Quantity))]\n",
    "print(Cost)"
   ]
  },
  {
   "cell_type": "markdown",
   "metadata": {},
   "source": [
    "Note that you might be tempted to use a double `for`-each loop in a list comprehension, but you get the cross product of each value in quantity times each value in your price. That's not what we want, as you can see here:"
   ]
  },
  {
   "cell_type": "code",
   "execution_count": 12,
   "metadata": {
    "collapsed": false
   },
   "outputs": [
    {
     "name": "stdout",
     "output_type": "stream",
     "text": [
      "[233.64, 1248.96, 52.14, 1175.94, 130.68, 39.839999999999996, 43.8, 256.56, 828.8399999999999, 1908.06, 10199.84, 425.81, 9603.51, 1067.22, 325.35999999999996, 357.7, 2095.24, 6768.86, 1051.3799999999999, 5620.32, 234.63, 5291.7300000000005, 588.0600000000001, 179.28, 197.1, 1154.52, 3729.7799999999997, 1168.1999999999998, 6244.8, 260.7, 5879.700000000001, 653.4000000000001, 199.2, 219.0, 1282.8, 4144.2, 739.8599999999999, 3955.04, 165.10999999999999, 3723.8100000000004, 413.82000000000005, 126.16, 138.7, 812.4399999999999, 2624.66, 817.74, 4371.36, 182.48999999999998, 4115.79, 457.38, 139.44, 153.29999999999998, 897.9599999999999, 2900.9399999999996, 467.28, 2497.92, 104.28, 2351.88, 261.36, 79.67999999999999, 87.6, 513.12, 1657.6799999999998, 856.68, 4579.5199999999995, 191.17999999999998, 4311.780000000001, 479.16, 146.07999999999998, 160.6, 940.7199999999999, 3039.08, 817.74, 4371.36, 182.48999999999998, 4115.79, 457.38, 139.44, 153.29999999999998, 897.9599999999999, 2900.9399999999996]\n"
     ]
    }
   ],
   "source": [
    "print( [q*p for q in Quantity for p in UnitPrice] ) # WRONG!"
   ]
  },
  {
   "cell_type": "markdown",
   "metadata": {},
   "source": [
    "### The zip function\n",
    "\n",
    "We can also use `zip`, a very useful function that pulls one value from each list to make a tuple at each iteration:"
   ]
  },
  {
   "cell_type": "code",
   "execution_count": 13,
   "metadata": {},
   "outputs": [
    {
     "name": "stdout",
     "output_type": "stream",
     "text": [
      "[233.64, 10199.84, 234.63, 5879.700000000001, 413.82000000000005, 139.44, 87.6, 940.7199999999999, 2900.9399999999996]\n"
     ]
    }
   ],
   "source": [
    "Cost = []\n",
    "for q,u in zip(Quantity,UnitPrice):\n",
    "    Cost.append( q * u )\n",
    "print(Cost)"
   ]
  },
  {
   "cell_type": "markdown",
   "metadata": {},
   "source": [
    "Or, with a list comprehension:"
   ]
  },
  {
   "cell_type": "code",
   "execution_count": 14,
   "metadata": {},
   "outputs": [
    {
     "name": "stdout",
     "output_type": "stream",
     "text": [
      "[233.64, 10199.84, 234.63, 5879.700000000001, 413.82000000000005, 139.44, 87.6, 940.7199999999999, 2900.9399999999996]\n"
     ]
    }
   ],
   "source": [
    "Cost = [q * u for q,u in zip(Quantity,UnitPrice)]\n",
    "print(Cost)"
   ]
  },
  {
   "cell_type": "markdown",
   "metadata": {},
   "source": [
    "## Split\n",
    "\n",
    "The opposite of combining is splitting where we split a stream into two or more new streams. For example, I often have to split the full names in a list into their first and last names. In a spreadsheet, we make a blank column:\n",
    "\n",
    "<img src=\"images/split-names.png\" width=\"250\">\n",
    "\n",
    "and then split on the space character (In Excel, you use `Data` > `Text to Columns`) to get two new columns:\n",
    "\n",
    "<img src=\"images/split-names-after.png\" width=\"160\">\n",
    "\n",
    "We could \"undo\" this split using a *combine* operation with the string concatenation operator, which would combine first and last names together into a new stream containing full names again.\n",
    "\n",
    "Another common use of splitting is to take a string representing a string of numbers and split it into a list with those numbers:"
   ]
  },
  {
   "cell_type": "code",
   "execution_count": 15,
   "metadata": {},
   "outputs": [
    {
     "data": {
      "text/plain": [
       "['1', '2', '3']"
      ]
     },
     "execution_count": 15,
     "metadata": {},
     "output_type": "execute_result"
    }
   ],
   "source": [
    "'1 2 3'.split(' ')"
   ]
  },
  {
   "cell_type": "code",
   "execution_count": 16,
   "metadata": {},
   "outputs": [
    {
     "data": {
      "text/plain": [
       "[1, 2, 3]"
      ]
     },
     "execution_count": 16,
     "metadata": {},
     "output_type": "execute_result"
    }
   ],
   "source": [
    "values = '1 2 3'.split(' ')\n",
    "[int(v) for v in values]"
   ]
  },
  {
   "cell_type": "markdown",
   "metadata": {},
   "source": [
    "We can even traverse a list to get a matrix (list of lists)"
   ]
  },
  {
   "cell_type": "code",
   "execution_count": 17,
   "metadata": {
    "collapsed": false,
    "scrolled": false
   },
   "outputs": [
    {
     "data": {
      "text/plain": [
       "[[1, 2, 3], [3, 4, 5]]"
      ]
     },
     "execution_count": 17,
     "metadata": {},
     "output_type": "execute_result"
    }
   ],
   "source": [
    "rows = [\n",
    "    '1 2 3',\n",
    "    '3 4 5'\n",
    "]\n",
    "matrix = [[int(v) for v in row.split(' ')] for row in rows]\n",
    "matrix"
   ]
  },
  {
   "cell_type": "code",
   "execution_count": 18,
   "metadata": {
    "collapsed": false,
    "scrolled": false
   },
   "outputs": [
    {
     "data": {
      "image/svg+xml": [
       "<?xml version=\"1.0\" encoding=\"UTF-8\" standalone=\"no\"?>\n",
       "<!DOCTYPE svg PUBLIC \"-//W3C//DTD SVG 1.1//EN\"\n",
       " \"http://www.w3.org/Graphics/SVG/1.1/DTD/svg11.dtd\">\n",
       "<!-- Generated by graphviz version 2.40.1 (20161225.0304)\n",
       " -->\n",
       "<!-- Title: G Pages: 1 -->\n",
       "<svg width=\"79pt\" height=\"75pt\"\n",
       " viewBox=\"0.00 0.00 79.00 75.00\" xmlns=\"http://www.w3.org/2000/svg\" xmlns:xlink=\"http://www.w3.org/1999/xlink\">\n",
       "<g id=\"graph0\" class=\"graph\" transform=\"scale(1 1) rotate(0) translate(4 71)\">\n",
       "<title>G</title>\n",
       "<polygon fill=\"#ffffff\" stroke=\"transparent\" points=\"-4,4 -4,-71 75,-71 75,4 -4,4\"/>\n",
       "<!-- node4436397384 -->\n",
       "<g id=\"node1\" class=\"node\">\n",
       "<title>node4436397384</title>\n",
       "<polygon fill=\"#cfe2d4\" stroke=\"#444443\" stroke-width=\".5\" points=\"13,-49 0,-49 0,-17 13,-17 13,-49\"/>\n",
       "<polygon fill=\"#cfe2d4\" stroke=\"transparent\" points=\"1.5,-33 1.5,-48 12.5,-48 12.5,-33 1.5,-33\"/>\n",
       "<polyline fill=\"none\" stroke=\"#444443\" points=\"1.5,-33 12.5,-33 \"/>\n",
       "<text text-anchor=\"start\" x=\"4.4973\" y=\"-37.8\" font-family=\"Helvetica,sans-Serif\" font-size=\"9.00\" fill=\"#444443\">0</text>\n",
       "<polygon fill=\"#cfe2d4\" stroke=\"transparent\" points=\"1.5,-18 1.5,-33 12.5,-33 12.5,-18 1.5,-18\"/>\n",
       "<text text-anchor=\"start\" x=\"4.4973\" y=\"-22.8\" font-family=\"Helvetica,sans-Serif\" font-size=\"9.00\" fill=\"#444443\">1</text>\n",
       "</g>\n",
       "<!-- node4467498952 -->\n",
       "<g id=\"node2\" class=\"node\">\n",
       "<title>node4467498952</title>\n",
       "<polygon fill=\"none\" stroke=\"#000000\" stroke-width=\".5\" points=\"71,-67 35,-67 35,-37 71,-37 71,-67\"/>\n",
       "<polygon fill=\"#fefecd\" stroke=\"transparent\" points=\"36,-55 36,-66 48,-66 48,-55 36,-55\"/>\n",
       "<polyline fill=\"none\" stroke=\"#000000\" points=\"36,-55 48,-55 48,-66 \"/>\n",
       "<text text-anchor=\"start\" x=\"39.4973\" y=\"-57.8\" font-family=\"Helvetica,sans-Serif\" font-size=\"9.00\" fill=\"#444443\">0</text>\n",
       "<polygon fill=\"#fefecd\" stroke=\"transparent\" points=\"48,-55 48,-66 60,-66 60,-55 48,-55\"/>\n",
       "<polyline fill=\"none\" stroke=\"#000000\" points=\"48,-55 60,-55 60,-66 \"/>\n",
       "<text text-anchor=\"start\" x=\"51.4973\" y=\"-57.8\" font-family=\"Helvetica,sans-Serif\" font-size=\"9.00\" fill=\"#444443\">1</text>\n",
       "<polygon fill=\"#fefecd\" stroke=\"transparent\" points=\"60,-55 60,-66 70,-66 70,-55 60,-55\"/>\n",
       "<polyline fill=\"none\" stroke=\"#000000\" points=\"60,-55 70,-55 \"/>\n",
       "<text text-anchor=\"start\" x=\"62.4973\" y=\"-57.8\" font-family=\"Helvetica,sans-Serif\" font-size=\"9.00\" fill=\"#444443\">2</text>\n",
       "<polygon fill=\"#fefecd\" stroke=\"transparent\" points=\"36,-38 36,-55 48,-55 48,-38 36,-38\"/>\n",
       "<polyline fill=\"none\" stroke=\"#000000\" points=\"48,-38 48,-55 \"/>\n",
       "<text text-anchor=\"start\" x=\"38.9412\" y=\"-43.2\" font-family=\"Helvetica,sans-Serif\" font-size=\"11.00\" fill=\"#444443\">1</text>\n",
       "<polygon fill=\"#fefecd\" stroke=\"transparent\" points=\"48,-38 48,-55 60,-55 60,-38 48,-38\"/>\n",
       "<polyline fill=\"none\" stroke=\"#000000\" points=\"60,-38 60,-55 \"/>\n",
       "<text text-anchor=\"start\" x=\"50.9412\" y=\"-43.2\" font-family=\"Helvetica,sans-Serif\" font-size=\"11.00\" fill=\"#444443\">2</text>\n",
       "<polygon fill=\"#fefecd\" stroke=\"transparent\" points=\"60,-38 60,-55 70,-55 70,-38 60,-38\"/>\n",
       "<text text-anchor=\"start\" x=\"61.9412\" y=\"-43.2\" font-family=\"Helvetica,sans-Serif\" font-size=\"11.00\" fill=\"#444443\">3</text>\n",
       "</g>\n",
       "<!-- node4436397384&#45;&gt;node4467498952 -->\n",
       "<g id=\"edge1\" class=\"edge\">\n",
       "<title>node4436397384:0&#45;&gt;node4467498952:w</title>\n",
       "<path fill=\"none\" stroke=\"#444443\" stroke-width=\".5\" d=\"M12.5,-41C22.0658,-41 23.5866,-49.1238 30.8897,-51.4086\"/>\n",
       "<polygon fill=\"#444443\" stroke=\"#444443\" stroke-width=\".5\" points=\"30.8414,-52.816 35,-52 31.2402,-50.0445 30.8414,-52.816\"/>\n",
       "</g>\n",
       "<!-- node4466811720 -->\n",
       "<g id=\"node3\" class=\"node\">\n",
       "<title>node4466811720</title>\n",
       "<polygon fill=\"none\" stroke=\"#000000\" stroke-width=\".5\" points=\"71,-30 35,-30 35,0 71,0 71,-30\"/>\n",
       "<polygon fill=\"#fefecd\" stroke=\"transparent\" points=\"36,-18 36,-29 48,-29 48,-18 36,-18\"/>\n",
       "<polyline fill=\"none\" stroke=\"#000000\" points=\"36,-18 48,-18 48,-29 \"/>\n",
       "<text text-anchor=\"start\" x=\"39.4973\" y=\"-20.8\" font-family=\"Helvetica,sans-Serif\" font-size=\"9.00\" fill=\"#444443\">0</text>\n",
       "<polygon fill=\"#fefecd\" stroke=\"transparent\" points=\"48,-18 48,-29 60,-29 60,-18 48,-18\"/>\n",
       "<polyline fill=\"none\" stroke=\"#000000\" points=\"48,-18 60,-18 60,-29 \"/>\n",
       "<text text-anchor=\"start\" x=\"51.4973\" y=\"-20.8\" font-family=\"Helvetica,sans-Serif\" font-size=\"9.00\" fill=\"#444443\">1</text>\n",
       "<polygon fill=\"#fefecd\" stroke=\"transparent\" points=\"60,-18 60,-29 70,-29 70,-18 60,-18\"/>\n",
       "<polyline fill=\"none\" stroke=\"#000000\" points=\"60,-18 70,-18 \"/>\n",
       "<text text-anchor=\"start\" x=\"62.4973\" y=\"-20.8\" font-family=\"Helvetica,sans-Serif\" font-size=\"9.00\" fill=\"#444443\">2</text>\n",
       "<polygon fill=\"#fefecd\" stroke=\"transparent\" points=\"36,-1 36,-18 48,-18 48,-1 36,-1\"/>\n",
       "<polyline fill=\"none\" stroke=\"#000000\" points=\"48,-1 48,-18 \"/>\n",
       "<text text-anchor=\"start\" x=\"38.9412\" y=\"-6.2\" font-family=\"Helvetica,sans-Serif\" font-size=\"11.00\" fill=\"#444443\">3</text>\n",
       "<polygon fill=\"#fefecd\" stroke=\"transparent\" points=\"48,-1 48,-18 60,-18 60,-1 48,-1\"/>\n",
       "<polyline fill=\"none\" stroke=\"#000000\" points=\"60,-1 60,-18 \"/>\n",
       "<text text-anchor=\"start\" x=\"50.9412\" y=\"-6.2\" font-family=\"Helvetica,sans-Serif\" font-size=\"11.00\" fill=\"#444443\">4</text>\n",
       "<polygon fill=\"#fefecd\" stroke=\"transparent\" points=\"60,-1 60,-18 70,-18 70,-1 60,-1\"/>\n",
       "<text text-anchor=\"start\" x=\"61.9412\" y=\"-6.2\" font-family=\"Helvetica,sans-Serif\" font-size=\"11.00\" fill=\"#444443\">5</text>\n",
       "</g>\n",
       "<!-- node4436397384&#45;&gt;node4466811720 -->\n",
       "<g id=\"edge2\" class=\"edge\">\n",
       "<title>node4436397384:1&#45;&gt;node4466811720:w</title>\n",
       "<path fill=\"none\" stroke=\"#444443\" stroke-width=\".5\" d=\"M12.5,-25C21.9043,-25 23.68,-17.6147 30.9387,-15.5376\"/>\n",
       "<polygon fill=\"#444443\" stroke=\"#444443\" stroke-width=\".5\" points=\"31.2184,-16.9129 35,-15 30.8508,-14.1371 31.2184,-16.9129\"/>\n",
       "</g>\n",
       "</g>\n",
       "</svg>\n"
      ],
      "text/plain": [
       "<graphviz.files.Source at 0x10a4ce208>"
      ]
     },
     "execution_count": 18,
     "metadata": {},
     "output_type": "execute_result"
    }
   ],
   "source": [
    "from lolviz import *\n",
    "objviz(matrix)"
   ]
  },
  {
   "cell_type": "markdown",
   "metadata": {},
   "source": [
    "## Slice"
   ]
  },
  {
   "cell_type": "markdown",
   "metadata": {},
   "source": [
    "Most of the operations we've examined so far yield lists or sequences that have the same size as the input sequence, but there are many operations that yield subsets of the data. The first such operation is slice, which extracts a subset of a list. (Again, here I explicitly use the term list to indicate that slicing generally occurs on a data structure that fits in memory.)\n",
    "\n",
    "The slice operation is a function of two values, a start and end position within a list."
   ]
  },
  {
   "cell_type": "code",
   "execution_count": 19,
   "metadata": {},
   "outputs": [
    {
     "name": "stdout",
     "output_type": "stream",
     "text": [
      "Length 3\n",
      "['Xue']\n",
      "['Xue', 'Mary']\n",
      "['Xue', 'Mary', 'Bob']\n",
      "['Bob']\n"
     ]
    }
   ],
   "source": [
    "names=['Xue', 'Mary', 'Bob']\n",
    "print(f\"Length {len(names)}\")\n",
    "print(names[0:1])\n",
    "print(names[0:2])\n",
    "print(names[0:3])\n",
    "print(names[2:3])"
   ]
  },
  {
   "cell_type": "markdown",
   "metadata": {},
   "source": [
    "**Warning**: Most languages and libraries assume the ending slice position is exclusive, which would mean slicing from the position 0 to position 3, in this case. To make matters more complicated, Python but not R, starts counting at 0 not 1. It's hard to switch back and forth between Python and R in this respect, so it's good to highlight here so you keep it in mind."
   ]
  },
  {
   "cell_type": "markdown",
   "metadata": {},
   "source": [
    "## Filter\n",
    "\n",
    "The most general operation used to extract data from a list or  sequence is called *filter*. For example, using Excel's filter mechanism, we can filter a Shipping column for those values less than $10:\n",
    "\n",
    "<img src=\"images/filter-shipping.png\" width=\"170\">\n",
    "\n",
    "The filter operation is similar to the map operation in that a computation is applied to each element of the input stream. Map applies a function to each element of a sequence and creates a new sequence of the same size. Filter tests each element for a specific condition and, if true, adds that element to the new sequence.\n",
    "\n",
    "<img src=\"images/filter-apply.png\" width=\"590\">\n",
    "\n",
    "A filter operation is just a map that conditionally adds elements to the target list:"
   ]
  },
  {
   "cell_type": "code",
   "execution_count": 20,
   "metadata": {
    "collapsed": false,
    "scrolled": true
   },
   "outputs": [
    {
     "name": "stdout",
     "output_type": "stream",
     "text": [
      "[2.99, 3.99, 5.94, 4.95, 7.72, 6.22]\n"
     ]
    }
   ],
   "source": [
    "Shipping = [35, 68.02, 2.99, 3.99, 5.94, 4.95, 7.72, 6.22]\n",
    "Shipping2 = []\n",
    "for x in Shipping:\n",
    "    if x < 10:\n",
    "        Shipping2.append(x)\n",
    "print(Shipping2)"
   ]
  },
  {
   "cell_type": "markdown",
   "metadata": {},
   "source": [
    "### List comprehension for filter operation\n",
    "\n",
    "But, we should use instead a variation on the list comprehension seen in the pattern we have for the map operation:"
   ]
  },
  {
   "cell_type": "code",
   "execution_count": 21,
   "metadata": {
    "collapsed": false
   },
   "outputs": [
    {
     "name": "stdout",
     "output_type": "stream",
     "text": [
      "[2.99, 3.99, 5.94, 4.95, 7.72, 6.22]\n"
     ]
    }
   ],
   "source": [
    "Shipping2 = [x for x in Shipping if x < 10]\n",
    "print(Shipping2)"
   ]
  },
  {
   "cell_type": "markdown",
   "metadata": {},
   "source": [
    "We can also filter on one column but keep the data within each row together. Here is an example, using Excel, that filters Oscar winners from the list of nominees (the condition is *winner equals 1*):\n",
    "\n",
    "<img src=\"images/filter-winners.png\" width=\"590\">"
   ]
  },
  {
   "cell_type": "code",
   "execution_count": 22,
   "metadata": {
    "code_folding": [],
    "collapsed": true
   },
   "outputs": [
    {
     "data": {
      "image/svg+xml": [
       "<?xml version=\"1.0\" encoding=\"UTF-8\" standalone=\"no\"?>\n",
       "<!DOCTYPE svg PUBLIC \"-//W3C//DTD SVG 1.1//EN\"\n",
       " \"http://www.w3.org/Graphics/SVG/1.1/DTD/svg11.dtd\">\n",
       "<!-- Generated by graphviz version 2.40.1 (20161225.0304)\n",
       " -->\n",
       "<!-- Title: G Pages: 1 -->\n",
       "<svg width=\"203pt\" height=\"371pt\"\n",
       " viewBox=\"0.00 0.00 203.00 371.00\" xmlns=\"http://www.w3.org/2000/svg\" xmlns:xlink=\"http://www.w3.org/1999/xlink\">\n",
       "<g id=\"graph0\" class=\"graph\" transform=\"scale(1 1) rotate(0) translate(4 367)\">\n",
       "<title>G</title>\n",
       "<polygon fill=\"#ffffff\" stroke=\"transparent\" points=\"-4,4 -4,-367 199,-367 199,4 -4,4\"/>\n",
       "<!-- node4467622088 -->\n",
       "<g id=\"node1\" class=\"node\">\n",
       "<title>node4467622088</title>\n",
       "<polygon fill=\"#cfe2d4\" stroke=\"#444443\" stroke-width=\".5\" points=\"13,-257 0,-257 0,-105 13,-105 13,-257\"/>\n",
       "<polygon fill=\"#cfe2d4\" stroke=\"transparent\" points=\"1.5,-241 1.5,-256 12.5,-256 12.5,-241 1.5,-241\"/>\n",
       "<polyline fill=\"none\" stroke=\"#444443\" points=\"1.5,-241 12.5,-241 \"/>\n",
       "<text text-anchor=\"start\" x=\"4.4973\" y=\"-245.8\" font-family=\"Helvetica,sans-Serif\" font-size=\"9.00\" fill=\"#444443\">0</text>\n",
       "<polygon fill=\"#cfe2d4\" stroke=\"transparent\" points=\"1.5,-226 1.5,-241 12.5,-241 12.5,-226 1.5,-226\"/>\n",
       "<polyline fill=\"none\" stroke=\"#444443\" points=\"1.5,-226 12.5,-226 \"/>\n",
       "<text text-anchor=\"start\" x=\"4.4973\" y=\"-230.8\" font-family=\"Helvetica,sans-Serif\" font-size=\"9.00\" fill=\"#444443\">1</text>\n",
       "<polygon fill=\"#cfe2d4\" stroke=\"transparent\" points=\"1.5,-211 1.5,-226 12.5,-226 12.5,-211 1.5,-211\"/>\n",
       "<polyline fill=\"none\" stroke=\"#444443\" points=\"1.5,-211 12.5,-211 \"/>\n",
       "<text text-anchor=\"start\" x=\"4.4973\" y=\"-215.8\" font-family=\"Helvetica,sans-Serif\" font-size=\"9.00\" fill=\"#444443\">2</text>\n",
       "<polygon fill=\"#cfe2d4\" stroke=\"transparent\" points=\"1.5,-196 1.5,-211 12.5,-211 12.5,-196 1.5,-196\"/>\n",
       "<polyline fill=\"none\" stroke=\"#444443\" points=\"1.5,-196 12.5,-196 \"/>\n",
       "<text text-anchor=\"start\" x=\"4.4973\" y=\"-200.8\" font-family=\"Helvetica,sans-Serif\" font-size=\"9.00\" fill=\"#444443\">3</text>\n",
       "<polygon fill=\"#cfe2d4\" stroke=\"transparent\" points=\"1.5,-181 1.5,-196 12.5,-196 12.5,-181 1.5,-181\"/>\n",
       "<polyline fill=\"none\" stroke=\"#444443\" points=\"1.5,-181 12.5,-181 \"/>\n",
       "<text text-anchor=\"start\" x=\"4.4973\" y=\"-185.8\" font-family=\"Helvetica,sans-Serif\" font-size=\"9.00\" fill=\"#444443\">4</text>\n",
       "<polygon fill=\"#cfe2d4\" stroke=\"transparent\" points=\"1.5,-166 1.5,-181 12.5,-181 12.5,-166 1.5,-166\"/>\n",
       "<polyline fill=\"none\" stroke=\"#444443\" points=\"1.5,-166 12.5,-166 \"/>\n",
       "<text text-anchor=\"start\" x=\"4.4973\" y=\"-170.8\" font-family=\"Helvetica,sans-Serif\" font-size=\"9.00\" fill=\"#444443\">5</text>\n",
       "<polygon fill=\"#cfe2d4\" stroke=\"transparent\" points=\"1.5,-151 1.5,-166 12.5,-166 12.5,-151 1.5,-151\"/>\n",
       "<polyline fill=\"none\" stroke=\"#444443\" points=\"1.5,-151 12.5,-151 \"/>\n",
       "<text text-anchor=\"start\" x=\"4.4973\" y=\"-155.8\" font-family=\"Helvetica,sans-Serif\" font-size=\"9.00\" fill=\"#444443\">6</text>\n",
       "<polygon fill=\"#cfe2d4\" stroke=\"transparent\" points=\"1.5,-136 1.5,-151 12.5,-151 12.5,-136 1.5,-136\"/>\n",
       "<polyline fill=\"none\" stroke=\"#444443\" points=\"1.5,-136 12.5,-136 \"/>\n",
       "<text text-anchor=\"start\" x=\"4.4973\" y=\"-140.8\" font-family=\"Helvetica,sans-Serif\" font-size=\"9.00\" fill=\"#444443\">7</text>\n",
       "<polygon fill=\"#cfe2d4\" stroke=\"transparent\" points=\"1.5,-121 1.5,-136 12.5,-136 12.5,-121 1.5,-121\"/>\n",
       "<polyline fill=\"none\" stroke=\"#444443\" points=\"1.5,-121 12.5,-121 \"/>\n",
       "<text text-anchor=\"start\" x=\"4.4973\" y=\"-125.8\" font-family=\"Helvetica,sans-Serif\" font-size=\"9.00\" fill=\"#444443\">8</text>\n",
       "<polygon fill=\"#cfe2d4\" stroke=\"transparent\" points=\"1.5,-106 1.5,-121 12.5,-121 12.5,-106 1.5,-106\"/>\n",
       "<text text-anchor=\"start\" x=\"4.4973\" y=\"-110.8\" font-family=\"Helvetica,sans-Serif\" font-size=\"9.00\" fill=\"#444443\">9</text>\n",
       "</g>\n",
       "<!-- node4467625736 -->\n",
       "<g id=\"node2\" class=\"node\">\n",
       "<title>node4467625736</title>\n",
       "<polygon fill=\"none\" stroke=\"#000000\" stroke-width=\".5\" points=\"183,-363 47,-363 47,-333 183,-333 183,-363\"/>\n",
       "<polygon fill=\"#fefecd\" stroke=\"transparent\" points=\"48,-351 48,-362 78,-362 78,-351 48,-351\"/>\n",
       "<polyline fill=\"none\" stroke=\"#000000\" points=\"48,-351 78,-351 78,-362 \"/>\n",
       "<text text-anchor=\"start\" x=\"60.4973\" y=\"-353.8\" font-family=\"Helvetica,sans-Serif\" font-size=\"9.00\" fill=\"#444443\">0</text>\n",
       "<polygon fill=\"#fefecd\" stroke=\"transparent\" points=\"78,-351 78,-362 172,-362 172,-351 78,-351\"/>\n",
       "<polyline fill=\"none\" stroke=\"#000000\" points=\"78,-351 172,-351 172,-362 \"/>\n",
       "<text text-anchor=\"start\" x=\"122.4973\" y=\"-353.8\" font-family=\"Helvetica,sans-Serif\" font-size=\"9.00\" fill=\"#444443\">1</text>\n",
       "<polygon fill=\"#fefecd\" stroke=\"transparent\" points=\"172,-351 172,-362 182,-362 182,-351 172,-351\"/>\n",
       "<polyline fill=\"none\" stroke=\"#000000\" points=\"172,-351 182,-351 \"/>\n",
       "<text text-anchor=\"start\" x=\"174.4973\" y=\"-353.8\" font-family=\"Helvetica,sans-Serif\" font-size=\"9.00\" fill=\"#444443\">2</text>\n",
       "<polygon fill=\"#fefecd\" stroke=\"transparent\" points=\"48,-334 48,-351 78,-351 78,-334 48,-334\"/>\n",
       "<polyline fill=\"none\" stroke=\"#000000\" points=\"78,-334 78,-351 \"/>\n",
       "<text text-anchor=\"start\" x=\"50.7646\" y=\"-339.2\" font-family=\"Helvetica,sans-Serif\" font-size=\"11.00\" fill=\"#444443\">1984</text>\n",
       "<polygon fill=\"#fefecd\" stroke=\"transparent\" points=\"78,-334 78,-351 172,-351 172,-334 78,-334\"/>\n",
       "<polyline fill=\"none\" stroke=\"#000000\" points=\"172,-334 172,-351 \"/>\n",
       "<text text-anchor=\"start\" x=\"80.9141\" y=\"-339.2\" font-family=\"Helvetica,sans-Serif\" font-size=\"11.00\" fill=\"#444443\">&quot;A Soldier&#39;s Story&quot;</text>\n",
       "<polygon fill=\"#fefecd\" stroke=\"transparent\" points=\"172,-334 172,-351 182,-351 182,-334 172,-334\"/>\n",
       "<text text-anchor=\"start\" x=\"173.9412\" y=\"-339.2\" font-family=\"Helvetica,sans-Serif\" font-size=\"11.00\" fill=\"#444443\">0</text>\n",
       "</g>\n",
       "<!-- node4467622088&#45;&gt;node4467625736 -->\n",
       "<g id=\"edge1\" class=\"edge\">\n",
       "<title>node4467622088:0&#45;&gt;node4467625736:w</title>\n",
       "<path fill=\"none\" stroke=\"#444443\" stroke-width=\".5\" d=\"M7.5,-256C7.5,-276.8586 22.6619,-339.4667 42.8898,-347.2112\"/>\n",
       "<polygon fill=\"#444443\" stroke=\"#444443\" stroke-width=\".5\" points=\"42.8078,-348.621 47,-348 43.3356,-345.8711 42.8078,-348.621\"/>\n",
       "</g>\n",
       "<!-- node4466810952 -->\n",
       "<g id=\"node3\" class=\"node\">\n",
       "<title>node4466810952</title>\n",
       "<polygon fill=\"none\" stroke=\"#000000\" stroke-width=\".5\" points=\"187.5,-326 42.5,-326 42.5,-296 187.5,-296 187.5,-326\"/>\n",
       "<polygon fill=\"#fefecd\" stroke=\"transparent\" points=\"44,-314 44,-325 74,-325 74,-314 44,-314\"/>\n",
       "<polyline fill=\"none\" stroke=\"#000000\" points=\"44,-314 74,-314 74,-325 \"/>\n",
       "<text text-anchor=\"start\" x=\"56.4973\" y=\"-316.8\" font-family=\"Helvetica,sans-Serif\" font-size=\"9.00\" fill=\"#444443\">0</text>\n",
       "<polygon fill=\"#fefecd\" stroke=\"transparent\" points=\"74,-314 74,-325 177,-325 177,-314 74,-314\"/>\n",
       "<polyline fill=\"none\" stroke=\"#000000\" points=\"74,-314 177,-314 177,-325 \"/>\n",
       "<text text-anchor=\"start\" x=\"122.9973\" y=\"-316.8\" font-family=\"Helvetica,sans-Serif\" font-size=\"9.00\" fill=\"#444443\">1</text>\n",
       "<polygon fill=\"#fefecd\" stroke=\"transparent\" points=\"177,-314 177,-325 187,-325 187,-314 177,-314\"/>\n",
       "<polyline fill=\"none\" stroke=\"#000000\" points=\"177,-314 187,-314 \"/>\n",
       "<text text-anchor=\"start\" x=\"179.4973\" y=\"-316.8\" font-family=\"Helvetica,sans-Serif\" font-size=\"9.00\" fill=\"#444443\">2</text>\n",
       "<polygon fill=\"#fefecd\" stroke=\"transparent\" points=\"44,-297 44,-314 74,-314 74,-297 44,-297\"/>\n",
       "<polyline fill=\"none\" stroke=\"#000000\" points=\"74,-297 74,-314 \"/>\n",
       "<text text-anchor=\"start\" x=\"46.7646\" y=\"-302.2\" font-family=\"Helvetica,sans-Serif\" font-size=\"11.00\" fill=\"#444443\">1984</text>\n",
       "<polygon fill=\"#fefecd\" stroke=\"transparent\" points=\"74,-297 74,-314 177,-314 177,-297 74,-297\"/>\n",
       "<polyline fill=\"none\" stroke=\"#000000\" points=\"177,-297 177,-314 \"/>\n",
       "<text text-anchor=\"start\" x=\"76.9319\" y=\"-302.2\" font-family=\"Helvetica,sans-Serif\" font-size=\"11.00\" fill=\"#444443\">&#39;Places in the Heart&#39;</text>\n",
       "<polygon fill=\"#fefecd\" stroke=\"transparent\" points=\"177,-297 177,-314 187,-314 187,-297 177,-297\"/>\n",
       "<text text-anchor=\"start\" x=\"178.9412\" y=\"-302.2\" font-family=\"Helvetica,sans-Serif\" font-size=\"11.00\" fill=\"#444443\">0</text>\n",
       "</g>\n",
       "<!-- node4467622088&#45;&gt;node4466810952 -->\n",
       "<g id=\"edge2\" class=\"edge\">\n",
       "<title>node4467622088:1&#45;&gt;node4466810952:w</title>\n",
       "<path fill=\"none\" stroke=\"#444443\" stroke-width=\".5\" d=\"M12.5,-234C47.5731,-234 8.9674,-304.525 37.7087,-310.5857\"/>\n",
       "<polygon fill=\"#444443\" stroke=\"#444443\" stroke-width=\".5\" points=\"37.884,-312.0091 42,-311 38.1531,-309.222 37.884,-312.0091\"/>\n",
       "</g>\n",
       "<!-- node4467622920 -->\n",
       "<g id=\"node4\" class=\"node\">\n",
       "<title>node4467622920</title>\n",
       "<polygon fill=\"none\" stroke=\"#000000\" stroke-width=\".5\" points=\"182.5,-289 47.5,-289 47.5,-259 182.5,-259 182.5,-289\"/>\n",
       "<polygon fill=\"#fefecd\" stroke=\"transparent\" points=\"49,-277 49,-288 79,-288 79,-277 49,-277\"/>\n",
       "<polyline fill=\"none\" stroke=\"#000000\" points=\"49,-277 79,-277 79,-288 \"/>\n",
       "<text text-anchor=\"start\" x=\"61.4973\" y=\"-279.8\" font-family=\"Helvetica,sans-Serif\" font-size=\"9.00\" fill=\"#444443\">0</text>\n",
       "<polygon fill=\"#fefecd\" stroke=\"transparent\" points=\"79,-277 79,-288 172,-288 172,-277 79,-277\"/>\n",
       "<polyline fill=\"none\" stroke=\"#000000\" points=\"79,-277 172,-277 172,-288 \"/>\n",
       "<text text-anchor=\"start\" x=\"122.9973\" y=\"-279.8\" font-family=\"Helvetica,sans-Serif\" font-size=\"9.00\" fill=\"#444443\">1</text>\n",
       "<polygon fill=\"#fefecd\" stroke=\"transparent\" points=\"172,-277 172,-288 182,-288 182,-277 172,-277\"/>\n",
       "<polyline fill=\"none\" stroke=\"#000000\" points=\"172,-277 182,-277 \"/>\n",
       "<text text-anchor=\"start\" x=\"174.4973\" y=\"-279.8\" font-family=\"Helvetica,sans-Serif\" font-size=\"9.00\" fill=\"#444443\">2</text>\n",
       "<polygon fill=\"#fefecd\" stroke=\"transparent\" points=\"49,-260 49,-277 79,-277 79,-260 49,-260\"/>\n",
       "<polyline fill=\"none\" stroke=\"#000000\" points=\"79,-260 79,-277 \"/>\n",
       "<text text-anchor=\"start\" x=\"51.7646\" y=\"-265.2\" font-family=\"Helvetica,sans-Serif\" font-size=\"11.00\" fill=\"#444443\">1984</text>\n",
       "<polygon fill=\"#fefecd\" stroke=\"transparent\" points=\"79,-260 79,-277 172,-277 172,-260 79,-260\"/>\n",
       "<polyline fill=\"none\" stroke=\"#000000\" points=\"172,-260 172,-277 \"/>\n",
       "<text text-anchor=\"start\" x=\"81.5215\" y=\"-265.2\" font-family=\"Helvetica,sans-Serif\" font-size=\"11.00\" fill=\"#444443\">&#39;The Killing Fields&#39;</text>\n",
       "<polygon fill=\"#fefecd\" stroke=\"transparent\" points=\"172,-260 172,-277 182,-277 182,-260 172,-260\"/>\n",
       "<text text-anchor=\"start\" x=\"173.9412\" y=\"-265.2\" font-family=\"Helvetica,sans-Serif\" font-size=\"11.00\" fill=\"#444443\">0</text>\n",
       "</g>\n",
       "<!-- node4467622088&#45;&gt;node4467622920 -->\n",
       "<g id=\"edge3\" class=\"edge\">\n",
       "<title>node4467622088:2&#45;&gt;node4467622920:w</title>\n",
       "<path fill=\"none\" stroke=\"#444443\" stroke-width=\".5\" d=\"M12.5,-219C39.8902,-219 20.3676,-268.5559 42.9932,-273.5889\"/>\n",
       "<polygon fill=\"#444443\" stroke=\"#444443\" stroke-width=\".5\" points=\"42.878,-274.9844 47,-274 43.1638,-272.199 42.878,-274.9844\"/>\n",
       "</g>\n",
       "<!-- node4467624520 -->\n",
       "<g id=\"node5\" class=\"node\">\n",
       "<title>node4467624520</title>\n",
       "<polygon fill=\"none\" stroke=\"#000000\" stroke-width=\".5\" points=\"186.5,-252 43.5,-252 43.5,-222 186.5,-222 186.5,-252\"/>\n",
       "<polygon fill=\"#fefecd\" stroke=\"transparent\" points=\"45,-240 45,-251 75,-251 75,-240 45,-240\"/>\n",
       "<polyline fill=\"none\" stroke=\"#000000\" points=\"45,-240 75,-240 75,-251 \"/>\n",
       "<text text-anchor=\"start\" x=\"57.4973\" y=\"-242.8\" font-family=\"Helvetica,sans-Serif\" font-size=\"9.00\" fill=\"#444443\">0</text>\n",
       "<polygon fill=\"#fefecd\" stroke=\"transparent\" points=\"75,-240 75,-251 176,-251 176,-240 75,-240\"/>\n",
       "<polyline fill=\"none\" stroke=\"#000000\" points=\"75,-240 176,-240 176,-251 \"/>\n",
       "<text text-anchor=\"start\" x=\"122.9973\" y=\"-242.8\" font-family=\"Helvetica,sans-Serif\" font-size=\"9.00\" fill=\"#444443\">1</text>\n",
       "<polygon fill=\"#fefecd\" stroke=\"transparent\" points=\"176,-240 176,-251 186,-251 186,-240 176,-240\"/>\n",
       "<polyline fill=\"none\" stroke=\"#000000\" points=\"176,-240 186,-240 \"/>\n",
       "<text text-anchor=\"start\" x=\"178.4973\" y=\"-242.8\" font-family=\"Helvetica,sans-Serif\" font-size=\"9.00\" fill=\"#444443\">2</text>\n",
       "<polygon fill=\"#fefecd\" stroke=\"transparent\" points=\"45,-223 45,-240 75,-240 75,-223 45,-223\"/>\n",
       "<polyline fill=\"none\" stroke=\"#000000\" points=\"75,-223 75,-240 \"/>\n",
       "<text text-anchor=\"start\" x=\"47.7646\" y=\"-228.2\" font-family=\"Helvetica,sans-Serif\" font-size=\"11.00\" fill=\"#444443\">1984</text>\n",
       "<polygon fill=\"#fefecd\" stroke=\"transparent\" points=\"75,-223 75,-240 176,-240 176,-223 75,-223\"/>\n",
       "<polyline fill=\"none\" stroke=\"#000000\" points=\"176,-223 176,-240 \"/>\n",
       "<text text-anchor=\"start\" x=\"77.5308\" y=\"-228.2\" font-family=\"Helvetica,sans-Serif\" font-size=\"11.00\" fill=\"#444443\">&#39;A Passage to India&#39;</text>\n",
       "<polygon fill=\"#fefecd\" stroke=\"transparent\" points=\"176,-223 176,-240 186,-240 186,-223 176,-223\"/>\n",
       "<text text-anchor=\"start\" x=\"177.9412\" y=\"-228.2\" font-family=\"Helvetica,sans-Serif\" font-size=\"11.00\" fill=\"#444443\">0</text>\n",
       "</g>\n",
       "<!-- node4467622088&#45;&gt;node4467624520 -->\n",
       "<g id=\"edge4\" class=\"edge\">\n",
       "<title>node4467622088:3&#45;&gt;node4467624520:w</title>\n",
       "<path fill=\"none\" stroke=\"#444443\" stroke-width=\".5\" d=\"M12.5,-204C30.9113,-204 24.3244,-232.0452 38.8297,-236.4272\"/>\n",
       "<polygon fill=\"#444443\" stroke=\"#444443\" stroke-width=\".5\" points=\"38.8467,-237.8426 43,-237 39.2277,-235.0687 38.8467,-237.8426\"/>\n",
       "</g>\n",
       "<!-- node4467865608 -->\n",
       "<g id=\"node6\" class=\"node\">\n",
       "<title>node4467865608</title>\n",
       "<polygon fill=\"none\" stroke=\"#000000\" stroke-width=\".5\" points=\"164,-215 66,-215 66,-185 164,-185 164,-215\"/>\n",
       "<polygon fill=\"#fefecd\" stroke=\"transparent\" points=\"67,-203 67,-214 97,-214 97,-203 67,-203\"/>\n",
       "<polyline fill=\"none\" stroke=\"#000000\" points=\"67,-203 97,-203 97,-214 \"/>\n",
       "<text text-anchor=\"start\" x=\"79.4973\" y=\"-205.8\" font-family=\"Helvetica,sans-Serif\" font-size=\"9.00\" fill=\"#444443\">0</text>\n",
       "<polygon fill=\"#fefecd\" stroke=\"transparent\" points=\"97,-203 97,-214 153,-214 153,-203 97,-203\"/>\n",
       "<polyline fill=\"none\" stroke=\"#000000\" points=\"97,-203 153,-203 153,-214 \"/>\n",
       "<text text-anchor=\"start\" x=\"122.4973\" y=\"-205.8\" font-family=\"Helvetica,sans-Serif\" font-size=\"9.00\" fill=\"#444443\">1</text>\n",
       "<polygon fill=\"#fefecd\" stroke=\"transparent\" points=\"153,-203 153,-214 163,-214 163,-203 153,-203\"/>\n",
       "<polyline fill=\"none\" stroke=\"#000000\" points=\"153,-203 163,-203 \"/>\n",
       "<text text-anchor=\"start\" x=\"155.4973\" y=\"-205.8\" font-family=\"Helvetica,sans-Serif\" font-size=\"9.00\" fill=\"#444443\">2</text>\n",
       "<polygon fill=\"#fefecd\" stroke=\"transparent\" points=\"67,-186 67,-203 97,-203 97,-186 67,-186\"/>\n",
       "<polyline fill=\"none\" stroke=\"#000000\" points=\"97,-186 97,-203 \"/>\n",
       "<text text-anchor=\"start\" x=\"69.7646\" y=\"-191.2\" font-family=\"Helvetica,sans-Serif\" font-size=\"11.00\" fill=\"#444443\">1984</text>\n",
       "<polygon fill=\"#fefecd\" stroke=\"transparent\" points=\"97,-186 97,-203 153,-203 153,-186 97,-186\"/>\n",
       "<polyline fill=\"none\" stroke=\"#000000\" points=\"153,-186 153,-203 \"/>\n",
       "<text text-anchor=\"start\" x=\"99.6646\" y=\"-191.2\" font-family=\"Helvetica,sans-Serif\" font-size=\"11.00\" fill=\"#444443\">&#39;Amadeus&#39;</text>\n",
       "<polygon fill=\"#fefecd\" stroke=\"transparent\" points=\"153,-186 153,-203 163,-203 163,-186 153,-186\"/>\n",
       "<text text-anchor=\"start\" x=\"154.9412\" y=\"-191.2\" font-family=\"Helvetica,sans-Serif\" font-size=\"11.00\" fill=\"#444443\">1</text>\n",
       "</g>\n",
       "<!-- node4467622088&#45;&gt;node4467865608 -->\n",
       "<g id=\"edge5\" class=\"edge\">\n",
       "<title>node4467622088:4&#45;&gt;node4467865608:w</title>\n",
       "<path fill=\"none\" stroke=\"#444443\" stroke-width=\".5\" d=\"M12.5,-189C35.3528,-189 41.0784,-198.7487 61.9242,-199.8911\"/>\n",
       "<polygon fill=\"#444443\" stroke=\"#444443\" stroke-width=\".5\" points=\"61.964,-201.2926 66,-200 62.0388,-198.4936 61.964,-201.2926\"/>\n",
       "</g>\n",
       "<!-- node4467624712 -->\n",
       "<g id=\"node7\" class=\"node\">\n",
       "<title>node4467624712</title>\n",
       "<polygon fill=\"none\" stroke=\"#000000\" stroke-width=\".5\" points=\"176.5,-178 53.5,-178 53.5,-148 176.5,-148 176.5,-178\"/>\n",
       "<polygon fill=\"#fefecd\" stroke=\"transparent\" points=\"55,-166 55,-177 85,-177 85,-166 55,-166\"/>\n",
       "<polyline fill=\"none\" stroke=\"#000000\" points=\"55,-166 85,-166 85,-177 \"/>\n",
       "<text text-anchor=\"start\" x=\"67.4973\" y=\"-168.8\" font-family=\"Helvetica,sans-Serif\" font-size=\"9.00\" fill=\"#444443\">0</text>\n",
       "<polygon fill=\"#fefecd\" stroke=\"transparent\" points=\"85,-166 85,-177 166,-177 166,-166 85,-166\"/>\n",
       "<polyline fill=\"none\" stroke=\"#000000\" points=\"85,-166 166,-166 166,-177 \"/>\n",
       "<text text-anchor=\"start\" x=\"122.9973\" y=\"-168.8\" font-family=\"Helvetica,sans-Serif\" font-size=\"9.00\" fill=\"#444443\">1</text>\n",
       "<polygon fill=\"#fefecd\" stroke=\"transparent\" points=\"166,-166 166,-177 176,-177 176,-166 166,-166\"/>\n",
       "<polyline fill=\"none\" stroke=\"#000000\" points=\"166,-166 176,-166 \"/>\n",
       "<text text-anchor=\"start\" x=\"168.4973\" y=\"-168.8\" font-family=\"Helvetica,sans-Serif\" font-size=\"9.00\" fill=\"#444443\">2</text>\n",
       "<polygon fill=\"#fefecd\" stroke=\"transparent\" points=\"55,-149 55,-166 85,-166 85,-149 55,-149\"/>\n",
       "<polyline fill=\"none\" stroke=\"#000000\" points=\"85,-149 85,-166 \"/>\n",
       "<text text-anchor=\"start\" x=\"57.7646\" y=\"-154.2\" font-family=\"Helvetica,sans-Serif\" font-size=\"11.00\" fill=\"#444443\">1985</text>\n",
       "<polygon fill=\"#fefecd\" stroke=\"transparent\" points=\"85,-149 85,-166 166,-166 166,-149 85,-149\"/>\n",
       "<polyline fill=\"none\" stroke=\"#000000\" points=\"166,-149 166,-166 \"/>\n",
       "<text text-anchor=\"start\" x=\"87.8433\" y=\"-154.2\" font-family=\"Helvetica,sans-Serif\" font-size=\"11.00\" fill=\"#444443\">&quot;Prizzi&#39;s Honor&quot;</text>\n",
       "<polygon fill=\"#fefecd\" stroke=\"transparent\" points=\"166,-149 166,-166 176,-166 176,-149 166,-149\"/>\n",
       "<text text-anchor=\"start\" x=\"167.9412\" y=\"-154.2\" font-family=\"Helvetica,sans-Serif\" font-size=\"11.00\" fill=\"#444443\">0</text>\n",
       "</g>\n",
       "<!-- node4467622088&#45;&gt;node4467624712 -->\n",
       "<g id=\"edge6\" class=\"edge\">\n",
       "<title>node4467622088:5&#45;&gt;node4467624712:w</title>\n",
       "<path fill=\"none\" stroke=\"#444443\" stroke-width=\".5\" d=\"M12.5,-173C29.5921,-173 33.8329,-164.5015 48.917,-163.1736\"/>\n",
       "<polygon fill=\"#444443\" stroke=\"#444443\" stroke-width=\".5\" points=\"49.0631,-164.5687 53,-163 48.9441,-161.7712 49.0631,-164.5687\"/>\n",
       "</g>\n",
       "<!-- node4467898952 -->\n",
       "<g id=\"node8\" class=\"node\">\n",
       "<title>node4467898952</title>\n",
       "<polygon fill=\"none\" stroke=\"#000000\" stroke-width=\".5\" points=\"195,-141 35,-141 35,-111 195,-111 195,-141\"/>\n",
       "<polygon fill=\"#fefecd\" stroke=\"transparent\" points=\"36,-129 36,-140 66,-140 66,-129 36,-129\"/>\n",
       "<polyline fill=\"none\" stroke=\"#000000\" points=\"36,-129 66,-129 66,-140 \"/>\n",
       "<text text-anchor=\"start\" x=\"48.4973\" y=\"-131.8\" font-family=\"Helvetica,sans-Serif\" font-size=\"9.00\" fill=\"#444443\">0</text>\n",
       "<polygon fill=\"#fefecd\" stroke=\"transparent\" points=\"66,-129 66,-140 184,-140 184,-129 66,-129\"/>\n",
       "<polyline fill=\"none\" stroke=\"#000000\" points=\"66,-129 184,-129 184,-140 \"/>\n",
       "<text text-anchor=\"start\" x=\"122.4973\" y=\"-131.8\" font-family=\"Helvetica,sans-Serif\" font-size=\"9.00\" fill=\"#444443\">1</text>\n",
       "<polygon fill=\"#fefecd\" stroke=\"transparent\" points=\"184,-129 184,-140 194,-140 194,-129 184,-129\"/>\n",
       "<polyline fill=\"none\" stroke=\"#000000\" points=\"184,-129 194,-129 \"/>\n",
       "<text text-anchor=\"start\" x=\"186.4973\" y=\"-131.8\" font-family=\"Helvetica,sans-Serif\" font-size=\"9.00\" fill=\"#444443\">2</text>\n",
       "<polygon fill=\"#fefecd\" stroke=\"transparent\" points=\"36,-112 36,-129 66,-129 66,-112 36,-112\"/>\n",
       "<polyline fill=\"none\" stroke=\"#000000\" points=\"66,-112 66,-129 \"/>\n",
       "<text text-anchor=\"start\" x=\"38.7646\" y=\"-117.2\" font-family=\"Helvetica,sans-Serif\" font-size=\"11.00\" fill=\"#444443\">1985</text>\n",
       "<polygon fill=\"#fefecd\" stroke=\"transparent\" points=\"66,-112 66,-129 184,-129 184,-112 66,-112\"/>\n",
       "<polyline fill=\"none\" stroke=\"#000000\" points=\"184,-112 184,-129 \"/>\n",
       "<text text-anchor=\"start\" x=\"68.7915\" y=\"-117.2\" font-family=\"Helvetica,sans-Serif\" font-size=\"11.00\" fill=\"#444443\">&#39;Kiss of the Spider W...&#39;</text>\n",
       "<polygon fill=\"#fefecd\" stroke=\"transparent\" points=\"184,-112 184,-129 194,-129 194,-112 184,-112\"/>\n",
       "<text text-anchor=\"start\" x=\"185.9412\" y=\"-117.2\" font-family=\"Helvetica,sans-Serif\" font-size=\"11.00\" fill=\"#444443\">0</text>\n",
       "</g>\n",
       "<!-- node4467622088&#45;&gt;node4467898952 -->\n",
       "<g id=\"edge7\" class=\"edge\">\n",
       "<title>node4467622088:6&#45;&gt;node4467898952:w</title>\n",
       "<path fill=\"none\" stroke=\"#444443\" stroke-width=\".5\" d=\"M12.5,-158C28.256,-158 19.6544,-131.7188 30.8433,-126.791\"/>\n",
       "<polygon fill=\"#444443\" stroke=\"#444443\" stroke-width=\".5\" points=\"31.3323,-128.1232 35,-126 30.8088,-125.3725 31.3323,-128.1232\"/>\n",
       "</g>\n",
       "<!-- node4467898824 -->\n",
       "<g id=\"node9\" class=\"node\">\n",
       "<title>node4467898824</title>\n",
       "<polygon fill=\"none\" stroke=\"#000000\" stroke-width=\".5\" points=\"160.5,-104 69.5,-104 69.5,-74 160.5,-74 160.5,-104\"/>\n",
       "<polygon fill=\"#fefecd\" stroke=\"transparent\" points=\"71,-92 71,-103 101,-103 101,-92 71,-92\"/>\n",
       "<polyline fill=\"none\" stroke=\"#000000\" points=\"71,-92 101,-92 101,-103 \"/>\n",
       "<text text-anchor=\"start\" x=\"83.4973\" y=\"-94.8\" font-family=\"Helvetica,sans-Serif\" font-size=\"9.00\" fill=\"#444443\">0</text>\n",
       "<polygon fill=\"#fefecd\" stroke=\"transparent\" points=\"101,-92 101,-103 150,-103 150,-92 101,-92\"/>\n",
       "<polyline fill=\"none\" stroke=\"#000000\" points=\"101,-92 150,-92 150,-103 \"/>\n",
       "<text text-anchor=\"start\" x=\"122.9973\" y=\"-94.8\" font-family=\"Helvetica,sans-Serif\" font-size=\"9.00\" fill=\"#444443\">1</text>\n",
       "<polygon fill=\"#fefecd\" stroke=\"transparent\" points=\"150,-92 150,-103 160,-103 160,-92 150,-92\"/>\n",
       "<polyline fill=\"none\" stroke=\"#000000\" points=\"150,-92 160,-92 \"/>\n",
       "<text text-anchor=\"start\" x=\"152.4973\" y=\"-94.8\" font-family=\"Helvetica,sans-Serif\" font-size=\"9.00\" fill=\"#444443\">2</text>\n",
       "<polygon fill=\"#fefecd\" stroke=\"transparent\" points=\"71,-75 71,-92 101,-92 101,-75 71,-75\"/>\n",
       "<polyline fill=\"none\" stroke=\"#000000\" points=\"101,-75 101,-92 \"/>\n",
       "<text text-anchor=\"start\" x=\"73.7646\" y=\"-80.2\" font-family=\"Helvetica,sans-Serif\" font-size=\"11.00\" fill=\"#444443\">1985</text>\n",
       "<polygon fill=\"#fefecd\" stroke=\"transparent\" points=\"101,-75 101,-92 150,-92 150,-75 101,-75\"/>\n",
       "<polyline fill=\"none\" stroke=\"#000000\" points=\"150,-75 150,-92 \"/>\n",
       "<text text-anchor=\"start\" x=\"103.8411\" y=\"-80.2\" font-family=\"Helvetica,sans-Serif\" font-size=\"11.00\" fill=\"#444443\">&#39;Witness&#39;</text>\n",
       "<polygon fill=\"#fefecd\" stroke=\"transparent\" points=\"150,-75 150,-92 160,-92 160,-75 150,-75\"/>\n",
       "<text text-anchor=\"start\" x=\"151.9412\" y=\"-80.2\" font-family=\"Helvetica,sans-Serif\" font-size=\"11.00\" fill=\"#444443\">0</text>\n",
       "</g>\n",
       "<!-- node4467622088&#45;&gt;node4467898824 -->\n",
       "<g id=\"edge8\" class=\"edge\">\n",
       "<title>node4467622088:7&#45;&gt;node4467898824:w</title>\n",
       "<path fill=\"none\" stroke=\"#444443\" stroke-width=\".5\" d=\"M12.5,-143C30.9926,-143 21.5264,-120.6664 35,-108 46.5285,-97.1622 50.9257,-90.2626 64.8165,-89.1567\"/>\n",
       "<polygon fill=\"#444443\" stroke=\"#444443\" stroke-width=\".5\" points=\"65.0552,-90.5489 69,-89 64.9504,-87.7508 65.0552,-90.5489\"/>\n",
       "</g>\n",
       "<!-- node4467898504 -->\n",
       "<g id=\"node10\" class=\"node\">\n",
       "<title>node4467898504</title>\n",
       "<polygon fill=\"none\" stroke=\"#000000\" stroke-width=\".5\" points=\"182.5,-67 47.5,-67 47.5,-37 182.5,-37 182.5,-67\"/>\n",
       "<polygon fill=\"#fefecd\" stroke=\"transparent\" points=\"49,-55 49,-66 79,-66 79,-55 49,-55\"/>\n",
       "<polyline fill=\"none\" stroke=\"#000000\" points=\"49,-55 79,-55 79,-66 \"/>\n",
       "<text text-anchor=\"start\" x=\"61.4973\" y=\"-57.8\" font-family=\"Helvetica,sans-Serif\" font-size=\"9.00\" fill=\"#444443\">0</text>\n",
       "<polygon fill=\"#fefecd\" stroke=\"transparent\" points=\"79,-55 79,-66 172,-66 172,-55 79,-55\"/>\n",
       "<polyline fill=\"none\" stroke=\"#000000\" points=\"79,-55 172,-55 172,-66 \"/>\n",
       "<text text-anchor=\"start\" x=\"122.9973\" y=\"-57.8\" font-family=\"Helvetica,sans-Serif\" font-size=\"9.00\" fill=\"#444443\">1</text>\n",
       "<polygon fill=\"#fefecd\" stroke=\"transparent\" points=\"172,-55 172,-66 182,-66 182,-55 172,-55\"/>\n",
       "<polyline fill=\"none\" stroke=\"#000000\" points=\"172,-55 182,-55 \"/>\n",
       "<text text-anchor=\"start\" x=\"174.4973\" y=\"-57.8\" font-family=\"Helvetica,sans-Serif\" font-size=\"9.00\" fill=\"#444443\">2</text>\n",
       "<polygon fill=\"#fefecd\" stroke=\"transparent\" points=\"49,-38 49,-55 79,-55 79,-38 49,-38\"/>\n",
       "<polyline fill=\"none\" stroke=\"#000000\" points=\"79,-38 79,-55 \"/>\n",
       "<text text-anchor=\"start\" x=\"51.7646\" y=\"-43.2\" font-family=\"Helvetica,sans-Serif\" font-size=\"11.00\" fill=\"#444443\">1985</text>\n",
       "<polygon fill=\"#fefecd\" stroke=\"transparent\" points=\"79,-38 79,-55 172,-55 172,-38 79,-38\"/>\n",
       "<polyline fill=\"none\" stroke=\"#000000\" points=\"172,-38 172,-55 \"/>\n",
       "<text text-anchor=\"start\" x=\"81.825\" y=\"-43.2\" font-family=\"Helvetica,sans-Serif\" font-size=\"11.00\" fill=\"#444443\">&#39;The Color Purple&#39;</text>\n",
       "<polygon fill=\"#fefecd\" stroke=\"transparent\" points=\"172,-38 172,-55 182,-55 182,-38 172,-38\"/>\n",
       "<text text-anchor=\"start\" x=\"173.9412\" y=\"-43.2\" font-family=\"Helvetica,sans-Serif\" font-size=\"11.00\" fill=\"#444443\">0</text>\n",
       "</g>\n",
       "<!-- node4467622088&#45;&gt;node4467898504 -->\n",
       "<g id=\"edge9\" class=\"edge\">\n",
       "<title>node4467622088:8&#45;&gt;node4467898504:w</title>\n",
       "<path fill=\"none\" stroke=\"#444443\" stroke-width=\".5\" d=\"M12.5,-128C48.1461,-128 12.8885,-57.8215 42.9953,-52.3388\"/>\n",
       "<polygon fill=\"#444443\" stroke=\"#444443\" stroke-width=\".5\" points=\"43.1323,-53.7323 47,-52 42.8962,-50.9423 43.1323,-53.7323\"/>\n",
       "</g>\n",
       "<!-- node4467898632 -->\n",
       "<g id=\"node11\" class=\"node\">\n",
       "<title>node4467898632</title>\n",
       "<polygon fill=\"none\" stroke=\"#000000\" stroke-width=\".5\" points=\"171,-30 59,-30 59,0 171,0 171,-30\"/>\n",
       "<polygon fill=\"#fefecd\" stroke=\"transparent\" points=\"60,-18 60,-29 90,-29 90,-18 60,-18\"/>\n",
       "<polyline fill=\"none\" stroke=\"#000000\" points=\"60,-18 90,-18 90,-29 \"/>\n",
       "<text text-anchor=\"start\" x=\"72.4973\" y=\"-20.8\" font-family=\"Helvetica,sans-Serif\" font-size=\"9.00\" fill=\"#444443\">0</text>\n",
       "<polygon fill=\"#fefecd\" stroke=\"transparent\" points=\"90,-18 90,-29 160,-29 160,-18 90,-18\"/>\n",
       "<polyline fill=\"none\" stroke=\"#000000\" points=\"90,-18 160,-18 160,-29 \"/>\n",
       "<text text-anchor=\"start\" x=\"122.4973\" y=\"-20.8\" font-family=\"Helvetica,sans-Serif\" font-size=\"9.00\" fill=\"#444443\">1</text>\n",
       "<polygon fill=\"#fefecd\" stroke=\"transparent\" points=\"160,-18 160,-29 170,-29 170,-18 160,-18\"/>\n",
       "<polyline fill=\"none\" stroke=\"#000000\" points=\"160,-18 170,-18 \"/>\n",
       "<text text-anchor=\"start\" x=\"162.4973\" y=\"-20.8\" font-family=\"Helvetica,sans-Serif\" font-size=\"9.00\" fill=\"#444443\">2</text>\n",
       "<polygon fill=\"#fefecd\" stroke=\"transparent\" points=\"60,-1 60,-18 90,-18 90,-1 60,-1\"/>\n",
       "<polyline fill=\"none\" stroke=\"#000000\" points=\"90,-1 90,-18 \"/>\n",
       "<text text-anchor=\"start\" x=\"62.7646\" y=\"-6.2\" font-family=\"Helvetica,sans-Serif\" font-size=\"11.00\" fill=\"#444443\">1985</text>\n",
       "<polygon fill=\"#fefecd\" stroke=\"transparent\" points=\"90,-1 90,-18 160,-18 160,-1 90,-1\"/>\n",
       "<polyline fill=\"none\" stroke=\"#000000\" points=\"160,-1 160,-18 \"/>\n",
       "<text text-anchor=\"start\" x=\"92.6338\" y=\"-6.2\" font-family=\"Helvetica,sans-Serif\" font-size=\"11.00\" fill=\"#444443\">&#39;Out of Africa&#39;</text>\n",
       "<polygon fill=\"#fefecd\" stroke=\"transparent\" points=\"160,-1 160,-18 170,-18 170,-1 160,-1\"/>\n",
       "<text text-anchor=\"start\" x=\"161.9412\" y=\"-6.2\" font-family=\"Helvetica,sans-Serif\" font-size=\"11.00\" fill=\"#444443\">1</text>\n",
       "</g>\n",
       "<!-- node4467622088&#45;&gt;node4467898632 -->\n",
       "<g id=\"edge10\" class=\"edge\">\n",
       "<title>node4467622088:9&#45;&gt;node4467898632:w</title>\n",
       "<path fill=\"none\" stroke=\"#444443\" stroke-width=\".5\" d=\"M7.5,-106C7.5,-60.9802 12.2186,-17.7849 54.7635,-15.1292\"/>\n",
       "<polygon fill=\"#444443\" stroke=\"#444443\" stroke-width=\".5\" points=\"55.0446,-16.5213 59,-15 54.9592,-13.7226 55.0446,-16.5213\"/>\n",
       "</g>\n",
       "</g>\n",
       "</svg>\n"
      ],
      "text/plain": [
       "<graphviz.files.Source at 0x10a4f0e48>"
      ]
     },
     "execution_count": 22,
     "metadata": {},
     "output_type": "execute_result"
    }
   ],
   "source": [
    "Oscars = [\n",
    "    [1984, \"A Soldier's Story\", 0],\n",
    "    [1984, 'Places in the Heart', 0],\n",
    "    [1984, 'The Killing Fields', 0],\n",
    "    [1984, 'A Passage to India', 0],\n",
    "    [1984, 'Amadeus', 1],\n",
    "    [1985, \"Prizzi's Honor\", 0],\n",
    "    [1985, 'Kiss of the Spider Woman', 0],\n",
    "    [1985, 'Witness', 0],\n",
    "    [1985, 'The Color Purple', 0],\n",
    "    [1985, 'Out of Africa', 1]\n",
    "]\n",
    "objviz(Oscars)"
   ]
  },
  {
   "cell_type": "markdown",
   "metadata": {},
   "source": [
    "The code for the looping construct looks like (jumping straight to the list comprehension form):\n"
   ]
  },
  {
   "cell_type": "code",
   "execution_count": 23,
   "metadata": {
    "collapsed": false,
    "scrolled": true
   },
   "outputs": [
    {
     "name": "stdout",
     "output_type": "stream",
     "text": [
      "[[1984, 'Amadeus', 1], [1985, 'Out of Africa', 1]]\n"
     ]
    },
    {
     "data": {
      "image/svg+xml": [
       "<?xml version=\"1.0\" encoding=\"UTF-8\" standalone=\"no\"?>\n",
       "<!DOCTYPE svg PUBLIC \"-//W3C//DTD SVG 1.1//EN\"\n",
       " \"http://www.w3.org/Graphics/SVG/1.1/DTD/svg11.dtd\">\n",
       "<!-- Generated by graphviz version 2.40.1 (20161225.0304)\n",
       " -->\n",
       "<!-- Title: G Pages: 1 -->\n",
       "<svg width=\"155pt\" height=\"75pt\"\n",
       " viewBox=\"0.00 0.00 155.00 75.00\" xmlns=\"http://www.w3.org/2000/svg\" xmlns:xlink=\"http://www.w3.org/1999/xlink\">\n",
       "<g id=\"graph0\" class=\"graph\" transform=\"scale(1 1) rotate(0) translate(4 71)\">\n",
       "<title>G</title>\n",
       "<polygon fill=\"#ffffff\" stroke=\"transparent\" points=\"-4,4 -4,-71 151,-71 151,4 -4,4\"/>\n",
       "<!-- node4467632584 -->\n",
       "<g id=\"node1\" class=\"node\">\n",
       "<title>node4467632584</title>\n",
       "<polygon fill=\"#cfe2d4\" stroke=\"#444443\" stroke-width=\".5\" points=\"13,-49 0,-49 0,-17 13,-17 13,-49\"/>\n",
       "<polygon fill=\"#cfe2d4\" stroke=\"transparent\" points=\"1.5,-33 1.5,-48 12.5,-48 12.5,-33 1.5,-33\"/>\n",
       "<polyline fill=\"none\" stroke=\"#444443\" points=\"1.5,-33 12.5,-33 \"/>\n",
       "<text text-anchor=\"start\" x=\"4.4973\" y=\"-37.8\" font-family=\"Helvetica,sans-Serif\" font-size=\"9.00\" fill=\"#444443\">0</text>\n",
       "<polygon fill=\"#cfe2d4\" stroke=\"transparent\" points=\"1.5,-18 1.5,-33 12.5,-33 12.5,-18 1.5,-18\"/>\n",
       "<text text-anchor=\"start\" x=\"4.4973\" y=\"-22.8\" font-family=\"Helvetica,sans-Serif\" font-size=\"9.00\" fill=\"#444443\">1</text>\n",
       "</g>\n",
       "<!-- node4467865608 -->\n",
       "<g id=\"node2\" class=\"node\">\n",
       "<title>node4467865608</title>\n",
       "<polygon fill=\"none\" stroke=\"#000000\" stroke-width=\".5\" points=\"140,-67 42,-67 42,-37 140,-37 140,-67\"/>\n",
       "<polygon fill=\"#fefecd\" stroke=\"transparent\" points=\"43,-55 43,-66 73,-66 73,-55 43,-55\"/>\n",
       "<polyline fill=\"none\" stroke=\"#000000\" points=\"43,-55 73,-55 73,-66 \"/>\n",
       "<text text-anchor=\"start\" x=\"55.4973\" y=\"-57.8\" font-family=\"Helvetica,sans-Serif\" font-size=\"9.00\" fill=\"#444443\">0</text>\n",
       "<polygon fill=\"#fefecd\" stroke=\"transparent\" points=\"73,-55 73,-66 129,-66 129,-55 73,-55\"/>\n",
       "<polyline fill=\"none\" stroke=\"#000000\" points=\"73,-55 129,-55 129,-66 \"/>\n",
       "<text text-anchor=\"start\" x=\"98.4973\" y=\"-57.8\" font-family=\"Helvetica,sans-Serif\" font-size=\"9.00\" fill=\"#444443\">1</text>\n",
       "<polygon fill=\"#fefecd\" stroke=\"transparent\" points=\"129,-55 129,-66 139,-66 139,-55 129,-55\"/>\n",
       "<polyline fill=\"none\" stroke=\"#000000\" points=\"129,-55 139,-55 \"/>\n",
       "<text text-anchor=\"start\" x=\"131.4973\" y=\"-57.8\" font-family=\"Helvetica,sans-Serif\" font-size=\"9.00\" fill=\"#444443\">2</text>\n",
       "<polygon fill=\"#fefecd\" stroke=\"transparent\" points=\"43,-38 43,-55 73,-55 73,-38 43,-38\"/>\n",
       "<polyline fill=\"none\" stroke=\"#000000\" points=\"73,-38 73,-55 \"/>\n",
       "<text text-anchor=\"start\" x=\"45.7646\" y=\"-43.2\" font-family=\"Helvetica,sans-Serif\" font-size=\"11.00\" fill=\"#444443\">1984</text>\n",
       "<polygon fill=\"#fefecd\" stroke=\"transparent\" points=\"73,-38 73,-55 129,-55 129,-38 73,-38\"/>\n",
       "<polyline fill=\"none\" stroke=\"#000000\" points=\"129,-38 129,-55 \"/>\n",
       "<text text-anchor=\"start\" x=\"75.6646\" y=\"-43.2\" font-family=\"Helvetica,sans-Serif\" font-size=\"11.00\" fill=\"#444443\">&#39;Amadeus&#39;</text>\n",
       "<polygon fill=\"#fefecd\" stroke=\"transparent\" points=\"129,-38 129,-55 139,-55 139,-38 129,-38\"/>\n",
       "<text text-anchor=\"start\" x=\"130.9412\" y=\"-43.2\" font-family=\"Helvetica,sans-Serif\" font-size=\"11.00\" fill=\"#444443\">1</text>\n",
       "</g>\n",
       "<!-- node4467632584&#45;&gt;node4467865608 -->\n",
       "<g id=\"edge1\" class=\"edge\">\n",
       "<title>node4467632584:0&#45;&gt;node4467865608:w</title>\n",
       "<path fill=\"none\" stroke=\"#444443\" stroke-width=\".5\" d=\"M12.5,-41C24.9625,-41 27.5266,-49.7253 37.8238,-51.634\"/>\n",
       "<polygon fill=\"#444443\" stroke=\"#444443\" stroke-width=\".5\" points=\"37.893,-53.0454 42,-52 38.1375,-50.2561 37.893,-53.0454\"/>\n",
       "</g>\n",
       "<!-- node4467898632 -->\n",
       "<g id=\"node3\" class=\"node\">\n",
       "<title>node4467898632</title>\n",
       "<polygon fill=\"none\" stroke=\"#000000\" stroke-width=\".5\" points=\"147,-30 35,-30 35,0 147,0 147,-30\"/>\n",
       "<polygon fill=\"#fefecd\" stroke=\"transparent\" points=\"36,-18 36,-29 66,-29 66,-18 36,-18\"/>\n",
       "<polyline fill=\"none\" stroke=\"#000000\" points=\"36,-18 66,-18 66,-29 \"/>\n",
       "<text text-anchor=\"start\" x=\"48.4973\" y=\"-20.8\" font-family=\"Helvetica,sans-Serif\" font-size=\"9.00\" fill=\"#444443\">0</text>\n",
       "<polygon fill=\"#fefecd\" stroke=\"transparent\" points=\"66,-18 66,-29 136,-29 136,-18 66,-18\"/>\n",
       "<polyline fill=\"none\" stroke=\"#000000\" points=\"66,-18 136,-18 136,-29 \"/>\n",
       "<text text-anchor=\"start\" x=\"98.4973\" y=\"-20.8\" font-family=\"Helvetica,sans-Serif\" font-size=\"9.00\" fill=\"#444443\">1</text>\n",
       "<polygon fill=\"#fefecd\" stroke=\"transparent\" points=\"136,-18 136,-29 146,-29 146,-18 136,-18\"/>\n",
       "<polyline fill=\"none\" stroke=\"#000000\" points=\"136,-18 146,-18 \"/>\n",
       "<text text-anchor=\"start\" x=\"138.4973\" y=\"-20.8\" font-family=\"Helvetica,sans-Serif\" font-size=\"9.00\" fill=\"#444443\">2</text>\n",
       "<polygon fill=\"#fefecd\" stroke=\"transparent\" points=\"36,-1 36,-18 66,-18 66,-1 36,-1\"/>\n",
       "<polyline fill=\"none\" stroke=\"#000000\" points=\"66,-1 66,-18 \"/>\n",
       "<text text-anchor=\"start\" x=\"38.7646\" y=\"-6.2\" font-family=\"Helvetica,sans-Serif\" font-size=\"11.00\" fill=\"#444443\">1985</text>\n",
       "<polygon fill=\"#fefecd\" stroke=\"transparent\" points=\"66,-1 66,-18 136,-18 136,-1 66,-1\"/>\n",
       "<polyline fill=\"none\" stroke=\"#000000\" points=\"136,-1 136,-18 \"/>\n",
       "<text text-anchor=\"start\" x=\"68.6338\" y=\"-6.2\" font-family=\"Helvetica,sans-Serif\" font-size=\"11.00\" fill=\"#444443\">&#39;Out of Africa&#39;</text>\n",
       "<polygon fill=\"#fefecd\" stroke=\"transparent\" points=\"136,-1 136,-18 146,-18 146,-1 136,-1\"/>\n",
       "<text text-anchor=\"start\" x=\"137.9412\" y=\"-6.2\" font-family=\"Helvetica,sans-Serif\" font-size=\"11.00\" fill=\"#444443\">1</text>\n",
       "</g>\n",
       "<!-- node4467632584&#45;&gt;node4467898632 -->\n",
       "<g id=\"edge2\" class=\"edge\">\n",
       "<title>node4467632584:1&#45;&gt;node4467898632:w</title>\n",
       "<path fill=\"none\" stroke=\"#444443\" stroke-width=\".5\" d=\"M12.5,-25C21.9043,-25 23.68,-17.6147 30.9387,-15.5376\"/>\n",
       "<polygon fill=\"#444443\" stroke=\"#444443\" stroke-width=\".5\" points=\"31.2184,-16.9129 35,-15 30.8508,-14.1371 31.2184,-16.9129\"/>\n",
       "</g>\n",
       "</g>\n",
       "</svg>\n"
      ],
      "text/plain": [
       "<graphviz.files.Source at 0x10a4f0978>"
      ]
     },
     "execution_count": 23,
     "metadata": {},
     "output_type": "execute_result"
    }
   ],
   "source": [
    "Oscars2 = [movie for movie in Oscars if movie[2]==1]\n",
    "print(Oscars2)\n",
    "objviz(Oscars2)"
   ]
  },
  {
   "cell_type": "markdown",
   "metadata": {},
   "source": [
    "The output is a list of lists, a filtered table of rows one per movie.\n",
    "\n",
    "Notice how we test one column value from the row, `movie[2]`, but add the entire row to the new table. If we just added the \"winner\" column value to the new list, we would end up with a list of ones: 1, 1, 1, ..., 1."
   ]
  },
  {
   "cell_type": "markdown",
   "metadata": {},
   "source": [
    "### Exercise\n",
    "\n",
    "Filter the `Oscars` list into `Oscars2` for all movies with 3-word titles. To break a string into a list of words, use `title.split(' ')`. If the length, `len()`, of that list is 3, then copy the entire row to `Oscars2`."
   ]
  },
  {
   "cell_type": "code",
   "execution_count": 24,
   "metadata": {
    "collapsed": false
   },
   "outputs": [
    {
     "name": "stdout",
     "output_type": "stream",
     "text": [
      "[[1984, \"A Soldier's Story\", 0], [1984, 'The Killing Fields', 0], [1985, 'The Color Purple', 0], [1985, 'Out of Africa', 1]]\n"
     ]
    }
   ],
   "source": [
    "Oscars2 = [movie for movie in Oscars if len(movie[1].split(' '))==3]\n",
    "print(Oscars2)"
   ]
  },
  {
   "cell_type": "markdown",
   "metadata": {},
   "source": [
    "### Exercise\n",
    "\n",
    "Rather than just referencing an iterate value, `x`, we can also use expressions in list comprehensions. Use the filtering variation of a list comprehension to double the shipping cost in `Shipping` if less than 10 dollars. Put the result in list `Shipping2`."
   ]
  },
  {
   "cell_type": "code",
   "execution_count": 25,
   "metadata": {
    "collapsed": false
   },
   "outputs": [
    {
     "name": "stdout",
     "output_type": "stream",
     "text": [
      "[5.98, 7.98, 11.88, 9.9, 15.44, 12.44]\n"
     ]
    }
   ],
   "source": [
    "Shipping2 = [x*2 for x in Shipping if x < 10]\n",
    "print(Shipping2)"
   ]
  },
  {
   "cell_type": "markdown",
   "metadata": {},
   "source": [
    "### Exercise\n",
    "\n",
    "Given a list of `names=['Xue', 'Mary', 'Bob']`, filter the list into `names2` for those names starting with `X`. Recall that `name[i]` yields the ith character in `name`."
   ]
  },
  {
   "cell_type": "code",
   "execution_count": 26,
   "metadata": {
    "collapsed": false
   },
   "outputs": [
    {
     "name": "stdout",
     "output_type": "stream",
     "text": [
      "['Xue']\n"
     ]
    }
   ],
   "source": [
    "names=['Xue', 'Mary', 'Bob']\n",
    "names2 = [name for name in names if name[0]=='X']\n",
    "print(names2)"
   ]
  },
  {
   "cell_type": "markdown",
   "metadata": {},
   "source": [
    "## Search\n",
    "\n",
    "The filter operation finds all elements in a sequence that satisfy a specific condition, but often we'd like to know which element satisfies the condition first (or last). (Or, we often just need to know if a particular element is present.) This brings us to the *search* operation. At its most general, search returns the first (or last) position in the sequence rather than the value at that position. If we have the position, often called the *index*, we can always ask the sequence for the value at that position. If the element is not found, the search returns invalid index -1. \n",
    "\n",
    "Searching is, in some sense, a variation on filtering. The difference is what we do when we find an element for which the condition is true. Instead of adding that element to the target list, a search bails out of the loop."
   ]
  },
  {
   "cell_type": "code",
   "execution_count": 27,
   "metadata": {
    "collapsed": false
   },
   "outputs": [
    {
     "name": "stdout",
     "output_type": "stream",
     "text": [
      "1\n"
     ]
    }
   ],
   "source": [
    "first=['Xue', 'Mary', 'Robert']     # our given input\n",
    "target = 'Mary'                     # searching for Mary\n",
    "index = -1\n",
    "for i in range(len(first)):         # i is in range [0..n-1] or [0..n)\n",
    "    if first[i]==target:\n",
    "        index = i\n",
    "        break\n",
    "print(index)"
   ]
  },
  {
   "cell_type": "markdown",
   "metadata": {},
   "source": [
    "The `break` statement breaks out of the immediately-enclosing loop, regardless of the type of loop.\n",
    "\n",
    "The search operation can even be used within a string (list of characters) to find the position of a character of interest. For example, to slice up a full name into first and last names, we can combine a search for the space character with two slice operations. Given full name `Xue Li`, a search for the space character returns the fourth position or index 3. To extract the first name, we slice from index 0 to index 3, exclusively on the right. To get the last name, we slice from index 4 to 6, exclusively on the right. \n",
    "\n",
    "<img src=\"images/split-string.png\" width=\"190\">\n",
    "\n",
    "Here's what that looks like a python:"
   ]
  },
  {
   "cell_type": "code",
   "execution_count": 28,
   "metadata": {},
   "outputs": [
    {
     "name": "stdout",
     "output_type": "stream",
     "text": [
      "Index of space is 3\n",
      "First: Xue\n",
      "Last: Li\n"
     ]
    }
   ],
   "source": [
    "name = 'Xue Li'\n",
    "\n",
    "# SEARCH\n",
    "index = -1\n",
    "for i in range(len(name)):\n",
    "    if name[i]==' ':\n",
    "        index = i\n",
    "        break\n",
    "print(f\"Index of space is {index}\")\n",
    "\n",
    "# SLICE\n",
    "print(f\"First: {name[0:index]}\")\n",
    "print(f\"Last: {name[index+1:]}\") # or name[index+1:len(name)]"
   ]
  },
  {
   "cell_type": "markdown",
   "metadata": {},
   "source": [
    "To determine the index of the end of the string, programmers tend to use the length of the string. The length works out to be an index whose value is one past the end of the string, which is what we want for a slice using an exclusive right index."
   ]
  },
  {
   "cell_type": "markdown",
   "metadata": {},
   "source": [
    "## Nested loops\n",
    "\n",
    "We sometimes need to repeat repeated instructions, which we call a *nested loop*. In the analytics world, nested loops are hugely important because we use them to process matrices, images, and tables of data."
   ]
  },
  {
   "cell_type": "markdown",
   "metadata": {},
   "source": [
    "### Processing matrices\n",
    "\n",
    "Recall that, while we humans can look at the entire matrix at once, a computer examines each element one-by-one. Take a look at this 3x3 matrix:\n",
    "\n",
    "<img src=\"images/matrixA.png\" width=\"100\">\n",
    "\n",
    "which we can represent in python using a list of list:"
   ]
  },
  {
   "cell_type": "code",
   "execution_count": 29,
   "metadata": {
    "collapsed": false
   },
   "outputs": [],
   "source": [
    "A = [\n",
    "    [1, 3, 10],\n",
    "    [4, -9, 0],\n",
    "    [2, 5, 8]\n",
    "]"
   ]
  },
  {
   "cell_type": "markdown",
   "metadata": {},
   "source": [
    "Because this is not a one-dimensional data structure, we can't use a simple \"for each element in the matrix\" loop to examine each element. The most common pattern for iterating through all elements of an *nrows* x *ncols* matrix looks like this:\n",
    "\n",
    "*for i in 0..nrows-1:*<br>\n",
    "&nbsp;&nbsp;&nbsp;&nbsp;*for j in 0..ncols-1:*<br>\n",
    "&nbsp;&nbsp;&nbsp;&nbsp;&nbsp;&nbsp;&nbsp;&nbsp;*do something with matrix[i,j]*\n",
    "\n",
    "where *matrix[i,j]* accesses the element at row *i* and column *j*.  Such a nested loop gives all possible combinations of *i* and *j*, which is what we want when operating on a matrix. Consider the following translation of that template to Python that prints out all of the two-dimensional indices:"
   ]
  },
  {
   "cell_type": "code",
   "execution_count": 30,
   "metadata": {
    "collapsed": false
   },
   "outputs": [
    {
     "name": "stdout",
     "output_type": "stream",
     "text": [
      "0 0\n",
      "0 1\n",
      "0 2\n",
      "1 0\n",
      "1 1\n",
      "1 2\n",
      "2 0\n",
      "2 1\n",
      "2 2\n"
     ]
    }
   ],
   "source": [
    "nrows = 3  # or len(A)\n",
    "ncols = 3  # or len(A[0]) length of first row\n",
    "for i in range(nrows):\n",
    "    for j in range(ncols):\n",
    "        print( i, j )"
   ]
  },
  {
   "cell_type": "markdown",
   "metadata": {},
   "source": [
    "Notice how the column *j* value varies more quickly than the row *i* value.  We can reverse this order of traversal by changing the loop order:"
   ]
  },
  {
   "cell_type": "code",
   "execution_count": 31,
   "metadata": {
    "collapsed": false
   },
   "outputs": [
    {
     "name": "stdout",
     "output_type": "stream",
     "text": [
      "0 0\n",
      "1 0\n",
      "2 0\n",
      "0 1\n",
      "1 1\n",
      "2 1\n",
      "0 2\n",
      "1 2\n",
      "2 2\n"
     ]
    }
   ],
   "source": [
    "for j in range(ncols):\n",
    "    for i in range(nrows):\n",
    "        print(i, j)"
   ]
  },
  {
   "cell_type": "markdown",
   "metadata": {},
   "source": [
    "With the *j* loop on the outside, it will vary less quickly than the inner *i* loop.\n",
    "\n",
    "### Double-for list comprehensions to get all combinations\n",
    "\n",
    "Double loops inside list comprehensions give all combinations, which in this case is something we want. The following code example creates a list of string representations of the coordinates:"
   ]
  },
  {
   "cell_type": "code",
   "execution_count": 32,
   "metadata": {
    "collapsed": false
   },
   "outputs": [
    {
     "name": "stdout",
     "output_type": "stream",
     "text": [
      "['0,0', '0,1', '0,2', '1,0', '1,1', '1,2', '2,0', '2,1', '2,2']\n"
     ]
    }
   ],
   "source": [
    "coords = [f\"{i},{j}\" for i in range(nrows) for j in range(ncols)]\n",
    "print(coords)"
   ]
  },
  {
   "cell_type": "markdown",
   "metadata": {},
   "source": [
    "Now, let's use an accumulator to sum all of the elements of a 3x3 matrix, we let *nrows*=3 and *ncols*=3 and use an addition operation:"
   ]
  },
  {
   "cell_type": "code",
   "execution_count": 33,
   "metadata": {
    "collapsed": false
   },
   "outputs": [
    {
     "name": "stdout",
     "output_type": "stream",
     "text": [
      "24\n"
     ]
    }
   ],
   "source": [
    "sum = 0\n",
    "for i in range(nrows):\n",
    "    for j in range(ncols):\n",
    "        sum = sum + A[i][j]\n",
    "print(sum)"
   ]
  },
  {
   "cell_type": "markdown",
   "metadata": {},
   "source": [
    "### Processing images\n",
    "\n",
    "In the images project for this class, we do lots of fun things to images. An image is nothing more than a two-dimensional matrix whose entries are pixel grayscale values from 0 to 255. A pixel value of 0 is black and 255 is white. For example, if we zoom in on an image, we see the individual elements (called pixels) of a two-dimensional matrix:\n",
    "\n",
    "<img src=\"images/obama-zoom.png\" width=\"400\">\n",
    "\n",
    "The only difference between an image and a matrix is that we typically access the elements of an image using x and y coordinates, rather than row and column. The template for a nested loop that accesses each element of an image looks like this:\n",
    "\n",
    "*for x in 0..width-1:*<br>\n",
    "&nbsp;&nbsp;&nbsp;&nbsp;*for y in 0..height-1:*<br>\n",
    "&nbsp;&nbsp;&nbsp;&nbsp;&nbsp;&nbsp;&nbsp;&nbsp;*process pixel[x,y]*<br>\n",
    "\n",
    "Because the *y* coordinate varies faster than the *x* coordinate, the inner loop traverses one vertical stripe. The outer loop shifts *x* to the next vertical stripe to the right."
   ]
  },
  {
   "cell_type": "markdown",
   "metadata": {},
   "source": [
    "### Exercise\n",
    "\n",
    "As a more realistic example, let's add two matrices A and B together to form C. The key operation is to add A<sub>i,j</sub> to B<sub>i,j</sub> to get C<sub>i,j</sub>. Visually, it looks like this:\n",
    "\n",
    "<img src=\"images/ABC.png\" width=\"360\">\n",
    "\n",
    "\n",
    "Write out the nested Python indexed loops to add two matrices together, C = A + B. Here are some definitions to get you started:\n",
    "\n",
    "```python\n",
    "A = [\n",
    "    [1, 3, 10],\n",
    "    [4, -9, 0],\n",
    "    [2, 5, 8]\n",
    "]\n",
    "B = [\n",
    "    [7, 4, 0],\n",
    "    [4, 3, 1],\n",
    "    [1, 6, 8]\n",
    "]\n",
    "# Use list comprehension to init list of lists\n",
    "C = [[0]*ncols for i in range(nrows)]\n",
    "```"
   ]
  },
  {
   "cell_type": "code",
   "execution_count": 34,
   "metadata": {
    "collapsed": false
   },
   "outputs": [
    {
     "name": "stdout",
     "output_type": "stream",
     "text": [
      "[[8, 7, 10], [8, -6, 1], [3, 11, 16]]\n"
     ]
    }
   ],
   "source": [
    "A = [\n",
    "    [1, 3, 10],\n",
    "    [4, -9, 0],\n",
    "    [2, 5, 8]\n",
    "]\n",
    "B = [\n",
    "    [7, 4, 0],\n",
    "    [4, 3, 1],\n",
    "    [1, 6, 8]\n",
    "]\n",
    "# Use list comprehension to init list of lists\n",
    "C = [[0]*ncols for i in range(nrows)]\n",
    "for i in range(nrows):\n",
    "    for j in range(ncols):\n",
    "        C[i][j] = A[i][j] + B[i][j]\n",
    "print(C)"
   ]
  },
  {
   "cell_type": "markdown",
   "metadata": {},
   "source": [
    "### Exercise\n",
    "\n",
    "Instead of using indexed loops as we've done so far (which is very appropriate for matrices), we can also use nested for-each loops. Try this out.\n",
    "\n",
    "Given a list of first names, `first=['Xue', 'Mary', 'Robert']` and a list of last names, `last=['Li', 'Smith', 'Dixon']`, write a nested Python loop to print every combination of first and last name."
   ]
  },
  {
   "cell_type": "code",
   "execution_count": 35,
   "metadata": {
    "collapsed": false
   },
   "outputs": [
    {
     "name": "stdout",
     "output_type": "stream",
     "text": [
      "Xue Li\n",
      "Xue Smith\n",
      "Xue Dixon\n",
      "Mary Li\n",
      "Mary Smith\n",
      "Mary Dixon\n",
      "Robert Li\n",
      "Robert Smith\n",
      "Robert Dixon\n"
     ]
    }
   ],
   "source": [
    "first=['Xue', 'Mary', 'Robert']\n",
    "last=['Li', 'Smith', 'Dixon']\n",
    "for f in first:\n",
    "    for l in last:\n",
    "        print(f+' '+l)"
   ]
  },
  {
   "cell_type": "markdown",
   "metadata": {},
   "source": [
    "### Exercise\n",
    "\n",
    "Now repeat that exercise using a double-loop list comprehension."
   ]
  },
  {
   "cell_type": "code",
   "execution_count": 36,
   "metadata": {
    "collapsed": false,
    "scrolled": true
   },
   "outputs": [
    {
     "name": "stdout",
     "output_type": "stream",
     "text": [
      "['Xue Li', 'Xue Smith', 'Xue Dixon', 'Mary Li', 'Mary Smith', 'Mary Dixon', 'Robert Li', 'Robert Smith', 'Robert Dixon']\n"
     ]
    }
   ],
   "source": [
    "print([f+' '+l for f in first for l in last])"
   ]
  },
  {
   "cell_type": "markdown",
   "metadata": {},
   "source": [
    "### Exercise\n",
    "\n",
    "Write Python code to sum column index 2 from the Oscars table. You can find the Python for the table definition above."
   ]
  },
  {
   "cell_type": "code",
   "execution_count": 37,
   "metadata": {
    "collapsed": false
   },
   "outputs": [
    {
     "name": "stdout",
     "output_type": "stream",
     "text": [
      "2\n"
     ]
    }
   ],
   "source": [
    "Oscars = [\n",
    "    [1984, \"A Soldier's Story\", 0],\n",
    "    [1984, 'Places in the Heart', 0],\n",
    "    [1984, 'The Killing Fields', 0],\n",
    "    [1984, 'A Passage to India', 0],\n",
    "    [1984, 'Amadeus', 1],\n",
    "    [1985, \"Prizzi's Honor\", 0],\n",
    "    [1985, 'Kiss of the Spider Woman', 0],\n",
    "    [1985, 'Witness', 0],\n",
    "    [1985, 'The Color Purple', 0],\n",
    "    [1985, 'Out of Africa', 1]\n",
    "]\n",
    "\n",
    "sum = 0\n",
    "for movie in Oscars:\n",
    "    sum = sum + movie[2]\n",
    "print(sum)"
   ]
  }
 ],
 "metadata": {
  "anaconda-cloud": {},
  "kernelspec": {
   "display_name": "Python 3",
   "language": "python",
   "name": "python3"
  },
  "language_info": {
   "codemirror_mode": {
    "name": "ipython",
    "version": 3
   },
   "file_extension": ".py",
   "mimetype": "text/x-python",
   "name": "python",
   "nbconvert_exporter": "python",
   "pygments_lexer": "ipython3",
   "version": "3.6.5"
  },
  "toc": {
   "colors": {
    "hover_highlight": "#DAA520",
    "navigate_num": "#000000",
    "navigate_text": "#333333",
    "running_highlight": "#FF0000",
    "selected_highlight": "#FFD700",
    "sidebar_border": "#EEEEEE",
    "wrapper_background": "#FFFFFF"
   },
   "moveMenuLeft": true,
   "nav_menu": {
    "height": "122px",
    "width": "252px"
   },
   "navigate_menu": true,
   "number_sections": true,
   "sideBar": true,
   "threshold": 4,
   "toc_cell": false,
   "toc_section_display": "block",
   "toc_window_display": false,
   "widenNotebook": false
  }
 },
 "nbformat": 4,
 "nbformat_minor": 2
}
