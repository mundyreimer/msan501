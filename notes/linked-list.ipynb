{
 "cells": [
  {
   "cell_type": "markdown",
   "metadata": {},
   "source": [
    "# Linked lists\n",
    "\n",
    "We've studied arrays/lists that are built into Python but they are not always the best kind of list to use. Sometimes, we are inserting and deleting things from the head or middle of the list. If we do this with lists implemented as contiguous arrays (made up of contiguous cells in memory), we have to move a lot of cells around to make room for a new element or to close a hole made by a deletion.\n",
    "\n",
    "*Linked list* implementations of abstract lists allow us to efficiently insert and remove things anywhere we want. This flexibility comes at the cost of more memory.\n",
    "\n",
    "The other reason to study linked lists is that the notion of a linked list *node* is easily extended to create hierarchical parent-child data structures called *trees* and then to *graphs* (that track any node->node relationship).\n",
    "\n",
    "*TODO*: use graphviz or something else to visualize the structures. move the tree discussion to a separate page. This lecture going very quickly, confusing some students, took about 1.5 hours without the trees. Have the students connect a few notes together and visualize it. Start with tuples then do graphviz."
   ]
  },
  {
   "cell_type": "markdown",
   "metadata": {},
   "source": [
    "## Metaphor for linked lists vs arrays\n",
    "\n",
    "Imagine that I wanted to take roll in class. Since everyone is sitting next to each other, i.e. contiguous, I can simply point from one person to the next by looking to the left or right. That's the way lists work, as contiguous chunks.\n",
    "\n",
    "A linked list requires everybody to not only remember their name but also who is to the right of them (a next pointer).  As long as I remember the first person (the head) in the list, I can call that person later and ask for their name. Then I can ask them to refer to the next person in line.  This works even if people distribute across the continent or randomly reassign where they are sitting. There is no requirement that these elements be contiguous because each node in the list has the information needed to get to the next person.\n",
    "\n",
    "A linked list implementation associates a next pointer with each list value. We call these things *nodes* usually: `[value,next]` or `(value,next)`. We also keep a pointer to the *head* of the list and sometimes the *tail* of the list.\n",
    "\n",
    "The simplest list has one element with a `next` pointer/reference that points at nothing.\n",
    "\n",
    "```python\n",
    "users = (\"parrt\", None)\n",
    "```\n",
    "<img src=\"images/links1.png\" style=\"width:200px\">\n",
    "\n",
    "Here's one with two elements:\n",
    "\n",
    "```python\n",
    "users = (\"parrt\", (\"tombu\", None))\n",
    "```\n",
    "<img src=\"images/links2.png\" style=\"width:290px\">\n",
    "\n",
    "and three elements:\n",
    "\n",
    "```python\n",
    "users = (\"parrt\", (\"tombu\", (\"afedosov\", None)))\n",
    "```\n",
    "<img src=\"images/links3.png\" style=\"width:400px\">\n",
    "\n",
    "In practice, we'll use lists not tuples, because tuples are immutable. We want to be able to change the node `next` pointers:\n",
    "\n",
    "```python\n",
    "a = [\"parrt\", None]\n",
    "b = [\"tombu\", None]\n",
    "c = [\"afedosov\", None]\n",
    "users = a # points to first node of list\n",
    "a[1] = b  # first node's next points to 2nd element\n",
    "b[1] = c\n",
    "```\n",
    "\n",
    "The most basic implementation of a list is just a *head* pointer (here I'm using `users` for a specific list). Creating an empty linked list is then just a matter of saying `users=None`.\n",
    "\n",
    "Naturally, we can store any kind of object we want for the value component, not just strings. We can store numbers or even other lists!"
   ]
  },
  {
   "cell_type": "markdown",
   "metadata": {},
   "source": [
    "## Support code\n",
    "\n",
    "Let's add some support code that will make it easier to build and manipulate linked lists. It uses some object-oriented programming syntax from Python, which you can ignore if you want. Basically, I'm defining an object (a data aggregate) called `Node` that will have two fields `value` and `next`. It's much easier to access field names than `p[0]` and `p[1]` for some tuple/list `p`."
   ]
  },
  {
   "cell_type": "code",
   "execution_count": 3,
   "metadata": {
    "collapsed": true
   },
   "outputs": [],
   "source": [
    "class Node:\n",
    "    def __str__(self):\n",
    "        return \"(%s,%s)\" % (self.value, str(self.next))\n",
    "    def __repr__(self):\n",
    "        return str(self)\n",
    "    def __init__(self, value, next=None):\n",
    "        self.value = value\n",
    "        self.next = next"
   ]
  },
  {
   "cell_type": "markdown",
   "metadata": {},
   "source": [
    "With that definition, we can create lists more naturally:"
   ]
  },
  {
   "cell_type": "code",
   "execution_count": 5,
   "metadata": {
    "collapsed": false
   },
   "outputs": [
    {
     "name": "stdout",
     "output_type": "stream",
     "text": [
      "(parrt,None) (tombu,None) (dmose,None)\n",
      "(parrt,(tombu,(dmose,None)))\n"
     ]
    }
   ],
   "source": [
    "a = Node(\"parrt\")\n",
    "b = Node(\"tombu\")\n",
    "c = Node(\"dmose\")\n",
    "print(a, b, c)\n",
    "\n",
    "# Now link them up\n",
    "users = a\n",
    "a.next = b\n",
    "b.next = c\n",
    "print(users)"
   ]
  },
  {
   "cell_type": "markdown",
   "metadata": {},
   "source": [
    "## Inserting nodes at the head\n",
    "\n",
    "Ok, so let's say we create an empty list with `head=None`. To insert something, say, `'hi'` at the head of a linked list, there are two cases: an empty list and a nonempty list. An empty list is a case where `head==None`, the initial conditions of the list. A nonempty list of course will have `head` pointing at some tuple. Both cases can be handled the same way:\n",
    "\n",
    "```python\n",
    "head = Node('hi', head)\n",
    "```\n",
    "\n",
    "That makes a new node holding the new value `'hi'` and a `next` pointer pointing at the old head tuple (even if `None`). Finally, it sets the `head` pointer to point at the new tuple.\n",
    "\n",
    "Inserting in the middle is more complicated. We need to find the node *after* which we want to insert something. Then we hook in the new node.For example, to insert something between `tombu` and `dmose`, we create a new node whose `next` pointer points at `dmose`'s node (what `tombu` points at. Then we set `tombu`'s `next` pointer to point to the new node containing `\"mary\"`:"
   ]
  },
  {
   "cell_type": "code",
   "execution_count": 8,
   "metadata": {
    "collapsed": false
   },
   "outputs": [
    {
     "data": {
      "text/plain": [
       "(parrt,(tombu,(mary,(mary,(dmose,None)))))"
      ]
     },
     "execution_count": 8,
     "metadata": {},
     "output_type": "execute_result"
    }
   ],
   "source": [
    "b.next = Node(\"mary\",b.next)\n",
    "users"
   ]
  },
  {
   "cell_type": "markdown",
   "metadata": {},
   "source": [
    "## Walking a linked list\n",
    "\n",
    "Assuming we have a linked list constructed, how do we walk that list? With an array, we can just access the *i*th value and move *i* along the list.  To walk a linked list, we have to define a *cursor*  (often called `p` or `q`), which we can think of as just a finger we move along between the nodes in a list. Here's the code pattern to walk a linked list and print out the values:"
   ]
  },
  {
   "cell_type": "code",
   "execution_count": 11,
   "metadata": {
    "collapsed": false
   },
   "outputs": [
    {
     "name": "stdout",
     "output_type": "stream",
     "text": [
      "parrt\n",
      "tombu\n",
      "mary\n",
      "mary\n",
      "dmose\n"
     ]
    }
   ],
   "source": [
    "p = users\n",
    "while p is not None:\n",
    "    print(p.value)\n",
    "    p = p.next"
   ]
  },
  {
   "cell_type": "markdown",
   "metadata": {},
   "source": [
    "### A recursive version\n",
    "\n",
    "There's another way to walk data structures that uses what we call *recursion*. We are familiar with the concept from recurrence relations. In this case, note that starting at any node in the linked list, the rest of the list looks like a linked list. It's like a fractal, where no matter how much you zoom in and it still looks like a fractal.\n",
    "\n",
    "A recursive function call is one that calls the function surrounding it. The most obvious one is:\n",
    "\n",
    "```python\n",
    "def f():\n",
    "    f()\n",
    "```\n",
    "\n",
    "But, that's not very useful because it is an infinite loop.  The first thing the function `f()` does is call it self, causing a loop. We typically have a termination condition that tells it when to stop recursing. \n",
    "\n",
    "Here's how we would recursively walk a list:"
   ]
  },
  {
   "cell_type": "code",
   "execution_count": 14,
   "metadata": {
    "collapsed": false
   },
   "outputs": [
    {
     "name": "stdout",
     "output_type": "stream",
     "text": [
      "parrt\n",
      "tombu\n",
      "mary\n",
      "mary\n",
      "dmose\n"
     ]
    }
   ],
   "source": [
    "def walk(p):\n",
    "    if p is None: return\n",
    "    print(p.value)\n",
    "    walk(p.next)\n",
    "\n",
    "walk(users)"
   ]
  },
  {
   "cell_type": "markdown",
   "metadata": {},
   "source": [
    "## Exercise\n",
    "\n",
    "Create a function called `tostr` that returns a bracketed string like `['parrt', 'tombu', 'dmose']` given a link list `head` as an argument. Hint: Reduce this to a problem we know how to solve. Just add the elements to a regular Python list (`[]`) as you find them in the linked list; then return the string representation of that list using `str()`."
   ]
  },
  {
   "cell_type": "code",
   "execution_count": 17,
   "metadata": {
    "collapsed": false,
    "scrolled": true
   },
   "outputs": [
    {
     "data": {
      "text/plain": [
       "\"['parrt', 'tombu', 'mary', 'mary', 'dmose']\""
      ]
     },
     "execution_count": 17,
     "metadata": {},
     "output_type": "execute_result"
    }
   ],
   "source": [
    "def tostr(head):\n",
    "    p = head\n",
    "    values = []\n",
    "    while p is not None:\n",
    "        values.append(p.value)\n",
    "        p = p.next\n",
    "    return str(values)\n",
    "\n",
    "tostr(users)"
   ]
  },
  {
   "cell_type": "markdown",
   "metadata": {},
   "source": [
    "## Exercise\n",
    "\n",
    "Implement method `len(head)` that counts and returns the number of elements in the linked list referred to by `head`.  Return zero if the list is empty. Hint: This is just adding a counter-accumulator pattern to the list walking pattern."
   ]
  },
  {
   "cell_type": "code",
   "execution_count": 19,
   "metadata": {
    "collapsed": false
   },
   "outputs": [
    {
     "data": {
      "text/plain": [
       "5"
      ]
     },
     "execution_count": 19,
     "metadata": {},
     "output_type": "execute_result"
    }
   ],
   "source": [
    "def len(head):\n",
    "    p = head\n",
    "    n = 0\n",
    "    while p is not None:\n",
    "        n = n + 1\n",
    "        p = p.next\n",
    "    return n\n",
    "\n",
    "len(users)"
   ]
  },
  {
   "cell_type": "markdown",
   "metadata": {},
   "source": [
    "We can also make a recursive version of that function:"
   ]
  },
  {
   "cell_type": "code",
   "execution_count": 21,
   "metadata": {
    "collapsed": false
   },
   "outputs": [
    {
     "data": {
      "text/plain": [
       "5"
      ]
     },
     "execution_count": 21,
     "metadata": {},
     "output_type": "execute_result"
    }
   ],
   "source": [
    "def rlen(head):\n",
    "    if head is None: return 0\n",
    "    return 1 + rlen(head.next)\n",
    "\n",
    "rlen(users)"
   ]
  },
  {
   "cell_type": "markdown",
   "metadata": {},
   "source": [
    "## Exercise\n",
    "\n",
    "Implement method called `getitem(head, i)` that returns the ith node in a list `head` starting from zero. Hint: Combine a counter-accumulator loop with a search loop (look for counter hitting `i`) and the list walker pattern. Another way to think about this is that it is adding a search pattern to the previous length exercise."
   ]
  },
  {
   "cell_type": "code",
   "execution_count": 23,
   "metadata": {
    "collapsed": false
   },
   "outputs": [
    {
     "name": "stdout",
     "output_type": "stream",
     "text": [
      "parrt\n",
      "tombu\n",
      "mary\n",
      "None\n",
      "None\n"
     ]
    }
   ],
   "source": [
    "def getitem(head,j):\n",
    "    \"Return ith node in the list starting from 0 or return None if invalid index\"\n",
    "    i = 0\n",
    "    p = head\n",
    "    while p is not None:\n",
    "        if i == j:\n",
    "            return p\n",
    "        i = i + 1\n",
    "        p = p.next\n",
    "    return None\n",
    "\n",
    "print(getitem(users, 0).value)\n",
    "print(getitem(users, 1).value)\n",
    "print(getitem(users, 2).value)\n",
    "print(getitem(users, -1))\n",
    "print(getitem(users, 999))"
   ]
  },
  {
   "cell_type": "markdown",
   "metadata": {},
   "source": [
    "## Delete first element\n",
    "\n",
    "To delete the first node of a list, all we have to do is make the `head` point at what the first node's `next` points at, being careful to check for the empty list condition:\n",
    "\n",
    "```python\n",
    "if head is not None:\n",
    "    head = head.next\n",
    "```\n"
   ]
  },
  {
   "cell_type": "markdown",
   "metadata": {},
   "source": [
    "## A taste of trees\n",
    "\n",
    "Once we're comfortable with the notion of pointers/references from one node to the other, we can extend nodes to have two pointers instead of just one `next` pointer.   A *binary tree* consists of nodes that have `left` and `right` child pointers; one or both of those pointers can be `None`. A tree reduces to a linked list if each tree node has at most one child.\n",
    "\n",
    "Trees are very common data structure in analytics, particularly machine learning. For example, there is a form of clustering called *hierarchical clustering* that constructs trees of related element groups. Then, one of the most powerful machine learning models is called *random forest* and consists of a collection of decision trees that work together to provide a very strong predictor or classifier.\n",
    "\n",
    "We draw trees upside down from their normal biological perspective. The **root** of the tree is a single node and is drawn at the top of the diagram.  The **leaves** of the tree are the children that themselves have no children.\n",
    "\n",
    "Here is some support code for a tree node that you can safely ignore, except that the tree nodes (data aggregates) contain `value`, `left`, and `right` fields."
   ]
  },
  {
   "cell_type": "code",
   "execution_count": 24,
   "metadata": {
    "collapsed": true
   },
   "outputs": [],
   "source": [
    "class TNode:\n",
    "    def __str__(self):\n",
    "        return \"(%s,%s,%s)\" % (self.value, str(self.left), str(self.right))\n",
    "    def __repr__(self):\n",
    "        return str(self)\n",
    "    def __init__(self, value, left=None, right=None):\n",
    "        self.value = value\n",
    "        self.left = left\n",
    "        self.right = right"
   ]
  },
  {
   "cell_type": "markdown",
   "metadata": {},
   "source": [
    "To test it out, we can create nodes just like linked list nodes and then hook them up as we want:"
   ]
  },
  {
   "cell_type": "code",
   "execution_count": 26,
   "metadata": {
    "collapsed": false,
    "scrolled": false
   },
   "outputs": [
    {
     "data": {
      "text/plain": [
       "(Paul,(Don,(Liz,None,None),(Marcelo,None,None)),None)"
      ]
     },
     "execution_count": 26,
     "metadata": {},
     "output_type": "execute_result"
    }
   ],
   "source": [
    "myroot = prez = TNode(\"Paul\")\n",
    "provost = TNode(\"Don\")\n",
    "som = TNode(\"Liz\")\n",
    "cas = TNode(\"Marcelo\")\n",
    "\n",
    "prez.left = provost\n",
    "provost.left = som\n",
    "provost.right = cas\n",
    "\n",
    "prez"
   ]
  },
  {
   "cell_type": "code",
   "execution_count": 29,
   "metadata": {
    "collapsed": false,
    "scrolled": false
   },
   "outputs": [
    {
     "data": {
      "image/svg+xml": [
       "<?xml version=\"1.0\" encoding=\"UTF-8\" standalone=\"no\"?>\n",
       "<!DOCTYPE svg PUBLIC \"-//W3C//DTD SVG 1.1//EN\"\n",
       " \"http://www.w3.org/Graphics/SVG/1.1/DTD/svg11.dtd\">\n",
       "<!-- Generated by graphviz version 2.40.1 (20161225.0304)\n",
       " -->\n",
       "<!-- Title: G Pages: 1 -->\n",
       "<svg width=\"157pt\" height=\"211pt\"\n",
       " viewBox=\"0.00 0.00 156.50 211.00\" xmlns=\"http://www.w3.org/2000/svg\" xmlns:xlink=\"http://www.w3.org/1999/xlink\">\n",
       "<g id=\"graph0\" class=\"graph\" transform=\"scale(1 1) rotate(0) translate(4 207)\">\n",
       "<title>G</title>\n",
       "<polygon fill=\"#ffffff\" stroke=\"transparent\" points=\"-4,4 -4,-207 152.5,-207 152.5,4 -4,4\"/>\n",
       "<!-- node4398310848 -->\n",
       "<g id=\"node1\" class=\"node\">\n",
       "<title>node4398310848</title>\n",
       "<polygon fill=\"#fefecd\" stroke=\"#444443\" stroke-width=\".5\" points=\"116,-203 50,-203 50,-150 116,-150 116,-203\"/>\n",
       "<polygon fill=\"#fefecd\" stroke=\"transparent\" points=\"52,-187.5 52,-200.5 114,-200.5 114,-187.5 52,-187.5\"/>\n",
       "<polyline fill=\"none\" stroke=\"#444443\" points=\"52,-187.5 114,-187.5 \"/>\n",
       "<text text-anchor=\"start\" x=\"68.3315\" y=\"-190.7\" font-family=\"Times,serif\" font-style=\"italic\" font-size=\"11.00\" fill=\"#444443\">TNode</text>\n",
       "<polygon fill=\"#fefecd\" stroke=\"transparent\" points=\"52,-185.5 52,-187.5 114,-187.5 114,-185.5 52,-185.5\"/>\n",
       "<polygon fill=\"#fefecd\" stroke=\"transparent\" points=\"52,-172.5 52,-185.5 83,-185.5 83,-172.5 52,-172.5\"/>\n",
       "<polyline fill=\"none\" stroke=\"#444443\" points=\"83,-172.5 83,-185.5 \"/>\n",
       "<text text-anchor=\"start\" x=\"52.8235\" y=\"-175.7\" font-family=\"Helvetica,sans-Serif\" font-size=\"11.00\" fill=\"#444443\">value </text>\n",
       "<polygon fill=\"#fefecd\" stroke=\"transparent\" points=\"83,-172.5 83,-185.5 114,-185.5 114,-172.5 83,-172.5\"/>\n",
       "<text text-anchor=\"start\" x=\"83.8638\" y=\"-175.7\" font-family=\"Helvetica,sans-Serif\" font-size=\"11.00\" fill=\"#444443\"> &#39;Paul&#39;</text>\n",
       "<polyline fill=\"none\" stroke=\"#444443\" points=\"52,-169.5 114,-169.5 \"/>\n",
       "<polygon fill=\"#fefecd\" stroke=\"transparent\" points=\"52,-167.5 52,-169.5 114,-169.5 114,-167.5 52,-167.5\"/>\n",
       "<polygon fill=\"#fefecd\" stroke=\"transparent\" points=\"52,-159.5 52,-167.5 83,-167.5 83,-159.5 52,-159.5\"/>\n",
       "<polyline fill=\"none\" stroke=\"#444443\" points=\"83,-159.5 83,-167.5 \"/>\n",
       "<text text-anchor=\"start\" x=\"53\" y=\"-161.7\" font-family=\"Helvetica,sans-Serif\" font-size=\"6.00\" fill=\"#444443\">left</text>\n",
       "<polygon fill=\"#fefecd\" stroke=\"transparent\" points=\"83,-159.5 83,-167.5 83,-167.5 83,-159.5 83,-159.5\"/>\n",
       "<polygon fill=\"#fefecd\" stroke=\"transparent\" points=\"83,-159.5 83,-167.5 114,-167.5 114,-159.5 83,-159.5\"/>\n",
       "<text text-anchor=\"start\" x=\"101.3281\" y=\"-161.7\" font-family=\"Helvetica,sans-Serif\" font-size=\"6.00\" fill=\"#444443\">right</text>\n",
       "<polygon fill=\"#fefecd\" stroke=\"transparent\" points=\"52,-156.5 52,-159.5 83,-159.5 83,-156.5 52,-156.5\"/>\n",
       "<polyline fill=\"none\" stroke=\"#444443\" points=\"83,-156.5 83,-159.5 \"/>\n",
       "<text text-anchor=\"start\" x=\"67.3611\" y=\"-157.7\" font-family=\"Helvetica,sans-Serif\" font-size=\"1.00\" fill=\"#444443\"> </text>\n",
       "<polygon fill=\"#fefecd\" stroke=\"transparent\" points=\"83,-156.5 83,-159.5 83,-159.5 83,-156.5 83,-156.5\"/>\n",
       "<polygon fill=\"#fefecd\" stroke=\"transparent\" points=\"83,-156.5 83,-159.5 114,-159.5 114,-156.5 83,-156.5\"/>\n",
       "<text text-anchor=\"start\" x=\"98.3611\" y=\"-157.7\" font-family=\"Helvetica,sans-Serif\" font-size=\"1.00\" fill=\"#444443\"> </text>\n",
       "<polygon fill=\"#fefecd\" stroke=\"transparent\" points=\"52,-151.5 52,-156.5 83,-156.5 83,-151.5 52,-151.5\"/>\n",
       "<polyline fill=\"none\" stroke=\"#444443\" points=\"83,-151.5 83,-156.5 \"/>\n",
       "<text text-anchor=\"start\" x=\"67.0833\" y=\"-153.1\" font-family=\"Helvetica,sans-Serif\" font-size=\"3.00\" fill=\"#444443\"> </text>\n",
       "<polygon fill=\"#fefecd\" stroke=\"transparent\" points=\"83,-151.5 83,-156.5 83,-156.5 83,-151.5 83,-151.5\"/>\n",
       "<polygon fill=\"#fefecd\" stroke=\"transparent\" points=\"83,-151.5 83,-156.5 114,-156.5 114,-151.5 83,-151.5\"/>\n",
       "<text text-anchor=\"start\" x=\"98.0833\" y=\"-153.1\" font-family=\"Helvetica,sans-Serif\" font-size=\"3.00\" fill=\"#444443\"> </text>\n",
       "</g>\n",
       "<!-- node4398311408 -->\n",
       "<g id=\"node2\" class=\"node\">\n",
       "<title>node4398311408</title>\n",
       "<polygon fill=\"#fefecd\" stroke=\"#444443\" stroke-width=\".5\" points=\"99,-128 35,-128 35,-75 99,-75 99,-128\"/>\n",
       "<polygon fill=\"#fefecd\" stroke=\"transparent\" points=\"37,-112.5 37,-125.5 97,-125.5 97,-112.5 37,-112.5\"/>\n",
       "<polyline fill=\"none\" stroke=\"#444443\" points=\"37,-112.5 97,-112.5 \"/>\n",
       "<text text-anchor=\"start\" x=\"52.3315\" y=\"-115.7\" font-family=\"Times,serif\" font-style=\"italic\" font-size=\"11.00\" fill=\"#444443\">TNode</text>\n",
       "<polygon fill=\"#fefecd\" stroke=\"transparent\" points=\"37,-110.5 37,-112.5 97,-112.5 97,-110.5 37,-110.5\"/>\n",
       "<polygon fill=\"#fefecd\" stroke=\"transparent\" points=\"37,-97.5 37,-110.5 68,-110.5 68,-97.5 37,-97.5\"/>\n",
       "<polyline fill=\"none\" stroke=\"#444443\" points=\"68,-97.5 68,-110.5 \"/>\n",
       "<text text-anchor=\"start\" x=\"37.8235\" y=\"-100.7\" font-family=\"Helvetica,sans-Serif\" font-size=\"11.00\" fill=\"#444443\">value </text>\n",
       "<polygon fill=\"#fefecd\" stroke=\"transparent\" points=\"68,-97.5 68,-110.5 97,-110.5 97,-97.5 68,-97.5\"/>\n",
       "<text text-anchor=\"start\" x=\"68.7822\" y=\"-100.7\" font-family=\"Helvetica,sans-Serif\" font-size=\"11.00\" fill=\"#444443\"> &#39;Don&#39;</text>\n",
       "<polyline fill=\"none\" stroke=\"#444443\" points=\"37,-94.5 97,-94.5 \"/>\n",
       "<polygon fill=\"#fefecd\" stroke=\"transparent\" points=\"37,-92.5 37,-94.5 97,-94.5 97,-92.5 37,-92.5\"/>\n",
       "<polygon fill=\"#fefecd\" stroke=\"transparent\" points=\"37,-84.5 37,-92.5 68,-92.5 68,-84.5 37,-84.5\"/>\n",
       "<polyline fill=\"none\" stroke=\"#444443\" points=\"68,-84.5 68,-92.5 \"/>\n",
       "<text text-anchor=\"start\" x=\"38\" y=\"-86.7\" font-family=\"Helvetica,sans-Serif\" font-size=\"6.00\" fill=\"#444443\">left</text>\n",
       "<polygon fill=\"#fefecd\" stroke=\"transparent\" points=\"68,-84.5 68,-92.5 68,-92.5 68,-84.5 68,-84.5\"/>\n",
       "<polygon fill=\"#fefecd\" stroke=\"transparent\" points=\"68,-84.5 68,-92.5 97,-92.5 97,-84.5 68,-84.5\"/>\n",
       "<text text-anchor=\"start\" x=\"84.3281\" y=\"-86.7\" font-family=\"Helvetica,sans-Serif\" font-size=\"6.00\" fill=\"#444443\">right</text>\n",
       "<polygon fill=\"#fefecd\" stroke=\"transparent\" points=\"37,-81.5 37,-84.5 68,-84.5 68,-81.5 37,-81.5\"/>\n",
       "<polyline fill=\"none\" stroke=\"#444443\" points=\"68,-81.5 68,-84.5 \"/>\n",
       "<text text-anchor=\"start\" x=\"52.3611\" y=\"-82.7\" font-family=\"Helvetica,sans-Serif\" font-size=\"1.00\" fill=\"#444443\"> </text>\n",
       "<polygon fill=\"#fefecd\" stroke=\"transparent\" points=\"68,-81.5 68,-84.5 68,-84.5 68,-81.5 68,-81.5\"/>\n",
       "<polygon fill=\"#fefecd\" stroke=\"transparent\" points=\"68,-81.5 68,-84.5 97,-84.5 97,-81.5 68,-81.5\"/>\n",
       "<text text-anchor=\"start\" x=\"82.3611\" y=\"-82.7\" font-family=\"Helvetica,sans-Serif\" font-size=\"1.00\" fill=\"#444443\"> </text>\n",
       "<polygon fill=\"#fefecd\" stroke=\"transparent\" points=\"37,-76.5 37,-81.5 68,-81.5 68,-76.5 37,-76.5\"/>\n",
       "<polyline fill=\"none\" stroke=\"#444443\" points=\"68,-76.5 68,-81.5 \"/>\n",
       "<text text-anchor=\"start\" x=\"52.0833\" y=\"-78.1\" font-family=\"Helvetica,sans-Serif\" font-size=\"3.00\" fill=\"#444443\"> </text>\n",
       "<polygon fill=\"#fefecd\" stroke=\"transparent\" points=\"68,-76.5 68,-81.5 68,-81.5 68,-76.5 68,-76.5\"/>\n",
       "<polygon fill=\"#fefecd\" stroke=\"transparent\" points=\"68,-76.5 68,-81.5 97,-81.5 97,-76.5 68,-76.5\"/>\n",
       "<text text-anchor=\"start\" x=\"82.0833\" y=\"-78.1\" font-family=\"Helvetica,sans-Serif\" font-size=\"3.00\" fill=\"#444443\"> </text>\n",
       "</g>\n",
       "<!-- node4398310848&#45;&gt;node4398311408 -->\n",
       "<g id=\"edge1\" class=\"edge\">\n",
       "<title>node4398310848:c&#45;&gt;node4398311408</title>\n",
       "<path fill=\"none\" stroke=\"#444443\" stroke-width=\".5\" d=\"M67,-153.9651C67,-149.4411 67,-141.1454 67,-132.4652\"/>\n",
       "<ellipse fill=\"#444443\" stroke=\"#444443\" stroke-width=\".5\" cx=\"67\" cy=\"-155.9\" rx=\"1.6\" ry=\"1.6\"/>\n",
       "<polygon fill=\"#444443\" stroke=\"#444443\" stroke-width=\".5\" points=\"68.4001,-132.1879 67,-128.1879 65.6001,-132.188 68.4001,-132.1879\"/>\n",
       "</g>\n",
       "<!-- node4398312584 -->\n",
       "<g id=\"node3\" class=\"node\">\n",
       "<title>node4398312584</title>\n",
       "<polygon fill=\"#fefecd\" stroke=\"#444443\" stroke-width=\".5\" points=\"58,-53 0,-53 0,0 58,0 58,-53\"/>\n",
       "<polygon fill=\"#fefecd\" stroke=\"transparent\" points=\"2,-37.5 2,-50.5 56,-50.5 56,-37.5 2,-37.5\"/>\n",
       "<polyline fill=\"none\" stroke=\"#444443\" points=\"2,-37.5 56,-37.5 \"/>\n",
       "<text text-anchor=\"start\" x=\"14.3315\" y=\"-40.7\" font-family=\"Times,serif\" font-style=\"italic\" font-size=\"11.00\" fill=\"#444443\">TNode</text>\n",
       "<polygon fill=\"#fefecd\" stroke=\"transparent\" points=\"2,-35.5 2,-37.5 56,-37.5 56,-35.5 2,-35.5\"/>\n",
       "<polygon fill=\"#fefecd\" stroke=\"transparent\" points=\"2,-22.5 2,-35.5 33,-35.5 33,-22.5 2,-22.5\"/>\n",
       "<polyline fill=\"none\" stroke=\"#444443\" points=\"33,-22.5 33,-35.5 \"/>\n",
       "<text text-anchor=\"start\" x=\"2.8235\" y=\"-25.7\" font-family=\"Helvetica,sans-Serif\" font-size=\"11.00\" fill=\"#444443\">value </text>\n",
       "<polygon fill=\"#fefecd\" stroke=\"transparent\" points=\"33,-22.5 33,-35.5 56,-35.5 56,-22.5 33,-22.5\"/>\n",
       "<text text-anchor=\"start\" x=\"33.8411\" y=\"-25.7\" font-family=\"Helvetica,sans-Serif\" font-size=\"11.00\" fill=\"#444443\"> &#39;Liz&#39;</text>\n",
       "<polyline fill=\"none\" stroke=\"#444443\" points=\"2,-19.5 56,-19.5 \"/>\n",
       "<polygon fill=\"#fefecd\" stroke=\"transparent\" points=\"2,-17.5 2,-19.5 56,-19.5 56,-17.5 2,-17.5\"/>\n",
       "<polygon fill=\"#fefecd\" stroke=\"transparent\" points=\"2,-9.5 2,-17.5 33,-17.5 33,-9.5 2,-9.5\"/>\n",
       "<polyline fill=\"none\" stroke=\"#444443\" points=\"33,-9.5 33,-17.5 \"/>\n",
       "<text text-anchor=\"start\" x=\"3\" y=\"-11.7\" font-family=\"Helvetica,sans-Serif\" font-size=\"6.00\" fill=\"#444443\">left</text>\n",
       "<polygon fill=\"#fefecd\" stroke=\"transparent\" points=\"33,-9.5 33,-17.5 33,-17.5 33,-9.5 33,-9.5\"/>\n",
       "<polygon fill=\"#fefecd\" stroke=\"transparent\" points=\"33,-9.5 33,-17.5 56,-17.5 56,-9.5 33,-9.5\"/>\n",
       "<text text-anchor=\"start\" x=\"43.3281\" y=\"-11.7\" font-family=\"Helvetica,sans-Serif\" font-size=\"6.00\" fill=\"#444443\">right</text>\n",
       "<polygon fill=\"#fefecd\" stroke=\"transparent\" points=\"2,-6.5 2,-9.5 33,-9.5 33,-6.5 2,-6.5\"/>\n",
       "<polyline fill=\"none\" stroke=\"#444443\" points=\"33,-6.5 33,-9.5 \"/>\n",
       "<text text-anchor=\"start\" x=\"17.3611\" y=\"-7.7\" font-family=\"Helvetica,sans-Serif\" font-size=\"1.00\" fill=\"#444443\"> </text>\n",
       "<polygon fill=\"#fefecd\" stroke=\"transparent\" points=\"33,-6.5 33,-9.5 33,-9.5 33,-6.5 33,-6.5\"/>\n",
       "<polygon fill=\"#fefecd\" stroke=\"transparent\" points=\"33,-6.5 33,-9.5 56,-9.5 56,-6.5 33,-6.5\"/>\n",
       "<text text-anchor=\"start\" x=\"44.3611\" y=\"-7.7\" font-family=\"Helvetica,sans-Serif\" font-size=\"1.00\" fill=\"#444443\"> </text>\n",
       "<polygon fill=\"#fefecd\" stroke=\"transparent\" points=\"2,-1.5 2,-6.5 33,-6.5 33,-1.5 2,-1.5\"/>\n",
       "<polyline fill=\"none\" stroke=\"#444443\" points=\"33,-1.5 33,-6.5 \"/>\n",
       "<text text-anchor=\"start\" x=\"17.0833\" y=\"-3.1\" font-family=\"Helvetica,sans-Serif\" font-size=\"3.00\" fill=\"#444443\"> </text>\n",
       "<polygon fill=\"#fefecd\" stroke=\"transparent\" points=\"33,-1.5 33,-6.5 33,-6.5 33,-1.5 33,-1.5\"/>\n",
       "<polygon fill=\"#fefecd\" stroke=\"transparent\" points=\"33,-1.5 33,-6.5 56,-6.5 56,-1.5 33,-1.5\"/>\n",
       "<text text-anchor=\"start\" x=\"44.0833\" y=\"-3.1\" font-family=\"Helvetica,sans-Serif\" font-size=\"3.00\" fill=\"#444443\"> </text>\n",
       "</g>\n",
       "<!-- node4398311408&#45;&gt;node4398312584 -->\n",
       "<g id=\"edge2\" class=\"edge\">\n",
       "<title>node4398311408:c&#45;&gt;node4398312584</title>\n",
       "<path fill=\"none\" stroke=\"#444443\" stroke-width=\".5\" d=\"M50.6892,-79.3084C48.8397,-74.8052 45.273,-66.1212 41.5578,-57.0756\"/>\n",
       "<ellipse fill=\"#444443\" stroke=\"#444443\" stroke-width=\".5\" cx=\"51.3921\" cy=\"-81.02\" rx=\"1.6\" ry=\"1.6\"/>\n",
       "<polygon fill=\"#444443\" stroke=\"#444443\" stroke-width=\".5\" points=\"42.7759,-56.3561 39.9611,-53.1879 40.1858,-57.4199 42.7759,-56.3561\"/>\n",
       "</g>\n",
       "<!-- node4398311352 -->\n",
       "<g id=\"node4\" class=\"node\">\n",
       "<title>node4398311352</title>\n",
       "<polygon fill=\"#fefecd\" stroke=\"#444443\" stroke-width=\".5\" points=\"148.5,-53 65.5,-53 65.5,0 148.5,0 148.5,-53\"/>\n",
       "<polygon fill=\"#fefecd\" stroke=\"transparent\" points=\"68,-37.5 68,-50.5 147,-50.5 147,-37.5 68,-37.5\"/>\n",
       "<polyline fill=\"none\" stroke=\"#444443\" points=\"68,-37.5 147,-37.5 \"/>\n",
       "<text text-anchor=\"start\" x=\"92.8315\" y=\"-40.7\" font-family=\"Times,serif\" font-style=\"italic\" font-size=\"11.00\" fill=\"#444443\">TNode</text>\n",
       "<polygon fill=\"#fefecd\" stroke=\"transparent\" points=\"68,-35.5 68,-37.5 147,-37.5 147,-35.5 68,-35.5\"/>\n",
       "<polygon fill=\"#fefecd\" stroke=\"transparent\" points=\"68,-22.5 68,-35.5 99,-35.5 99,-22.5 68,-22.5\"/>\n",
       "<polyline fill=\"none\" stroke=\"#444443\" points=\"99,-22.5 99,-35.5 \"/>\n",
       "<text text-anchor=\"start\" x=\"68.8235\" y=\"-25.7\" font-family=\"Helvetica,sans-Serif\" font-size=\"11.00\" fill=\"#444443\">value </text>\n",
       "<polygon fill=\"#fefecd\" stroke=\"transparent\" points=\"99,-22.5 99,-35.5 147,-35.5 147,-22.5 99,-22.5\"/>\n",
       "<text text-anchor=\"start\" x=\"99.8103\" y=\"-25.7\" font-family=\"Helvetica,sans-Serif\" font-size=\"11.00\" fill=\"#444443\"> &#39;Marcelo&#39;</text>\n",
       "<polyline fill=\"none\" stroke=\"#444443\" points=\"68,-19.5 147,-19.5 \"/>\n",
       "<polygon fill=\"#fefecd\" stroke=\"transparent\" points=\"68,-17.5 68,-19.5 147,-19.5 147,-17.5 68,-17.5\"/>\n",
       "<polygon fill=\"#fefecd\" stroke=\"transparent\" points=\"68,-9.5 68,-17.5 99,-17.5 99,-9.5 68,-9.5\"/>\n",
       "<polyline fill=\"none\" stroke=\"#444443\" points=\"99,-9.5 99,-17.5 \"/>\n",
       "<text text-anchor=\"start\" x=\"69\" y=\"-11.7\" font-family=\"Helvetica,sans-Serif\" font-size=\"6.00\" fill=\"#444443\">left</text>\n",
       "<polygon fill=\"#fefecd\" stroke=\"transparent\" points=\"99,-9.5 99,-17.5 99,-17.5 99,-9.5 99,-9.5\"/>\n",
       "<polygon fill=\"#fefecd\" stroke=\"transparent\" points=\"99,-9.5 99,-17.5 147,-17.5 147,-9.5 99,-9.5\"/>\n",
       "<text text-anchor=\"start\" x=\"134.3281\" y=\"-11.7\" font-family=\"Helvetica,sans-Serif\" font-size=\"6.00\" fill=\"#444443\">right</text>\n",
       "<polygon fill=\"#fefecd\" stroke=\"transparent\" points=\"68,-6.5 68,-9.5 99,-9.5 99,-6.5 68,-6.5\"/>\n",
       "<polyline fill=\"none\" stroke=\"#444443\" points=\"99,-6.5 99,-9.5 \"/>\n",
       "<text text-anchor=\"start\" x=\"83.3611\" y=\"-7.7\" font-family=\"Helvetica,sans-Serif\" font-size=\"1.00\" fill=\"#444443\"> </text>\n",
       "<polygon fill=\"#fefecd\" stroke=\"transparent\" points=\"99,-6.5 99,-9.5 99,-9.5 99,-6.5 99,-6.5\"/>\n",
       "<polygon fill=\"#fefecd\" stroke=\"transparent\" points=\"99,-6.5 99,-9.5 147,-9.5 147,-6.5 99,-6.5\"/>\n",
       "<text text-anchor=\"start\" x=\"122.8611\" y=\"-7.7\" font-family=\"Helvetica,sans-Serif\" font-size=\"1.00\" fill=\"#444443\"> </text>\n",
       "<polygon fill=\"#fefecd\" stroke=\"transparent\" points=\"68,-1.5 68,-6.5 99,-6.5 99,-1.5 68,-1.5\"/>\n",
       "<polyline fill=\"none\" stroke=\"#444443\" points=\"99,-1.5 99,-6.5 \"/>\n",
       "<text text-anchor=\"start\" x=\"83.0833\" y=\"-3.1\" font-family=\"Helvetica,sans-Serif\" font-size=\"3.00\" fill=\"#444443\"> </text>\n",
       "<polygon fill=\"#fefecd\" stroke=\"transparent\" points=\"99,-1.5 99,-6.5 99,-6.5 99,-1.5 99,-1.5\"/>\n",
       "<polygon fill=\"#fefecd\" stroke=\"transparent\" points=\"99,-1.5 99,-6.5 147,-6.5 147,-1.5 99,-1.5\"/>\n",
       "<text text-anchor=\"start\" x=\"122.5833\" y=\"-3.1\" font-family=\"Helvetica,sans-Serif\" font-size=\"3.00\" fill=\"#444443\"> </text>\n",
       "</g>\n",
       "<!-- node4398311408&#45;&gt;node4398311352 -->\n",
       "<g id=\"edge3\" class=\"edge\">\n",
       "<title>node4398311408:c&#45;&gt;node4398311352</title>\n",
       "<path fill=\"none\" stroke=\"#444443\" stroke-width=\".5\" d=\"M84.3678,-79.3084C86.2978,-74.8052 90.0195,-66.1212 93.8962,-57.0756\"/>\n",
       "<ellipse fill=\"#444443\" stroke=\"#444443\" stroke-width=\".5\" cx=\"83.6303\" cy=\"-81.0294\" rx=\"1.6\" ry=\"1.6\"/>\n",
       "<polygon fill=\"#444443\" stroke=\"#444443\" stroke-width=\".5\" points=\"95.2734,-57.416 95.5623,-53.1879 92.6998,-56.313 95.2734,-57.416\"/>\n",
       "</g>\n",
       "</g>\n",
       "</svg>\n"
      ],
      "text/plain": [
       "<graphviz.files.Source at 0x10628eac8>"
      ]
     },
     "execution_count": 29,
     "metadata": {},
     "output_type": "execute_result"
    }
   ],
   "source": [
    "from lolviz import *\n",
    "treeviz(prez)"
   ]
  },
  {
   "cell_type": "markdown",
   "metadata": {},
   "source": [
    "### Walking trees\n",
    "\n",
    "While it is most common to use a `while` loop to traverse a linked list, is most common to use recursion to traverse a tree. For example, here is how we would print out all the elements in a tree in *preorder*, meaning printing the value added note before it's children."
   ]
  },
  {
   "cell_type": "code",
   "execution_count": 31,
   "metadata": {
    "collapsed": false
   },
   "outputs": [
    {
     "name": "stdout",
     "output_type": "stream",
     "text": [
      "Paul\n",
      "Don\n",
      "Liz\n",
      "Marcelo\n"
     ]
    }
   ],
   "source": [
    "def walk(t):\n",
    "    if t is None: return\n",
    "    print(t.value)\n",
    "    walk(t.left)\n",
    "    walk(t.right)\n",
    "\n",
    "walk(prez)"
   ]
  }
 ],
 "metadata": {
  "anaconda-cloud": {},
  "kernelspec": {
   "display_name": "Python 3",
   "language": "python",
   "name": "python3"
  },
  "language_info": {
   "codemirror_mode": {
    "name": "ipython",
    "version": 3
   },
   "file_extension": ".py",
   "mimetype": "text/x-python",
   "name": "python",
   "nbconvert_exporter": "python",
   "pygments_lexer": "ipython3",
   "version": "3.6.5"
  },
  "toc": {
   "colors": {
    "hover_highlight": "#DAA520",
    "navigate_num": "#000000",
    "navigate_text": "#333333",
    "running_highlight": "#FF0000",
    "selected_highlight": "#FFD700",
    "sidebar_border": "#EEEEEE",
    "wrapper_background": "#FFFFFF"
   },
   "moveMenuLeft": true,
   "nav_menu": {
    "height": "159px",
    "width": "252px"
   },
   "navigate_menu": true,
   "number_sections": true,
   "sideBar": true,
   "threshold": 4,
   "toc_cell": false,
   "toc_section_display": "block",
   "toc_window_display": false,
   "widenNotebook": false
  }
 },
 "nbformat": 4,
 "nbformat_minor": 2
}
