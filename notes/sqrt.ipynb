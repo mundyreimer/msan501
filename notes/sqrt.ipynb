{
 "cells": [
  {
   "cell_type": "markdown",
   "metadata": {},
   "source": [
    "# Approximating square root\n",
    "\n",
    "There are a lot of useful functions that have no closed form solution, meaning we can't just do a computation and return the value. Instead, we need to use an iterative method to approximate the function value. We can use this to approximate sine (with Taylor series expansion), approximate square root (as we'll do in this lecture), or optimize a cost or error function (gradient descent in next lecture).\n",
    "\n",
    "As with the previous uniform random variable lecture, we must translate a recurrence relation to Python.  Instead of returning a single value in the recurrence series, we will look for **convergence of the series**. In other words, if we run the series out far enough, $x_{i+1}$ will be close to $x_i$ leaving $x_i$ as  a very accurate approximation of square root. This will teach us the basics of iterative computing and prepare us for the more complicated function optimization material.\n"
   ]
  },
  {
   "cell_type": "markdown",
   "metadata": {},
   "source": [
    "## Babylonian method\n",
    "\n",
    "To approximate square root, the idea is to pick an initial estimate, $x_0$, and then iterate with better and better estimates, $x_i$, using the ([Babylonian method](https://en.wikipedia.org/wiki/Methods_of_computing_square_roots#Babylonian_method)) recurrence relation:\n",
    "\n",
    "$x_{i+1} = \\frac{1}{2}(x_i + \\frac{n}{x_i})$\n",
    "\n",
    "There’s a great deal on the web you can read to learn more about why this process works but it relies on the average (midpoint) of $x_i$ and $n/x_i$ getting us closer to the square root of n. The cool thing is that the iteration converges quickly.\n",
    "\n",
    "Our goal is to write a function that takes a single number and returns it square root. What do we know about this function before even beginning to code? Well, we have a clear description of the problem per our function workplan, and we also have the function signature we want:\n",
    "\n",
    "```python\n",
    "def sqrt(n):\n",
    "```\n",
    "\n",
    "Because we are implementing a recurrence relation, we know that we will have a loop that computes $x_{i+1}$ from $x_{i}$. "
   ]
  },
  {
   "cell_type": "markdown",
   "metadata": {},
   "source": [
    "### Convergence\n",
    "\n",
    "The terminating condition of the loop is when we have reached convergence or close to it. Convergence just means that $x_{i+1}$ is pretty close to $x_i$. Because we can never compare to real numbers for equality, we have to check for the difference being smaller than some precision like 0.00000001."
   ]
  },
  {
   "cell_type": "markdown",
   "metadata": {},
   "source": [
    "### Iterative method outline\n",
    "\n",
    "Just as we have an outline for an analytics program, iterative methods all share the same basic outline. (I'm assuming here that $x_{i+1}$ depends only on a single previous value and that $i$ implicitly increments as the loop goes around.)\n",
    "\n",
    "*set $x_0$ to initial value*<br>\n",
    "*repeat:*<br>\n",
    "&nbsp;&nbsp;&nbsp;&nbsp;$x_{i+1} =$ function-giving-next-value$(x_i)$<br>\n",
    "*until $abs(x_{i+1} - x_i) \\lt precision$<br>\n",
    "return $x_{i+1}$*<br>\n",
    "\n",
    "Because Python does not have a repeat-until loop, we fake it with an infinite loop containing a conditional that breaks us out upon convergence:\n",
    "\n",
    "*set $x_0$ to initial value*<br>\n",
    "*while True:*<br>\n",
    "&nbsp;&nbsp;&nbsp;&nbsp;$x_{i+1} =$ function-giving-next-value$(x_i)$<br>\n",
    "&nbsp;&nbsp;&nbsp;&nbsp;*if $abs(x_{i+1} - x_i) \\lt precision$<br>\n",
    "&nbsp;&nbsp;&nbsp;&nbsp;&nbsp;&nbsp;&nbsp;&nbsp;return $x_{i+1}$*<br>\n",
    "\n",
    "That is a fairly straightforward implementation of the recurrence relation, but you will notice that we don't actually need to keep all previous $x_i$ around except for the new value and the previous value. Here is a Python implementation that tracks only two values and follows the infinite loop pattern:"
   ]
  },
  {
   "cell_type": "code",
   "execution_count": 2,
   "metadata": {
    "collapsed": true
   },
   "outputs": [],
   "source": [
    "def sqrt(n):\n",
    "    \"compute square root of n\"\n",
    "    PRECISION = 0.00000001 # stop iterating when we converge with this delta\n",
    "    x_0 = 1.0 # pick any old initial value\n",
    "    x_prev = x_0\n",
    "    while True: # Python doesn't have repeat-until loop so fake it\n",
    "        x_new = 0.5 * (x_prev + n/x_prev)\n",
    "        if abs(x_new - x_prev) < PRECISION:\n",
    "            return x_new\n",
    "        x_prev = x_new # x_i+1 becomes x_i (previous value)"
   ]
  },
  {
   "cell_type": "markdown",
   "metadata": {},
   "source": [
    "To test our square root approximation, we can compare it to `math.sqrt()` and use numpy's `isclose` to do the comparison."
   ]
  },
  {
   "cell_type": "code",
   "execution_count": 3,
   "metadata": {
    "collapsed": false
   },
   "outputs": [],
   "source": [
    "import math\n",
    "import numpy as np\n",
    "def check(n):\n",
    "    assert np.isclose(sqrt(n), math.sqrt(n))\n",
    "def test_sqrt():\n",
    "    check(125348)\n",
    "    check(89.2342)\n",
    "    check(100)\n",
    "    check(1)\n",
    "    check(0)\n",
    "\n",
    "test_sqrt()"
   ]
  },
  {
   "cell_type": "markdown",
   "metadata": {},
   "source": [
    "As you can see we can define a function within a function. It's not special in any way except that code outside of `test_sqrt()` cannot see function `check()`. On the other hand, `check()` **can** see the symbols outside of `test_sqrt()`, such as our `sqrt()`."
   ]
  },
  {
   "cell_type": "markdown",
   "metadata": {},
   "source": [
    "### Exercise\n",
    "\n",
    "Type in (don't cut/paste) the `sqrt(n)` function and test with, for example, `sqrt(125348.0)`. Make sure you get the right answer (354.045195) and then add print statements so that you can see the sequence of $x_{i}$ values. I get:\n",
    "\n",
    "```\n",
    "1.0\n",
    "62674.5\n",
    "31338.249992\n",
    "15671.1249162\n",
    "7839.56178812\n",
    "3927.77547356\n",
    "1979.84435152\n",
    "1021.5781996\n",
    "572.139273508\n",
    "395.612894667\n",
    "356.228988269\n",
    "354.051888518\n",
    "354.045194918\n",
    "354.045194855\n",
    "```\n",
    "\n",
    "Notice how quickly it converges!"
   ]
  },
  {
   "cell_type": "code",
   "execution_count": 11,
   "metadata": {
    "collapsed": false,
    "scrolled": true
   },
   "outputs": [
    {
     "name": "stdout",
     "output_type": "stream",
     "text": [
      "1.0\n",
      "62674.5\n",
      "31338.249992\n",
      "15671.1249162\n",
      "7839.56178812\n",
      "3927.77547356\n",
      "1979.84435152\n",
      "1021.5781996\n",
      "572.139273508\n",
      "395.612894667\n",
      "356.228988269\n",
      "354.051888518\n",
      "354.045194918\n",
      "354.045194855\n"
     ]
    },
    {
     "data": {
      "text/plain": [
       "354.04519485512014"
      ]
     },
     "execution_count": 11,
     "metadata": {},
     "output_type": "execute_result"
    }
   ],
   "source": [
    "def sqrt_with_trace(n):\n",
    "    \"compute square root of n\"\n",
    "    PRECISION = 0.00000001 # stop iterating when we converge with this delta\n",
    "    x_0 = 1.0 # pick any old initial value\n",
    "    x_prev = x_0\n",
    "    while True: # Python doesn't have repeat-until loop so fake it\n",
    "        print x_prev\n",
    "        x_new = 0.5 * (x_prev + n/x_prev)\n",
    "        if abs(x_new - x_prev) < PRECISION:\n",
    "            return x_new\n",
    "        x_prev = x_new\n",
    "\n",
    "sqrt_with_trace(125348.000000)"
   ]
  },
  {
   "cell_type": "markdown",
   "metadata": {},
   "source": [
    "Now that we know how to implement a recurrence relation that converges, let's take a look at function optimization. At first glance, it seems completely different, but uses the same extraction of an iterative method."
   ]
  }
 ],
 "metadata": {
  "anaconda-cloud": {},
  "kernelspec": {
   "display_name": "Python 3",
   "language": "python",
   "name": "python3"
  },
  "language_info": {
   "codemirror_mode": {
    "name": "ipython",
    "version": 3
   },
   "file_extension": ".py",
   "mimetype": "text/x-python",
   "name": "python",
   "nbconvert_exporter": "python",
   "pygments_lexer": "ipython3",
   "version": "3.6.5"
  },
  "toc": {
   "colors": {
    "hover_highlight": "#DAA520",
    "navigate_num": "#000000",
    "navigate_text": "#333333",
    "running_highlight": "#FF0000",
    "selected_highlight": "#FFD700",
    "sidebar_border": "#EEEEEE",
    "wrapper_background": "#FFFFFF"
   },
   "moveMenuLeft": true,
   "nav_menu": {
    "height": "102px",
    "width": "252px"
   },
   "navigate_menu": true,
   "number_sections": true,
   "sideBar": true,
   "threshold": 4,
   "toc_cell": false,
   "toc_section_display": "block",
   "toc_window_display": false,
   "widenNotebook": false
  }
 },
 "nbformat": 4,
 "nbformat_minor": 2
}
