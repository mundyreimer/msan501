{
 "cells": [
  {
   "cell_type": "markdown",
   "metadata": {},
   "source": [
    "# Manipulating and Visualizing Data\n",
    "\n",
    "We've learned the basics of [Loading files](files.md) and now it's time to reorganize the loaded data into commonly-used data structures from [NumPy](http://www.numpy.org/) and [Pandas](http://pandas.pydata.org/). To motivate the various data structures, we're going to feed them into [matplotlib](https://matplotlib.org/) for visualization. This lecture-lab is then all about steps 2, 3, and 5 from our generic analytics program template:\n",
    "\n",
    "1. Acquire data, which means finding a suitable file or collecting data from the web and storing in a file\n",
    "2. Load data from disk and place into memory **organized into data structures**\n",
    "3. Normalize, clean, or otherwise **prepare data**\n",
    "4. Process the data, which can mean training a machine learning model, computing summary statistics, or optimizing a cost function\n",
    "5. Emit results, which can be anything from simply printing an answer to saving data to the disk to generating a fancy **visualization**\n",
    "\n",
    "You'll learn more about step 4 in the courses on machine learning, timeseries analysis, and so on.\n",
    "\n",
    "TODO: missing values\n",
    "\tdelete row\n",
    "\tinsert value\n",
    "    \n",
    "Let's get started by importing all of the packages we're going to need and setting a few parameters that make this Jupyter notebook look better:"
   ]
  },
  {
   "cell_type": "code",
   "execution_count": 60,
   "metadata": {
    "collapsed": true
   },
   "outputs": [],
   "source": [
    "import pandas\n",
    "import numpy as np\n",
    "import matplotlib.pyplot as plt\n",
    "\n",
    "# jupyter notebook command (ignore)\n",
    "%matplotlib inline\n",
    "\n",
    "pandas.options.display.max_rows = 7 # Don't display too much data (Pandas)\n",
    "np.set_printoptions(threshold=4)    # Don't display too much data (NumPy)"
   ]
  },
  {
   "cell_type": "markdown",
   "metadata": {},
   "source": [
    "## Your new BFFs\n",
    "\n",
    "Analytics programs tend to use lots of one- and two-dimensional arrays. 2D arrays are matrices and tables of data. 1D arrays are vectors, such as points in Euclidean space. A column or row of a table is also a 1D array. Python has lists and lists of lists that would suffice for 1D and 2D arrays, but Pandas and NumPy define similar but more capable data structures.\n",
    "\n",
    "Let's start with Pandas *data frames*, which are powerful tables very much like Excel tables. I also think that Pandas' `read_csv()` is the easiest way to load most kinds of data organized into rows and columns. Here's a sample data file with a list of prices over time, one data point per line and no header row:"
   ]
  },
  {
   "cell_type": "code",
   "execution_count": 61,
   "metadata": {},
   "outputs": [
    {
     "name": "stdout",
     "output_type": "stream",
     "text": [
      "     345     345    2067 data/prices.txt\n",
      "0.605\n",
      "0.600\n",
      "0.594\n",
      "0.592\n",
      "0.600\n",
      "0.616\n",
      "0.623\n",
      "0.628\n",
      "0.630\n",
      "0.629\n"
     ]
    }
   ],
   "source": [
    "! wc data/prices.txt\n",
    "! head data/prices.txt"
   ]
  },
  {
   "cell_type": "markdown",
   "metadata": {},
   "source": [
    "(The `wc` and `head` are bash commands that you might find useful in the future.)\n",
    "\n",
    "Here's how to load that file using Pandas:"
   ]
  },
  {
   "cell_type": "code",
   "execution_count": 62,
   "metadata": {},
   "outputs": [
    {
     "data": {
      "text/html": [
       "<div>\n",
       "<table border=\"1\" class=\"dataframe\">\n",
       "  <thead>\n",
       "    <tr style=\"text-align: right;\">\n",
       "      <th></th>\n",
       "      <th>0</th>\n",
       "    </tr>\n",
       "  </thead>\n",
       "  <tbody>\n",
       "    <tr>\n",
       "      <th>0</th>\n",
       "      <td>0.605</td>\n",
       "    </tr>\n",
       "    <tr>\n",
       "      <th>1</th>\n",
       "      <td>0.600</td>\n",
       "    </tr>\n",
       "    <tr>\n",
       "      <th>2</th>\n",
       "      <td>0.594</td>\n",
       "    </tr>\n",
       "    <tr>\n",
       "      <th>...</th>\n",
       "      <td>...</td>\n",
       "    </tr>\n",
       "    <tr>\n",
       "      <th>342</th>\n",
       "      <td>1.939</td>\n",
       "    </tr>\n",
       "    <tr>\n",
       "      <th>343</th>\n",
       "      <td>1.898</td>\n",
       "    </tr>\n",
       "    <tr>\n",
       "      <th>344</th>\n",
       "      <td>1.891</td>\n",
       "    </tr>\n",
       "  </tbody>\n",
       "</table>\n",
       "<p>345 rows × 1 columns</p>\n",
       "</div>"
      ],
      "text/plain": [
       "         0\n",
       "0    0.605\n",
       "1    0.600\n",
       "2    0.594\n",
       "..     ...\n",
       "342  1.939\n",
       "343  1.898\n",
       "344  1.891\n",
       "\n",
       "[345 rows x 1 columns]"
      ]
     },
     "execution_count": 62,
     "metadata": {},
     "output_type": "execute_result"
    }
   ],
   "source": [
    "prices = pandas.read_csv('data/prices.txt', header=None)\n",
    "prices # jupyter notebooks know how to display this nicely"
   ]
  },
  {
   "cell_type": "markdown",
   "metadata": {},
   "source": [
    "The numbers in the left column are just the index and are displayed by Pandas for your information; they are not stored in memory as part of the data structure. Let's look at the type and shape of this data structure:"
   ]
  },
  {
   "cell_type": "code",
   "execution_count": 63,
   "metadata": {},
   "outputs": [
    {
     "name": "stdout",
     "output_type": "stream",
     "text": [
      "type is <class 'pandas.core.frame.DataFrame'>\n",
      "shape is (345, 1)\n"
     ]
    }
   ],
   "source": [
    "print \"type is\", type(prices)\n",
    "print \"shape is\", prices.shape"
   ]
  },
  {
   "cell_type": "markdown",
   "metadata": {},
   "source": [
    "That output indicates that the data is stored in a `DataFrame` object and there are 344 rows and one column.\n",
    "\n",
    "While Pandas is great for loading the data, and a few other things we'll see below, I prefer working with NumPy arrays; the actual type is called `ndarray`. Let's convert that list of prices from a data frame to a NumPy array:"
   ]
  },
  {
   "cell_type": "code",
   "execution_count": 64,
   "metadata": {},
   "outputs": [
    {
     "name": "stdout",
     "output_type": "stream",
     "text": [
      "type is <type 'numpy.ndarray'>\n",
      "shape is (345, 1)\n",
      "[[ 0.605]\n",
      " [ 0.6  ]\n",
      " [ 0.594]\n",
      " ..., \n",
      " [ 1.939]\n",
      " [ 1.898]\n",
      " [ 1.891]]\n"
     ]
    }
   ],
   "source": [
    "m = prices.as_matrix()     # Convert data frame to numpy array\n",
    "print \"type is\", type(m)\n",
    "print \"shape is\", m.shape\n",
    "print m"
   ]
  },
  {
   "cell_type": "markdown",
   "metadata": {},
   "source": [
    "<img src=\"images/redbang.png\" style=\"width:30px\" align=\"left\">The printed array looks like a list of lists but it is a different data type. Just because two data structures print out in the same way, doesn't mean that they are the same kinds of objects.\n",
    "\n",
    "We can access the 2D NumPy arrays using array index notation *array*`[`*row*, *column*`]`:"
   ]
  },
  {
   "cell_type": "code",
   "execution_count": 65,
   "metadata": {},
   "outputs": [
    {
     "name": "stdout",
     "output_type": "stream",
     "text": [
      "[ 0.605]\n",
      "0.605\n",
      "[ 0.6]\n",
      "0.6\n"
     ]
    }
   ],
   "source": [
    "print m[0]        # Access the first row\n",
    "print m[0,0]      # Access the first column of the first row\n",
    "print m[1]        # Access the 2nd row\n",
    "print m[1,0]      # Access the first column of the 2nd row"
   ]
  },
  {
   "cell_type": "markdown",
   "metadata": {},
   "source": [
    "That is a little weird though. We think of that as a 1D array or just a list, not a 2D array with a single column (shape is 345 x 1). To get NumPy to treat that as 1D, we use the `shape` attribute of the array:"
   ]
  },
  {
   "cell_type": "code",
   "execution_count": 66,
   "metadata": {},
   "outputs": [
    {
     "data": {
      "text/plain": [
       "array([ 0.605,  0.6  ,  0.594, ...,  1.939,  1.898,  1.891])"
      ]
     },
     "execution_count": 66,
     "metadata": {},
     "output_type": "execute_result"
    }
   ],
   "source": [
    "m.shape = (345,)   # len(m)==345\n",
    "m"
   ]
  },
  {
   "cell_type": "markdown",
   "metadata": {},
   "source": [
    "Now, we can access the elements using a single index as we would expect:"
   ]
  },
  {
   "cell_type": "code",
   "execution_count": 67,
   "metadata": {},
   "outputs": [
    {
     "name": "stdout",
     "output_type": "stream",
     "text": [
      "0.605\n",
      "0.6\n",
      "0.594\n"
     ]
    }
   ],
   "source": [
    "print m[0]\n",
    "print m[1]\n",
    "print m[2]"
   ]
  },
  {
   "cell_type": "markdown",
   "metadata": {},
   "source": [
    "A shape with an empty second parameter indicates a 1D array, which is how NumPy converts a regular Python list to an array:"
   ]
  },
  {
   "cell_type": "code",
   "execution_count": 68,
   "metadata": {},
   "outputs": [
    {
     "name": "stdout",
     "output_type": "stream",
     "text": [
      "shape is (8,)\n"
     ]
    },
    {
     "data": {
      "text/plain": [
       "array([28, 32, 34, ..., 39, 40, 41])"
      ]
     },
     "execution_count": 68,
     "metadata": {},
     "output_type": "execute_result"
    }
   ],
   "source": [
    "sizes = [28, 32, 34, 36, 38, 39, 40, 41] # Plain old Python list\n",
    "a = np.array(sizes)                      # Convert to NumPy array\n",
    "print \"shape is\", a.shape\n",
    "a"
   ]
  },
  {
   "cell_type": "markdown",
   "metadata": {},
   "source": [
    "While we're at it, here's how to convert a list of lists to a 2D NumPy array:"
   ]
  },
  {
   "cell_type": "code",
   "execution_count": 69,
   "metadata": {},
   "outputs": [
    {
     "name": "stdout",
     "output_type": "stream",
     "text": [
      "shape is (3, 4)\n"
     ]
    },
    {
     "data": {
      "text/plain": [
       "array([[  18,    8,  307, 3504],\n",
       "       [  15,    8,  350, 3693],\n",
       "       [  18,    8,  318, 3436]])"
      ]
     },
     "execution_count": 69,
     "metadata": {},
     "output_type": "execute_result"
    }
   ],
   "source": [
    "stuff = [\n",
    "    [ 18, 8, 307, 3504],\n",
    "    [ 15, 8, 350, 3693],\n",
    "    [ 18, 8, 318, 3436]\n",
    "]\n",
    "m = np.array(stuff)\n",
    "print \"shape is\", m.shape\n",
    "m"
   ]
  },
  {
   "cell_type": "markdown",
   "metadata": {},
   "source": [
    "Now multiple indices make sense. For example, to access the element containing value 3436, we'd use `m[2,3]` (3rd row, 4th column)."
   ]
  },
  {
   "cell_type": "markdown",
   "metadata": {},
   "source": [
    "## Types matter\n",
    "\n",
    "*TODO*: show `x+y` could be string, int, float, list, or numpy array. overloaded operators. e.g., x*y could be a string if x is string and y is int\n",
    "\n"
   ]
  },
  {
   "cell_type": "code",
   "execution_count": 70,
   "metadata": {},
   "outputs": [
    {
     "name": "stdout",
     "output_type": "stream",
     "text": [
      "0.237946174816\n",
      "[ 0.25751416 -0.33333333]\n",
      "[0.25751416197912252, -0.33333333333333331]\n"
     ]
    }
   ],
   "source": [
    "import numpy as np\n",
    "def f(x):\n",
    "    \"Scalar or vector math!\"\n",
    "    return np.cos(3 * np.pi * x) / x\n",
    "\n",
    "print f(3.4)\n",
    "X = np.array([1.2,3.0]) # a numpy array is more flexible than list of numbers\n",
    "print f(X)              # returns array due to vector math in f()!\n",
    "print [f(x) for x in X] # manually apply f() to X"
   ]
  },
  {
   "cell_type": "markdown",
   "metadata": {},
   "source": [
    "## Plotting Time Series Data"
   ]
  },
  {
   "cell_type": "markdown",
   "metadata": {},
   "source": [
    "Our list of prices is representative of timeseries data, such as stock price, temperature, or population fluctuations. Matplotlib is a great library for visualizing data and in this section we're going to use it to display the prices as a timeseries using `plot()`. That function takes the X and Y coordinates as separate arrays.\n",
    "\n",
    "I find Matplotlib kind of mysterious, but I have learned patterns that I use over and over again, such as this timeseries plot."
   ]
  },
  {
   "cell_type": "code",
   "execution_count": 71,
   "metadata": {},
   "outputs": [
    {
     "data": {
      "image/png": "[encoded data removed]",
      "text/plain": [
       "<matplotlib.figure.Figure at 0x112a0e150>"
      ]
     },
     "metadata": {},
     "output_type": "display_data"
    }
   ],
   "source": [
    "m = prices.as_matrix()           # Let's convert pandas data frame to numpy array\n",
    "time = np.arange(0, len(m), 1)   # Time axis goes from 0 to len(m) by 1\n",
    "#plt.figure(figsize=(5, 2))       # Prepare a plot 5x2 inches\n",
    "plt.plot(time, m)                # Plot time vs the prices data\n",
    "plt.xlabel(\"Time\")               # Always set the axes labels\n",
    "plt.ylabel(\"Price (dollars)\")\n",
    "plt.show()                       # Show the actual plot"
   ]
  },
  {
   "cell_type": "markdown",
   "metadata": {},
   "source": [
    "**Plotting functions**\n",
    "\n",
    "Sometimes we have a smooth function such as a cosine that we'd like to plot.  To do that, we need to sample the function at regular intervals to collect a list of Y coordinates (like prices from before).  Let's start by defining the function that maps X coordinates to Y values and then get a sample of X values at regular intervals between 0.1 and 1.1, stepping by 0.01:"
   ]
  },
  {
   "cell_type": "code",
   "execution_count": 72,
   "metadata": {
    "collapsed": true
   },
   "outputs": [],
   "source": [
    "def f(x):\n",
    "    return np.cos(3 * np.pi * x) / x\n",
    "\n",
    "X = np.arange(.1, 1.1, 0.01) # from .1 to 1.1 by step 0.01 "
   ]
  },
  {
   "cell_type": "markdown",
   "metadata": {},
   "source": [
    "There are three ways to sample the function `f()` at the coordinates contained in X, which I've delineated here. All of these 3 methods employ our Map pattern:"
   ]
  },
  {
   "cell_type": "code",
   "execution_count": 73,
   "metadata": {},
   "outputs": [
    {
     "name": "stdout",
     "output_type": "stream",
     "text": [
      "[ 0.1   0.11  0.12 ...,  1.07  1.08  1.09]\n",
      "[ 5.87785252  4.62764923  3.54816076 ..., -0.73846263 -0.67497095\n",
      " -0.60670813]\n"
     ]
    }
   ],
   "source": [
    "# Get f(x) values for all x in three different ways\n",
    "# Option 1: (non-Pythonic)\n",
    "Y = [] \n",
    "for x in X:\n",
    "    Y.append(f(x))\n",
    "\n",
    "# Option 2: Pythonic way (cool kids do this)\n",
    "Y = [f(x) for x in X]\n",
    "\n",
    "# Option 3: Data science way (the most popular kids do this)\n",
    "Y = f(X)  # a so-called broadcast; implied map\n",
    "\n",
    "print X\n",
    "print Y"
   ]
  },
  {
   "cell_type": "markdown",
   "metadata": {},
   "source": [
    "Given X and Y coordinates, we can plot the function:"
   ]
  },
  {
   "cell_type": "code",
   "execution_count": 74,
   "metadata": {},
   "outputs": [
    {
     "data": {
      "image/png": "[encoded data removed]",
      "text/plain": [
       "<matplotlib.figure.Figure at 0x1127eff90>"
      ]
     },
     "metadata": {},
     "output_type": "display_data"
    }
   ],
   "source": [
    "plt.figure(figsize=(5, 2))\n",
    "\n",
    "plt.plot(X, Y)\n",
    "plt.xlabel(\"x\")\n",
    "plt.ylabel(\"cos(3 * pi * x) / x\")\n",
    "plt.show()"
   ]
  },
  {
   "cell_type": "markdown",
   "metadata": {},
   "source": [
    "##  Visualizing the relationship between variables\n",
    "\n",
    "Let's move beyond one dimensional arrays now to 2D arrays and plot one column versus another.  Here is some sample car data (with a header row) with columns for miles per gallon, number of cylinders, engine horsepower, and weight in pounds:"
   ]
  },
  {
   "cell_type": "code",
   "execution_count": 75,
   "metadata": {},
   "outputs": [
    {
     "name": "stdout",
     "output_type": "stream",
     "text": [
      "MPG,CYL,ENG,WGT\n",
      "18,8,307,3504\n",
      "15,8,350,3693\n",
      "18,8,318,3436\n",
      "16,8,304,3433\n",
      "17,8,302,3449\n",
      "15,8,429,4341\n",
      "14,8,454,4354\n",
      "14,8,440,4312\n",
      "14,8,455,4425\n"
     ]
    }
   ],
   "source": [
    "! head data/cars.csv"
   ]
  },
  {
   "cell_type": "markdown",
   "metadata": {},
   "source": [
    "We can use Pandas again to load the data into a data frame and then convert to a NumPy 2D array (a matrix):"
   ]
  },
  {
   "cell_type": "code",
   "execution_count": 76,
   "metadata": {},
   "outputs": [
    {
     "name": "stdout",
     "output_type": "stream",
     "text": [
      "shape is (392, 4)\n"
     ]
    },
    {
     "data": {
      "text/html": [
       "<div>\n",
       "<table border=\"1\" class=\"dataframe\">\n",
       "  <thead>\n",
       "    <tr style=\"text-align: right;\">\n",
       "      <th></th>\n",
       "      <th>MPG</th>\n",
       "      <th>CYL</th>\n",
       "      <th>ENG</th>\n",
       "      <th>WGT</th>\n",
       "    </tr>\n",
       "  </thead>\n",
       "  <tbody>\n",
       "    <tr>\n",
       "      <th>0</th>\n",
       "      <td>18.0</td>\n",
       "      <td>8</td>\n",
       "      <td>307.0</td>\n",
       "      <td>3504</td>\n",
       "    </tr>\n",
       "    <tr>\n",
       "      <th>1</th>\n",
       "      <td>15.0</td>\n",
       "      <td>8</td>\n",
       "      <td>350.0</td>\n",
       "      <td>3693</td>\n",
       "    </tr>\n",
       "    <tr>\n",
       "      <th>2</th>\n",
       "      <td>18.0</td>\n",
       "      <td>8</td>\n",
       "      <td>318.0</td>\n",
       "      <td>3436</td>\n",
       "    </tr>\n",
       "    <tr>\n",
       "      <th>...</th>\n",
       "      <td>...</td>\n",
       "      <td>...</td>\n",
       "      <td>...</td>\n",
       "      <td>...</td>\n",
       "    </tr>\n",
       "    <tr>\n",
       "      <th>389</th>\n",
       "      <td>32.0</td>\n",
       "      <td>4</td>\n",
       "      <td>135.0</td>\n",
       "      <td>2295</td>\n",
       "    </tr>\n",
       "    <tr>\n",
       "      <th>390</th>\n",
       "      <td>28.0</td>\n",
       "      <td>4</td>\n",
       "      <td>120.0</td>\n",
       "      <td>2625</td>\n",
       "    </tr>\n",
       "    <tr>\n",
       "      <th>391</th>\n",
       "      <td>31.0</td>\n",
       "      <td>4</td>\n",
       "      <td>119.0</td>\n",
       "      <td>2720</td>\n",
       "    </tr>\n",
       "  </tbody>\n",
       "</table>\n",
       "<p>392 rows × 4 columns</p>\n",
       "</div>"
      ],
      "text/plain": [
       "      MPG  CYL    ENG   WGT\n",
       "0    18.0    8  307.0  3504\n",
       "1    15.0    8  350.0  3693\n",
       "2    18.0    8  318.0  3436\n",
       "..    ...  ...    ...   ...\n",
       "389  32.0    4  135.0  2295\n",
       "390  28.0    4  120.0  2625\n",
       "391  31.0    4  119.0  2720\n",
       "\n",
       "[392 rows x 4 columns]"
      ]
     },
     "execution_count": 76,
     "metadata": {},
     "output_type": "execute_result"
    }
   ],
   "source": [
    "cars = pandas.read_csv('data/cars.csv')\n",
    "print \"shape is\", cars.shape\n",
    "cars"
   ]
  },
  {
   "cell_type": "code",
   "execution_count": 77,
   "metadata": {},
   "outputs": [
    {
     "name": "stdout",
     "output_type": "stream",
     "text": [
      "shape is (392, 4)\n"
     ]
    },
    {
     "data": {
      "text/plain": [
       "array([[   18.,     8.,   307.,  3504.],\n",
       "       [   15.,     8.,   350.,  3693.],\n",
       "       [   18.,     8.,   318.,  3436.],\n",
       "       ..., \n",
       "       [   32.,     4.,   135.,  2295.],\n",
       "       [   28.,     4.,   120.,  2625.],\n",
       "       [   31.,     4.,   119.,  2720.]])"
      ]
     },
     "execution_count": 77,
     "metadata": {},
     "output_type": "execute_result"
    }
   ],
   "source": [
    "m = cars.as_matrix()\n",
    "print \"shape is\", m.shape\n",
    "m"
   ]
  },
  {
   "cell_type": "markdown",
   "metadata": {},
   "source": [
    "Let's say we're interested in the relationship between the weight of the car and the fuel efficiency. We can examine that relationship visually by plotting weight against efficiency using a scatterplot. \n",
    "\n",
    "This brings us to the question of how to extract columns from numpy arrays, where each column represents the data associated with one attribute of all cars. The idea is to fix the column number but use a *wildcard* (the colon character) to indicate we want all rows:"
   ]
  },
  {
   "cell_type": "code",
   "execution_count": 78,
   "metadata": {},
   "outputs": [
    {
     "name": "stdout",
     "output_type": "stream",
     "text": [
      "0      18.0\n",
      "1      15.0\n",
      "2      18.0\n",
      "       ... \n",
      "389    32.0\n",
      "390    28.0\n",
      "391    31.0\n",
      "Name: MPG, dtype: float64\n",
      "0      18.0\n",
      "1      15.0\n",
      "2      18.0\n",
      "       ... \n",
      "389    32.0\n",
      "390    28.0\n",
      "391    31.0\n",
      "Name: MPG, dtype: float64\n",
      "shape is (392,)\n"
     ]
    },
    {
     "data": {
      "text/plain": [
       "array([ 18.,  15.,  18., ...,  32.,  28.,  31.])"
      ]
     },
     "execution_count": 78,
     "metadata": {},
     "output_type": "execute_result"
    }
   ],
   "source": [
    "# can do this:\n",
    "print cars.MPG\n",
    "print cars['MPG']\n",
    "\n",
    "# but I like as numpy matrix\n",
    "mpg = m[:,0]\n",
    "wgt = m[:,3]\n",
    "print \"shape is\", mpg.shape\n",
    "mpg"
   ]
  },
  {
   "cell_type": "markdown",
   "metadata": {},
   "source": [
    "Once we have the two columns, we can use matplotlib's `scatter()` function:"
   ]
  },
  {
   "cell_type": "code",
   "execution_count": 79,
   "metadata": {},
   "outputs": [
    {
     "data": {
      "image/png": "[encoded data removed]",
      "text/plain": [
       "<matplotlib.figure.Figure at 0x1127d6350>"
      ]
     },
     "metadata": {},
     "output_type": "display_data"
    }
   ],
   "source": [
    "plt.figure(figsize=(5, 2))\n",
    "plt.scatter(wgt, mpg, alpha=0.5) # looks cooler with alpha (opacity) at 50%\n",
    "plt.xlabel('Weight (pounds)')\n",
    "plt.ylabel('Miles per gallon')\n",
    "plt.show()"
   ]
  },
  {
   "cell_type": "markdown",
   "metadata": {},
   "source": [
    "Great! This shows a clear relationship between weight and efficiency: the heavier the car, the lower the efficiency.\n",
    "\n",
    "It would also be interesting to know how the number of engine cylinders is related to weight and efficiency. We could go to a three-dimensional graph or even multiple graphs, but it's better to add another attribute to a single graph in this case. We could change the color according to the number of cylinders, but a better visualization would change the size of the plotted point.\n",
    "\n",
    "We can pull out the number of cylinders with `m[:,1]` like we did before, but we need to plot each point individually now because we have to specify different sizes. That means we need a loop around `scatter()` to pass individual X and Y coordinates rather than a list. The `s` parameter to `scatter()` is actually proportional to the area of the circle we want (see [pyplot scatter plot marker size](https://stackoverflow.com/questions/14827650/pyplot-scatter-plot-marker-size)). To accentuate the difference between engine size, I scale by .7. Here is the code to illustrate the relationship between three variables:\n"
   ]
  },
  {
   "cell_type": "code",
   "execution_count": 80,
   "metadata": {},
   "outputs": [
    {
     "data": {
      "image/png": "[encoded data removed]",
      "text/plain": [
       "<matplotlib.figure.Figure at 0x11233ba50>"
      ]
     },
     "metadata": {},
     "output_type": "display_data"
    }
   ],
   "source": [
    "plt.figure(figsize=(5, 2))\n",
    "hp = m[:,2]\n",
    "plt.scatter(wgt, mpg, s=hp*.5, alpha=0.1)\n",
    "plt.xlabel('Weight (pounds)')\n",
    "plt.ylabel('Miles per gallon')\n",
    "plt.show()"
   ]
  },
  {
   "cell_type": "markdown",
   "metadata": {},
   "source": [
    "When exploring data, it's often useful to know the unique set of values. For example, if would like to know the set of number of cylinders, we can use `set(`*mylist*`)`:"
   ]
  },
  {
   "cell_type": "code",
   "execution_count": 81,
   "metadata": {},
   "outputs": [
    {
     "name": "stdout",
     "output_type": "stream",
     "text": [
      "set([8.0, 3.0, 4.0, 5.0, 6.0])\n"
     ]
    }
   ],
   "source": [
    "m = cars.as_matrix()\n",
    "cyl = m[:,1]\n",
    "print set(cyl)"
   ]
  },
  {
   "cell_type": "markdown",
   "metadata": {},
   "source": [
    "Interesting. I did not know there were cars with 3 cylinders.\n",
    "\n",
    "**Exercise**: Convert `cyl` to a set of integers (not floating-point values) using a map pattern. Hint: `int(3.0)` gives 3."
   ]
  },
  {
   "cell_type": "markdown",
   "metadata": {},
   "source": [
    "## Histograms\n",
    "\n",
    "Instead of just a unique set of attribute values, we can count how many of each unique value appear in a data set. Python's `Counter` object, a kind of `dict`, knows how to count the elements. For example, here is how we'd get a dictionary-like object mapping number of cylinders to number of cars with that many cylinders:"
   ]
  },
  {
   "cell_type": "code",
   "execution_count": 82,
   "metadata": {},
   "outputs": [
    {
     "data": {
      "text/plain": [
       "Counter({3.0: 4, 4.0: 199, 5.0: 3, 6.0: 83, 8.0: 103})"
      ]
     },
     "execution_count": 82,
     "metadata": {},
     "output_type": "execute_result"
    }
   ],
   "source": [
    "from collections import Counter\n",
    "m = cars.as_matrix()\n",
    "cyl = m[:,1]\n",
    "Counter(cyl)"
   ]
  },
  {
   "cell_type": "markdown",
   "metadata": {},
   "source": [
    "That works great for categorical variables, which the number of cylinders kind of is, but `Counter` is not as appropriate for numerical values. Besides, looking at the cylinder counts, it's hard to quickly understand the relative populations. Visualizing the data with a *histogram* is a much better idea and works for numerical values too. Here is the code to make a histogram of the cylinder attribute:"
   ]
  },
  {
   "cell_type": "code",
   "execution_count": 83,
   "metadata": {},
   "outputs": [
    {
     "data": {
      "image/png": "[encoded data removed]",
      "text/plain": [
       "<matplotlib.figure.Figure at 0x112716610>"
      ]
     },
     "metadata": {},
     "output_type": "display_data"
    }
   ],
   "source": [
    "plt.figure(figsize=(5, 2))\n",
    "plt.hist(cyl, alpha=0.5)\n",
    "plt.xlabel('Number of cylinders')\n",
    "plt.ylabel('Number of cars')\n",
    "plt.show()"
   ]
  },
  {
   "cell_type": "markdown",
   "metadata": {},
   "source": [
    "The same pattern gives us a histogram for numerical data as well:"
   ]
  },
  {
   "cell_type": "code",
   "execution_count": 84,
   "metadata": {},
   "outputs": [
    {
     "data": {
      "image/png": "[encoded data removed]",
      "text/plain": [
       "<matplotlib.figure.Figure at 0x1127d9210>"
      ]
     },
     "metadata": {},
     "output_type": "display_data"
    }
   ],
   "source": [
    "m = cars.as_matrix()\n",
    "hp = m[:,2]\n",
    "plt.figure(figsize=(5, 2))\n",
    "plt.hist(hp, alpha=0.5)\n",
    "plt.xlabel('Horsepower')\n",
    "plt.ylabel('Number of cars')\n",
    "plt.show()"
   ]
  },
  {
   "cell_type": "markdown",
   "metadata": {},
   "source": [
    "A histogram is really a chunky estimate of a variable's density function and so it's often useful to normalize the histogram so that the area integrates (sums) to 1. To get a normalized histogram, use argument `normed=True`:"
   ]
  },
  {
   "cell_type": "code",
   "execution_count": 85,
   "metadata": {},
   "outputs": [
    {
     "data": {
      "image/png": "[encoded data removed]",
      "text/plain": [
       "<matplotlib.figure.Figure at 0x113244710>"
      ]
     },
     "metadata": {},
     "output_type": "display_data"
    }
   ],
   "source": [
    "plt.figure(figsize=(5, 2))\n",
    "n, bins, patches = plt.hist(hp, normed=True, alpha=0.5)\n",
    "plt.xlabel('Horsepower')\n",
    "plt.ylabel('Probability')\n",
    "plt.show()"
   ]
  },
  {
   "cell_type": "markdown",
   "metadata": {},
   "source": [
    "Note that it is not the sum of the heights of the bins that equals 1; it is the height * binwidth summed that equals 1. "
   ]
  },
  {
   "cell_type": "markdown",
   "metadata": {},
   "source": [
    "## Slicing and dicing\n",
    "\n",
    "So far, all of the data we've loaded has been numerical but it's very common to load categorical or textual variables in the form of strings. Pandas data frames are very useful in this case. Let's load some sample sales data that has three string columns:"
   ]
  },
  {
   "cell_type": "code",
   "execution_count": 86,
   "metadata": {},
   "outputs": [
    {
     "data": {
      "text/html": [
       "<div>\n",
       "<table border=\"1\" class=\"dataframe\">\n",
       "  <thead>\n",
       "    <tr style=\"text-align: right;\">\n",
       "      <th></th>\n",
       "      <th>Date</th>\n",
       "      <th>Quantity</th>\n",
       "      <th>Unit Price</th>\n",
       "      <th>Shipping</th>\n",
       "      <th>Customer Name</th>\n",
       "      <th>Product Category</th>\n",
       "      <th>Product Name</th>\n",
       "    </tr>\n",
       "  </thead>\n",
       "  <tbody>\n",
       "    <tr>\n",
       "      <th>0</th>\n",
       "      <td>10/13/10</td>\n",
       "      <td>6</td>\n",
       "      <td>38.94</td>\n",
       "      <td>35.00</td>\n",
       "      <td>Muhammed MacIntyre</td>\n",
       "      <td>Office Supplies</td>\n",
       "      <td>Eldon Base for stackable storage shelf, platinum</td>\n",
       "    </tr>\n",
       "    <tr>\n",
       "      <th>1</th>\n",
       "      <td>10/1/12</td>\n",
       "      <td>49</td>\n",
       "      <td>208.16</td>\n",
       "      <td>68.02</td>\n",
       "      <td>Barry French</td>\n",
       "      <td>Office Supplies</td>\n",
       "      <td>1.7 Cubic Foot Compact \"Cube\" Office Refrigera...</td>\n",
       "    </tr>\n",
       "    <tr>\n",
       "      <th>2</th>\n",
       "      <td>10/1/12</td>\n",
       "      <td>27</td>\n",
       "      <td>8.69</td>\n",
       "      <td>2.99</td>\n",
       "      <td>Barry French</td>\n",
       "      <td>Office Supplies</td>\n",
       "      <td>Cardinal Slant-D� Ring Binder, Heavy Gauge Vinyl</td>\n",
       "    </tr>\n",
       "    <tr>\n",
       "      <th>...</th>\n",
       "      <td>...</td>\n",
       "      <td>...</td>\n",
       "      <td>...</td>\n",
       "      <td>...</td>\n",
       "      <td>...</td>\n",
       "      <td>...</td>\n",
       "      <td>...</td>\n",
       "    </tr>\n",
       "    <tr>\n",
       "      <th>28</th>\n",
       "      <td>11/8/10</td>\n",
       "      <td>28</td>\n",
       "      <td>13.48</td>\n",
       "      <td>4.51</td>\n",
       "      <td>Carlos Soltero</td>\n",
       "      <td>Office Supplies</td>\n",
       "      <td>Tenex Personal Project File with Scoop Front D...</td>\n",
       "    </tr>\n",
       "    <tr>\n",
       "      <th>29</th>\n",
       "      <td>10/21/12</td>\n",
       "      <td>49</td>\n",
       "      <td>6.08</td>\n",
       "      <td>1.17</td>\n",
       "      <td>Grant Carroll</td>\n",
       "      <td>Office Supplies</td>\n",
       "      <td>Col-Erase� Pencils with Erasers</td>\n",
       "    </tr>\n",
       "    <tr>\n",
       "      <th>30</th>\n",
       "      <td>1/1/11</td>\n",
       "      <td>10</td>\n",
       "      <td>5.98</td>\n",
       "      <td>4.38</td>\n",
       "      <td>Don Miller</td>\n",
       "      <td>Technology</td>\n",
       "      <td>Imation 3.5\" DS/HD IBM Formatted Diskettes, 10...</td>\n",
       "    </tr>\n",
       "  </tbody>\n",
       "</table>\n",
       "<p>31 rows × 7 columns</p>\n",
       "</div>"
      ],
      "text/plain": [
       "        Date  Quantity  Unit Price  Shipping       Customer Name  \\\n",
       "0   10/13/10         6       38.94     35.00  Muhammed MacIntyre   \n",
       "1    10/1/12        49      208.16     68.02        Barry French   \n",
       "2    10/1/12        27        8.69      2.99        Barry French   \n",
       "..       ...       ...         ...       ...                 ...   \n",
       "28   11/8/10        28       13.48      4.51      Carlos Soltero   \n",
       "29  10/21/12        49        6.08      1.17       Grant Carroll   \n",
       "30    1/1/11        10        5.98      4.38          Don Miller   \n",
       "\n",
       "   Product Category                                       Product Name  \n",
       "0   Office Supplies   Eldon Base for stackable storage shelf, platinum  \n",
       "1   Office Supplies  1.7 Cubic Foot Compact \"Cube\" Office Refrigera...  \n",
       "2   Office Supplies   Cardinal Slant-D� Ring Binder, Heavy Gauge Vinyl  \n",
       "..              ...                                                ...  \n",
       "28  Office Supplies  Tenex Personal Project File with Scoop Front D...  \n",
       "29  Office Supplies                    Col-Erase� Pencils with Erasers  \n",
       "30       Technology  Imation 3.5\" DS/HD IBM Formatted Diskettes, 10...  \n",
       "\n",
       "[31 rows x 7 columns]"
      ]
     },
     "execution_count": 86,
     "metadata": {},
     "output_type": "execute_result"
    }
   ],
   "source": [
    "sales = pandas.read_csv('data/sales-small.csv')\n",
    "sales"
   ]
  },
  {
   "cell_type": "markdown",
   "metadata": {},
   "source": [
    "The nice thing about the data frames is that we can access the columns by name, using either *table*`.`*attribute* or array indexing notation *table*`[` *attribute* `]`:"
   ]
  },
  {
   "cell_type": "code",
   "execution_count": 87,
   "metadata": {},
   "outputs": [
    {
     "data": {
      "text/plain": [
       "0     10/13/10\n",
       "1      10/1/12\n",
       "2      10/1/12\n",
       "        ...   \n",
       "28     11/8/10\n",
       "29    10/21/12\n",
       "30      1/1/11\n",
       "Name: Date, dtype: object"
      ]
     },
     "execution_count": 87,
     "metadata": {},
     "output_type": "execute_result"
    }
   ],
   "source": [
    "sales.Date"
   ]
  },
  {
   "cell_type": "code",
   "execution_count": 88,
   "metadata": {},
   "outputs": [
    {
     "data": {
      "text/plain": [
       "0     10/13/10\n",
       "1      10/1/12\n",
       "2      10/1/12\n",
       "        ...   \n",
       "28     11/8/10\n",
       "29    10/21/12\n",
       "30      1/1/11\n",
       "Name: Date, dtype: object"
      ]
     },
     "execution_count": 88,
     "metadata": {},
     "output_type": "execute_result"
    }
   ],
   "source": [
    "sales['Date']"
   ]
  },
  {
   "cell_type": "code",
   "execution_count": 89,
   "metadata": {},
   "outputs": [
    {
     "data": {
      "text/plain": [
       "0     Muhammed MacIntyre\n",
       "1           Barry French\n",
       "2           Barry French\n",
       "             ...        \n",
       "28        Carlos Soltero\n",
       "29         Grant Carroll\n",
       "30            Don Miller\n",
       "Name: Customer Name, dtype: object"
      ]
     },
     "execution_count": 89,
     "metadata": {},
     "output_type": "execute_result"
    }
   ],
   "source": [
    "sales['Customer Name']"
   ]
  },
  {
   "cell_type": "markdown",
   "metadata": {},
   "source": [
    "Accessing rows via `sales[0]` then doesn't work because Pandas wants to use array indexing notation for getting columns. Instead, we have to use slightly more awkward notation:"
   ]
  },
  {
   "cell_type": "code",
   "execution_count": 90,
   "metadata": {},
   "outputs": [
    {
     "data": {
      "text/plain": [
       "Date                                                        10/13/10\n",
       "Quantity                                                           6\n",
       "Unit Price                                                     38.94\n",
       "Shipping                                                          35\n",
       "Customer Name                                     Muhammed MacIntyre\n",
       "Product Category                                     Office Supplies\n",
       "Product Name        Eldon Base for stackable storage shelf, platinum\n",
       "Name: 0, dtype: object"
      ]
     },
     "execution_count": 90,
     "metadata": {},
     "output_type": "execute_result"
    }
   ],
   "source": [
    "sales.iloc[0]  # get first row of data"
   ]
  },
  {
   "cell_type": "markdown",
   "metadata": {},
   "source": [
    "To get individual elements, we can use regular list of lists Python notation after the `loc`:"
   ]
  },
  {
   "cell_type": "code",
   "execution_count": 91,
   "metadata": {},
   "outputs": [
    {
     "name": "stdout",
     "output_type": "stream",
     "text": [
      "10/13/10 6 38.94\n"
     ]
    }
   ],
   "source": [
    "print sales.iloc[0][0], sales.iloc[0][1], sales.iloc[0][2]"
   ]
  },
  {
   "cell_type": "markdown",
   "metadata": {},
   "source": [
    "During construction and debugging of software, I often like the explicit printing of the column names as is the default shown above. On the other hand, if we need the elements as a plain old Python list, we can do that with `list()`:"
   ]
  },
  {
   "cell_type": "code",
   "execution_count": 92,
   "metadata": {},
   "outputs": [
    {
     "name": "stdout",
     "output_type": "stream",
     "text": [
      "['10/13/10', 6, 38.939999999999998, 35.0, 'Muhammed MacIntyre', 'Office Supplies', 'Eldon Base for stackable storage shelf, platinum']\n"
     ]
    }
   ],
   "source": [
    "row = list(sales.iloc[0])\n",
    "print row"
   ]
  },
  {
   "cell_type": "markdown",
   "metadata": {},
   "source": [
    "**Exercise**: Convert all rows of `sales` to a list of lists. Hint: use the map pattern and `list()`."
   ]
  },
  {
   "cell_type": "markdown",
   "metadata": {},
   "source": [
    "The task of that exercise is common enough that Pandas provides a conversion mechanism directly:"
   ]
  },
  {
   "cell_type": "code",
   "execution_count": 93,
   "metadata": {},
   "outputs": [
    {
     "name": "stdout",
     "output_type": "stream",
     "text": [
      "Type is <type 'numpy.ndarray'>\n",
      "['10/13/10' 6 38.94 ..., 'Muhammed MacIntyre' 'Office Supplies'\n",
      " 'Eldon Base for stackable storage shelf, platinum']\n"
     ]
    }
   ],
   "source": [
    "m = sales.as_matrix()\n",
    "print \"Type is\", type(m)\n",
    "print m[0] # get first row"
   ]
  },
  {
   "cell_type": "markdown",
   "metadata": {},
   "source": [
    "We can still get the columns individually using the wildcard notation we saw before:"
   ]
  },
  {
   "cell_type": "code",
   "execution_count": 94,
   "metadata": {},
   "outputs": [
    {
     "data": {
      "text/plain": [
       "array(['10/13/10', '10/1/12', '10/1/12', ..., '11/8/10', '10/21/12',\n",
       "       '1/1/11'], dtype=object)"
      ]
     },
     "execution_count": 94,
     "metadata": {},
     "output_type": "execute_result"
    }
   ],
   "source": [
    "m[:,0] # get first column"
   ]
  },
  {
   "cell_type": "code",
   "execution_count": 95,
   "metadata": {},
   "outputs": [
    {
     "data": {
      "text/plain": [
       "array(['Muhammed MacIntyre', 'Barry French', 'Barry French', ...,\n",
       "       'Carlos Soltero', 'Grant Carroll', 'Don Miller'], dtype=object)"
      ]
     },
     "execution_count": 95,
     "metadata": {},
     "output_type": "execute_result"
    }
   ],
   "source": [
    "m[:,4] # get fifth column"
   ]
  },
  {
   "cell_type": "markdown",
   "metadata": {},
   "source": [
    "### Pulling data frames apart\n",
    "\n",
    "For machine learning, we often want to separate out one of the columns as the dependent variable, keeping the others as a group of independent variables.  Notation we typically use is X -> Y, meaning the set of observations in X predict or classify results in Y. \n",
    "\n",
    "For example, let's say we wanted to predict engine size given the efficiency, number of cylinders, and overall car weight. We need to separate out the engine size as Y and combining the other columns into X. Using Pandas, we can easily separate the variables and keep the variables names:"
   ]
  },
  {
   "cell_type": "code",
   "execution_count": 96,
   "metadata": {},
   "outputs": [
    {
     "name": "stdout",
     "output_type": "stream",
     "text": [
      "      MPG  CYL   WGT\n",
      "0    18.0    8  3504\n",
      "1    15.0    8  3693\n",
      "2    18.0    8  3436\n",
      "..    ...  ...   ...\n",
      "389  32.0    4  2295\n",
      "390  28.0    4  2625\n",
      "391  31.0    4  2720\n",
      "\n",
      "[392 rows x 3 columns]\n",
      "\n",
      "0      307.0\n",
      "1      350.0\n",
      "2      318.0\n",
      "       ...  \n",
      "389    135.0\n",
      "390    120.0\n",
      "391    119.0\n",
      "Name: ENG, dtype: float64\n"
     ]
    }
   ],
   "source": [
    "cars = pandas.read_csv('data/cars.csv')\n",
    "Y = cars['ENG']\n",
    "X = cars[['MPG','CYL','WGT']]\n",
    "print X\n",
    "print\n",
    "print Y"
   ]
  },
  {
   "cell_type": "markdown",
   "metadata": {},
   "source": [
    "Converting to a NumPy array strips away the column names but let us treat it as a matrix, which is handy in a lot of cases (e.g., matrix addition). Separating columns from NumPy arrays is a bit more cumbersome, However:"
   ]
  },
  {
   "cell_type": "code",
   "execution_count": 97,
   "metadata": {},
   "outputs": [
    {
     "name": "stdout",
     "output_type": "stream",
     "text": [
      "[[   18.     8.  3504.]\n",
      " [   15.     8.  3693.]\n",
      " [   18.     8.  3436.]\n",
      " ..., \n",
      " [   32.     4.  2295.]\n",
      " [   28.     4.  2625.]\n",
      " [   31.     4.  2720.]]\n",
      "\n",
      "[ 307.  350.  318. ...,  135.  120.  119.]\n"
     ]
    }
   ],
   "source": [
    "m = cars.as_matrix()\n",
    "Y = m[:,2]\n",
    "X = np.column_stack((m[:,0],m[:,1], m[:,3])) # note extra parens; it's a tuple of columns\n",
    "print X\n",
    "print\n",
    "print Y"
   ]
  },
  {
   "cell_type": "markdown",
   "metadata": {},
   "source": [
    "While NumPy arrays are more cumbersome when pulling apart tables, accessing the elements without `loc` is usually more convenient:"
   ]
  },
  {
   "cell_type": "code",
   "execution_count": 98,
   "metadata": {},
   "outputs": [
    {
     "name": "stdout",
     "output_type": "stream",
     "text": [
      "8.0\n",
      "8.0\n"
     ]
    }
   ],
   "source": [
    "print cars.iloc[0][1]\n",
    "print m[0,1]"
   ]
  },
  {
   "cell_type": "markdown",
   "metadata": {},
   "source": [
    "## Mixed, missing data\n",
    "\n",
    "Using tips from [Jeremy Howard](https://www.usfca.edu/data-institute/about-us/researchers) here on real-world data clean up.\n",
    "\n",
    "### Load and parse dates"
   ]
  },
  {
   "cell_type": "code",
   "execution_count": 99,
   "metadata": {
    "scrolled": true
   },
   "outputs": [
    {
     "data": {
      "text/html": [
       "<div>\n",
       "<table border=\"1\" class=\"dataframe\">\n",
       "  <thead>\n",
       "    <tr style=\"text-align: right;\">\n",
       "      <th></th>\n",
       "      <th>Date</th>\n",
       "      <th>Description</th>\n",
       "      <th>Size</th>\n",
       "      <th>Price</th>\n",
       "      <th>Topic</th>\n",
       "    </tr>\n",
       "  </thead>\n",
       "  <tbody>\n",
       "    <tr>\n",
       "      <th>0</th>\n",
       "      <td>2017-06-20</td>\n",
       "      <td>NaN</td>\n",
       "      <td>92.0</td>\n",
       "      <td>1.50</td>\n",
       "      <td>News</td>\n",
       "    </tr>\n",
       "    <tr>\n",
       "      <th>1</th>\n",
       "      <td>2017-06-21</td>\n",
       "      <td>run forest</td>\n",
       "      <td>42.0</td>\n",
       "      <td>2.34</td>\n",
       "      <td>Sports</td>\n",
       "    </tr>\n",
       "    <tr>\n",
       "      <th>2</th>\n",
       "      <td>2017-06-21</td>\n",
       "      <td>not your droids</td>\n",
       "      <td>19.0</td>\n",
       "      <td>0.88</td>\n",
       "      <td>Sports</td>\n",
       "    </tr>\n",
       "    <tr>\n",
       "      <th>3</th>\n",
       "      <td>2017-06-22</td>\n",
       "      <td>hi mom</td>\n",
       "      <td>NaN</td>\n",
       "      <td>9.30</td>\n",
       "      <td>Politics</td>\n",
       "    </tr>\n",
       "    <tr>\n",
       "      <th>4</th>\n",
       "      <td>2017-06-23</td>\n",
       "      <td>foo&amp;bar</td>\n",
       "      <td>1.0</td>\n",
       "      <td>10.00</td>\n",
       "      <td>NaN</td>\n",
       "    </tr>\n",
       "    <tr>\n",
       "      <th>5</th>\n",
       "      <td>2017-06-24</td>\n",
       "      <td>get off my lawn</td>\n",
       "      <td>99.0</td>\n",
       "      <td>8.90</td>\n",
       "      <td>Sci</td>\n",
       "    </tr>\n",
       "  </tbody>\n",
       "</table>\n",
       "</div>"
      ],
      "text/plain": [
       "        Date      Description  Size  Price     Topic\n",
       "0 2017-06-20              NaN  92.0   1.50      News\n",
       "1 2017-06-21       run forest  42.0   2.34    Sports\n",
       "2 2017-06-21  not your droids  19.0   0.88    Sports\n",
       "3 2017-06-22           hi mom   NaN   9.30  Politics\n",
       "4 2017-06-23          foo&bar   1.0  10.00       NaN\n",
       "5 2017-06-24  get off my lawn  99.0   8.90       Sci"
      ]
     },
     "execution_count": 99,
     "metadata": {},
     "output_type": "execute_result"
    }
   ],
   "source": [
    "import pandas\n",
    "df = pandas.read_csv(\"data/mixed.csv\", parse_dates=['Date'])\n",
    "df"
   ]
  },
  {
   "cell_type": "markdown",
   "metadata": {},
   "source": [
    "If you ever need to convert dates to the elapsed time, you can convert the date timestamp to UNIX time, the number of second since 1970:"
   ]
  },
  {
   "cell_type": "code",
   "execution_count": 146,
   "metadata": {},
   "outputs": [
    {
     "data": {
      "text/plain": [
       "0   17337 days\n",
       "1   17338 days\n",
       "2   17338 days\n",
       "3   17339 days\n",
       "4   17340 days\n",
       "5   17341 days\n",
       "Name: Date, dtype: timedelta64[ns]"
      ]
     },
     "execution_count": 146,
     "metadata": {},
     "output_type": "execute_result"
    }
   ],
   "source": [
    "d = df['Date']\n",
    "delta = d - pandas.datetime(1970,1,1)\n",
    "delta"
   ]
  },
  {
   "cell_type": "code",
   "execution_count": 147,
   "metadata": {},
   "outputs": [
    {
     "data": {
      "text/html": [
       "<div>\n",
       "<table border=\"1\" class=\"dataframe\">\n",
       "  <thead>\n",
       "    <tr style=\"text-align: right;\">\n",
       "      <th></th>\n",
       "      <th>Date</th>\n",
       "      <th>Description</th>\n",
       "      <th>Size</th>\n",
       "      <th>Price</th>\n",
       "      <th>Topic</th>\n",
       "      <th>Size_na</th>\n",
       "    </tr>\n",
       "  </thead>\n",
       "  <tbody>\n",
       "    <tr>\n",
       "      <th>0</th>\n",
       "      <td>1.497917e+09</td>\n",
       "      <td>NaN</td>\n",
       "      <td>92.0</td>\n",
       "      <td>1.50</td>\n",
       "      <td>2</td>\n",
       "      <td>False</td>\n",
       "    </tr>\n",
       "    <tr>\n",
       "      <th>1</th>\n",
       "      <td>1.498003e+09</td>\n",
       "      <td>run forest</td>\n",
       "      <td>42.0</td>\n",
       "      <td>2.34</td>\n",
       "      <td>5</td>\n",
       "      <td>False</td>\n",
       "    </tr>\n",
       "    <tr>\n",
       "      <th>2</th>\n",
       "      <td>1.498003e+09</td>\n",
       "      <td>not your droids</td>\n",
       "      <td>19.0</td>\n",
       "      <td>0.88</td>\n",
       "      <td>5</td>\n",
       "      <td>False</td>\n",
       "    </tr>\n",
       "    <tr>\n",
       "      <th>3</th>\n",
       "      <td>1.498090e+09</td>\n",
       "      <td>hi mom</td>\n",
       "      <td>42.0</td>\n",
       "      <td>9.30</td>\n",
       "      <td>3</td>\n",
       "      <td>True</td>\n",
       "    </tr>\n",
       "    <tr>\n",
       "      <th>4</th>\n",
       "      <td>1.498176e+09</td>\n",
       "      <td>foo&amp;bar</td>\n",
       "      <td>1.0</td>\n",
       "      <td>10.00</td>\n",
       "      <td>1</td>\n",
       "      <td>False</td>\n",
       "    </tr>\n",
       "    <tr>\n",
       "      <th>5</th>\n",
       "      <td>1.498262e+09</td>\n",
       "      <td>get off my lawn</td>\n",
       "      <td>99.0</td>\n",
       "      <td>8.90</td>\n",
       "      <td>4</td>\n",
       "      <td>False</td>\n",
       "    </tr>\n",
       "  </tbody>\n",
       "</table>\n",
       "</div>"
      ],
      "text/plain": [
       "           Date      Description  Size  Price  Topic Size_na\n",
       "0  1.497917e+09              NaN  92.0   1.50      2   False\n",
       "1  1.498003e+09       run forest  42.0   2.34      5   False\n",
       "2  1.498003e+09  not your droids  19.0   0.88      5   False\n",
       "3  1.498090e+09           hi mom  42.0   9.30      3    True\n",
       "4  1.498176e+09          foo&bar   1.0  10.00      1   False\n",
       "5  1.498262e+09  get off my lawn  99.0   8.90      4   False"
      ]
     },
     "execution_count": 147,
     "metadata": {},
     "output_type": "execute_result"
    }
   ],
   "source": [
    "df3 = df.copy()\n",
    "df3['Date'] = delta.dt.total_seconds()\n",
    "df3"
   ]
  },
  {
   "cell_type": "markdown",
   "metadata": {},
   "source": [
    "Or, you can convert the timestamp into the number of days since 1970:"
   ]
  },
  {
   "cell_type": "code",
   "execution_count": 150,
   "metadata": {},
   "outputs": [
    {
     "data": {
      "text/plain": [
       "0    17337\n",
       "1    17338\n",
       "2    17338\n",
       "3    17339\n",
       "4    17340\n",
       "5    17341\n",
       "Name: Date, dtype: int64"
      ]
     },
     "execution_count": 150,
     "metadata": {},
     "output_type": "execute_result"
    }
   ],
   "source": [
    "delta.dt.days"
   ]
  },
  {
   "cell_type": "markdown",
   "metadata": {},
   "source": [
    "### String to categorical variable\n",
    "\n",
    "Here is how we convert a column to a categorical variable:"
   ]
  },
  {
   "cell_type": "code",
   "execution_count": 100,
   "metadata": {},
   "outputs": [
    {
     "data": {
      "text/html": [
       "<div>\n",
       "<table border=\"1\" class=\"dataframe\">\n",
       "  <thead>\n",
       "    <tr style=\"text-align: right;\">\n",
       "      <th></th>\n",
       "      <th>Date</th>\n",
       "      <th>Description</th>\n",
       "      <th>Size</th>\n",
       "      <th>Price</th>\n",
       "      <th>Topic</th>\n",
       "    </tr>\n",
       "  </thead>\n",
       "  <tbody>\n",
       "    <tr>\n",
       "      <th>0</th>\n",
       "      <td>2017-06-20</td>\n",
       "      <td>NaN</td>\n",
       "      <td>92.0</td>\n",
       "      <td>1.50</td>\n",
       "      <td>News</td>\n",
       "    </tr>\n",
       "    <tr>\n",
       "      <th>1</th>\n",
       "      <td>2017-06-21</td>\n",
       "      <td>run forest</td>\n",
       "      <td>42.0</td>\n",
       "      <td>2.34</td>\n",
       "      <td>Sports</td>\n",
       "    </tr>\n",
       "    <tr>\n",
       "      <th>2</th>\n",
       "      <td>2017-06-21</td>\n",
       "      <td>not your droids</td>\n",
       "      <td>19.0</td>\n",
       "      <td>0.88</td>\n",
       "      <td>Sports</td>\n",
       "    </tr>\n",
       "    <tr>\n",
       "      <th>3</th>\n",
       "      <td>2017-06-22</td>\n",
       "      <td>hi mom</td>\n",
       "      <td>NaN</td>\n",
       "      <td>9.30</td>\n",
       "      <td>Politics</td>\n",
       "    </tr>\n",
       "    <tr>\n",
       "      <th>4</th>\n",
       "      <td>2017-06-23</td>\n",
       "      <td>foo&amp;bar</td>\n",
       "      <td>1.0</td>\n",
       "      <td>10.00</td>\n",
       "      <td>NaN</td>\n",
       "    </tr>\n",
       "    <tr>\n",
       "      <th>5</th>\n",
       "      <td>2017-06-24</td>\n",
       "      <td>get off my lawn</td>\n",
       "      <td>99.0</td>\n",
       "      <td>8.90</td>\n",
       "      <td>Sci</td>\n",
       "    </tr>\n",
       "  </tbody>\n",
       "</table>\n",
       "</div>"
      ],
      "text/plain": [
       "        Date      Description  Size  Price     Topic\n",
       "0 2017-06-20              NaN  92.0   1.50      News\n",
       "1 2017-06-21       run forest  42.0   2.34    Sports\n",
       "2 2017-06-21  not your droids  19.0   0.88    Sports\n",
       "3 2017-06-22           hi mom   NaN   9.30  Politics\n",
       "4 2017-06-23          foo&bar   1.0  10.00       NaN\n",
       "5 2017-06-24  get off my lawn  99.0   8.90       Sci"
      ]
     },
     "execution_count": 100,
     "metadata": {},
     "output_type": "execute_result"
    }
   ],
   "source": [
    "df['Topic'] = df['Topic'].astype('category')\n",
    "df"
   ]
  },
  {
   "cell_type": "code",
   "execution_count": 101,
   "metadata": {},
   "outputs": [
    {
     "name": "stdout",
     "output_type": "stream",
     "text": [
      "Index([u'News', u'Politics', u'Sci', u'Sports'], dtype='object')\n"
     ]
    }
   ],
   "source": [
    "print df['Topic'].cat.categories  # .cat field gives us access to categories stuff"
   ]
  },
  {
   "cell_type": "code",
   "execution_count": 102,
   "metadata": {},
   "outputs": [
    {
     "name": "stdout",
     "output_type": "stream",
     "text": [
      "0    0\n",
      "1    3\n",
      "2    3\n",
      "3    1\n",
      "4   -1\n",
      "5    2\n",
      "dtype: int8\n"
     ]
    }
   ],
   "source": [
    "print df['Topic'].cat.codes"
   ]
  },
  {
   "cell_type": "code",
   "execution_count": 103,
   "metadata": {},
   "outputs": [
    {
     "name": "stdout",
     "output_type": "stream",
     "text": [
      "0        News\n",
      "1      Sports\n",
      "2      Sports\n",
      "3    Politics\n",
      "4         NaN\n",
      "5         Sci\n",
      "dtype: category\n",
      "Categories (4, object): [News < Politics < Sci < Sports]\n"
     ]
    }
   ],
   "source": [
    "print df['Topic'].cat.as_ordered()"
   ]
  },
  {
   "cell_type": "markdown",
   "metadata": {},
   "source": [
    "### String to ordinal\n",
    "\n",
    "We can convert that category to an integer if we like:"
   ]
  },
  {
   "cell_type": "code",
   "execution_count": 114,
   "metadata": {},
   "outputs": [
    {
     "data": {
      "text/html": [
       "<div>\n",
       "<table border=\"1\" class=\"dataframe\">\n",
       "  <thead>\n",
       "    <tr style=\"text-align: right;\">\n",
       "      <th></th>\n",
       "      <th>Date</th>\n",
       "      <th>Description</th>\n",
       "      <th>Size</th>\n",
       "      <th>Price</th>\n",
       "      <th>Topic</th>\n",
       "      <th>Size_na</th>\n",
       "    </tr>\n",
       "  </thead>\n",
       "  <tbody>\n",
       "    <tr>\n",
       "      <th>0</th>\n",
       "      <td>2017-06-20</td>\n",
       "      <td>NaN</td>\n",
       "      <td>92.0</td>\n",
       "      <td>1.50</td>\n",
       "      <td>2</td>\n",
       "      <td>False</td>\n",
       "    </tr>\n",
       "    <tr>\n",
       "      <th>1</th>\n",
       "      <td>2017-06-21</td>\n",
       "      <td>run forest</td>\n",
       "      <td>42.0</td>\n",
       "      <td>2.34</td>\n",
       "      <td>5</td>\n",
       "      <td>False</td>\n",
       "    </tr>\n",
       "    <tr>\n",
       "      <th>2</th>\n",
       "      <td>2017-06-21</td>\n",
       "      <td>not your droids</td>\n",
       "      <td>19.0</td>\n",
       "      <td>0.88</td>\n",
       "      <td>5</td>\n",
       "      <td>False</td>\n",
       "    </tr>\n",
       "    <tr>\n",
       "      <th>3</th>\n",
       "      <td>2017-06-22</td>\n",
       "      <td>hi mom</td>\n",
       "      <td>42.0</td>\n",
       "      <td>9.30</td>\n",
       "      <td>3</td>\n",
       "      <td>True</td>\n",
       "    </tr>\n",
       "    <tr>\n",
       "      <th>4</th>\n",
       "      <td>2017-06-23</td>\n",
       "      <td>foo&amp;bar</td>\n",
       "      <td>1.0</td>\n",
       "      <td>10.00</td>\n",
       "      <td>1</td>\n",
       "      <td>False</td>\n",
       "    </tr>\n",
       "    <tr>\n",
       "      <th>5</th>\n",
       "      <td>2017-06-24</td>\n",
       "      <td>get off my lawn</td>\n",
       "      <td>99.0</td>\n",
       "      <td>8.90</td>\n",
       "      <td>4</td>\n",
       "      <td>False</td>\n",
       "    </tr>\n",
       "  </tbody>\n",
       "</table>\n",
       "</div>"
      ],
      "text/plain": [
       "        Date      Description  Size  Price  Topic Size_na\n",
       "0 2017-06-20              NaN  92.0   1.50      2   False\n",
       "1 2017-06-21       run forest  42.0   2.34      5   False\n",
       "2 2017-06-21  not your droids  19.0   0.88      5   False\n",
       "3 2017-06-22           hi mom  42.0   9.30      3    True\n",
       "4 2017-06-23          foo&bar   1.0  10.00      1   False\n",
       "5 2017-06-24  get off my lawn  99.0   8.90      4   False"
      ]
     },
     "execution_count": 114,
     "metadata": {},
     "output_type": "execute_result"
    }
   ],
   "source": [
    "# make sure you convert to categorical first\n",
    "df['Topic'] = df['Topic'].astype('category')\n",
    "df['Topic'] = df['Topic'].cat.codes+1 # add one so NA (-1) becomes 0\n",
    "df"
   ]
  },
  {
   "cell_type": "markdown",
   "metadata": {},
   "source": [
    "### Missing data\n",
    "\n",
    "Our data has a missing description, which we can ignore, but also has a missing size (numeric) and topic (categorical) entry. \n",
    "\n",
    "* If the element is numeric, we replace the missing value with the column median and add a column to indicate 0 or 1 as to whether the value is missing.\n",
    "* If the element is categorical, Pandas can handle the missing value automatically when we use parameter `dummy_na=True` on `get_dummies()` (see next section).\n",
    "\n",
    "Let's convert the missing numeric data:"
   ]
  },
  {
   "cell_type": "code",
   "execution_count": 105,
   "metadata": {},
   "outputs": [
    {
     "data": {
      "text/plain": [
       "0    False\n",
       "1    False\n",
       "2    False\n",
       "3     True\n",
       "4    False\n",
       "5    False\n",
       "Name: Size, dtype: bool"
      ]
     },
     "execution_count": 105,
     "metadata": {},
     "output_type": "execute_result"
    }
   ],
   "source": [
    "pandas.isnull(df['Size'])"
   ]
  },
  {
   "cell_type": "code",
   "execution_count": 106,
   "metadata": {},
   "outputs": [
    {
     "data": {
      "text/html": [
       "<div>\n",
       "<table border=\"1\" class=\"dataframe\">\n",
       "  <thead>\n",
       "    <tr style=\"text-align: right;\">\n",
       "      <th></th>\n",
       "      <th>Date</th>\n",
       "      <th>Description</th>\n",
       "      <th>Size</th>\n",
       "      <th>Price</th>\n",
       "      <th>Topic</th>\n",
       "      <th>Size_na</th>\n",
       "    </tr>\n",
       "  </thead>\n",
       "  <tbody>\n",
       "    <tr>\n",
       "      <th>0</th>\n",
       "      <td>2017-06-20</td>\n",
       "      <td>NaN</td>\n",
       "      <td>92.0</td>\n",
       "      <td>1.50</td>\n",
       "      <td>1</td>\n",
       "      <td>False</td>\n",
       "    </tr>\n",
       "    <tr>\n",
       "      <th>1</th>\n",
       "      <td>2017-06-21</td>\n",
       "      <td>run forest</td>\n",
       "      <td>42.0</td>\n",
       "      <td>2.34</td>\n",
       "      <td>4</td>\n",
       "      <td>False</td>\n",
       "    </tr>\n",
       "    <tr>\n",
       "      <th>2</th>\n",
       "      <td>2017-06-21</td>\n",
       "      <td>not your droids</td>\n",
       "      <td>19.0</td>\n",
       "      <td>0.88</td>\n",
       "      <td>4</td>\n",
       "      <td>False</td>\n",
       "    </tr>\n",
       "    <tr>\n",
       "      <th>3</th>\n",
       "      <td>2017-06-22</td>\n",
       "      <td>hi mom</td>\n",
       "      <td>NaN</td>\n",
       "      <td>9.30</td>\n",
       "      <td>2</td>\n",
       "      <td>True</td>\n",
       "    </tr>\n",
       "    <tr>\n",
       "      <th>4</th>\n",
       "      <td>2017-06-23</td>\n",
       "      <td>foo&amp;bar</td>\n",
       "      <td>1.0</td>\n",
       "      <td>10.00</td>\n",
       "      <td>0</td>\n",
       "      <td>False</td>\n",
       "    </tr>\n",
       "    <tr>\n",
       "      <th>5</th>\n",
       "      <td>2017-06-24</td>\n",
       "      <td>get off my lawn</td>\n",
       "      <td>99.0</td>\n",
       "      <td>8.90</td>\n",
       "      <td>3</td>\n",
       "      <td>False</td>\n",
       "    </tr>\n",
       "  </tbody>\n",
       "</table>\n",
       "</div>"
      ],
      "text/plain": [
       "        Date      Description  Size  Price  Topic Size_na\n",
       "0 2017-06-20              NaN  92.0   1.50      1   False\n",
       "1 2017-06-21       run forest  42.0   2.34      4   False\n",
       "2 2017-06-21  not your droids  19.0   0.88      4   False\n",
       "3 2017-06-22           hi mom   NaN   9.30      2    True\n",
       "4 2017-06-23          foo&bar   1.0  10.00      0   False\n",
       "5 2017-06-24  get off my lawn  99.0   8.90      3   False"
      ]
     },
     "execution_count": 106,
     "metadata": {},
     "output_type": "execute_result"
    }
   ],
   "source": [
    "df['Size_na'] = pandas.isnull(df['Size'])\n",
    "df"
   ]
  },
  {
   "cell_type": "code",
   "execution_count": 107,
   "metadata": {},
   "outputs": [
    {
     "data": {
      "text/html": [
       "<div>\n",
       "<table border=\"1\" class=\"dataframe\">\n",
       "  <thead>\n",
       "    <tr style=\"text-align: right;\">\n",
       "      <th></th>\n",
       "      <th>Date</th>\n",
       "      <th>Description</th>\n",
       "      <th>Size</th>\n",
       "      <th>Price</th>\n",
       "      <th>Topic</th>\n",
       "      <th>Size_na</th>\n",
       "    </tr>\n",
       "  </thead>\n",
       "  <tbody>\n",
       "    <tr>\n",
       "      <th>0</th>\n",
       "      <td>2017-06-20</td>\n",
       "      <td>NaN</td>\n",
       "      <td>92.0</td>\n",
       "      <td>1.50</td>\n",
       "      <td>1</td>\n",
       "      <td>False</td>\n",
       "    </tr>\n",
       "    <tr>\n",
       "      <th>1</th>\n",
       "      <td>2017-06-21</td>\n",
       "      <td>run forest</td>\n",
       "      <td>42.0</td>\n",
       "      <td>2.34</td>\n",
       "      <td>4</td>\n",
       "      <td>False</td>\n",
       "    </tr>\n",
       "    <tr>\n",
       "      <th>2</th>\n",
       "      <td>2017-06-21</td>\n",
       "      <td>not your droids</td>\n",
       "      <td>19.0</td>\n",
       "      <td>0.88</td>\n",
       "      <td>4</td>\n",
       "      <td>False</td>\n",
       "    </tr>\n",
       "    <tr>\n",
       "      <th>3</th>\n",
       "      <td>2017-06-22</td>\n",
       "      <td>hi mom</td>\n",
       "      <td>42.0</td>\n",
       "      <td>9.30</td>\n",
       "      <td>2</td>\n",
       "      <td>True</td>\n",
       "    </tr>\n",
       "    <tr>\n",
       "      <th>4</th>\n",
       "      <td>2017-06-23</td>\n",
       "      <td>foo&amp;bar</td>\n",
       "      <td>1.0</td>\n",
       "      <td>10.00</td>\n",
       "      <td>0</td>\n",
       "      <td>False</td>\n",
       "    </tr>\n",
       "    <tr>\n",
       "      <th>5</th>\n",
       "      <td>2017-06-24</td>\n",
       "      <td>get off my lawn</td>\n",
       "      <td>99.0</td>\n",
       "      <td>8.90</td>\n",
       "      <td>3</td>\n",
       "      <td>False</td>\n",
       "    </tr>\n",
       "  </tbody>\n",
       "</table>\n",
       "</div>"
      ],
      "text/plain": [
       "        Date      Description  Size  Price  Topic Size_na\n",
       "0 2017-06-20              NaN  92.0   1.50      1   False\n",
       "1 2017-06-21       run forest  42.0   2.34      4   False\n",
       "2 2017-06-21  not your droids  19.0   0.88      4   False\n",
       "3 2017-06-22           hi mom  42.0   9.30      2    True\n",
       "4 2017-06-23          foo&bar   1.0  10.00      0   False\n",
       "5 2017-06-24  get off my lawn  99.0   8.90      3   False"
      ]
     },
     "execution_count": 107,
     "metadata": {},
     "output_type": "execute_result"
    }
   ],
   "source": [
    "szcol = df['Size']\n",
    "df['Size'] = szcol.fillna(szcol.median())\n",
    "df"
   ]
  },
  {
   "cell_type": "markdown",
   "metadata": {},
   "source": [
    "### Dummy variables\n",
    "\n",
    "Instead, we can convert the categorical variable to dummy variables, also called \"*one hot encoding*.\"\n",
    "\n",
    "If were lazy, we can just convert everything to dummies but the `Description` field is not something that we need to convert as it is mostly just information we are carrying along."
   ]
  },
  {
   "cell_type": "code",
   "execution_count": 108,
   "metadata": {},
   "outputs": [
    {
     "data": {
      "text/html": [
       "<div>\n",
       "<table border=\"1\" class=\"dataframe\">\n",
       "  <thead>\n",
       "    <tr style=\"text-align: right;\">\n",
       "      <th></th>\n",
       "      <th>Date</th>\n",
       "      <th>Size</th>\n",
       "      <th>Price</th>\n",
       "      <th>Topic</th>\n",
       "      <th>Size_na</th>\n",
       "      <th>Description_foo&amp;bar</th>\n",
       "      <th>Description_get off my lawn</th>\n",
       "      <th>Description_hi mom</th>\n",
       "      <th>Description_not your droids</th>\n",
       "      <th>Description_run forest</th>\n",
       "    </tr>\n",
       "  </thead>\n",
       "  <tbody>\n",
       "    <tr>\n",
       "      <th>0</th>\n",
       "      <td>2017-06-20</td>\n",
       "      <td>92.0</td>\n",
       "      <td>1.50</td>\n",
       "      <td>1</td>\n",
       "      <td>False</td>\n",
       "      <td>0.0</td>\n",
       "      <td>0.0</td>\n",
       "      <td>0.0</td>\n",
       "      <td>0.0</td>\n",
       "      <td>0.0</td>\n",
       "    </tr>\n",
       "    <tr>\n",
       "      <th>1</th>\n",
       "      <td>2017-06-21</td>\n",
       "      <td>42.0</td>\n",
       "      <td>2.34</td>\n",
       "      <td>4</td>\n",
       "      <td>False</td>\n",
       "      <td>0.0</td>\n",
       "      <td>0.0</td>\n",
       "      <td>0.0</td>\n",
       "      <td>0.0</td>\n",
       "      <td>1.0</td>\n",
       "    </tr>\n",
       "    <tr>\n",
       "      <th>2</th>\n",
       "      <td>2017-06-21</td>\n",
       "      <td>19.0</td>\n",
       "      <td>0.88</td>\n",
       "      <td>4</td>\n",
       "      <td>False</td>\n",
       "      <td>0.0</td>\n",
       "      <td>0.0</td>\n",
       "      <td>0.0</td>\n",
       "      <td>1.0</td>\n",
       "      <td>0.0</td>\n",
       "    </tr>\n",
       "    <tr>\n",
       "      <th>3</th>\n",
       "      <td>2017-06-22</td>\n",
       "      <td>42.0</td>\n",
       "      <td>9.30</td>\n",
       "      <td>2</td>\n",
       "      <td>True</td>\n",
       "      <td>0.0</td>\n",
       "      <td>0.0</td>\n",
       "      <td>1.0</td>\n",
       "      <td>0.0</td>\n",
       "      <td>0.0</td>\n",
       "    </tr>\n",
       "    <tr>\n",
       "      <th>4</th>\n",
       "      <td>2017-06-23</td>\n",
       "      <td>1.0</td>\n",
       "      <td>10.00</td>\n",
       "      <td>0</td>\n",
       "      <td>False</td>\n",
       "      <td>1.0</td>\n",
       "      <td>0.0</td>\n",
       "      <td>0.0</td>\n",
       "      <td>0.0</td>\n",
       "      <td>0.0</td>\n",
       "    </tr>\n",
       "    <tr>\n",
       "      <th>5</th>\n",
       "      <td>2017-06-24</td>\n",
       "      <td>99.0</td>\n",
       "      <td>8.90</td>\n",
       "      <td>3</td>\n",
       "      <td>False</td>\n",
       "      <td>0.0</td>\n",
       "      <td>1.0</td>\n",
       "      <td>0.0</td>\n",
       "      <td>0.0</td>\n",
       "      <td>0.0</td>\n",
       "    </tr>\n",
       "  </tbody>\n",
       "</table>\n",
       "</div>"
      ],
      "text/plain": [
       "        Date  Size  Price  Topic Size_na  Description_foo&bar  \\\n",
       "0 2017-06-20  92.0   1.50      1   False                  0.0   \n",
       "1 2017-06-21  42.0   2.34      4   False                  0.0   \n",
       "2 2017-06-21  19.0   0.88      4   False                  0.0   \n",
       "3 2017-06-22  42.0   9.30      2    True                  0.0   \n",
       "4 2017-06-23   1.0  10.00      0   False                  1.0   \n",
       "5 2017-06-24  99.0   8.90      3   False                  0.0   \n",
       "\n",
       "   Description_get off my lawn  Description_hi mom  \\\n",
       "0                          0.0                 0.0   \n",
       "1                          0.0                 0.0   \n",
       "2                          0.0                 0.0   \n",
       "3                          0.0                 1.0   \n",
       "4                          0.0                 0.0   \n",
       "5                          1.0                 0.0   \n",
       "\n",
       "   Description_not your droids  Description_run forest  \n",
       "0                          0.0                     0.0  \n",
       "1                          0.0                     1.0  \n",
       "2                          1.0                     0.0  \n",
       "3                          0.0                     0.0  \n",
       "4                          0.0                     0.0  \n",
       "5                          0.0                     0.0  "
      ]
     },
     "execution_count": 108,
     "metadata": {},
     "output_type": "execute_result"
    }
   ],
   "source": [
    "pandas.get_dummies(df) # convert all categorical to dummies"
   ]
  },
  {
   "cell_type": "code",
   "execution_count": 109,
   "metadata": {},
   "outputs": [
    {
     "data": {
      "text/html": [
       "<div>\n",
       "<table border=\"1\" class=\"dataframe\">\n",
       "  <thead>\n",
       "    <tr style=\"text-align: right;\">\n",
       "      <th></th>\n",
       "      <th>0</th>\n",
       "      <th>1</th>\n",
       "      <th>2</th>\n",
       "      <th>3</th>\n",
       "      <th>4</th>\n",
       "    </tr>\n",
       "  </thead>\n",
       "  <tbody>\n",
       "    <tr>\n",
       "      <th>0</th>\n",
       "      <td>0.0</td>\n",
       "      <td>1.0</td>\n",
       "      <td>0.0</td>\n",
       "      <td>0.0</td>\n",
       "      <td>0.0</td>\n",
       "    </tr>\n",
       "    <tr>\n",
       "      <th>1</th>\n",
       "      <td>0.0</td>\n",
       "      <td>0.0</td>\n",
       "      <td>0.0</td>\n",
       "      <td>0.0</td>\n",
       "      <td>1.0</td>\n",
       "    </tr>\n",
       "    <tr>\n",
       "      <th>2</th>\n",
       "      <td>0.0</td>\n",
       "      <td>0.0</td>\n",
       "      <td>0.0</td>\n",
       "      <td>0.0</td>\n",
       "      <td>1.0</td>\n",
       "    </tr>\n",
       "    <tr>\n",
       "      <th>3</th>\n",
       "      <td>0.0</td>\n",
       "      <td>0.0</td>\n",
       "      <td>1.0</td>\n",
       "      <td>0.0</td>\n",
       "      <td>0.0</td>\n",
       "    </tr>\n",
       "    <tr>\n",
       "      <th>4</th>\n",
       "      <td>1.0</td>\n",
       "      <td>0.0</td>\n",
       "      <td>0.0</td>\n",
       "      <td>0.0</td>\n",
       "      <td>0.0</td>\n",
       "    </tr>\n",
       "    <tr>\n",
       "      <th>5</th>\n",
       "      <td>0.0</td>\n",
       "      <td>0.0</td>\n",
       "      <td>0.0</td>\n",
       "      <td>1.0</td>\n",
       "      <td>0.0</td>\n",
       "    </tr>\n",
       "  </tbody>\n",
       "</table>\n",
       "</div>"
      ],
      "text/plain": [
       "     0    1    2    3    4\n",
       "0  0.0  1.0  0.0  0.0  0.0\n",
       "1  0.0  0.0  0.0  0.0  1.0\n",
       "2  0.0  0.0  0.0  0.0  1.0\n",
       "3  0.0  0.0  1.0  0.0  0.0\n",
       "4  1.0  0.0  0.0  0.0  0.0\n",
       "5  0.0  0.0  0.0  1.0  0.0"
      ]
     },
     "execution_count": 109,
     "metadata": {},
     "output_type": "execute_result"
    }
   ],
   "source": [
    "pandas.get_dummies(df['Topic']) # One column's dummies"
   ]
  },
  {
   "cell_type": "code",
   "execution_count": 110,
   "metadata": {},
   "outputs": [
    {
     "data": {
      "text/html": [
       "<div>\n",
       "<table border=\"1\" class=\"dataframe\">\n",
       "  <thead>\n",
       "    <tr style=\"text-align: right;\">\n",
       "      <th></th>\n",
       "      <th>0.0</th>\n",
       "      <th>1.0</th>\n",
       "      <th>2.0</th>\n",
       "      <th>3.0</th>\n",
       "      <th>4.0</th>\n",
       "      <th>nan</th>\n",
       "    </tr>\n",
       "  </thead>\n",
       "  <tbody>\n",
       "    <tr>\n",
       "      <th>0</th>\n",
       "      <td>0.0</td>\n",
       "      <td>1.0</td>\n",
       "      <td>0.0</td>\n",
       "      <td>0.0</td>\n",
       "      <td>0.0</td>\n",
       "      <td>0.0</td>\n",
       "    </tr>\n",
       "    <tr>\n",
       "      <th>1</th>\n",
       "      <td>0.0</td>\n",
       "      <td>0.0</td>\n",
       "      <td>0.0</td>\n",
       "      <td>0.0</td>\n",
       "      <td>1.0</td>\n",
       "      <td>0.0</td>\n",
       "    </tr>\n",
       "    <tr>\n",
       "      <th>2</th>\n",
       "      <td>0.0</td>\n",
       "      <td>0.0</td>\n",
       "      <td>0.0</td>\n",
       "      <td>0.0</td>\n",
       "      <td>1.0</td>\n",
       "      <td>0.0</td>\n",
       "    </tr>\n",
       "    <tr>\n",
       "      <th>3</th>\n",
       "      <td>0.0</td>\n",
       "      <td>0.0</td>\n",
       "      <td>1.0</td>\n",
       "      <td>0.0</td>\n",
       "      <td>0.0</td>\n",
       "      <td>0.0</td>\n",
       "    </tr>\n",
       "    <tr>\n",
       "      <th>4</th>\n",
       "      <td>1.0</td>\n",
       "      <td>0.0</td>\n",
       "      <td>0.0</td>\n",
       "      <td>0.0</td>\n",
       "      <td>0.0</td>\n",
       "      <td>0.0</td>\n",
       "    </tr>\n",
       "    <tr>\n",
       "      <th>5</th>\n",
       "      <td>0.0</td>\n",
       "      <td>0.0</td>\n",
       "      <td>0.0</td>\n",
       "      <td>1.0</td>\n",
       "      <td>0.0</td>\n",
       "      <td>0.0</td>\n",
       "    </tr>\n",
       "  </tbody>\n",
       "</table>\n",
       "</div>"
      ],
      "text/plain": [
       "    0.0   1.0   2.0   3.0   4.0  NaN \n",
       "0   0.0   1.0   0.0   0.0   0.0   0.0\n",
       "1   0.0   0.0   0.0   0.0   1.0   0.0\n",
       "2   0.0   0.0   0.0   0.0   1.0   0.0\n",
       "3   0.0   0.0   1.0   0.0   0.0   0.0\n",
       "4   1.0   0.0   0.0   0.0   0.0   0.0\n",
       "5   0.0   0.0   0.0   1.0   0.0   0.0"
      ]
     },
     "execution_count": 110,
     "metadata": {},
     "output_type": "execute_result"
    }
   ],
   "source": [
    "pandas.get_dummies(df['Topic'], dummy_na=True) # Add an \"na\" column"
   ]
  },
  {
   "cell_type": "markdown",
   "metadata": {},
   "source": [
    "We can manually pack these new columns into the old data frame and delete the old column:"
   ]
  },
  {
   "cell_type": "code",
   "execution_count": 119,
   "metadata": {},
   "outputs": [
    {
     "data": {
      "text/html": [
       "<div>\n",
       "<table border=\"1\" class=\"dataframe\">\n",
       "  <thead>\n",
       "    <tr style=\"text-align: right;\">\n",
       "      <th></th>\n",
       "      <th>Date</th>\n",
       "      <th>Description</th>\n",
       "      <th>Size</th>\n",
       "      <th>Price</th>\n",
       "      <th>Size_na</th>\n",
       "      <th>1.0</th>\n",
       "      <th>2.0</th>\n",
       "      <th>3.0</th>\n",
       "      <th>4.0</th>\n",
       "      <th>5.0</th>\n",
       "      <th>nan</th>\n",
       "    </tr>\n",
       "  </thead>\n",
       "  <tbody>\n",
       "    <tr>\n",
       "      <th>0</th>\n",
       "      <td>2017-06-20</td>\n",
       "      <td>NaN</td>\n",
       "      <td>92.0</td>\n",
       "      <td>1.50</td>\n",
       "      <td>False</td>\n",
       "      <td>0.0</td>\n",
       "      <td>1.0</td>\n",
       "      <td>0.0</td>\n",
       "      <td>0.0</td>\n",
       "      <td>0.0</td>\n",
       "      <td>0.0</td>\n",
       "    </tr>\n",
       "    <tr>\n",
       "      <th>1</th>\n",
       "      <td>2017-06-21</td>\n",
       "      <td>run forest</td>\n",
       "      <td>42.0</td>\n",
       "      <td>2.34</td>\n",
       "      <td>False</td>\n",
       "      <td>0.0</td>\n",
       "      <td>0.0</td>\n",
       "      <td>0.0</td>\n",
       "      <td>0.0</td>\n",
       "      <td>1.0</td>\n",
       "      <td>0.0</td>\n",
       "    </tr>\n",
       "    <tr>\n",
       "      <th>2</th>\n",
       "      <td>2017-06-21</td>\n",
       "      <td>not your droids</td>\n",
       "      <td>19.0</td>\n",
       "      <td>0.88</td>\n",
       "      <td>False</td>\n",
       "      <td>0.0</td>\n",
       "      <td>0.0</td>\n",
       "      <td>0.0</td>\n",
       "      <td>0.0</td>\n",
       "      <td>1.0</td>\n",
       "      <td>0.0</td>\n",
       "    </tr>\n",
       "    <tr>\n",
       "      <th>3</th>\n",
       "      <td>2017-06-22</td>\n",
       "      <td>hi mom</td>\n",
       "      <td>42.0</td>\n",
       "      <td>9.30</td>\n",
       "      <td>True</td>\n",
       "      <td>0.0</td>\n",
       "      <td>0.0</td>\n",
       "      <td>1.0</td>\n",
       "      <td>0.0</td>\n",
       "      <td>0.0</td>\n",
       "      <td>0.0</td>\n",
       "    </tr>\n",
       "    <tr>\n",
       "      <th>4</th>\n",
       "      <td>2017-06-23</td>\n",
       "      <td>foo&amp;bar</td>\n",
       "      <td>1.0</td>\n",
       "      <td>10.00</td>\n",
       "      <td>False</td>\n",
       "      <td>1.0</td>\n",
       "      <td>0.0</td>\n",
       "      <td>0.0</td>\n",
       "      <td>0.0</td>\n",
       "      <td>0.0</td>\n",
       "      <td>0.0</td>\n",
       "    </tr>\n",
       "    <tr>\n",
       "      <th>5</th>\n",
       "      <td>2017-06-24</td>\n",
       "      <td>get off my lawn</td>\n",
       "      <td>99.0</td>\n",
       "      <td>8.90</td>\n",
       "      <td>False</td>\n",
       "      <td>0.0</td>\n",
       "      <td>0.0</td>\n",
       "      <td>0.0</td>\n",
       "      <td>1.0</td>\n",
       "      <td>0.0</td>\n",
       "      <td>0.0</td>\n",
       "    </tr>\n",
       "  </tbody>\n",
       "</table>\n",
       "</div>"
      ],
      "text/plain": [
       "        Date      Description  Size  Price Size_na  1.0  2.0  3.0  4.0  5.0  \\\n",
       "0 2017-06-20              NaN  92.0   1.50   False  0.0  1.0  0.0  0.0  0.0   \n",
       "1 2017-06-21       run forest  42.0   2.34   False  0.0  0.0  0.0  0.0  1.0   \n",
       "2 2017-06-21  not your droids  19.0   0.88   False  0.0  0.0  0.0  0.0  1.0   \n",
       "3 2017-06-22           hi mom  42.0   9.30    True  0.0  0.0  1.0  0.0  0.0   \n",
       "4 2017-06-23          foo&bar   1.0  10.00   False  1.0  0.0  0.0  0.0  0.0   \n",
       "5 2017-06-24  get off my lawn  99.0   8.90   False  0.0  0.0  0.0  1.0  0.0   \n",
       "\n",
       "   NaN  \n",
       "0  0.0  \n",
       "1  0.0  \n",
       "2  0.0  \n",
       "3  0.0  \n",
       "4  0.0  \n",
       "5  0.0  "
      ]
     },
     "execution_count": 119,
     "metadata": {},
     "output_type": "execute_result"
    }
   ],
   "source": [
    "df2 = pandas.concat([df,pandas.get_dummies(df['Topic'], dummy_na=True)], axis=1)\n",
    "df2.drop('Topic', axis=1, inplace=True) # Considered better than del df2['Topic'] I think\n",
    "df2"
   ]
  },
  {
   "cell_type": "markdown",
   "metadata": {},
   "source": [
    "Or, we can do it the easy way by just specifying the columns to convert:"
   ]
  },
  {
   "cell_type": "code",
   "execution_count": 112,
   "metadata": {},
   "outputs": [
    {
     "data": {
      "text/html": [
       "<div>\n",
       "<table border=\"1\" class=\"dataframe\">\n",
       "  <thead>\n",
       "    <tr style=\"text-align: right;\">\n",
       "      <th></th>\n",
       "      <th>Date</th>\n",
       "      <th>Description</th>\n",
       "      <th>Size</th>\n",
       "      <th>Price</th>\n",
       "      <th>Size_na</th>\n",
       "      <th>Topic_0.0</th>\n",
       "      <th>Topic_1.0</th>\n",
       "      <th>Topic_2.0</th>\n",
       "      <th>Topic_3.0</th>\n",
       "      <th>Topic_4.0</th>\n",
       "      <th>Topic_nan</th>\n",
       "    </tr>\n",
       "  </thead>\n",
       "  <tbody>\n",
       "    <tr>\n",
       "      <th>0</th>\n",
       "      <td>2017-06-20</td>\n",
       "      <td>NaN</td>\n",
       "      <td>92.0</td>\n",
       "      <td>1.50</td>\n",
       "      <td>False</td>\n",
       "      <td>0.0</td>\n",
       "      <td>1.0</td>\n",
       "      <td>0.0</td>\n",
       "      <td>0.0</td>\n",
       "      <td>0.0</td>\n",
       "      <td>0.0</td>\n",
       "    </tr>\n",
       "    <tr>\n",
       "      <th>1</th>\n",
       "      <td>2017-06-21</td>\n",
       "      <td>run forest</td>\n",
       "      <td>42.0</td>\n",
       "      <td>2.34</td>\n",
       "      <td>False</td>\n",
       "      <td>0.0</td>\n",
       "      <td>0.0</td>\n",
       "      <td>0.0</td>\n",
       "      <td>0.0</td>\n",
       "      <td>1.0</td>\n",
       "      <td>0.0</td>\n",
       "    </tr>\n",
       "    <tr>\n",
       "      <th>2</th>\n",
       "      <td>2017-06-21</td>\n",
       "      <td>not your droids</td>\n",
       "      <td>19.0</td>\n",
       "      <td>0.88</td>\n",
       "      <td>False</td>\n",
       "      <td>0.0</td>\n",
       "      <td>0.0</td>\n",
       "      <td>0.0</td>\n",
       "      <td>0.0</td>\n",
       "      <td>1.0</td>\n",
       "      <td>0.0</td>\n",
       "    </tr>\n",
       "    <tr>\n",
       "      <th>3</th>\n",
       "      <td>2017-06-22</td>\n",
       "      <td>hi mom</td>\n",
       "      <td>42.0</td>\n",
       "      <td>9.30</td>\n",
       "      <td>True</td>\n",
       "      <td>0.0</td>\n",
       "      <td>0.0</td>\n",
       "      <td>1.0</td>\n",
       "      <td>0.0</td>\n",
       "      <td>0.0</td>\n",
       "      <td>0.0</td>\n",
       "    </tr>\n",
       "    <tr>\n",
       "      <th>4</th>\n",
       "      <td>2017-06-23</td>\n",
       "      <td>foo&amp;bar</td>\n",
       "      <td>1.0</td>\n",
       "      <td>10.00</td>\n",
       "      <td>False</td>\n",
       "      <td>1.0</td>\n",
       "      <td>0.0</td>\n",
       "      <td>0.0</td>\n",
       "      <td>0.0</td>\n",
       "      <td>0.0</td>\n",
       "      <td>0.0</td>\n",
       "    </tr>\n",
       "    <tr>\n",
       "      <th>5</th>\n",
       "      <td>2017-06-24</td>\n",
       "      <td>get off my lawn</td>\n",
       "      <td>99.0</td>\n",
       "      <td>8.90</td>\n",
       "      <td>False</td>\n",
       "      <td>0.0</td>\n",
       "      <td>0.0</td>\n",
       "      <td>0.0</td>\n",
       "      <td>1.0</td>\n",
       "      <td>0.0</td>\n",
       "      <td>0.0</td>\n",
       "    </tr>\n",
       "  </tbody>\n",
       "</table>\n",
       "</div>"
      ],
      "text/plain": [
       "        Date      Description  Size  Price Size_na  Topic_0.0  Topic_1.0  \\\n",
       "0 2017-06-20              NaN  92.0   1.50   False        0.0        1.0   \n",
       "1 2017-06-21       run forest  42.0   2.34   False        0.0        0.0   \n",
       "2 2017-06-21  not your droids  19.0   0.88   False        0.0        0.0   \n",
       "3 2017-06-22           hi mom  42.0   9.30    True        0.0        0.0   \n",
       "4 2017-06-23          foo&bar   1.0  10.00   False        1.0        0.0   \n",
       "5 2017-06-24  get off my lawn  99.0   8.90   False        0.0        0.0   \n",
       "\n",
       "   Topic_2.0  Topic_3.0  Topic_4.0  Topic_nan  \n",
       "0        0.0        0.0        0.0        0.0  \n",
       "1        0.0        0.0        1.0        0.0  \n",
       "2        0.0        0.0        1.0        0.0  \n",
       "3        1.0        0.0        0.0        0.0  \n",
       "4        0.0        0.0        0.0        0.0  \n",
       "5        0.0        1.0        0.0        0.0  "
      ]
     },
     "execution_count": 112,
     "metadata": {},
     "output_type": "execute_result"
    }
   ],
   "source": [
    "pandas.get_dummies(df, columns=['Topic'], dummy_na=True) # The easy way"
   ]
  },
  {
   "cell_type": "markdown",
   "metadata": {},
   "source": [
    "If you ever need to walk the columns in your data frame, you can do that with a for each loop:"
   ]
  },
  {
   "cell_type": "code",
   "execution_count": 113,
   "metadata": {},
   "outputs": [
    {
     "name": "stdout",
     "output_type": "stream",
     "text": [
      "Date\n",
      "Description\n",
      "Size\n",
      "Price\n",
      "Topic\n",
      "Size_na\n"
     ]
    }
   ],
   "source": [
    "# walk columns; col is the actual series\n",
    "for name,col in df.iteritems():\n",
    "    print name"
   ]
  },
  {
   "cell_type": "code",
   "execution_count": 116,
   "metadata": {},
   "outputs": [
    {
     "data": {
      "text/html": [
       "<div>\n",
       "<table border=\"1\" class=\"dataframe\">\n",
       "  <thead>\n",
       "    <tr style=\"text-align: right;\">\n",
       "      <th></th>\n",
       "      <th>Size</th>\n",
       "      <th>Price</th>\n",
       "      <th>Topic</th>\n",
       "    </tr>\n",
       "  </thead>\n",
       "  <tbody>\n",
       "    <tr>\n",
       "      <th>count</th>\n",
       "      <td>6.000000</td>\n",
       "      <td>6.000000</td>\n",
       "      <td>6.000000</td>\n",
       "    </tr>\n",
       "    <tr>\n",
       "      <th>mean</th>\n",
       "      <td>49.166667</td>\n",
       "      <td>5.486667</td>\n",
       "      <td>3.333333</td>\n",
       "    </tr>\n",
       "    <tr>\n",
       "      <th>std</th>\n",
       "      <td>39.117345</td>\n",
       "      <td>4.326175</td>\n",
       "      <td>1.632993</td>\n",
       "    </tr>\n",
       "    <tr>\n",
       "      <th>...</th>\n",
       "      <td>...</td>\n",
       "      <td>...</td>\n",
       "      <td>...</td>\n",
       "    </tr>\n",
       "    <tr>\n",
       "      <th>50%</th>\n",
       "      <td>42.000000</td>\n",
       "      <td>5.620000</td>\n",
       "      <td>3.500000</td>\n",
       "    </tr>\n",
       "    <tr>\n",
       "      <th>75%</th>\n",
       "      <td>79.500000</td>\n",
       "      <td>9.200000</td>\n",
       "      <td>4.750000</td>\n",
       "    </tr>\n",
       "    <tr>\n",
       "      <th>max</th>\n",
       "      <td>99.000000</td>\n",
       "      <td>10.000000</td>\n",
       "      <td>5.000000</td>\n",
       "    </tr>\n",
       "  </tbody>\n",
       "</table>\n",
       "<p>8 rows × 3 columns</p>\n",
       "</div>"
      ],
      "text/plain": [
       "            Size      Price     Topic\n",
       "count   6.000000   6.000000  6.000000\n",
       "mean   49.166667   5.486667  3.333333\n",
       "std    39.117345   4.326175  1.632993\n",
       "...          ...        ...       ...\n",
       "50%    42.000000   5.620000  3.500000\n",
       "75%    79.500000   9.200000  4.750000\n",
       "max    99.000000  10.000000  5.000000\n",
       "\n",
       "[8 rows x 3 columns]"
      ]
     },
     "execution_count": 116,
     "metadata": {},
     "output_type": "execute_result"
    }
   ],
   "source": [
    "df.describe() # useful stats about columns"
   ]
  },
  {
   "cell_type": "markdown",
   "metadata": {},
   "source": [
    "## Summary\n",
    "\n",
    "In this lecture, you've learned the basics of loading and manipulating data:\n",
    "\n",
    "* Loading data into Pandas data frames using `read_csv()`\n",
    "* Converting data frames to NumPy arrays using `as_matrix()`\n",
    "* Extracting columns with *dataframe*`.`*columnname* or *matrix*`[:,`*columnindex*`]`\n",
    "* Accessing elements via *dataframe*`.iloc[`rowindex`][`*columnindex*`]` or *matrix*`[`*rowindex*`,`*columnindex*`]`\n",
    "* Getting unique elements with `set(`*mylist*`)`\n",
    "\n",
    "And, you've learned how to visualize:\n",
    "\n",
    "* Time series data\n",
    "* Functions over a given range\n",
    "* The relationship between variables using a scatterplot\n",
    "* Histograms approximating density function"
   ]
  }
 ],
 "metadata": {
  "anaconda-cloud": {},
  "kernelspec": {
   "display_name": "Python 3",
   "language": "python",
   "name": "python3"
  },
  "language_info": {
   "codemirror_mode": {
    "name": "ipython",
    "version": 3
   },
   "file_extension": ".py",
   "mimetype": "text/x-python",
   "name": "python",
   "nbconvert_exporter": "python",
   "pygments_lexer": "ipython3",
   "version": "3.6.5"
  },
  "toc": {
   "colors": {
    "hover_highlight": "#DAA520",
    "navigate_num": "#000000",
    "navigate_text": "#333333",
    "running_highlight": "#FF0000",
    "selected_highlight": "#FFD700",
    "sidebar_border": "#EEEEEE",
    "wrapper_background": "#FFFFFF"
   },
   "moveMenuLeft": true,
   "nav_menu": {
    "height": "153px",
    "width": "252px"
   },
   "navigate_menu": true,
   "number_sections": true,
   "sideBar": true,
   "threshold": 4,
   "toc_cell": false,
   "toc_section_display": "block",
   "toc_window_display": false,
   "widenNotebook": false
  }
 },
 "nbformat": 4,
 "nbformat_minor": 2
}
