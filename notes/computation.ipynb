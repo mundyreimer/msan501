{
 "cells": [
  {
   "cell_type": "markdown",
   "metadata": {},
   "source": [
    "# Model of Computation"
   ]
  },
  {
   "cell_type": "markdown",
   "metadata": {},
   "source": [
    "Now that we know how computers store data in memory, we need a basic understanding of how computers process that data. Let's explore the simplest, fine-grained operations that a computer can perform. Ultimately, we will draw from these operations to design programs.  Programmers think in terms of high-level operations, such as *map*, *search*, or *filter*, but our fingers type fine-grained code patterns associated with those high-level operations."
   ]
  },
  {
   "cell_type": "markdown",
   "metadata": {},
   "source": [
    "## Canonical processor operations"
   ]
  },
  {
   "cell_type": "markdown",
   "metadata": {},
   "source": [
    "As we saw in [Representing data in memory](data-in-memory.ipynb), a computer's memory holds data temporarily while the processor works on that data. We typically load data into memory from the disk and organize it into a structure that is suitable for the computation we'd like to perform. In the end, though, memory just holds data. All of the action happens in the computer processor (CPU), which performs five principal operations:\n",
    " \n",
    "* load small chunks of data from memory into the CPU\n",
    "* perform arithmetic computations on data in the CPU\n",
    "* store small chunks of data back to memory\n",
    "* conditionally perform computations\n",
    "* repeat operations\n",
    "\n",
    "Processors execute low-level *machine instructions* that perform one or more of those principal operations. Each instruction does a tiny amount of work (like adding two numbers) but the processor can do them extremely fast, on the order of billions a second.   Writing a program in these low-level machine instructions would be extremely tedious, so we typically use programming languages such as Python to make our lives easier.\n",
    "\n",
    "To give you an idea of just how low-level these machine operations are, consider the following simple assignment statement.\n",
    "\n",
    "```python\n",
    "total = cost + tax\n",
    "```\n",
    "\n",
    "Even something this simple requires the processor to execute multiple low-level instructions.  The processor must look at the values of `cost` and `tax` in memory, add the two values, then store the result back into memory at the address associated with `total`."
   ]
  },
  {
   "cell_type": "markdown",
   "metadata": {},
   "source": [
    "### Order of operations"
   ]
  },
  {
   "cell_type": "markdown",
   "metadata": {},
   "source": [
    "Unless given instructions to the contrary, the processor keeps executing instructions one after the other. For example, given the following pseudocode sequence, a processor would execute the assignment statements and then execute the print."
   ]
  },
  {
   "cell_type": "code",
   "execution_count": 3,
   "metadata": {},
   "outputs": [
    {
     "name": "stdout",
     "output_type": "stream",
     "text": [
      "108.1\n"
     ]
    }
   ],
   "source": [
    "cost = 100.0\n",
    "tax = 8.1\n",
    "total = cost + tax\n",
    "print(total)"
   ]
  },
  {
   "cell_type": "markdown",
   "metadata": {},
   "source": [
    "The notion of doing a sequence of operations in order is familiar to us from cooking with recipes. For example, a recipe might direct us to:\n",
    "\n",
    "*put ingredients in bowl*<br>\n",
    "*mix ingredients together*<br>\n",
    "*pour into baking pan*<br>\n",
    "*bake at 375 degrees for 40 minutes*\n",
    "\n",
    "We naturally assume the steps are given in execution order."
   ]
  },
  {
   "cell_type": "markdown",
   "metadata": {},
   "source": [
    "## Conditional execution"
   ]
  },
  {
   "cell_type": "markdown",
   "metadata": {},
   "source": [
    "Some recipes give conditional instructions, such as\n",
    "\n",
    "*if not sweet enough, add some sugar*\n",
    "\n",
    "Similarly, processors can conditionally execute one or a group of operations. "
   ]
  },
  {
   "cell_type": "code",
   "execution_count": 4,
   "metadata": {},
   "outputs": [
    {
     "name": "stdout",
     "output_type": "stream",
     "text": [
      "was negative\n",
      "0\n"
     ]
    }
   ],
   "source": [
    "x = -3\n",
    "if x<0:\n",
    "    x = 0\n",
    "    print(\"was negative\")\n",
    "print(x)"
   ]
  },
  {
   "cell_type": "markdown",
   "metadata": {},
   "source": [
    "Conditional operations execute only if the conditional expression is true. **To be clear, the processor does not execute all of the operations present in the program**.\n",
    "\n",
    "When mapping a real-world problem to a conditional statement, your goal is to identify these key elements:\n",
    "\n",
    "1. the conditional expression\n",
    "1. the operation(s) to perform if the condition is true\n",
    "\n",
    "A template for conditional execution looks like:\n",
    "\n",
    "if *condition*:<br>\n",
    "&nbsp;&nbsp;&nbsp;&nbsp;*operation 1*<br>\n",
    "&nbsp;&nbsp;&nbsp;&nbsp;*operation 2*<br>\n",
    "&nbsp;&nbsp;&nbsp;&nbsp;...\n",
    "\n",
    "The condition must be actionable by a computer. For example, the condition \"*the cat is hungry*\" is not actionable by computer because there's nothing in its memory a computer can test that is equivalent to the cat being hungry. Conditions almost always consist of equality or relational operators for arithmetic, such as `cost > 10`, `cost + tax < 100`, or `quantity == 4`.\n",
    "\n",
    "It's time to introduce a new data type: **boolean**, which holds either a true or false value. The result (value) of any equality or relational operator is boolean. For example, \"3>2\" evaluates to true and \"3>4\" evaluates to false.\n",
    "\n",
    "In some cases, we want to execute an operation in either case, one operation if the condition is true and a different operation if the condition is false. For example, we can express a conditional operation to find the larger of two values, *x* and *y*, as:"
   ]
  },
  {
   "cell_type": "code",
   "execution_count": 5,
   "metadata": {},
   "outputs": [
    {
     "name": "stdout",
     "output_type": "stream",
     "text": [
      "210\n"
     ]
    }
   ],
   "source": [
    "x = 99\n",
    "y = 210\n",
    "if x > y: max = x\n",
    "else: max = y\n",
    "print(max)"
   ]
  },
  {
   "cell_type": "markdown",
   "metadata": {},
   "source": [
    "Conditional execution is kind of like executing an operation zero or one times, depending on the conditional expression.  We also need to execute operations multiple times in some cases."
   ]
  },
  {
   "cell_type": "markdown",
   "metadata": {},
   "source": [
    "## Repeated execution"
   ]
  },
  {
   "cell_type": "markdown",
   "metadata": {},
   "source": [
    "Most of the programming you will do involves applying operations to data, which means operating on data elements one by one. This means we need to be able to repeat instructions, but we rarely use such a low level  construct as: *while condition, do this or that*.  For example, it's rare that we want to print hello five times:"
   ]
  },
  {
   "cell_type": "code",
   "execution_count": 6,
   "metadata": {},
   "outputs": [
    {
     "name": "stdout",
     "output_type": "stream",
     "text": [
      "Hello\n",
      "Hello\n",
      "Hello\n",
      "Hello\n",
      "Hello\n"
     ]
    }
   ],
   "source": [
    "for i in range(5):\n",
    "    print(\"Hello\")"
   ]
  },
  {
   "cell_type": "markdown",
   "metadata": {},
   "source": [
    "(`range(n)` goes from 0 to `n`-1)\n",
    "\n",
    "On the other hand, generic loops that go around until the condition is met can be useful, such as \"read data from the network until the data stops.\" Or, we can do computations such as the following rough approximation to log base 10:"
   ]
  },
  {
   "cell_type": "code",
   "execution_count": 7,
   "metadata": {},
   "outputs": [
    {
     "name": "stdout",
     "output_type": "stream",
     "text": [
      "1000\n",
      "100.0\n",
      "10.0\n",
      "Log of 1000 is 3\n"
     ]
    }
   ],
   "source": [
    "n = 1000\n",
    "log = 0\n",
    "i = n\n",
    "while i > 1:\n",
    "    log += 1\n",
    "    print(i)\n",
    "    i = i / 10\n",
    "print(f\"Log of {n} is {log}\")"
   ]
  },
  {
   "cell_type": "markdown",
   "metadata": {},
   "source": [
    "Most of the time, though, we are scanning through data, which means a \"for each loop\" or \"indexed for loop.\""
   ]
  },
  {
   "cell_type": "markdown",
   "metadata": {},
   "source": [
    "### For-each loops"
   ]
  },
  {
   "cell_type": "markdown",
   "metadata": {},
   "source": [
    "The for-each loop *iterates* through a sequence of elements, such as a list but can be any iteratable object, such as a file on the disk. It is the most common kind of loop you will use. Here is the pattern:\n",
    "\n",
    "```\n",
    "for x in iterable_object:\n",
    "    process x in some way\n",
    "```\n",
    "\n",
    "For example:"
   ]
  },
  {
   "cell_type": "code",
   "execution_count": 8,
   "metadata": {},
   "outputs": [
    {
     "name": "stdout",
     "output_type": "stream",
     "text": [
      "PARRT\n",
      "MARY\n",
      "TOMBU\n"
     ]
    }
   ],
   "source": [
    "for name in ['parrt', 'mary', 'tombu']:\n",
    "    print(name.upper())"
   ]
  },
  {
   "cell_type": "markdown",
   "metadata": {},
   "source": [
    "We can iterate through more complicated objects too, such as the following numpy matrix:"
   ]
  },
  {
   "cell_type": "code",
   "execution_count": 9,
   "metadata": {},
   "outputs": [
    {
     "name": "stdout",
     "output_type": "stream",
     "text": [
      "[19 11]\n",
      "[21 15]\n",
      "[103  18]\n",
      "[99 13]\n",
      "[8 2]\n"
     ]
    }
   ],
   "source": [
    "import numpy as np\n",
    "A = np.array([[19,11],\n",
    "              [21,15],\n",
    "              [103,18],\n",
    "              [99,13],\n",
    "              [8,2]])\n",
    "for row in A:\n",
    "    print(row)"
   ]
  },
  {
   "cell_type": "markdown",
   "metadata": {},
   "source": [
    "Or even a dataframe:"
   ]
  },
  {
   "cell_type": "code",
   "execution_count": 10,
   "metadata": {},
   "outputs": [
    {
     "name": "stdout",
     "output_type": "stream",
     "text": [
      "Info 0099: parrt\n",
      "Info 0101: sri\n",
      "Info 0042: kayla\n"
     ]
    }
   ],
   "source": [
    "from pandas import DataFrame\n",
    "\n",
    "df = DataFrame(data=[[99,'parrt'],[101,'sri'],[42,'kayla']],\n",
    "               columns=['ID','user'])\n",
    "\n",
    "for row in df.itertuples():\n",
    "    print(f\"Info {row.ID:04d}: {row.user}\")"
   ]
  },
  {
   "cell_type": "markdown",
   "metadata": {},
   "source": [
    "A useful bit of Python magic gives us the iteration index as well as the iterated value:"
   ]
  },
  {
   "cell_type": "code",
   "execution_count": 11,
   "metadata": {},
   "outputs": [
    {
     "name": "stdout",
     "output_type": "stream",
     "text": [
      "1. [19 11]\n",
      "2. [21 15]\n",
      "3. [103  18]\n",
      "4. [99 13]\n",
      "5. [8 2]\n"
     ]
    }
   ],
   "source": [
    "for i,row in enumerate(A):\n",
    "    print(f\"{i+1}. {row}\")"
   ]
  },
  {
   "cell_type": "markdown",
   "metadata": {},
   "source": [
    "With this code pattern, our goal is to find a good iterated variable named, identify the conditional, and then identify the operation(s) to repeat. "
   ]
  },
  {
   "cell_type": "markdown",
   "metadata": {},
   "source": [
    "### Indexed loops"
   ]
  },
  {
   "cell_type": "markdown",
   "metadata": {},
   "source": [
    "It's sometimes useful to execute an indexed loop.  These are useful when we have to iterate through multiple lists at the same time. For example, if we have a list of names and their phone numbers, we might want to use an indexed loop:"
   ]
  },
  {
   "cell_type": "code",
   "execution_count": 12,
   "metadata": {},
   "outputs": [
    {
     "name": "stdout",
     "output_type": "stream",
     "text": [
      "   parrt: 5707\n",
      "    mary: 1001\n",
      "   tombu: 3412\n"
     ]
    }
   ],
   "source": [
    "names = ['parrt', 'mary', 'tombu']\n",
    "phones = ['5707', '1001', '3412']\n",
    "for i in range(len(names)):\n",
    "    name = names[i]\n",
    "    phone = phones[i]\n",
    "    print(f\"{name:>8}: {phone}\")"
   ]
  },
  {
   "cell_type": "markdown",
   "metadata": {},
   "source": [
    "### zip'd loops\n",
    "\n",
    "And here is how the cool kids do the same thing without an indexed loop (using a foreach):"
   ]
  },
  {
   "cell_type": "code",
   "execution_count": 13,
   "metadata": {},
   "outputs": [
    {
     "name": "stdout",
     "output_type": "stream",
     "text": [
      "   parrt: 5707\n",
      "    mary: 1001\n",
      "   tombu: 3412\n"
     ]
    }
   ],
   "source": [
    "for name, phone in zip(names,phones):\n",
    "    print(f\"{name:>8}: {phone}\")"
   ]
  },
  {
   "cell_type": "markdown",
   "metadata": {},
   "source": [
    "### Translating formulas"
   ]
  },
  {
   "cell_type": "markdown",
   "metadata": {},
   "source": [
    "Sigma notation from mathematics translates in a straightforward fashion to indexed loops. For example:\n",
    "\n",
    "<img src=\"images/formula-translation.png\" width=\"490\"> \n",
    "\n",
    "We pick elements from the summations and insert them into the template for an indexed loop."
   ]
  },
  {
   "cell_type": "markdown",
   "metadata": {},
   "source": [
    "## Exercises"
   ]
  },
  {
   "cell_type": "markdown",
   "metadata": {},
   "source": [
    "**Exercise**: Given a string containing the digits of a number, such as `s = \"501\"`, convert that number to an integer and print it out. Work backwards from the desired result, `n`. Recall that `501 = 5*100 + 0*10 + 1*1`. Start with the simplest possible bit of Python and then tidy it up using any cool constructs you know from Python. Hint: The cool kids will end up using \"Horner's rule.\" What happens if the string is empty?\n",
    "\n",
    "**Exercise**: Reuse that pattern to convert a string containing binary digits of a binary number, such as `s = \"1101\"`, to an integer, `n`, and print it out. 1101 binary is 13 in decimal.\n",
    "\n",
    "**Exercise**: Given two lists, such as `a = [9, 3]` and `b = [1, 4, 10]`, create and print a new list, `c`, containing alternating elements from the input lists.  In this case, the output would be `[9, 1, 3, 4, 10]`. Start by assuming the same number of elements and then try for the more general case. What happens if one or both lists are empty?\n",
    "\n",
    "**Exercise**: Python has a built-in function called `zip(a,b)` that is a handy way to get a list of tuples containing elements from lists `a` and `b`. For example, if `a = [9, 3]` and `b = [1, 4, 10]`, `zip(a,b)` gives a sequence of tuples `(9, 1), (3, 4)`. The built in `zip` stops when one of the lists of runs out of elements, but we want to fill in missing elements with `None`: you should get output list `c = [(9, 1), (3, 4), (None, 10)]`.  In this exercise, we use the ideas or even the code itself from the previous exercise to implement your own `zip` functionality. The only difference is that you should fill in missing elements with `None`.\n",
    "\n",
    "If you get stuck, or just to check your answers, you can check [my solutions](https://github.com/parrt/msan501/blob/master/notes/code/computation.py)."
   ]
  },
  {
   "cell_type": "markdown",
   "metadata": {},
   "source": [
    "## Summary"
   ]
  },
  {
   "cell_type": "markdown",
   "metadata": {},
   "source": [
    "Other than transferring data to and from memory, processors primarily perform arithmetic operations, such as \"cost + tax\".  Processors can also conditionally or repeatedly execute operations.\n",
    "\n",
    "When mapping real-world problems to pseudocode, you'll follow the program or function work plan and eventually work backwards from the desired result to identify a suitable sequence of operations. These operations will either map to our high level [programming operations](operations.md) or to the lower level pseudocode patterns described here.\n",
    "\n",
    "If you can't identify a higher level operation for a piece of the problem, try to map it to a conditional operation or a loop around one or more operations.\n",
    "\n",
    "For conditionals, you have to identify the conditional Boolean expression and the operation or operations that should be executed conditionally:\n",
    "\n",
    "if *condition*:<br>\n",
    "&nbsp;&nbsp;&nbsp;&nbsp;*operation 1*<br>\n",
    "&nbsp;&nbsp;&nbsp;&nbsp;*operation 2*<br>\n",
    "&nbsp;&nbsp;&nbsp;&nbsp;...\n",
    "\n",
    "If you need to execute code in case that condition fails, use this template:\n",
    "\n",
    "if *condition*:<br>\n",
    "&nbsp;&nbsp;&nbsp;&nbsp;*operation 1*<br>\n",
    "&nbsp;&nbsp;&nbsp;&nbsp;*operation 2*<br>\n",
    "&nbsp;&nbsp;&nbsp;&nbsp;...<br>\n",
    "else:<br>\n",
    "&nbsp;&nbsp;&nbsp;&nbsp;*operation 1*<br>\n",
    "&nbsp;&nbsp;&nbsp;&nbsp;*operation 2*<br>\n",
    "&nbsp;&nbsp;&nbsp;&nbsp;...\n",
    "\n",
    "For repeated execution, we have a generic loop that executes one or more operations while a condition is met:\n",
    "\n",
    "*loop setup, usually init counter or value to update in loop*<br>\n",
    "while *condition*:<br>\n",
    "&nbsp;&nbsp;&nbsp;&nbsp;*operation 1*<br>\n",
    "&nbsp;&nbsp;&nbsp;&nbsp;*operation 2*<br>\n",
    "&nbsp;&nbsp;&nbsp;&nbsp;...\n",
    "\n",
    "A very common version of a loop traverses a sequence, such as a list, with a variable that takes on each value of the sequence one at a time:\n",
    "\n",
    "for each *x* in *sequence*:<br>\n",
    "&nbsp;&nbsp;&nbsp;&nbsp;*operate on x*\n",
    "\n",
    "When iterating through multiple lists at the same time, we use an indexed list of the form:\n",
    "\n",
    "for *i* in *some integer_set or range*:<br>\n",
    "&nbsp;&nbsp;&nbsp;&nbsp;*operation 1*<br>\n",
    "&nbsp;&nbsp;&nbsp;&nbsp;*operation 2*<br>\n",
    "&nbsp;&nbsp;&nbsp;&nbsp;..."
   ]
  }
 ],
 "metadata": {
  "kernelspec": {
   "display_name": "Python 3",
   "language": "python",
   "name": "python3"
  },
  "language_info": {
   "codemirror_mode": {
    "name": "ipython",
    "version": 3
   },
   "file_extension": ".py",
   "mimetype": "text/x-python",
   "name": "python",
   "nbconvert_exporter": "python",
   "pygments_lexer": "ipython3",
   "version": "3.6.5"
  }
 },
 "nbformat": 4,
 "nbformat_minor": 2
}
