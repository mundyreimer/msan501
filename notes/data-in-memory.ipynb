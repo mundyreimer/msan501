{
 "cells": [
  {
   "cell_type": "markdown",
   "metadata": {},
   "source": [
    "# Representing data in memory"
   ]
  },
  {
   "cell_type": "markdown",
   "metadata": {},
   "source": [
    "A typical program outline calls for us to load data from disk and place into memory organized into data structures. The way we represent data in memory is critical to building programs. This is particularly true with data science programs because processing data is our focus.  \n",
    "\n",
    "First, let's get something straight about data. Data elements have *values* and *types*, such as `32` and *integer* or `\"hi\"` and *string*. We build the data structures by combining and organizing these data elements, such as a list of integers. \n",
    "\n",
    "We also have a special element called a *pointer* or *reference* that refers to another element. It's like a phone number \"points at\" a phone but is not the phone itself. Using the pointer we can get to the phone. A list of pointers is like a phone book with references to humans but the phone book is not actually a list of humans. (We will see later that even when we do something simple like `x=3`, the variable `x` is secretly a pointer to an integer object with the value of 3.)\n",
    "\n",
    "Next, let's take a small detour into computer architecture to get a handle on what it means to load something into memory."
   ]
  },
  {
   "cell_type": "markdown",
   "metadata": {},
   "source": [
    "## Computer architecture detour\n",
    "\n",
    "A computer consists of three primary components: a disk to hold data, a memory (that is wiped upon power off), and a processor (CPU) to process that data. Here is a picture of an actual CPU and some memory chips:\n",
    "\n",
    "<img src=\"images/cpu-memory.png\" width=\"400\">\n",
    "\n",
    "Computer memory (RAM == random access memory) is much faster but usually much smaller than the disk and all memory is lost when the computer powers off. Think of memory as your working or scratch space and the disk as your permanent storage. Memory chips are kind of like human short-term memory that is prone to disappearing versus a piece of paper which is slower to read and write but *persistent*.\n",
    "\n",
    "The memory is broken up into discrete cells of a fixed size. The size of a cell is one *byte*, which consists of 8 *bits*, binary on/off digits. It is sufficient to hold a number between 0 and 255. Each cell is identified by an integer address, just like the numbers on mailboxes (see image below and to the right). Processors can ask for the data at a particular address and can store a piece of data at a specific memory location as well. For example, here is an abstract representation of byte-addressable computer memory:\n",
    "\n",
    "<table border=\"0\">\n",
    "<tr>\n",
    "<td><img src=\"images/addresses.png\" width=\"80\">\n",
    "<td><img src=\"images/mailboxes.png\"  width=\"70\">\n",
    "</table>\n",
    "\n",
    "In this case, the memory has value 100 at address 0. At address 1, the memory has value 0. Address 4 has the maximum value we can store in a single byte: 255. \n",
    "\n",
    "**Everything from actual numbers to music to videos is stored using one or more of these atomic storage units called bytes.**\n",
    "\n",
    "**Everything is stored as a number or sequence of numbers in a computer, even text.**\n",
    "\n",
    "Data lives either in memory, on the disk, or can be retrieved from a network.  As part of producing a programming plan, you need to know where the data resides so you can incorporate loading that data into memory as part of the plan."
   ]
  },
  {
   "cell_type": "markdown",
   "metadata": {},
   "source": [
    "### Computer archicture metrics\n",
    "\n",
    "Here are the key units we use in computer architecture:\n",
    "\n",
    "* Kilo. $10^3 = 1,000$ or often $2^{10} = 1024$\n",
    "* Mega. $10^6 = 1,000,000$\n",
    "* Giga. $10^9 = 1,000,000,000$\n",
    "* Tera. $10^12 = 1,000,000,000,000$\n",
    "\n",
    "You need to know these units because you need to know whether a data set fits in memory or whether it fits on the disk or even how long it will take to transfer across the network. \n",
    "\n",
    "For example, when I started out, my first microcomputer had 16k of RAM, but my desktop now has 32G of RAM.  What is the ratio of memory size increase?  \n",
    "\n",
    "CPUs execute instructions to the heartbeat of a clock, which is where we get the term clock rate. Mhz (million herz==cycles/second), Ghz (billion) are the typically units in clock ticks per second. My desktop has a 4Ghz clock rate, which means that you can execute approximately 4 giga- or billion instructions per second. That's a lot.\n",
    "\n",
    "If your network is, say, 100Mbits/second that you can transfer a 800Mbit (100M byte) file in 8 seconds.\n",
    "\n",
    "How big is the San Francisco phonebook (uncompressed)? How fast can you transfer that phonebook across a 8Mbit/second network?\n"
   ]
  },
  {
   "cell_type": "markdown",
   "metadata": {},
   "source": [
    "## Programming language view of memory"
   ]
  },
  {
   "cell_type": "markdown",
   "metadata": {},
   "source": [
    "Programming languages present us with a higher level view of the memory in two ways: we can use names to refer to locations in memory and each memory cell can hold integer and real number values of arbitrary size (they do have a limit, but let's keep things simple for now). For example, here are two named values stored in memory:\n",
    "\n",
    "<img src=\"images/named-memory.png\" width=\"90\">"
   ]
  },
  {
   "cell_type": "code",
   "execution_count": 55,
   "metadata": {},
   "outputs": [],
   "source": [
    "units = 923\n",
    "price = 8.02"
   ]
  },
  {
   "cell_type": "markdown",
   "metadata": {},
   "source": [
    "<img src=\"images/redbang.png\" width=\"30\" align=\"left\">When referring to the kind of thing a value represents, we use the word **type**. The type of the \"units\" cell is integer and the type of \"price\" is real number (or floating-point number)."
   ]
  },
  {
   "cell_type": "code",
   "execution_count": 56,
   "metadata": {},
   "outputs": [
    {
     "data": {
      "text/plain": [
       "int"
      ]
     },
     "execution_count": 56,
     "metadata": {},
     "output_type": "execute_result"
    }
   ],
   "source": [
    "type(units)"
   ]
  },
  {
   "cell_type": "code",
   "execution_count": 57,
   "metadata": {},
   "outputs": [
    {
     "data": {
      "text/plain": [
       "float"
      ]
     },
     "execution_count": 57,
     "metadata": {},
     "output_type": "execute_result"
    }
   ],
   "source": [
    "type(price)"
   ]
  },
  {
   "cell_type": "markdown",
   "metadata": {},
   "source": [
    "Another very common value type is *string*, which is really a list of characters. We use strings to hold place names, book titles, and any other text-based values.  We can think of strings as being a single value because the programming language hides the details.  Strings can be arbitrarily long and the programming language stores the characters as a sequence of bytes in memory. Each character takes one or two bytes. In other words, we think of it as\n",
    "\n",
    "<img src=\"images/strings.png\" width=\"110\">"
   ]
  },
  {
   "cell_type": "code",
   "execution_count": 58,
   "metadata": {},
   "outputs": [],
   "source": [
    "name = \"Mary\""
   ]
  },
  {
   "cell_type": "code",
   "execution_count": 59,
   "metadata": {},
   "outputs": [
    {
     "data": {
      "text/plain": [
       "str"
      ]
     },
     "execution_count": 59,
     "metadata": {},
     "output_type": "execute_result"
    }
   ],
   "source": [
    "type(name)"
   ]
  },
  {
   "cell_type": "markdown",
   "metadata": {},
   "source": [
    "but it is really more like this:\n",
    "\n",
    "<img src=\"images/strings2.png\" width=\"110\">\n",
    "\n",
    "Using package [lolviz](https://github.com/parrt/lolviz) we can visualize even simple types like strings:"
   ]
  },
  {
   "cell_type": "code",
   "execution_count": 60,
   "metadata": {},
   "outputs": [
    {
     "data": {
      "image/svg+xml": [
       "<?xml version=\"1.0\" encoding=\"UTF-8\" standalone=\"no\"?>\n",
       "<!DOCTYPE svg PUBLIC \"-//W3C//DTD SVG 1.1//EN\"\n",
       " \"http://www.w3.org/Graphics/SVG/1.1/DTD/svg11.dtd\">\n",
       "<!-- Generated by graphviz version 2.40.1 (20161225.0304)\n",
       " -->\n",
       "<!-- Title: G Pages: 1 -->\n",
       "<svg width=\"56pt\" height=\"41pt\"\n",
       " viewBox=\"0.00 0.00 56.00 41.00\" xmlns=\"http://www.w3.org/2000/svg\" xmlns:xlink=\"http://www.w3.org/1999/xlink\">\n",
       "<g id=\"graph0\" class=\"graph\" transform=\"scale(1 1) rotate(0) translate(4 37)\">\n",
       "<title>G</title>\n",
       "<polygon fill=\"#ffffff\" stroke=\"transparent\" points=\"-4,4 -4,-37 52,-37 52,4 -4,4\"/>\n",
       "<!-- node4438334968 -->\n",
       "<g id=\"node1\" class=\"node\">\n",
       "<title>node4438334968</title>\n",
       "<polygon fill=\"#fefecd\" stroke=\"#444443\" stroke-width=\".5\" points=\"48,-33 0,-33 0,0 48,0 48,-33\"/>\n",
       "<polygon fill=\"#fbfeb0\" stroke=\"transparent\" points=\"10,-17.5 10,-28.5 17,-28.5 17,-17.5 10,-17.5\"/>\n",
       "<polyline fill=\"none\" stroke=\"#444443\" points=\"10,-17.5 17,-17.5 17,-28.5 \"/>\n",
       "<text text-anchor=\"start\" x=\"10.9973\" y=\"-20.3\" font-family=\"Helvetica,sans-Serif\" font-size=\"9.00\" fill=\"#444443\">0</text>\n",
       "<polygon fill=\"#fbfeb0\" stroke=\"transparent\" points=\"17,-17.5 17,-28.5 24,-28.5 24,-17.5 17,-17.5\"/>\n",
       "<polyline fill=\"none\" stroke=\"#444443\" points=\"17,-17.5 24,-17.5 24,-28.5 \"/>\n",
       "<text text-anchor=\"start\" x=\"17.9973\" y=\"-20.3\" font-family=\"Helvetica,sans-Serif\" font-size=\"9.00\" fill=\"#444443\">1</text>\n",
       "<polygon fill=\"#fbfeb0\" stroke=\"transparent\" points=\"24,-17.5 24,-28.5 31,-28.5 31,-17.5 24,-17.5\"/>\n",
       "<polyline fill=\"none\" stroke=\"#444443\" points=\"24,-17.5 31,-17.5 31,-28.5 \"/>\n",
       "<text text-anchor=\"start\" x=\"24.9973\" y=\"-20.3\" font-family=\"Helvetica,sans-Serif\" font-size=\"9.00\" fill=\"#444443\">2</text>\n",
       "<polygon fill=\"#fbfeb0\" stroke=\"transparent\" points=\"31,-17.5 31,-28.5 38,-28.5 38,-17.5 31,-17.5\"/>\n",
       "<polyline fill=\"none\" stroke=\"#444443\" points=\"31,-17.5 38,-17.5 \"/>\n",
       "<text text-anchor=\"start\" x=\"31.9973\" y=\"-20.3\" font-family=\"Helvetica,sans-Serif\" font-size=\"9.00\" fill=\"#444443\">3</text>\n",
       "<text text-anchor=\"start\" x=\"7.6636\" y=\"-6.3\" font-family=\"Helvetica,sans-Serif\" font-size=\"14.00\" fill=\"#444443\">&#39;</text>\n",
       "<polygon fill=\"#fbfeb0\" stroke=\"transparent\" points=\"10,-3.5 10,-17.5 17,-17.5 17,-3.5 10,-3.5\"/>\n",
       "<text text-anchor=\"start\" x=\"10.1995\" y=\"-8.7\" font-family=\"Monaco\" font-size=\"11.00\" fill=\"#444443\">M</text>\n",
       "<polygon fill=\"#fbfeb0\" stroke=\"transparent\" points=\"17,-3.5 17,-17.5 24,-17.5 24,-3.5 17,-3.5\"/>\n",
       "<text text-anchor=\"start\" x=\"17.1995\" y=\"-8.7\" font-family=\"Monaco\" font-size=\"11.00\" fill=\"#444443\">a</text>\n",
       "<polygon fill=\"#fbfeb0\" stroke=\"transparent\" points=\"24,-3.5 24,-17.5 31,-17.5 31,-3.5 24,-3.5\"/>\n",
       "<text text-anchor=\"start\" x=\"24.1995\" y=\"-8.7\" font-family=\"Monaco\" font-size=\"11.00\" fill=\"#444443\">r</text>\n",
       "<polygon fill=\"#fbfeb0\" stroke=\"transparent\" points=\"31,-3.5 31,-17.5 38,-17.5 38,-3.5 31,-3.5\"/>\n",
       "<text text-anchor=\"start\" x=\"31.1995\" y=\"-8.7\" font-family=\"Monaco\" font-size=\"11.00\" fill=\"#444443\">y</text>\n",
       "<text text-anchor=\"start\" x=\"37.6636\" y=\"-6.3\" font-family=\"Helvetica,sans-Serif\" font-size=\"14.00\" fill=\"#444443\">&#39;</text>\n",
       "</g>\n",
       "</g>\n",
       "</svg>\n"
      ],
      "text/plain": [
       "<graphviz.files.Source at 0x117093438>"
      ]
     },
     "execution_count": 60,
     "metadata": {},
     "output_type": "execute_result"
    }
   ],
   "source": [
    "from lolviz import *\n",
    "strviz(name)"
   ]
  },
  {
   "cell_type": "code",
   "execution_count": 61,
   "metadata": {},
   "outputs": [
    {
     "data": {
      "image/svg+xml": [
       "<?xml version=\"1.0\" encoding=\"UTF-8\" standalone=\"no\"?>\n",
       "<!DOCTYPE svg PUBLIC \"-//W3C//DTD SVG 1.1//EN\"\n",
       " \"http://www.w3.org/Graphics/SVG/1.1/DTD/svg11.dtd\">\n",
       "<!-- Generated by graphviz version 2.40.1 (20161225.0304)\n",
       " -->\n",
       "<!-- Title: G Pages: 1 -->\n",
       "<svg width=\"71pt\" height=\"38pt\"\n",
       " viewBox=\"0.00 0.00 71.00 38.00\" xmlns=\"http://www.w3.org/2000/svg\" xmlns:xlink=\"http://www.w3.org/1999/xlink\">\n",
       "<g id=\"graph0\" class=\"graph\" transform=\"scale(1 1) rotate(0) translate(4 34)\">\n",
       "<title>G</title>\n",
       "<polygon fill=\"#ffffff\" stroke=\"transparent\" points=\"-4,4 -4,-34 67,-34 67,4 -4,4\"/>\n",
       "<!-- node4681489096 -->\n",
       "<g id=\"node1\" class=\"node\">\n",
       "<title>node4681489096</title>\n",
       "<polygon fill=\"none\" stroke=\"#000000\" stroke-width=\".5\" points=\"63,-30 0,-30 0,0 63,0 63,-30\"/>\n",
       "<polygon fill=\"#fefecd\" stroke=\"transparent\" points=\"1.5,-18 1.5,-29 20.5,-29 20.5,-18 1.5,-18\"/>\n",
       "<polyline fill=\"none\" stroke=\"#000000\" points=\"1.5,-18 20.5,-18 20.5,-29 \"/>\n",
       "<text text-anchor=\"start\" x=\"8.4973\" y=\"-20.8\" font-family=\"Helvetica,sans-Serif\" font-size=\"9.00\" fill=\"#444443\">0</text>\n",
       "<polygon fill=\"#fefecd\" stroke=\"transparent\" points=\"20.5,-18 20.5,-29 36.5,-29 36.5,-18 20.5,-18\"/>\n",
       "<polyline fill=\"none\" stroke=\"#000000\" points=\"20.5,-18 36.5,-18 36.5,-29 \"/>\n",
       "<text text-anchor=\"start\" x=\"25.9973\" y=\"-20.8\" font-family=\"Helvetica,sans-Serif\" font-size=\"9.00\" fill=\"#444443\">1</text>\n",
       "<polygon fill=\"#fefecd\" stroke=\"transparent\" points=\"36.5,-18 36.5,-29 49.5,-29 49.5,-18 36.5,-18\"/>\n",
       "<polyline fill=\"none\" stroke=\"#000000\" points=\"36.5,-18 49.5,-18 49.5,-29 \"/>\n",
       "<text text-anchor=\"start\" x=\"40.4973\" y=\"-20.8\" font-family=\"Helvetica,sans-Serif\" font-size=\"9.00\" fill=\"#444443\">2</text>\n",
       "<polygon fill=\"#fefecd\" stroke=\"transparent\" points=\"49.5,-18 49.5,-29 62.5,-29 62.5,-18 49.5,-18\"/>\n",
       "<polyline fill=\"none\" stroke=\"#000000\" points=\"49.5,-18 62.5,-18 \"/>\n",
       "<text text-anchor=\"start\" x=\"53.4973\" y=\"-20.8\" font-family=\"Helvetica,sans-Serif\" font-size=\"9.00\" fill=\"#444443\">3</text>\n",
       "<polygon fill=\"#fefecd\" stroke=\"transparent\" points=\"1.5,-1 1.5,-18 20.5,-18 20.5,-1 1.5,-1\"/>\n",
       "<polyline fill=\"none\" stroke=\"#000000\" points=\"20.5,-1 20.5,-18 \"/>\n",
       "<text text-anchor=\"start\" x=\"4.3184\" y=\"-6.2\" font-family=\"Helvetica,sans-Serif\" font-size=\"11.00\" fill=\"#444443\">&#39;M&#39;</text>\n",
       "<polygon fill=\"#fefecd\" stroke=\"transparent\" points=\"20.5,-1 20.5,-18 36.5,-18 36.5,-1 20.5,-1\"/>\n",
       "<polyline fill=\"none\" stroke=\"#000000\" points=\"36.5,-1 36.5,-18 \"/>\n",
       "<text text-anchor=\"start\" x=\"23.3411\" y=\"-6.2\" font-family=\"Helvetica,sans-Serif\" font-size=\"11.00\" fill=\"#444443\">&#39;a&#39;</text>\n",
       "<polygon fill=\"#fefecd\" stroke=\"transparent\" points=\"36.5,-1 36.5,-18 49.5,-18 49.5,-1 36.5,-1\"/>\n",
       "<polyline fill=\"none\" stroke=\"#000000\" points=\"49.5,-1 49.5,-18 \"/>\n",
       "<text text-anchor=\"start\" x=\"39.0684\" y=\"-6.2\" font-family=\"Helvetica,sans-Serif\" font-size=\"11.00\" fill=\"#444443\">&#39;r&#39;</text>\n",
       "<polygon fill=\"#fefecd\" stroke=\"transparent\" points=\"49.5,-1 49.5,-18 62.5,-18 62.5,-1 49.5,-1\"/>\n",
       "<text text-anchor=\"start\" x=\"51.1499\" y=\"-6.2\" font-family=\"Helvetica,sans-Serif\" font-size=\"11.00\" fill=\"#444443\">&#39;y&#39;</text>\n",
       "</g>\n",
       "</g>\n",
       "</svg>\n"
      ],
      "text/plain": [
       "<graphviz.files.Source at 0x117093198>"
      ]
     },
     "execution_count": 61,
     "metadata": {},
     "output_type": "execute_result"
    }
   ],
   "source": [
    "objviz(name) # render as list of char"
   ]
  },
  {
   "cell_type": "markdown",
   "metadata": {},
   "source": [
    "These basic data types\n",
    "\n",
    "* integer numbers\n",
    "* floating-point numbers\n",
    "* strings\n",
    "\n",
    "are our building blocks. If we arrange some of these blocks together, we can create more complex structures."
   ]
  },
  {
   "cell_type": "markdown",
   "metadata": {},
   "source": [
    "## Data structures"
   ]
  },
  {
   "cell_type": "markdown",
   "metadata": {},
   "source": [
    "### List"
   ]
  },
  {
   "cell_type": "markdown",
   "metadata": {},
   "source": [
    "The most common *data structures* is the **list**, which is just a sequence of memory cells.  Because we're all familiar with spreadsheets, let's visualize these data structures using a spreadsheet.  Columns in a spreadsheet are really lists, such as the following lists/columns of integers, floating-point numbers, and strings:\n",
    "\n",
    "<table border=\"0\">\n",
    "<tr>\n",
    "<td><img src=\"images/int-list.png\" width=\"60\">\n",
    "<td><img src=\"images/float-list.png\" width=\"80\">\n",
    "<td><img src=\"images/names-list.png\" width=\"139\">\n",
    "</tr>\n",
    "</table>"
   ]
  },
  {
   "cell_type": "code",
   "execution_count": 62,
   "metadata": {},
   "outputs": [],
   "source": [
    "Quantity = [6, 49, 27, 30, 19, 21, 12, 22, 21]"
   ]
  },
  {
   "cell_type": "code",
   "execution_count": 63,
   "metadata": {},
   "outputs": [
    {
     "data": {
      "text/plain": [
       "list"
      ]
     },
     "execution_count": 63,
     "metadata": {},
     "output_type": "execute_result"
    }
   ],
   "source": [
    "type(Quantity)"
   ]
  },
  {
   "cell_type": "code",
   "execution_count": 64,
   "metadata": {},
   "outputs": [
    {
     "data": {
      "text/plain": [
       "9"
      ]
     },
     "execution_count": 64,
     "metadata": {},
     "output_type": "execute_result"
    }
   ],
   "source": [
    "len(Quantity)"
   ]
  },
  {
   "cell_type": "code",
   "execution_count": 65,
   "metadata": {},
   "outputs": [
    {
     "data": {
      "image/svg+xml": [
       "<?xml version=\"1.0\" encoding=\"UTF-8\" standalone=\"no\"?>\n",
       "<!DOCTYPE svg PUBLIC \"-//W3C//DTD SVG 1.1//EN\"\n",
       " \"http://www.w3.org/Graphics/SVG/1.1/DTD/svg11.dtd\">\n",
       "<!-- Generated by graphviz version 2.40.1 (20161225.0304)\n",
       " -->\n",
       "<!-- Title: G Pages: 1 -->\n",
       "<svg width=\"164pt\" height=\"38pt\"\n",
       " viewBox=\"0.00 0.00 164.00 38.00\" xmlns=\"http://www.w3.org/2000/svg\" xmlns:xlink=\"http://www.w3.org/1999/xlink\">\n",
       "<g id=\"graph0\" class=\"graph\" transform=\"scale(1 1) rotate(0) translate(4 34)\">\n",
       "<title>G</title>\n",
       "<polygon fill=\"#ffffff\" stroke=\"transparent\" points=\"-4,4 -4,-34 160,-34 160,4 -4,4\"/>\n",
       "<!-- node4681490056 -->\n",
       "<g id=\"node1\" class=\"node\">\n",
       "<title>node4681490056</title>\n",
       "<polygon fill=\"none\" stroke=\"#000000\" stroke-width=\".5\" points=\"156,-30 0,-30 0,0 156,0 156,-30\"/>\n",
       "<polygon fill=\"#fefecd\" stroke=\"transparent\" points=\"1,-18 1,-29 13,-29 13,-18 1,-18\"/>\n",
       "<polyline fill=\"none\" stroke=\"#000000\" points=\"1,-18 13,-18 13,-29 \"/>\n",
       "<text text-anchor=\"start\" x=\"4.4973\" y=\"-20.8\" font-family=\"Helvetica,sans-Serif\" font-size=\"9.00\" fill=\"#444443\">0</text>\n",
       "<polygon fill=\"#fefecd\" stroke=\"transparent\" points=\"13,-18 13,-29 31,-29 31,-18 13,-18\"/>\n",
       "<polyline fill=\"none\" stroke=\"#000000\" points=\"13,-18 31,-18 31,-29 \"/>\n",
       "<text text-anchor=\"start\" x=\"19.4973\" y=\"-20.8\" font-family=\"Helvetica,sans-Serif\" font-size=\"9.00\" fill=\"#444443\">1</text>\n",
       "<polygon fill=\"#fefecd\" stroke=\"transparent\" points=\"31,-18 31,-29 49,-29 49,-18 31,-18\"/>\n",
       "<polyline fill=\"none\" stroke=\"#000000\" points=\"31,-18 49,-18 49,-29 \"/>\n",
       "<text text-anchor=\"start\" x=\"37.4973\" y=\"-20.8\" font-family=\"Helvetica,sans-Serif\" font-size=\"9.00\" fill=\"#444443\">2</text>\n",
       "<polygon fill=\"#fefecd\" stroke=\"transparent\" points=\"49,-18 49,-29 67,-29 67,-18 49,-18\"/>\n",
       "<polyline fill=\"none\" stroke=\"#000000\" points=\"49,-18 67,-18 67,-29 \"/>\n",
       "<text text-anchor=\"start\" x=\"55.4973\" y=\"-20.8\" font-family=\"Helvetica,sans-Serif\" font-size=\"9.00\" fill=\"#444443\">3</text>\n",
       "<polygon fill=\"#fefecd\" stroke=\"transparent\" points=\"67,-18 67,-29 85,-29 85,-18 67,-18\"/>\n",
       "<polyline fill=\"none\" stroke=\"#000000\" points=\"67,-18 85,-18 85,-29 \"/>\n",
       "<text text-anchor=\"start\" x=\"73.4973\" y=\"-20.8\" font-family=\"Helvetica,sans-Serif\" font-size=\"9.00\" fill=\"#444443\">4</text>\n",
       "<polygon fill=\"#fefecd\" stroke=\"transparent\" points=\"85,-18 85,-29 103,-29 103,-18 85,-18\"/>\n",
       "<polyline fill=\"none\" stroke=\"#000000\" points=\"85,-18 103,-18 103,-29 \"/>\n",
       "<text text-anchor=\"start\" x=\"91.4973\" y=\"-20.8\" font-family=\"Helvetica,sans-Serif\" font-size=\"9.00\" fill=\"#444443\">5</text>\n",
       "<polygon fill=\"#fefecd\" stroke=\"transparent\" points=\"103,-18 103,-29 121,-29 121,-18 103,-18\"/>\n",
       "<polyline fill=\"none\" stroke=\"#000000\" points=\"103,-18 121,-18 121,-29 \"/>\n",
       "<text text-anchor=\"start\" x=\"109.4973\" y=\"-20.8\" font-family=\"Helvetica,sans-Serif\" font-size=\"9.00\" fill=\"#444443\">6</text>\n",
       "<polygon fill=\"#fefecd\" stroke=\"transparent\" points=\"121,-18 121,-29 139,-29 139,-18 121,-18\"/>\n",
       "<polyline fill=\"none\" stroke=\"#000000\" points=\"121,-18 139,-18 139,-29 \"/>\n",
       "<text text-anchor=\"start\" x=\"127.4973\" y=\"-20.8\" font-family=\"Helvetica,sans-Serif\" font-size=\"9.00\" fill=\"#444443\">7</text>\n",
       "<polygon fill=\"#fefecd\" stroke=\"transparent\" points=\"139,-18 139,-29 155,-29 155,-18 139,-18\"/>\n",
       "<polyline fill=\"none\" stroke=\"#000000\" points=\"139,-18 155,-18 \"/>\n",
       "<text text-anchor=\"start\" x=\"144.4973\" y=\"-20.8\" font-family=\"Helvetica,sans-Serif\" font-size=\"9.00\" fill=\"#444443\">8</text>\n",
       "<polygon fill=\"#fefecd\" stroke=\"transparent\" points=\"1,-1 1,-18 13,-18 13,-1 1,-1\"/>\n",
       "<polyline fill=\"none\" stroke=\"#000000\" points=\"13,-1 13,-18 \"/>\n",
       "<text text-anchor=\"start\" x=\"3.9412\" y=\"-6.2\" font-family=\"Helvetica,sans-Serif\" font-size=\"11.00\" fill=\"#444443\">6</text>\n",
       "<polygon fill=\"#fefecd\" stroke=\"transparent\" points=\"13,-1 13,-18 31,-18 31,-1 13,-1\"/>\n",
       "<polyline fill=\"none\" stroke=\"#000000\" points=\"31,-1 31,-18 \"/>\n",
       "<text text-anchor=\"start\" x=\"15.8823\" y=\"-6.2\" font-family=\"Helvetica,sans-Serif\" font-size=\"11.00\" fill=\"#444443\">49</text>\n",
       "<polygon fill=\"#fefecd\" stroke=\"transparent\" points=\"31,-1 31,-18 49,-18 49,-1 31,-1\"/>\n",
       "<polyline fill=\"none\" stroke=\"#000000\" points=\"49,-1 49,-18 \"/>\n",
       "<text text-anchor=\"start\" x=\"33.8823\" y=\"-6.2\" font-family=\"Helvetica,sans-Serif\" font-size=\"11.00\" fill=\"#444443\">27</text>\n",
       "<polygon fill=\"#fefecd\" stroke=\"transparent\" points=\"49,-1 49,-18 67,-18 67,-1 49,-1\"/>\n",
       "<polyline fill=\"none\" stroke=\"#000000\" points=\"67,-1 67,-18 \"/>\n",
       "<text text-anchor=\"start\" x=\"51.8823\" y=\"-6.2\" font-family=\"Helvetica,sans-Serif\" font-size=\"11.00\" fill=\"#444443\">30</text>\n",
       "<polygon fill=\"#fefecd\" stroke=\"transparent\" points=\"67,-1 67,-18 85,-18 85,-1 67,-1\"/>\n",
       "<polyline fill=\"none\" stroke=\"#000000\" points=\"85,-1 85,-18 \"/>\n",
       "<text text-anchor=\"start\" x=\"69.8823\" y=\"-6.2\" font-family=\"Helvetica,sans-Serif\" font-size=\"11.00\" fill=\"#444443\">19</text>\n",
       "<polygon fill=\"#fefecd\" stroke=\"transparent\" points=\"85,-1 85,-18 103,-18 103,-1 85,-1\"/>\n",
       "<polyline fill=\"none\" stroke=\"#000000\" points=\"103,-1 103,-18 \"/>\n",
       "<text text-anchor=\"start\" x=\"87.8823\" y=\"-6.2\" font-family=\"Helvetica,sans-Serif\" font-size=\"11.00\" fill=\"#444443\">21</text>\n",
       "<polygon fill=\"#fefecd\" stroke=\"transparent\" points=\"103,-1 103,-18 121,-18 121,-1 103,-1\"/>\n",
       "<polyline fill=\"none\" stroke=\"#000000\" points=\"121,-1 121,-18 \"/>\n",
       "<text text-anchor=\"start\" x=\"105.8823\" y=\"-6.2\" font-family=\"Helvetica,sans-Serif\" font-size=\"11.00\" fill=\"#444443\">12</text>\n",
       "<polygon fill=\"#fefecd\" stroke=\"transparent\" points=\"121,-1 121,-18 139,-18 139,-1 121,-1\"/>\n",
       "<polyline fill=\"none\" stroke=\"#000000\" points=\"139,-1 139,-18 \"/>\n",
       "<text text-anchor=\"start\" x=\"123.8823\" y=\"-6.2\" font-family=\"Helvetica,sans-Serif\" font-size=\"11.00\" fill=\"#444443\">22</text>\n",
       "<polygon fill=\"#fefecd\" stroke=\"transparent\" points=\"139,-1 139,-18 155,-18 155,-1 139,-1\"/>\n",
       "<text text-anchor=\"start\" x=\"140.8823\" y=\"-6.2\" font-family=\"Helvetica,sans-Serif\" font-size=\"11.00\" fill=\"#444443\">21</text>\n",
       "</g>\n",
       "</g>\n",
       "</svg>\n"
      ],
      "text/plain": [
       "<graphviz.files.Source at 0x1170935f8>"
      ]
     },
     "execution_count": 65,
     "metadata": {},
     "output_type": "execute_result"
    }
   ],
   "source": [
    "objviz(Quantity)"
   ]
  },
  {
   "cell_type": "markdown",
   "metadata": {},
   "source": [
    "We can think of the rows of a spreadsheet as lists also. For example, the header row of a spreadsheet is really a list of strings:\n",
    "\n",
    "<img src=\"images/header-row.png\" width=\"750\">"
   ]
  },
  {
   "cell_type": "code",
   "execution_count": 66,
   "metadata": {},
   "outputs": [
    {
     "data": {
      "text/plain": [
       "list"
      ]
     },
     "execution_count": 66,
     "metadata": {},
     "output_type": "execute_result"
    }
   ],
   "source": [
    "headers = ['Date', 'Quantity', 'Unit Price', 'Shipping']\n",
    "type(headers)"
   ]
  },
  {
   "cell_type": "code",
   "execution_count": 67,
   "metadata": {},
   "outputs": [
    {
     "data": {
      "image/svg+xml": [
       "<?xml version=\"1.0\" encoding=\"UTF-8\" standalone=\"no\"?>\n",
       "<!DOCTYPE svg PUBLIC \"-//W3C//DTD SVG 1.1//EN\"\n",
       " \"http://www.w3.org/Graphics/SVG/1.1/DTD/svg11.dtd\">\n",
       "<!-- Generated by graphviz version 2.40.1 (20161225.0304)\n",
       " -->\n",
       "<!-- Title: G Pages: 1 -->\n",
       "<svg width=\"202pt\" height=\"38pt\"\n",
       " viewBox=\"0.00 0.00 202.00 38.00\" xmlns=\"http://www.w3.org/2000/svg\" xmlns:xlink=\"http://www.w3.org/1999/xlink\">\n",
       "<g id=\"graph0\" class=\"graph\" transform=\"scale(1 1) rotate(0) translate(4 34)\">\n",
       "<title>G</title>\n",
       "<polygon fill=\"#ffffff\" stroke=\"transparent\" points=\"-4,4 -4,-34 198,-34 198,4 -4,4\"/>\n",
       "<!-- node4681417672 -->\n",
       "<g id=\"node1\" class=\"node\">\n",
       "<title>node4681417672</title>\n",
       "<polygon fill=\"none\" stroke=\"#000000\" stroke-width=\".5\" points=\"194,-30 0,-30 0,0 194,0 194,-30\"/>\n",
       "<polygon fill=\"#fefecd\" stroke=\"transparent\" points=\"1,-18 1,-29 34,-29 34,-18 1,-18\"/>\n",
       "<polyline fill=\"none\" stroke=\"#000000\" points=\"1,-18 34,-18 34,-29 \"/>\n",
       "<text text-anchor=\"start\" x=\"14.9973\" y=\"-20.8\" font-family=\"Helvetica,sans-Serif\" font-size=\"9.00\" fill=\"#444443\">0</text>\n",
       "<polygon fill=\"#fefecd\" stroke=\"transparent\" points=\"34,-18 34,-29 85,-29 85,-18 34,-18\"/>\n",
       "<polyline fill=\"none\" stroke=\"#000000\" points=\"34,-18 85,-18 85,-29 \"/>\n",
       "<text text-anchor=\"start\" x=\"56.9973\" y=\"-20.8\" font-family=\"Helvetica,sans-Serif\" font-size=\"9.00\" fill=\"#444443\">1</text>\n",
       "<polygon fill=\"#fefecd\" stroke=\"transparent\" points=\"85,-18 85,-29 142,-29 142,-18 85,-18\"/>\n",
       "<polyline fill=\"none\" stroke=\"#000000\" points=\"85,-18 142,-18 142,-29 \"/>\n",
       "<text text-anchor=\"start\" x=\"110.9973\" y=\"-20.8\" font-family=\"Helvetica,sans-Serif\" font-size=\"9.00\" fill=\"#444443\">2</text>\n",
       "<polygon fill=\"#fefecd\" stroke=\"transparent\" points=\"142,-18 142,-29 193,-29 193,-18 142,-18\"/>\n",
       "<polyline fill=\"none\" stroke=\"#000000\" points=\"142,-18 193,-18 \"/>\n",
       "<text text-anchor=\"start\" x=\"164.9973\" y=\"-20.8\" font-family=\"Helvetica,sans-Serif\" font-size=\"9.00\" fill=\"#444443\">3</text>\n",
       "<polygon fill=\"#fefecd\" stroke=\"transparent\" points=\"1,-1 1,-18 34,-18 34,-1 1,-1\"/>\n",
       "<polyline fill=\"none\" stroke=\"#000000\" points=\"34,-1 34,-18 \"/>\n",
       "<text text-anchor=\"start\" x=\"3.7822\" y=\"-6.2\" font-family=\"Helvetica,sans-Serif\" font-size=\"11.00\" fill=\"#444443\">&#39;Date&#39;</text>\n",
       "<polygon fill=\"#fefecd\" stroke=\"transparent\" points=\"34,-1 34,-18 85,-18 85,-1 34,-1\"/>\n",
       "<polyline fill=\"none\" stroke=\"#000000\" points=\"85,-1 85,-18 \"/>\n",
       "<text text-anchor=\"start\" x=\"36.9172\" y=\"-6.2\" font-family=\"Helvetica,sans-Serif\" font-size=\"11.00\" fill=\"#444443\">&#39;Quantity&#39;</text>\n",
       "<polygon fill=\"#fefecd\" stroke=\"transparent\" points=\"85,-1 85,-18 142,-18 142,-1 85,-1\"/>\n",
       "<polyline fill=\"none\" stroke=\"#000000\" points=\"142,-1 142,-18 \"/>\n",
       "<text text-anchor=\"start\" x=\"87.5603\" y=\"-6.2\" font-family=\"Helvetica,sans-Serif\" font-size=\"11.00\" fill=\"#444443\">&#39;Unit Price&#39;</text>\n",
       "<polygon fill=\"#fefecd\" stroke=\"transparent\" points=\"142,-1 142,-18 193,-18 193,-1 142,-1\"/>\n",
       "<text text-anchor=\"start\" x=\"143.9934\" y=\"-6.2\" font-family=\"Helvetica,sans-Serif\" font-size=\"11.00\" fill=\"#444443\">&#39;Shipping&#39;</text>\n",
       "</g>\n",
       "</g>\n",
       "</svg>\n"
      ],
      "text/plain": [
       "<graphviz.files.Source at 0x117093320>"
      ]
     },
     "execution_count": 67,
     "metadata": {},
     "output_type": "execute_result"
    }
   ],
   "source": [
    "objviz(headers)"
   ]
  },
  {
   "cell_type": "markdown",
   "metadata": {},
   "source": [
    "All of these lists have one thing in common: the type of element is the same. They are *homogeneous*. But, we can also have lists with *heterogeneous* elements, which is typically what we see in spreadsheet rows:\n",
    "\n",
    "<img src=\"images/sample-row.png\" width=\"800\">"
   ]
  },
  {
   "cell_type": "code",
   "execution_count": 68,
   "metadata": {},
   "outputs": [],
   "source": [
    "arow = ['10/13/10', 6, 38.94, 35, 'Muhammed MacIntyre']"
   ]
  },
  {
   "cell_type": "markdown",
   "metadata": {},
   "source": [
    "or"
   ]
  },
  {
   "cell_type": "code",
   "execution_count": 69,
   "metadata": {},
   "outputs": [
    {
     "data": {
      "text/plain": [
       "[datetime.date(2010, 10, 13), 6, 38.94, 35, 'Muhammed MacIntyre']"
      ]
     },
     "execution_count": 69,
     "metadata": {},
     "output_type": "execute_result"
    }
   ],
   "source": [
    "from datetime import date\n",
    "arow = [date(2010, 10, 13), 6, 38.94, 35, 'Muhammed MacIntyre']\n",
    "arow"
   ]
  },
  {
   "cell_type": "code",
   "execution_count": 70,
   "metadata": {},
   "outputs": [
    {
     "data": {
      "text/plain": [
       "list"
      ]
     },
     "execution_count": 70,
     "metadata": {},
     "output_type": "execute_result"
    }
   ],
   "source": [
    "type(arow)"
   ]
  },
  {
   "cell_type": "code",
   "execution_count": 71,
   "metadata": {},
   "outputs": [
    {
     "data": {
      "image/svg+xml": [
       "<?xml version=\"1.0\" encoding=\"UTF-8\" standalone=\"no\"?>\n",
       "<!DOCTYPE svg PUBLIC \"-//W3C//DTD SVG 1.1//EN\"\n",
       " \"http://www.w3.org/Graphics/SVG/1.1/DTD/svg11.dtd\">\n",
       "<!-- Generated by graphviz version 2.40.1 (20161225.0304)\n",
       " -->\n",
       "<!-- Title: G Pages: 1 -->\n",
       "<svg width=\"331pt\" height=\"38pt\"\n",
       " viewBox=\"0.00 0.00 331.00 38.00\" xmlns=\"http://www.w3.org/2000/svg\" xmlns:xlink=\"http://www.w3.org/1999/xlink\">\n",
       "<g id=\"graph0\" class=\"graph\" transform=\"scale(1 1) rotate(0) translate(4 34)\">\n",
       "<title>G</title>\n",
       "<polygon fill=\"#ffffff\" stroke=\"transparent\" points=\"-4,4 -4,-34 327,-34 327,4 -4,4\"/>\n",
       "<!-- node4681417032 -->\n",
       "<g id=\"node1\" class=\"node\">\n",
       "<title>node4681417032</title>\n",
       "<polygon fill=\"none\" stroke=\"#000000\" stroke-width=\".5\" points=\"323,-30 0,-30 0,0 323,0 323,-30\"/>\n",
       "<polygon fill=\"#fefecd\" stroke=\"transparent\" points=\"1.5,-18 1.5,-29 142.5,-29 142.5,-18 1.5,-18\"/>\n",
       "<polyline fill=\"none\" stroke=\"#000000\" points=\"1.5,-18 142.5,-18 142.5,-29 \"/>\n",
       "<text text-anchor=\"start\" x=\"69.4973\" y=\"-20.8\" font-family=\"Helvetica,sans-Serif\" font-size=\"9.00\" fill=\"#444443\">0</text>\n",
       "<polygon fill=\"#fefecd\" stroke=\"transparent\" points=\"142.5,-18 142.5,-29 154.5,-29 154.5,-18 142.5,-18\"/>\n",
       "<polyline fill=\"none\" stroke=\"#000000\" points=\"142.5,-18 154.5,-18 154.5,-29 \"/>\n",
       "<text text-anchor=\"start\" x=\"145.9973\" y=\"-20.8\" font-family=\"Helvetica,sans-Serif\" font-size=\"9.00\" fill=\"#444443\">1</text>\n",
       "<polygon fill=\"#fefecd\" stroke=\"transparent\" points=\"154.5,-18 154.5,-29 187.5,-29 187.5,-18 154.5,-18\"/>\n",
       "<polyline fill=\"none\" stroke=\"#000000\" points=\"154.5,-18 187.5,-18 187.5,-29 \"/>\n",
       "<text text-anchor=\"start\" x=\"168.4973\" y=\"-20.8\" font-family=\"Helvetica,sans-Serif\" font-size=\"9.00\" fill=\"#444443\">2</text>\n",
       "<polygon fill=\"#fefecd\" stroke=\"transparent\" points=\"187.5,-18 187.5,-29 205.5,-29 205.5,-18 187.5,-18\"/>\n",
       "<polyline fill=\"none\" stroke=\"#000000\" points=\"187.5,-18 205.5,-18 205.5,-29 \"/>\n",
       "<text text-anchor=\"start\" x=\"193.9973\" y=\"-20.8\" font-family=\"Helvetica,sans-Serif\" font-size=\"9.00\" fill=\"#444443\">3</text>\n",
       "<polygon fill=\"#fefecd\" stroke=\"transparent\" points=\"205.5,-18 205.5,-29 322.5,-29 322.5,-18 205.5,-18\"/>\n",
       "<polyline fill=\"none\" stroke=\"#000000\" points=\"205.5,-18 322.5,-18 \"/>\n",
       "<text text-anchor=\"start\" x=\"261.4973\" y=\"-20.8\" font-family=\"Helvetica,sans-Serif\" font-size=\"9.00\" fill=\"#444443\">4</text>\n",
       "<polygon fill=\"#fefecd\" stroke=\"transparent\" points=\"1.5,-1 1.5,-18 142.5,-18 142.5,-1 1.5,-1\"/>\n",
       "<polyline fill=\"none\" stroke=\"#000000\" points=\"142.5,-1 142.5,-18 \"/>\n",
       "<text text-anchor=\"start\" x=\"4.4263\" y=\"-6.2\" font-family=\"Helvetica,sans-Serif\" font-size=\"11.00\" fill=\"#444443\">datetime.date(2010, 10, 13)</text>\n",
       "<polygon fill=\"#fefecd\" stroke=\"transparent\" points=\"142.5,-1 142.5,-18 154.5,-18 154.5,-1 142.5,-1\"/>\n",
       "<polyline fill=\"none\" stroke=\"#000000\" points=\"154.5,-1 154.5,-18 \"/>\n",
       "<text text-anchor=\"start\" x=\"145.4412\" y=\"-6.2\" font-family=\"Helvetica,sans-Serif\" font-size=\"11.00\" fill=\"#444443\">6</text>\n",
       "<polygon fill=\"#fefecd\" stroke=\"transparent\" points=\"154.5,-1 154.5,-18 187.5,-18 187.5,-1 154.5,-1\"/>\n",
       "<polyline fill=\"none\" stroke=\"#000000\" points=\"187.5,-1 187.5,-18 \"/>\n",
       "<text text-anchor=\"start\" x=\"157.2366\" y=\"-6.2\" font-family=\"Helvetica,sans-Serif\" font-size=\"11.00\" fill=\"#444443\">38.94</text>\n",
       "<polygon fill=\"#fefecd\" stroke=\"transparent\" points=\"187.5,-1 187.5,-18 205.5,-18 205.5,-1 187.5,-1\"/>\n",
       "<polyline fill=\"none\" stroke=\"#000000\" points=\"205.5,-1 205.5,-18 \"/>\n",
       "<text text-anchor=\"start\" x=\"190.3823\" y=\"-6.2\" font-family=\"Helvetica,sans-Serif\" font-size=\"11.00\" fill=\"#444443\">35</text>\n",
       "<polygon fill=\"#fefecd\" stroke=\"transparent\" points=\"205.5,-1 205.5,-18 322.5,-18 322.5,-1 205.5,-1\"/>\n",
       "<text text-anchor=\"start\" x=\"207.1873\" y=\"-6.2\" font-family=\"Helvetica,sans-Serif\" font-size=\"11.00\" fill=\"#444443\">&#39;Muhammed MacIntyre&#39;</text>\n",
       "</g>\n",
       "</g>\n",
       "</svg>\n"
      ],
      "text/plain": [
       "<graphviz.files.Source at 0x117093a58>"
      ]
     },
     "execution_count": 71,
     "metadata": {},
     "output_type": "execute_result"
    }
   ],
   "source": [
    "listviz(arow)"
   ]
  },
  {
   "cell_type": "markdown",
   "metadata": {},
   "source": [
    "Heterogeneous lists are typically used to group bits of information about a particular entity. In machine learning, we call this a **feature vector**, an **instance**, or an **observation**.  For example, an apples versus oranges classifier might have feature vectors containing weight (number), volume (number), and color (string).  The important point here is that a list can also be used to as a way to aggregate features about a particular entity. The sequence of the elements is less important than the fact that they are contained (aggregated) within the same list."
   ]
  },
  {
   "cell_type": "markdown",
   "metadata": {},
   "source": [
    "### Tuple\n",
    "\n",
    "A tuple is an immutable list and is often used for returning multiple values from a function. It's also a simple way to group number of related elements such as:"
   ]
  },
  {
   "cell_type": "code",
   "execution_count": 72,
   "metadata": {},
   "outputs": [
    {
     "data": {
      "text/plain": [
       "('parrt', 607)"
      ]
     },
     "execution_count": 72,
     "metadata": {},
     "output_type": "execute_result"
    }
   ],
   "source": [
    "me = ('parrt',607)\n",
    "me"
   ]
  },
  {
   "cell_type": "markdown",
   "metadata": {},
   "source": [
    "We index the elements just like we do with a list:"
   ]
  },
  {
   "cell_type": "code",
   "execution_count": 73,
   "metadata": {},
   "outputs": [
    {
     "name": "stdout",
     "output_type": "stream",
     "text": [
      "parrt\n",
      "607\n"
     ]
    }
   ],
   "source": [
    "print(me[0])\n",
    "print(me[1])"
   ]
  },
  {
   "cell_type": "markdown",
   "metadata": {},
   "source": [
    "But, there's no way to change the elements, as there is with a list. If we do:\n",
    "\n",
    "```python\n",
    "me[0] = 'tombu'\n",
    "```\n",
    "\n",
    "the result is an error:\n",
    "\n",
    "```\n",
    "TypeError: 'tuple' object does not support item assignment\n",
    "```"
   ]
  },
  {
   "cell_type": "markdown",
   "metadata": {},
   "source": [
    "Here's an example of pulling apart a tuple using the multiple assignment statement:"
   ]
  },
  {
   "cell_type": "code",
   "execution_count": 74,
   "metadata": {},
   "outputs": [
    {
     "name": "stdout",
     "output_type": "stream",
     "text": [
      "parrt\n",
      "607\n"
     ]
    }
   ],
   "source": [
    "userid,office = me\n",
    "print(userid)\n",
    "print(office)"
   ]
  },
  {
   "cell_type": "markdown",
   "metadata": {},
   "source": [
    "Tuples are a great way to group related items without having to create a formal Python class definition."
   ]
  },
  {
   "cell_type": "markdown",
   "metadata": {},
   "source": [
    "### Set"
   ]
  },
  {
   "cell_type": "markdown",
   "metadata": {},
   "source": [
    "If we enforce a rule that all elements within a list are unique, then we get a **set**. Sets are unordered."
   ]
  },
  {
   "cell_type": "code",
   "execution_count": 75,
   "metadata": {},
   "outputs": [
    {
     "data": {
      "text/plain": [
       "{100, 102, 103, 113, 121}"
      ]
     },
     "execution_count": 75,
     "metadata": {},
     "output_type": "execute_result"
    }
   ],
   "source": [
    "ids = {100, 103, 121, 102, 113, 113, 113, 113}\n",
    "ids"
   ]
  },
  {
   "cell_type": "code",
   "execution_count": 76,
   "metadata": {},
   "outputs": [
    {
     "data": {
      "text/plain": [
       "set"
      ]
     },
     "execution_count": 76,
     "metadata": {},
     "output_type": "execute_result"
    }
   ],
   "source": [
    "type(ids)"
   ]
  },
  {
   "cell_type": "code",
   "execution_count": 77,
   "metadata": {},
   "outputs": [
    {
     "data": {
      "image/svg+xml": [
       "<?xml version=\"1.0\" encoding=\"UTF-8\" standalone=\"no\"?>\n",
       "<!DOCTYPE svg PUBLIC \"-//W3C//DTD SVG 1.1//EN\"\n",
       " \"http://www.w3.org/Graphics/SVG/1.1/DTD/svg11.dtd\">\n",
       "<!-- Generated by graphviz version 2.40.1 (20161225.0304)\n",
       " -->\n",
       "<!-- Title: G Pages: 1 -->\n",
       "<svg width=\"127pt\" height=\"38pt\"\n",
       " viewBox=\"0.00 0.00 127.00 38.00\" xmlns=\"http://www.w3.org/2000/svg\" xmlns:xlink=\"http://www.w3.org/1999/xlink\">\n",
       "<g id=\"graph0\" class=\"graph\" transform=\"scale(1 1) rotate(0) translate(4 34)\">\n",
       "<title>G</title>\n",
       "<polygon fill=\"#ffffff\" stroke=\"transparent\" points=\"-4,4 -4,-34 123,-34 123,4 -4,4\"/>\n",
       "<!-- node4681420232 -->\n",
       "<g id=\"node1\" class=\"node\">\n",
       "<title>node4681420232</title>\n",
       "<polygon fill=\"none\" stroke=\"#000000\" stroke-width=\".5\" points=\"119,-30 0,-30 0,0 119,0 119,-30\"/>\n",
       "<polygon fill=\"#fefecd\" stroke=\"transparent\" points=\"1.5,-18 1.5,-29 25.5,-29 25.5,-18 1.5,-18\"/>\n",
       "<polyline fill=\"none\" stroke=\"#000000\" points=\"1.5,-18 25.5,-18 25.5,-29 \"/>\n",
       "<text text-anchor=\"start\" x=\"10.9973\" y=\"-20.8\" font-family=\"Helvetica,sans-Serif\" font-size=\"9.00\" fill=\"#444443\">0</text>\n",
       "<polygon fill=\"#fefecd\" stroke=\"transparent\" points=\"25.5,-18 25.5,-29 49.5,-29 49.5,-18 25.5,-18\"/>\n",
       "<polyline fill=\"none\" stroke=\"#000000\" points=\"25.5,-18 49.5,-18 49.5,-29 \"/>\n",
       "<text text-anchor=\"start\" x=\"34.9973\" y=\"-20.8\" font-family=\"Helvetica,sans-Serif\" font-size=\"9.00\" fill=\"#444443\">1</text>\n",
       "<polygon fill=\"#fefecd\" stroke=\"transparent\" points=\"49.5,-18 49.5,-29 73.5,-29 73.5,-18 49.5,-18\"/>\n",
       "<polyline fill=\"none\" stroke=\"#000000\" points=\"49.5,-18 73.5,-18 73.5,-29 \"/>\n",
       "<text text-anchor=\"start\" x=\"58.9973\" y=\"-20.8\" font-family=\"Helvetica,sans-Serif\" font-size=\"9.00\" fill=\"#444443\">2</text>\n",
       "<polygon fill=\"#fefecd\" stroke=\"transparent\" points=\"73.5,-18 73.5,-29 96.5,-29 96.5,-18 73.5,-18\"/>\n",
       "<polyline fill=\"none\" stroke=\"#000000\" points=\"73.5,-18 96.5,-18 96.5,-29 \"/>\n",
       "<text text-anchor=\"start\" x=\"82.4973\" y=\"-20.8\" font-family=\"Helvetica,sans-Serif\" font-size=\"9.00\" fill=\"#444443\">3</text>\n",
       "<polygon fill=\"#fefecd\" stroke=\"transparent\" points=\"96.5,-18 96.5,-29 118.5,-29 118.5,-18 96.5,-18\"/>\n",
       "<polyline fill=\"none\" stroke=\"#000000\" points=\"96.5,-18 118.5,-18 \"/>\n",
       "<text text-anchor=\"start\" x=\"104.9973\" y=\"-20.8\" font-family=\"Helvetica,sans-Serif\" font-size=\"9.00\" fill=\"#444443\">4</text>\n",
       "<polygon fill=\"#fefecd\" stroke=\"transparent\" points=\"1.5,-1 1.5,-18 25.5,-18 25.5,-1 1.5,-1\"/>\n",
       "<polyline fill=\"none\" stroke=\"#000000\" points=\"25.5,-1 25.5,-18 \"/>\n",
       "<text text-anchor=\"start\" x=\"4.3235\" y=\"-6.2\" font-family=\"Helvetica,sans-Serif\" font-size=\"11.00\" fill=\"#444443\">100</text>\n",
       "<polygon fill=\"#fefecd\" stroke=\"transparent\" points=\"25.5,-1 25.5,-18 49.5,-18 49.5,-1 25.5,-1\"/>\n",
       "<polyline fill=\"none\" stroke=\"#000000\" points=\"49.5,-1 49.5,-18 \"/>\n",
       "<text text-anchor=\"start\" x=\"28.3235\" y=\"-6.2\" font-family=\"Helvetica,sans-Serif\" font-size=\"11.00\" fill=\"#444443\">102</text>\n",
       "<polygon fill=\"#fefecd\" stroke=\"transparent\" points=\"49.5,-1 49.5,-18 73.5,-18 73.5,-1 49.5,-1\"/>\n",
       "<polyline fill=\"none\" stroke=\"#000000\" points=\"73.5,-1 73.5,-18 \"/>\n",
       "<text text-anchor=\"start\" x=\"52.3235\" y=\"-6.2\" font-family=\"Helvetica,sans-Serif\" font-size=\"11.00\" fill=\"#444443\">103</text>\n",
       "<polygon fill=\"#fefecd\" stroke=\"transparent\" points=\"73.5,-1 73.5,-18 96.5,-18 96.5,-1 73.5,-1\"/>\n",
       "<polyline fill=\"none\" stroke=\"#000000\" points=\"96.5,-1 96.5,-18 \"/>\n",
       "<text text-anchor=\"start\" x=\"76.229\" y=\"-6.2\" font-family=\"Helvetica,sans-Serif\" font-size=\"11.00\" fill=\"#444443\">113</text>\n",
       "<polygon fill=\"#fefecd\" stroke=\"transparent\" points=\"96.5,-1 96.5,-18 118.5,-18 118.5,-1 96.5,-1\"/>\n",
       "<text text-anchor=\"start\" x=\"98.3235\" y=\"-6.2\" font-family=\"Helvetica,sans-Serif\" font-size=\"11.00\" fill=\"#444443\">121</text>\n",
       "</g>\n",
       "</g>\n",
       "</svg>\n"
      ],
      "text/plain": [
       "<graphviz.files.Source at 0x117093e10>"
      ]
     },
     "execution_count": 77,
     "metadata": {},
     "output_type": "execute_result"
    }
   ],
   "source": [
    "objviz(ids)"
   ]
  },
  {
   "cell_type": "markdown",
   "metadata": {},
   "source": [
    "We can do lots of fun set arithmetic:"
   ]
  },
  {
   "cell_type": "code",
   "execution_count": 78,
   "metadata": {},
   "outputs": [
    {
     "data": {
      "text/plain": [
       "{100, 102, 109}"
      ]
     },
     "execution_count": 78,
     "metadata": {},
     "output_type": "execute_result"
    }
   ],
   "source": [
    "{100,102}.union({109})"
   ]
  },
  {
   "cell_type": "code",
   "execution_count": 79,
   "metadata": {},
   "outputs": [
    {
     "data": {
      "text/plain": [
       "{100}"
      ]
     },
     "execution_count": 79,
     "metadata": {},
     "output_type": "execute_result"
    }
   ],
   "source": [
    "{100,102}.intersection({100,119})"
   ]
  },
  {
   "cell_type": "markdown",
   "metadata": {},
   "source": [
    "### Tables (list of lists)"
   ]
  },
  {
   "cell_type": "markdown",
   "metadata": {},
   "source": [
    "Spreadsheets arrange rows one after the other, which programmers interpret as a *list of lists.* In the analytics or database world, we call this a **table**:\n",
    "\n",
    "<img src=\"images/rows.png\" width=\"700\">\n",
    "\n",
    "In this example, each row represents a sales transaction.\n",
    "\n",
    "The input to machine learning algorithms is often a table where each row aggregates the data associated with a specific instance or observation. These tables are called **dataframes** and will become your BFF."
   ]
  },
  {
   "cell_type": "code",
   "execution_count": 80,
   "metadata": {},
   "outputs": [
    {
     "data": {
      "text/html": [
       "<div>\n",
       "<style scoped>\n",
       "    .dataframe tbody tr th:only-of-type {\n",
       "        vertical-align: middle;\n",
       "    }\n",
       "\n",
       "    .dataframe tbody tr th {\n",
       "        vertical-align: top;\n",
       "    }\n",
       "\n",
       "    .dataframe thead th {\n",
       "        text-align: right;\n",
       "    }\n",
       "</style>\n",
       "<table border=\"1\" class=\"dataframe\">\n",
       "  <thead>\n",
       "    <tr style=\"text-align: right;\">\n",
       "      <th></th>\n",
       "      <th>ID</th>\n",
       "      <th>user</th>\n",
       "    </tr>\n",
       "  </thead>\n",
       "  <tbody>\n",
       "    <tr>\n",
       "      <th>0</th>\n",
       "      <td>99</td>\n",
       "      <td>parrt</td>\n",
       "    </tr>\n",
       "    <tr>\n",
       "      <th>1</th>\n",
       "      <td>101</td>\n",
       "      <td>sri</td>\n",
       "    </tr>\n",
       "    <tr>\n",
       "      <th>2</th>\n",
       "      <td>42</td>\n",
       "      <td>kayla</td>\n",
       "    </tr>\n",
       "  </tbody>\n",
       "</table>\n",
       "</div>"
      ],
      "text/plain": [
       "    ID   user\n",
       "0   99  parrt\n",
       "1  101    sri\n",
       "2   42  kayla"
      ]
     },
     "execution_count": 80,
     "metadata": {},
     "output_type": "execute_result"
    }
   ],
   "source": [
    "from pandas import DataFrame\n",
    "\n",
    "df = DataFrame(data=[[99,'parrt'],[101,'sri'],[42,'kayla']],\n",
    "               columns=['ID','user'])\n",
    "df"
   ]
  },
  {
   "cell_type": "code",
   "execution_count": 81,
   "metadata": {},
   "outputs": [
    {
     "data": {
      "text/plain": [
       "array([[99, 'parrt'],\n",
       "       [101, 'sri'],\n",
       "       [42, 'kayla']], dtype=object)"
      ]
     },
     "execution_count": 81,
     "metadata": {},
     "output_type": "execute_result"
    }
   ],
   "source": [
    "df.values"
   ]
  },
  {
   "cell_type": "code",
   "execution_count": 82,
   "metadata": {},
   "outputs": [
    {
     "data": {
      "text/plain": [
       "Index(['ID', 'user'], dtype='object')"
      ]
     },
     "execution_count": 82,
     "metadata": {},
     "output_type": "execute_result"
    }
   ],
   "source": [
    "df.columns"
   ]
  },
  {
   "cell_type": "code",
   "execution_count": 83,
   "metadata": {},
   "outputs": [
    {
     "data": {
      "text/plain": [
       "0    parrt\n",
       "1      sri\n",
       "2    kayla\n",
       "Name: user, dtype: object"
      ]
     },
     "execution_count": 83,
     "metadata": {},
     "output_type": "execute_result"
    }
   ],
   "source": [
    "df.user"
   ]
  },
  {
   "cell_type": "code",
   "execution_count": 84,
   "metadata": {},
   "outputs": [
    {
     "data": {
      "image/svg+xml": [
       "<?xml version=\"1.0\" encoding=\"UTF-8\" standalone=\"no\"?>\n",
       "<!DOCTYPE svg PUBLIC \"-//W3C//DTD SVG 1.1//EN\"\n",
       " \"http://www.w3.org/Graphics/SVG/1.1/DTD/svg11.dtd\">\n",
       "<!-- Generated by graphviz version 2.40.1 (20161225.0304)\n",
       " -->\n",
       "<!-- Title: G Pages: 1 -->\n",
       "<svg width=\"61pt\" height=\"58pt\"\n",
       " viewBox=\"0.00 0.00 61.00 58.00\" xmlns=\"http://www.w3.org/2000/svg\" xmlns:xlink=\"http://www.w3.org/1999/xlink\">\n",
       "<g id=\"graph0\" class=\"graph\" transform=\"scale(1 1) rotate(0) translate(4 54)\">\n",
       "<title>G</title>\n",
       "<polygon fill=\"#ffffff\" stroke=\"transparent\" points=\"-4,4 -4,-54 57,-54 57,4 -4,4\"/>\n",
       "<!-- node4681496656 -->\n",
       "<g id=\"node1\" class=\"node\">\n",
       "<title>node4681496656</title>\n",
       "<polygon fill=\"none\" stroke=\"#000000\" stroke-width=\".5\" points=\"53,-50 0,-50 0,0 53,0 53,-50\"/>\n",
       "<polygon fill=\"#fefecd\" stroke=\"transparent\" points=\"1.5,-33 1.5,-49 23.5,-49 23.5,-33 1.5,-33\"/>\n",
       "<text text-anchor=\"start\" x=\"6.9385\" y=\"-38\" font-family=\"Helvetica,sans-Serif\" font-size=\"10.00\" fill=\"#444443\">99</text>\n",
       "<polygon fill=\"#fefecd\" stroke=\"transparent\" points=\"23.5,-33 23.5,-49 52.5,-49 52.5,-33 23.5,-33\"/>\n",
       "<text text-anchor=\"start\" x=\"27.7192\" y=\"-38\" font-family=\"Helvetica,sans-Serif\" font-size=\"10.00\" fill=\"#444443\">parrt</text>\n",
       "<polygon fill=\"#fefecd\" stroke=\"transparent\" points=\"1.5,-17 1.5,-33 23.5,-33 23.5,-17 1.5,-17\"/>\n",
       "<text text-anchor=\"start\" x=\"4.1577\" y=\"-22\" font-family=\"Helvetica,sans-Serif\" font-size=\"10.00\" fill=\"#444443\">101</text>\n",
       "<polygon fill=\"#fefecd\" stroke=\"transparent\" points=\"23.5,-17 23.5,-33 52.5,-33 52.5,-17 23.5,-17\"/>\n",
       "<text text-anchor=\"start\" x=\"32.7241\" y=\"-22\" font-family=\"Helvetica,sans-Serif\" font-size=\"10.00\" fill=\"#444443\">sri</text>\n",
       "<polygon fill=\"#fefecd\" stroke=\"transparent\" points=\"1.5,-1 1.5,-17 23.5,-17 23.5,-1 1.5,-1\"/>\n",
       "<text text-anchor=\"start\" x=\"6.9385\" y=\"-6\" font-family=\"Helvetica,sans-Serif\" font-size=\"10.00\" fill=\"#444443\">42</text>\n",
       "<polygon fill=\"#fefecd\" stroke=\"transparent\" points=\"23.5,-1 23.5,-17 52.5,-17 52.5,-1 23.5,-1\"/>\n",
       "<text text-anchor=\"start\" x=\"26.3276\" y=\"-6\" font-family=\"Helvetica,sans-Serif\" font-size=\"10.00\" fill=\"#444443\">kayla</text>\n",
       "</g>\n",
       "</g>\n",
       "</svg>\n"
      ],
      "text/plain": [
       "<graphviz.files.Source at 0x1170a2320>"
      ]
     },
     "execution_count": 84,
     "metadata": {},
     "output_type": "execute_result"
    }
   ],
   "source": [
    "objviz(df.values)"
   ]
  },
  {
   "cell_type": "markdown",
   "metadata": {},
   "source": [
    "### Matrix"
   ]
  },
  {
   "cell_type": "markdown",
   "metadata": {},
   "source": [
    "If the table elements are all numbers, we call it a **matrix**. Here's a matrix with 5 rows and 2 columns:\n",
    "\n",
    "<img src=\"images/matrix.png\" width=\"110\">\n",
    "\n",
    "Let me introduce you to another of your new BFF, `numpy`:"
   ]
  },
  {
   "cell_type": "code",
   "execution_count": 85,
   "metadata": {},
   "outputs": [
    {
     "name": "stdout",
     "output_type": "stream",
     "text": [
      "[[ 19  11]\n",
      " [ 21  15]\n",
      " [103  18]\n",
      " [ 99  13]\n",
      " [  8   2]]\n"
     ]
    }
   ],
   "source": [
    "import numpy as np\n",
    "A = np.array([[19,11],\n",
    "              [21,15],\n",
    "              [103,18],\n",
    "              [99,13],\n",
    "              [8,2]])\n",
    "print(A)"
   ]
  },
  {
   "cell_type": "markdown",
   "metadata": {},
   "source": [
    "That is a matrix with shape 5 rows, 2 columns:"
   ]
  },
  {
   "cell_type": "code",
   "execution_count": 86,
   "metadata": {},
   "outputs": [
    {
     "data": {
      "text/plain": [
       "(5, 2)"
      ]
     },
     "execution_count": 86,
     "metadata": {},
     "output_type": "execute_result"
    }
   ],
   "source": [
    "A.shape"
   ]
  },
  {
   "cell_type": "markdown",
   "metadata": {},
   "source": [
    "There are many ways to represent or layout things and memory. In this case, we can view the matrix as a list of lists using lolviz:"
   ]
  },
  {
   "cell_type": "code",
   "execution_count": 87,
   "metadata": {},
   "outputs": [
    {
     "data": {
      "image/svg+xml": [
       "<?xml version=\"1.0\" encoding=\"UTF-8\" standalone=\"no\"?>\n",
       "<!DOCTYPE svg PUBLIC \"-//W3C//DTD SVG 1.1//EN\"\n",
       " \"http://www.w3.org/Graphics/SVG/1.1/DTD/svg11.dtd\">\n",
       "<!-- Generated by graphviz version 2.40.1 (20161225.0304)\n",
       " -->\n",
       "<!-- Title: G Pages: 1 -->\n",
       "<svg width=\"92pt\" height=\"174pt\"\n",
       " viewBox=\"0.00 0.00 92.00 174.00\" xmlns=\"http://www.w3.org/2000/svg\" xmlns:xlink=\"http://www.w3.org/1999/xlink\">\n",
       "<g id=\"graph0\" class=\"graph\" transform=\"scale(1 1) rotate(0) translate(4 170)\">\n",
       "<title>G</title>\n",
       "<polygon fill=\"#ffffff\" stroke=\"transparent\" points=\"-4,4 -4,-170 88,-170 88,4 -4,4\"/>\n",
       "<!-- node4659770760 -->\n",
       "<g id=\"node1\" class=\"node\">\n",
       "<title>node4659770760</title>\n",
       "<polygon fill=\"#cfe2d4\" stroke=\"#444443\" stroke-width=\".5\" points=\"13,-122.5 0,-122.5 0,-45.5 13,-45.5 13,-122.5\"/>\n",
       "<polygon fill=\"#cfe2d4\" stroke=\"transparent\" points=\"1.5,-106 1.5,-121 12.5,-121 12.5,-106 1.5,-106\"/>\n",
       "<polyline fill=\"none\" stroke=\"#444443\" points=\"1.5,-106 12.5,-106 \"/>\n",
       "<text text-anchor=\"start\" x=\"4.4973\" y=\"-110.8\" font-family=\"Helvetica,sans-Serif\" font-size=\"9.00\" fill=\"#444443\">0</text>\n",
       "<polygon fill=\"#cfe2d4\" stroke=\"transparent\" points=\"1.5,-91 1.5,-106 12.5,-106 12.5,-91 1.5,-91\"/>\n",
       "<polyline fill=\"none\" stroke=\"#444443\" points=\"1.5,-91 12.5,-91 \"/>\n",
       "<text text-anchor=\"start\" x=\"4.4973\" y=\"-95.8\" font-family=\"Helvetica,sans-Serif\" font-size=\"9.00\" fill=\"#444443\">1</text>\n",
       "<polygon fill=\"#cfe2d4\" stroke=\"transparent\" points=\"1.5,-76 1.5,-91 12.5,-91 12.5,-76 1.5,-76\"/>\n",
       "<polyline fill=\"none\" stroke=\"#444443\" points=\"1.5,-76 12.5,-76 \"/>\n",
       "<text text-anchor=\"start\" x=\"4.4973\" y=\"-80.8\" font-family=\"Helvetica,sans-Serif\" font-size=\"9.00\" fill=\"#444443\">2</text>\n",
       "<polygon fill=\"#cfe2d4\" stroke=\"transparent\" points=\"1.5,-61 1.5,-76 12.5,-76 12.5,-61 1.5,-61\"/>\n",
       "<polyline fill=\"none\" stroke=\"#444443\" points=\"1.5,-61 12.5,-61 \"/>\n",
       "<text text-anchor=\"start\" x=\"4.4973\" y=\"-65.8\" font-family=\"Helvetica,sans-Serif\" font-size=\"9.00\" fill=\"#444443\">3</text>\n",
       "<polygon fill=\"#cfe2d4\" stroke=\"transparent\" points=\"1.5,-46 1.5,-61 12.5,-61 12.5,-46 1.5,-46\"/>\n",
       "<text text-anchor=\"start\" x=\"4.4973\" y=\"-50.8\" font-family=\"Helvetica,sans-Serif\" font-size=\"9.00\" fill=\"#444443\">4</text>\n",
       "</g>\n",
       "<!-- node4681511688 -->\n",
       "<g id=\"node2\" class=\"node\">\n",
       "<title>node4681511688</title>\n",
       "<polygon fill=\"none\" stroke=\"#000000\" stroke-width=\".5\" points=\"80.5,-166 45.5,-166 45.5,-136 80.5,-136 80.5,-166\"/>\n",
       "<polygon fill=\"#fefecd\" stroke=\"transparent\" points=\"47,-154 47,-165 65,-165 65,-154 47,-154\"/>\n",
       "<polyline fill=\"none\" stroke=\"#000000\" points=\"47,-154 65,-154 65,-165 \"/>\n",
       "<text text-anchor=\"start\" x=\"53.4973\" y=\"-156.8\" font-family=\"Helvetica,sans-Serif\" font-size=\"9.00\" fill=\"#444443\">0</text>\n",
       "<polygon fill=\"#fefecd\" stroke=\"transparent\" points=\"65,-154 65,-165 80,-165 80,-154 65,-154\"/>\n",
       "<polyline fill=\"none\" stroke=\"#000000\" points=\"65,-154 80,-154 \"/>\n",
       "<text text-anchor=\"start\" x=\"69.9973\" y=\"-156.8\" font-family=\"Helvetica,sans-Serif\" font-size=\"9.00\" fill=\"#444443\">1</text>\n",
       "<polygon fill=\"#fefecd\" stroke=\"transparent\" points=\"47,-137 47,-154 65,-154 65,-137 47,-137\"/>\n",
       "<polyline fill=\"none\" stroke=\"#000000\" points=\"65,-137 65,-154 \"/>\n",
       "<text text-anchor=\"start\" x=\"49.8823\" y=\"-142.2\" font-family=\"Helvetica,sans-Serif\" font-size=\"11.00\" fill=\"#444443\">19</text>\n",
       "<polygon fill=\"#fefecd\" stroke=\"transparent\" points=\"65,-137 65,-154 80,-154 80,-137 65,-137\"/>\n",
       "<text text-anchor=\"start\" x=\"66.7878\" y=\"-142.2\" font-family=\"Helvetica,sans-Serif\" font-size=\"11.00\" fill=\"#444443\">11</text>\n",
       "</g>\n",
       "<!-- node4659770760&#45;&gt;node4681511688 -->\n",
       "<g id=\"edge1\" class=\"edge\">\n",
       "<title>node4659770760:0&#45;&gt;node4681511688:w</title>\n",
       "<path fill=\"none\" stroke=\"#444443\" stroke-width=\".5\" d=\"M12.5,-114C32.8485,-114 24.5341,-145.9798 40.8519,-150.477\"/>\n",
       "<polygon fill=\"#444443\" stroke=\"#444443\" stroke-width=\".5\" points=\"40.8563,-151.8885 45,-151 41.2066,-149.1105 40.8563,-151.8885\"/>\n",
       "</g>\n",
       "<!-- node4681512712 -->\n",
       "<g id=\"node3\" class=\"node\">\n",
       "<title>node4681512712</title>\n",
       "<polygon fill=\"none\" stroke=\"#000000\" stroke-width=\".5\" points=\"81,-132 45,-132 45,-102 81,-102 81,-132\"/>\n",
       "<polygon fill=\"#fefecd\" stroke=\"transparent\" points=\"46,-120 46,-131 64,-131 64,-120 46,-120\"/>\n",
       "<polyline fill=\"none\" stroke=\"#000000\" points=\"46,-120 64,-120 64,-131 \"/>\n",
       "<text text-anchor=\"start\" x=\"52.4973\" y=\"-122.8\" font-family=\"Helvetica,sans-Serif\" font-size=\"9.00\" fill=\"#444443\">0</text>\n",
       "<polygon fill=\"#fefecd\" stroke=\"transparent\" points=\"64,-120 64,-131 80,-131 80,-120 64,-120\"/>\n",
       "<polyline fill=\"none\" stroke=\"#000000\" points=\"64,-120 80,-120 \"/>\n",
       "<text text-anchor=\"start\" x=\"69.4973\" y=\"-122.8\" font-family=\"Helvetica,sans-Serif\" font-size=\"9.00\" fill=\"#444443\">1</text>\n",
       "<polygon fill=\"#fefecd\" stroke=\"transparent\" points=\"46,-103 46,-120 64,-120 64,-103 46,-103\"/>\n",
       "<polyline fill=\"none\" stroke=\"#000000\" points=\"64,-103 64,-120 \"/>\n",
       "<text text-anchor=\"start\" x=\"48.8823\" y=\"-108.2\" font-family=\"Helvetica,sans-Serif\" font-size=\"11.00\" fill=\"#444443\">21</text>\n",
       "<polygon fill=\"#fefecd\" stroke=\"transparent\" points=\"64,-103 64,-120 80,-120 80,-103 64,-103\"/>\n",
       "<text text-anchor=\"start\" x=\"65.8823\" y=\"-108.2\" font-family=\"Helvetica,sans-Serif\" font-size=\"11.00\" fill=\"#444443\">15</text>\n",
       "</g>\n",
       "<!-- node4659770760&#45;&gt;node4681512712 -->\n",
       "<g id=\"edge2\" class=\"edge\">\n",
       "<title>node4659770760:1&#45;&gt;node4681512712:w</title>\n",
       "<path fill=\"none\" stroke=\"#444443\" stroke-width=\".5\" d=\"M12.5,-99C27.4639,-99 28.4366,-113.7832 40.7771,-116.5551\"/>\n",
       "<polygon fill=\"#444443\" stroke=\"#444443\" stroke-width=\".5\" points=\"40.8753,-117.9731 45,-117 41.1688,-115.1885 40.8753,-117.9731\"/>\n",
       "</g>\n",
       "<!-- node4681510984 -->\n",
       "<g id=\"node4\" class=\"node\">\n",
       "<title>node4681510984</title>\n",
       "<polygon fill=\"none\" stroke=\"#000000\" stroke-width=\".5\" points=\"84,-98 42,-98 42,-68 84,-68 84,-98\"/>\n",
       "<polygon fill=\"#fefecd\" stroke=\"transparent\" points=\"43,-86 43,-97 67,-97 67,-86 43,-86\"/>\n",
       "<polyline fill=\"none\" stroke=\"#000000\" points=\"43,-86 67,-86 67,-97 \"/>\n",
       "<text text-anchor=\"start\" x=\"52.4973\" y=\"-88.8\" font-family=\"Helvetica,sans-Serif\" font-size=\"9.00\" fill=\"#444443\">0</text>\n",
       "<polygon fill=\"#fefecd\" stroke=\"transparent\" points=\"67,-86 67,-97 83,-97 83,-86 67,-86\"/>\n",
       "<polyline fill=\"none\" stroke=\"#000000\" points=\"67,-86 83,-86 \"/>\n",
       "<text text-anchor=\"start\" x=\"72.4973\" y=\"-88.8\" font-family=\"Helvetica,sans-Serif\" font-size=\"9.00\" fill=\"#444443\">1</text>\n",
       "<polygon fill=\"#fefecd\" stroke=\"transparent\" points=\"43,-69 43,-86 67,-86 67,-69 43,-69\"/>\n",
       "<polyline fill=\"none\" stroke=\"#000000\" points=\"67,-69 67,-86 \"/>\n",
       "<text text-anchor=\"start\" x=\"45.8235\" y=\"-74.2\" font-family=\"Helvetica,sans-Serif\" font-size=\"11.00\" fill=\"#444443\">103</text>\n",
       "<polygon fill=\"#fefecd\" stroke=\"transparent\" points=\"67,-69 67,-86 83,-86 83,-69 67,-69\"/>\n",
       "<text text-anchor=\"start\" x=\"68.8823\" y=\"-74.2\" font-family=\"Helvetica,sans-Serif\" font-size=\"11.00\" fill=\"#444443\">18</text>\n",
       "</g>\n",
       "<!-- node4659770760&#45;&gt;node4681510984 -->\n",
       "<g id=\"edge3\" class=\"edge\">\n",
       "<title>node4659770760:2&#45;&gt;node4681510984:w</title>\n",
       "<path fill=\"none\" stroke=\"#444443\" stroke-width=\".5\" d=\"M12.5,-83C24.0747,-83 27.9856,-83 37.7641,-83\"/>\n",
       "<polygon fill=\"#444443\" stroke=\"#444443\" stroke-width=\".5\" points=\"38,-84.4001 42,-83 38,-81.6001 38,-84.4001\"/>\n",
       "</g>\n",
       "<!-- node4681512968 -->\n",
       "<g id=\"node5\" class=\"node\">\n",
       "<title>node4681512968</title>\n",
       "<polygon fill=\"none\" stroke=\"#000000\" stroke-width=\".5\" points=\"81,-64 45,-64 45,-34 81,-34 81,-64\"/>\n",
       "<polygon fill=\"#fefecd\" stroke=\"transparent\" points=\"46,-52 46,-63 64,-63 64,-52 46,-52\"/>\n",
       "<polyline fill=\"none\" stroke=\"#000000\" points=\"46,-52 64,-52 64,-63 \"/>\n",
       "<text text-anchor=\"start\" x=\"52.4973\" y=\"-54.8\" font-family=\"Helvetica,sans-Serif\" font-size=\"9.00\" fill=\"#444443\">0</text>\n",
       "<polygon fill=\"#fefecd\" stroke=\"transparent\" points=\"64,-52 64,-63 80,-63 80,-52 64,-52\"/>\n",
       "<polyline fill=\"none\" stroke=\"#000000\" points=\"64,-52 80,-52 \"/>\n",
       "<text text-anchor=\"start\" x=\"69.4973\" y=\"-54.8\" font-family=\"Helvetica,sans-Serif\" font-size=\"9.00\" fill=\"#444443\">1</text>\n",
       "<polygon fill=\"#fefecd\" stroke=\"transparent\" points=\"46,-35 46,-52 64,-52 64,-35 46,-35\"/>\n",
       "<polyline fill=\"none\" stroke=\"#000000\" points=\"64,-35 64,-52 \"/>\n",
       "<text text-anchor=\"start\" x=\"48.8823\" y=\"-40.2\" font-family=\"Helvetica,sans-Serif\" font-size=\"11.00\" fill=\"#444443\">99</text>\n",
       "<polygon fill=\"#fefecd\" stroke=\"transparent\" points=\"64,-35 64,-52 80,-52 80,-35 64,-35\"/>\n",
       "<text text-anchor=\"start\" x=\"65.8823\" y=\"-40.2\" font-family=\"Helvetica,sans-Serif\" font-size=\"11.00\" fill=\"#444443\">13</text>\n",
       "</g>\n",
       "<!-- node4659770760&#45;&gt;node4681512968 -->\n",
       "<g id=\"edge4\" class=\"edge\">\n",
       "<title>node4659770760:3&#45;&gt;node4681512968:w</title>\n",
       "<path fill=\"none\" stroke=\"#444443\" stroke-width=\".5\" d=\"M12.5,-68C27.6631,-68 28.2934,-52.3955 40.7316,-49.4697\"/>\n",
       "<polygon fill=\"#444443\" stroke=\"#444443\" stroke-width=\".5\" points=\"41.1771,-50.8292 45,-49 40.8708,-48.046 41.1771,-50.8292\"/>\n",
       "</g>\n",
       "<!-- node4681512520 -->\n",
       "<g id=\"node6\" class=\"node\">\n",
       "<title>node4681512520</title>\n",
       "<polygon fill=\"none\" stroke=\"#000000\" stroke-width=\".5\" points=\"75,-30 51,-30 51,0 75,0 75,-30\"/>\n",
       "<polygon fill=\"#fefecd\" stroke=\"transparent\" points=\"52,-18 52,-29 64,-29 64,-18 52,-18\"/>\n",
       "<polyline fill=\"none\" stroke=\"#000000\" points=\"52,-18 64,-18 64,-29 \"/>\n",
       "<text text-anchor=\"start\" x=\"55.4973\" y=\"-20.8\" font-family=\"Helvetica,sans-Serif\" font-size=\"9.00\" fill=\"#444443\">0</text>\n",
       "<polygon fill=\"#fefecd\" stroke=\"transparent\" points=\"64,-18 64,-29 74,-29 74,-18 64,-18\"/>\n",
       "<polyline fill=\"none\" stroke=\"#000000\" points=\"64,-18 74,-18 \"/>\n",
       "<text text-anchor=\"start\" x=\"66.4973\" y=\"-20.8\" font-family=\"Helvetica,sans-Serif\" font-size=\"9.00\" fill=\"#444443\">1</text>\n",
       "<polygon fill=\"#fefecd\" stroke=\"transparent\" points=\"52,-1 52,-18 64,-18 64,-1 52,-1\"/>\n",
       "<polyline fill=\"none\" stroke=\"#000000\" points=\"64,-1 64,-18 \"/>\n",
       "<text text-anchor=\"start\" x=\"54.9412\" y=\"-6.2\" font-family=\"Helvetica,sans-Serif\" font-size=\"11.00\" fill=\"#444443\">8</text>\n",
       "<polygon fill=\"#fefecd\" stroke=\"transparent\" points=\"64,-1 64,-18 74,-18 74,-1 64,-1\"/>\n",
       "<text text-anchor=\"start\" x=\"65.9412\" y=\"-6.2\" font-family=\"Helvetica,sans-Serif\" font-size=\"11.00\" fill=\"#444443\">2</text>\n",
       "</g>\n",
       "<!-- node4659770760&#45;&gt;node4681512520 -->\n",
       "<g id=\"edge5\" class=\"edge\">\n",
       "<title>node4659770760:4&#45;&gt;node4681512520:w</title>\n",
       "<path fill=\"none\" stroke=\"#444443\" stroke-width=\".5\" d=\"M12.5,-53C35.0395,-53 28.0245,-19.6016 46.8697,-15.4268\"/>\n",
       "<polygon fill=\"#444443\" stroke=\"#444443\" stroke-width=\".5\" points=\"47.1651,-16.8038 51,-15 46.8773,-14.0186 47.1651,-16.8038\"/>\n",
       "</g>\n",
       "</g>\n",
       "</svg>\n"
      ],
      "text/plain": [
       "<graphviz.files.Source at 0x1170a2780>"
      ]
     },
     "execution_count": 87,
     "metadata": {},
     "output_type": "execute_result"
    }
   ],
   "source": [
    "lolviz(A.tolist())"
   ]
  },
  {
   "cell_type": "markdown",
   "metadata": {},
   "source": [
    "Or as a matrix"
   ]
  },
  {
   "cell_type": "code",
   "execution_count": 88,
   "metadata": {},
   "outputs": [
    {
     "data": {
      "image/svg+xml": [
       "<?xml version=\"1.0\" encoding=\"UTF-8\" standalone=\"no\"?>\n",
       "<!DOCTYPE svg PUBLIC \"-//W3C//DTD SVG 1.1//EN\"\n",
       " \"http://www.w3.org/Graphics/SVG/1.1/DTD/svg11.dtd\">\n",
       "<!-- Generated by graphviz version 2.40.1 (20161225.0304)\n",
       " -->\n",
       "<!-- Title: G Pages: 1 -->\n",
       "<svg width=\"49pt\" height=\"90pt\"\n",
       " viewBox=\"0.00 0.00 49.00 90.00\" xmlns=\"http://www.w3.org/2000/svg\" xmlns:xlink=\"http://www.w3.org/1999/xlink\">\n",
       "<g id=\"graph0\" class=\"graph\" transform=\"scale(1 1) rotate(0) translate(4 86)\">\n",
       "<title>G</title>\n",
       "<polygon fill=\"#ffffff\" stroke=\"transparent\" points=\"-4,4 -4,-86 45,-86 45,4 -4,4\"/>\n",
       "<!-- node4681535536 -->\n",
       "<g id=\"node1\" class=\"node\">\n",
       "<title>node4681535536</title>\n",
       "<polygon fill=\"none\" stroke=\"#000000\" stroke-width=\".5\" points=\"41,-82 0,-82 0,0 41,0 41,-82\"/>\n",
       "<polygon fill=\"#fefecd\" stroke=\"transparent\" points=\"1.5,-65 1.5,-81 23.5,-81 23.5,-65 1.5,-65\"/>\n",
       "<text text-anchor=\"start\" x=\"6.9385\" y=\"-70\" font-family=\"Helvetica,sans-Serif\" font-size=\"10.00\" fill=\"#444443\">19</text>\n",
       "<polygon fill=\"#fefecd\" stroke=\"transparent\" points=\"23.5,-65 23.5,-81 40.5,-81 40.5,-65 23.5,-65\"/>\n",
       "<text text-anchor=\"start\" x=\"26.8071\" y=\"-70\" font-family=\"Helvetica,sans-Serif\" font-size=\"10.00\" fill=\"#444443\">11</text>\n",
       "<polygon fill=\"#fefecd\" stroke=\"transparent\" points=\"1.5,-49 1.5,-65 23.5,-65 23.5,-49 1.5,-49\"/>\n",
       "<text text-anchor=\"start\" x=\"6.9385\" y=\"-54\" font-family=\"Helvetica,sans-Serif\" font-size=\"10.00\" fill=\"#444443\">21</text>\n",
       "<polygon fill=\"#fefecd\" stroke=\"transparent\" points=\"23.5,-49 23.5,-65 40.5,-65 40.5,-49 23.5,-49\"/>\n",
       "<text text-anchor=\"start\" x=\"26.4385\" y=\"-54\" font-family=\"Helvetica,sans-Serif\" font-size=\"10.00\" fill=\"#444443\">15</text>\n",
       "<polygon fill=\"#fefecd\" stroke=\"transparent\" points=\"1.5,-33 1.5,-49 23.5,-49 23.5,-33 1.5,-33\"/>\n",
       "<text text-anchor=\"start\" x=\"4.1577\" y=\"-38\" font-family=\"Helvetica,sans-Serif\" font-size=\"10.00\" fill=\"#444443\">103</text>\n",
       "<polygon fill=\"#fefecd\" stroke=\"transparent\" points=\"23.5,-33 23.5,-49 40.5,-49 40.5,-33 23.5,-33\"/>\n",
       "<text text-anchor=\"start\" x=\"26.4385\" y=\"-38\" font-family=\"Helvetica,sans-Serif\" font-size=\"10.00\" fill=\"#444443\">18</text>\n",
       "<polygon fill=\"#fefecd\" stroke=\"transparent\" points=\"1.5,-17 1.5,-33 23.5,-33 23.5,-17 1.5,-17\"/>\n",
       "<text text-anchor=\"start\" x=\"6.9385\" y=\"-22\" font-family=\"Helvetica,sans-Serif\" font-size=\"10.00\" fill=\"#444443\">99</text>\n",
       "<polygon fill=\"#fefecd\" stroke=\"transparent\" points=\"23.5,-17 23.5,-33 40.5,-33 40.5,-17 23.5,-17\"/>\n",
       "<text text-anchor=\"start\" x=\"26.4385\" y=\"-22\" font-family=\"Helvetica,sans-Serif\" font-size=\"10.00\" fill=\"#444443\">13</text>\n",
       "<polygon fill=\"#fefecd\" stroke=\"transparent\" points=\"1.5,-1 1.5,-17 23.5,-17 23.5,-1 1.5,-1\"/>\n",
       "<text text-anchor=\"start\" x=\"9.7192\" y=\"-6\" font-family=\"Helvetica,sans-Serif\" font-size=\"10.00\" fill=\"#444443\">8</text>\n",
       "<polygon fill=\"#fefecd\" stroke=\"transparent\" points=\"23.5,-1 23.5,-17 40.5,-17 40.5,-1 23.5,-1\"/>\n",
       "<text text-anchor=\"start\" x=\"29.2192\" y=\"-6\" font-family=\"Helvetica,sans-Serif\" font-size=\"10.00\" fill=\"#444443\">2</text>\n",
       "</g>\n",
       "</g>\n",
       "</svg>\n"
      ],
      "text/plain": [
       "<graphviz.files.Source at 0x1170a2208>"
      ]
     },
     "execution_count": 88,
     "metadata": {},
     "output_type": "execute_result"
    }
   ],
   "source": [
    "objviz(A)"
   ]
  },
  {
   "cell_type": "markdown",
   "metadata": {},
   "source": [
    "We can do lots of matrix math with numpy:"
   ]
  },
  {
   "cell_type": "code",
   "execution_count": 89,
   "metadata": {},
   "outputs": [
    {
     "data": {
      "image/svg+xml": [
       "<?xml version=\"1.0\" encoding=\"UTF-8\" standalone=\"no\"?>\n",
       "<!DOCTYPE svg PUBLIC \"-//W3C//DTD SVG 1.1//EN\"\n",
       " \"http://www.w3.org/Graphics/SVG/1.1/DTD/svg11.dtd\">\n",
       "<!-- Generated by graphviz version 2.40.1 (20161225.0304)\n",
       " -->\n",
       "<!-- Title: G Pages: 1 -->\n",
       "<svg width=\"49pt\" height=\"90pt\"\n",
       " viewBox=\"0.00 0.00 49.00 90.00\" xmlns=\"http://www.w3.org/2000/svg\" xmlns:xlink=\"http://www.w3.org/1999/xlink\">\n",
       "<g id=\"graph0\" class=\"graph\" transform=\"scale(1 1) rotate(0) translate(4 86)\">\n",
       "<title>G</title>\n",
       "<polygon fill=\"#ffffff\" stroke=\"transparent\" points=\"-4,4 -4,-86 45,-86 45,4 -4,4\"/>\n",
       "<!-- node4681536656 -->\n",
       "<g id=\"node1\" class=\"node\">\n",
       "<title>node4681536656</title>\n",
       "<polygon fill=\"none\" stroke=\"#000000\" stroke-width=\".5\" points=\"41,-82 0,-82 0,0 41,0 41,-82\"/>\n",
       "<polygon fill=\"#fefecd\" stroke=\"transparent\" points=\"1.5,-65 1.5,-81 23.5,-81 23.5,-65 1.5,-65\"/>\n",
       "<text text-anchor=\"start\" x=\"6.9385\" y=\"-70\" font-family=\"Helvetica,sans-Serif\" font-size=\"10.00\" fill=\"#444443\">38</text>\n",
       "<polygon fill=\"#fefecd\" stroke=\"transparent\" points=\"23.5,-65 23.5,-81 40.5,-81 40.5,-65 23.5,-65\"/>\n",
       "<text text-anchor=\"start\" x=\"26.4385\" y=\"-70\" font-family=\"Helvetica,sans-Serif\" font-size=\"10.00\" fill=\"#444443\">22</text>\n",
       "<polygon fill=\"#fefecd\" stroke=\"transparent\" points=\"1.5,-49 1.5,-65 23.5,-65 23.5,-49 1.5,-49\"/>\n",
       "<text text-anchor=\"start\" x=\"6.9385\" y=\"-54\" font-family=\"Helvetica,sans-Serif\" font-size=\"10.00\" fill=\"#444443\">42</text>\n",
       "<polygon fill=\"#fefecd\" stroke=\"transparent\" points=\"23.5,-49 23.5,-65 40.5,-65 40.5,-49 23.5,-49\"/>\n",
       "<text text-anchor=\"start\" x=\"26.4385\" y=\"-54\" font-family=\"Helvetica,sans-Serif\" font-size=\"10.00\" fill=\"#444443\">30</text>\n",
       "<polygon fill=\"#fefecd\" stroke=\"transparent\" points=\"1.5,-33 1.5,-49 23.5,-49 23.5,-33 1.5,-33\"/>\n",
       "<text text-anchor=\"start\" x=\"4.1577\" y=\"-38\" font-family=\"Helvetica,sans-Serif\" font-size=\"10.00\" fill=\"#444443\">206</text>\n",
       "<polygon fill=\"#fefecd\" stroke=\"transparent\" points=\"23.5,-33 23.5,-49 40.5,-49 40.5,-33 23.5,-33\"/>\n",
       "<text text-anchor=\"start\" x=\"26.4385\" y=\"-38\" font-family=\"Helvetica,sans-Serif\" font-size=\"10.00\" fill=\"#444443\">36</text>\n",
       "<polygon fill=\"#fefecd\" stroke=\"transparent\" points=\"1.5,-17 1.5,-33 23.5,-33 23.5,-17 1.5,-17\"/>\n",
       "<text text-anchor=\"start\" x=\"4.1577\" y=\"-22\" font-family=\"Helvetica,sans-Serif\" font-size=\"10.00\" fill=\"#444443\">198</text>\n",
       "<polygon fill=\"#fefecd\" stroke=\"transparent\" points=\"23.5,-17 23.5,-33 40.5,-33 40.5,-17 23.5,-17\"/>\n",
       "<text text-anchor=\"start\" x=\"26.4385\" y=\"-22\" font-family=\"Helvetica,sans-Serif\" font-size=\"10.00\" fill=\"#444443\">26</text>\n",
       "<polygon fill=\"#fefecd\" stroke=\"transparent\" points=\"1.5,-1 1.5,-17 23.5,-17 23.5,-1 1.5,-1\"/>\n",
       "<text text-anchor=\"start\" x=\"6.9385\" y=\"-6\" font-family=\"Helvetica,sans-Serif\" font-size=\"10.00\" fill=\"#444443\">16</text>\n",
       "<polygon fill=\"#fefecd\" stroke=\"transparent\" points=\"23.5,-1 23.5,-17 40.5,-17 40.5,-1 23.5,-1\"/>\n",
       "<text text-anchor=\"start\" x=\"29.2192\" y=\"-6\" font-family=\"Helvetica,sans-Serif\" font-size=\"10.00\" fill=\"#444443\">4</text>\n",
       "</g>\n",
       "</g>\n",
       "</svg>\n"
      ],
      "text/plain": [
       "<graphviz.files.Source at 0x1170a27b8>"
      ]
     },
     "execution_count": 89,
     "metadata": {},
     "output_type": "execute_result"
    }
   ],
   "source": [
    "objviz(A+A)"
   ]
  },
  {
   "cell_type": "code",
   "execution_count": 90,
   "metadata": {},
   "outputs": [
    {
     "data": {
      "image/svg+xml": [
       "<?xml version=\"1.0\" encoding=\"UTF-8\" standalone=\"no\"?>\n",
       "<!DOCTYPE svg PUBLIC \"-//W3C//DTD SVG 1.1//EN\"\n",
       " \"http://www.w3.org/Graphics/SVG/1.1/DTD/svg11.dtd\">\n",
       "<!-- Generated by graphviz version 2.40.1 (20161225.0304)\n",
       " -->\n",
       "<!-- Title: G Pages: 1 -->\n",
       "<svg width=\"71pt\" height=\"90pt\"\n",
       " viewBox=\"0.00 0.00 71.00 90.00\" xmlns=\"http://www.w3.org/2000/svg\" xmlns:xlink=\"http://www.w3.org/1999/xlink\">\n",
       "<g id=\"graph0\" class=\"graph\" transform=\"scale(1 1) rotate(0) translate(4 86)\">\n",
       "<title>G</title>\n",
       "<polygon fill=\"#ffffff\" stroke=\"transparent\" points=\"-4,4 -4,-86 67,-86 67,4 -4,4\"/>\n",
       "<!-- node4681536096 -->\n",
       "<g id=\"node1\" class=\"node\">\n",
       "<title>node4681536096</title>\n",
       "<polygon fill=\"none\" stroke=\"#000000\" stroke-width=\".5\" points=\"63,-82 0,-82 0,0 63,0 63,-82\"/>\n",
       "<polygon fill=\"#fefecd\" stroke=\"transparent\" points=\"1.5,-65 1.5,-81 34.5,-81 34.5,-65 1.5,-65\"/>\n",
       "<text text-anchor=\"start\" x=\"6.877\" y=\"-70\" font-family=\"Helvetica,sans-Serif\" font-size=\"10.00\" fill=\"#444443\">1881</text>\n",
       "<polygon fill=\"#fefecd\" stroke=\"transparent\" points=\"34.5,-65 34.5,-81 62.5,-81 62.5,-65 34.5,-65\"/>\n",
       "<text text-anchor=\"start\" x=\"37.377\" y=\"-70\" font-family=\"Helvetica,sans-Serif\" font-size=\"10.00\" fill=\"#444443\">1089</text>\n",
       "<polygon fill=\"#fefecd\" stroke=\"transparent\" points=\"1.5,-49 1.5,-65 34.5,-65 34.5,-49 1.5,-49\"/>\n",
       "<text text-anchor=\"start\" x=\"6.877\" y=\"-54\" font-family=\"Helvetica,sans-Serif\" font-size=\"10.00\" fill=\"#444443\">2079</text>\n",
       "<polygon fill=\"#fefecd\" stroke=\"transparent\" points=\"34.5,-49 34.5,-65 62.5,-65 62.5,-49 34.5,-49\"/>\n",
       "<text text-anchor=\"start\" x=\"37.377\" y=\"-54\" font-family=\"Helvetica,sans-Serif\" font-size=\"10.00\" fill=\"#444443\">1485</text>\n",
       "<polygon fill=\"#fefecd\" stroke=\"transparent\" points=\"1.5,-33 1.5,-49 34.5,-49 34.5,-33 1.5,-33\"/>\n",
       "<text text-anchor=\"start\" x=\"4.0962\" y=\"-38\" font-family=\"Helvetica,sans-Serif\" font-size=\"10.00\" fill=\"#444443\">10197</text>\n",
       "<polygon fill=\"#fefecd\" stroke=\"transparent\" points=\"34.5,-33 34.5,-49 62.5,-49 62.5,-33 34.5,-33\"/>\n",
       "<text text-anchor=\"start\" x=\"37.377\" y=\"-38\" font-family=\"Helvetica,sans-Serif\" font-size=\"10.00\" fill=\"#444443\">1782</text>\n",
       "<polygon fill=\"#fefecd\" stroke=\"transparent\" points=\"1.5,-17 1.5,-33 34.5,-33 34.5,-17 1.5,-17\"/>\n",
       "<text text-anchor=\"start\" x=\"6.877\" y=\"-22\" font-family=\"Helvetica,sans-Serif\" font-size=\"10.00\" fill=\"#444443\">9801</text>\n",
       "<polygon fill=\"#fefecd\" stroke=\"transparent\" points=\"34.5,-17 34.5,-33 62.5,-33 62.5,-17 34.5,-17\"/>\n",
       "<text text-anchor=\"start\" x=\"37.377\" y=\"-22\" font-family=\"Helvetica,sans-Serif\" font-size=\"10.00\" fill=\"#444443\">1287</text>\n",
       "<polygon fill=\"#fefecd\" stroke=\"transparent\" points=\"1.5,-1 1.5,-17 34.5,-17 34.5,-1 1.5,-1\"/>\n",
       "<text text-anchor=\"start\" x=\"9.6577\" y=\"-6\" font-family=\"Helvetica,sans-Serif\" font-size=\"10.00\" fill=\"#444443\">792</text>\n",
       "<polygon fill=\"#fefecd\" stroke=\"transparent\" points=\"34.5,-1 34.5,-17 62.5,-17 62.5,-1 34.5,-1\"/>\n",
       "<text text-anchor=\"start\" x=\"40.1577\" y=\"-6\" font-family=\"Helvetica,sans-Serif\" font-size=\"10.00\" fill=\"#444443\">198</text>\n",
       "</g>\n",
       "</g>\n",
       "</svg>\n"
      ],
      "text/plain": [
       "<graphviz.files.Source at 0x1170a2b38>"
      ]
     },
     "execution_count": 90,
     "metadata": {},
     "output_type": "execute_result"
    }
   ],
   "source": [
    "objviz(A*99)"
   ]
  },
  {
   "cell_type": "code",
   "execution_count": 91,
   "metadata": {},
   "outputs": [
    {
     "data": {
      "image/svg+xml": [
       "<?xml version=\"1.0\" encoding=\"UTF-8\" standalone=\"no\"?>\n",
       "<!DOCTYPE svg PUBLIC \"-//W3C//DTD SVG 1.1//EN\"\n",
       " \"http://www.w3.org/Graphics/SVG/1.1/DTD/svg11.dtd\">\n",
       "<!-- Generated by graphviz version 2.40.1 (20161225.0304)\n",
       " -->\n",
       "<!-- Title: G Pages: 1 -->\n",
       "<svg width=\"94pt\" height=\"42pt\"\n",
       " viewBox=\"0.00 0.00 94.00 42.00\" xmlns=\"http://www.w3.org/2000/svg\" xmlns:xlink=\"http://www.w3.org/1999/xlink\">\n",
       "<g id=\"graph0\" class=\"graph\" transform=\"scale(1 1) rotate(0) translate(4 38)\">\n",
       "<title>G</title>\n",
       "<polygon fill=\"#ffffff\" stroke=\"transparent\" points=\"-4,4 -4,-38 90,-38 90,4 -4,4\"/>\n",
       "<!-- node4681537696 -->\n",
       "<g id=\"node1\" class=\"node\">\n",
       "<title>node4681537696</title>\n",
       "<polygon fill=\"none\" stroke=\"#000000\" stroke-width=\".5\" points=\"86,-34 0,-34 0,0 86,0 86,-34\"/>\n",
       "<polygon fill=\"#fefecd\" stroke=\"transparent\" points=\"1,-17 1,-33 18,-33 18,-17 1,-17\"/>\n",
       "<text text-anchor=\"start\" x=\"3.9385\" y=\"-22\" font-family=\"Helvetica,sans-Serif\" font-size=\"10.00\" fill=\"#444443\">19</text>\n",
       "<polygon fill=\"#fefecd\" stroke=\"transparent\" points=\"18,-17 18,-33 35,-33 35,-17 18,-17\"/>\n",
       "<text text-anchor=\"start\" x=\"20.9385\" y=\"-22\" font-family=\"Helvetica,sans-Serif\" font-size=\"10.00\" fill=\"#444443\">21</text>\n",
       "<polygon fill=\"#fefecd\" stroke=\"transparent\" points=\"35,-17 35,-33 57,-33 57,-17 35,-17\"/>\n",
       "<text text-anchor=\"start\" x=\"37.6577\" y=\"-22\" font-family=\"Helvetica,sans-Serif\" font-size=\"10.00\" fill=\"#444443\">103</text>\n",
       "<polygon fill=\"#fefecd\" stroke=\"transparent\" points=\"57,-17 57,-33 74,-33 74,-17 57,-17\"/>\n",
       "<text text-anchor=\"start\" x=\"59.9385\" y=\"-22\" font-family=\"Helvetica,sans-Serif\" font-size=\"10.00\" fill=\"#444443\">99</text>\n",
       "<polygon fill=\"#fefecd\" stroke=\"transparent\" points=\"74,-17 74,-33 85,-33 85,-17 74,-17\"/>\n",
       "<text text-anchor=\"start\" x=\"76.7192\" y=\"-22\" font-family=\"Helvetica,sans-Serif\" font-size=\"10.00\" fill=\"#444443\">8</text>\n",
       "<polygon fill=\"#fefecd\" stroke=\"transparent\" points=\"1,-1 1,-17 18,-17 18,-1 1,-1\"/>\n",
       "<text text-anchor=\"start\" x=\"4.3071\" y=\"-6\" font-family=\"Helvetica,sans-Serif\" font-size=\"10.00\" fill=\"#444443\">11</text>\n",
       "<polygon fill=\"#fefecd\" stroke=\"transparent\" points=\"18,-1 18,-17 35,-17 35,-1 18,-1\"/>\n",
       "<text text-anchor=\"start\" x=\"20.9385\" y=\"-6\" font-family=\"Helvetica,sans-Serif\" font-size=\"10.00\" fill=\"#444443\">15</text>\n",
       "<polygon fill=\"#fefecd\" stroke=\"transparent\" points=\"35,-1 35,-17 57,-17 57,-1 35,-1\"/>\n",
       "<text text-anchor=\"start\" x=\"40.4385\" y=\"-6\" font-family=\"Helvetica,sans-Serif\" font-size=\"10.00\" fill=\"#444443\">18</text>\n",
       "<polygon fill=\"#fefecd\" stroke=\"transparent\" points=\"57,-1 57,-17 74,-17 74,-1 57,-1\"/>\n",
       "<text text-anchor=\"start\" x=\"59.9385\" y=\"-6\" font-family=\"Helvetica,sans-Serif\" font-size=\"10.00\" fill=\"#444443\">13</text>\n",
       "<polygon fill=\"#fefecd\" stroke=\"transparent\" points=\"74,-1 74,-17 85,-17 85,-1 74,-1\"/>\n",
       "<text text-anchor=\"start\" x=\"76.7192\" y=\"-6\" font-family=\"Helvetica,sans-Serif\" font-size=\"10.00\" fill=\"#444443\">2</text>\n",
       "</g>\n",
       "</g>\n",
       "</svg>\n"
      ],
      "text/plain": [
       "<graphviz.files.Source at 0x1170a2588>"
      ]
     },
     "execution_count": 91,
     "metadata": {},
     "output_type": "execute_result"
    }
   ],
   "source": [
    "objviz(A.T) #transpose"
   ]
  },
  {
   "cell_type": "markdown",
   "metadata": {},
   "source": [
    "Here's a system of equation: $A x = b$, $x = A^{-1} b$:\n",
    "\n",
    "\\begin{equation*}\n",
    "\\begin{bmatrix}\n",
    "38 & 22\\\\\n",
    "42 & 30\n",
    "\\end{bmatrix}\n",
    "\\begin{bmatrix}\n",
    "x_1  \\\\\n",
    "x_2 \n",
    "\\end{bmatrix} =\n",
    "\\begin{bmatrix}\n",
    "3 \\\\\n",
    "5 \n",
    "\\end{bmatrix}\n",
    "\\end{equation*}"
   ]
  },
  {
   "cell_type": "markdown",
   "metadata": {},
   "source": [
    "Using numpy, we can solve that using the inverse of $A$."
   ]
  },
  {
   "cell_type": "code",
   "execution_count": 102,
   "metadata": {},
   "outputs": [
    {
     "data": {
      "image/svg+xml": [
       "<?xml version=\"1.0\" encoding=\"UTF-8\" standalone=\"no\"?>\n",
       "<!DOCTYPE svg PUBLIC \"-//W3C//DTD SVG 1.1//EN\"\n",
       " \"http://www.w3.org/Graphics/SVG/1.1/DTD/svg11.dtd\">\n",
       "<!-- Generated by graphviz version 2.40.1 (20161225.0304)\n",
       " -->\n",
       "<!-- Title: G Pages: 1 -->\n",
       "<svg width=\"91pt\" height=\"26pt\"\n",
       " viewBox=\"0.00 0.00 91.00 26.00\" xmlns=\"http://www.w3.org/2000/svg\" xmlns:xlink=\"http://www.w3.org/1999/xlink\">\n",
       "<g id=\"graph0\" class=\"graph\" transform=\"scale(1 1) rotate(0) translate(4 22)\">\n",
       "<title>G</title>\n",
       "<polygon fill=\"#ffffff\" stroke=\"transparent\" points=\"-4,4 -4,-22 87,-22 87,4 -4,4\"/>\n",
       "<!-- node4681495696 -->\n",
       "<g id=\"node1\" class=\"node\">\n",
       "<title>node4681495696</title>\n",
       "<polygon fill=\"none\" stroke=\"#000000\" stroke-width=\".5\" points=\"83,-18 0,-18 0,0 83,0 83,-18\"/>\n",
       "<polygon fill=\"#fefecd\" stroke=\"transparent\" points=\"1.5,-1 1.5,-17 46.5,-17 46.5,-1 1.5,-1\"/>\n",
       "<text text-anchor=\"start\" x=\"4.2612\" y=\"-6\" font-family=\"Helvetica,sans-Serif\" font-size=\"10.00\" fill=\"#444443\">&#45;0.09259</text>\n",
       "<polygon fill=\"#fefecd\" stroke=\"transparent\" points=\"46.5,-1 46.5,-17 82.5,-17 82.5,-1 46.5,-1\"/>\n",
       "<text text-anchor=\"start\" x=\"49.207\" y=\"-6\" font-family=\"Helvetica,sans-Serif\" font-size=\"10.00\" fill=\"#444443\">0.2963</text>\n",
       "</g>\n",
       "</g>\n",
       "</svg>\n"
      ],
      "text/plain": [
       "<graphviz.files.Source at 0x1170ad390>"
      ]
     },
     "execution_count": 102,
     "metadata": {},
     "output_type": "execute_result"
    }
   ],
   "source": [
    "from numpy.linalg import inv\n",
    "A = np.array([[38, 22], [42, 30]])\n",
    "b = np.array([3, 5])\n",
    "x = inv(A).dot(b)\n",
    "objviz(x)"
   ]
  },
  {
   "cell_type": "markdown",
   "metadata": {},
   "source": [
    "Here's some more stuff about the shape of various numpy $n$-dimensional arrays:"
   ]
  },
  {
   "cell_type": "code",
   "execution_count": 93,
   "metadata": {},
   "outputs": [
    {
     "name": "stdout",
     "output_type": "stream",
     "text": [
      "(2,)\n",
      "(1, 2)\n",
      "(2, 1)\n"
     ]
    }
   ],
   "source": [
    "x = np.array([3, 5])     # vertical vector with 2 rows\n",
    "y = np.array([[3, 5]])   # matrix with 1 row and 2 columns\n",
    "z = np.array([[3],[5]])  # matrix with 2 rows, 1 column\n",
    "print(x.shape)\n",
    "print(y.shape)\n",
    "print(z.shape)"
   ]
  },
  {
   "cell_type": "markdown",
   "metadata": {},
   "source": [
    "The tuple `(2,)` means a one-dimensional vector with 2 rows.  We can't use notation `(2)` because that's just an expression that means 2 rather than a tuple. It's a quirk but necessary."
   ]
  },
  {
   "cell_type": "markdown",
   "metadata": {},
   "source": [
    "### Dictionary"
   ]
  },
  {
   "cell_type": "markdown",
   "metadata": {},
   "source": [
    "If we arrange two lists side-by-side and kind of glue them together, we get a **dictionary**. Dictionaries map one value to another, just like a dictionary in the real world maps a word to a definition.  Here is a sample dictionary that maps a movie title to the year it was nominated for an Oscar award:\n",
    "\n",
    "<img src=\"images/dict.png\" width=\"220\">"
   ]
  },
  {
   "cell_type": "code",
   "execution_count": 94,
   "metadata": {},
   "outputs": [
    {
     "name": "stdout",
     "output_type": "stream",
     "text": [
      "{'Amadeus': 1984, 'Witness': 1985}\n"
     ]
    },
    {
     "data": {
      "image/svg+xml": [
       "<?xml version=\"1.0\" encoding=\"UTF-8\" standalone=\"no\"?>\n",
       "<!DOCTYPE svg PUBLIC \"-//W3C//DTD SVG 1.1//EN\"\n",
       " \"http://www.w3.org/Graphics/SVG/1.1/DTD/svg11.dtd\">\n",
       "<!-- Generated by graphviz version 2.40.1 (20161225.0304)\n",
       " -->\n",
       "<!-- Title: G Pages: 1 -->\n",
       "<svg width=\"113pt\" height=\"38pt\"\n",
       " viewBox=\"0.00 0.00 113.00 38.00\" xmlns=\"http://www.w3.org/2000/svg\" xmlns:xlink=\"http://www.w3.org/1999/xlink\">\n",
       "<g id=\"graph0\" class=\"graph\" transform=\"scale(1 1) rotate(0) translate(4 34)\">\n",
       "<title>G</title>\n",
       "<polygon fill=\"#ffffff\" stroke=\"transparent\" points=\"-4,4 -4,-34 109,-34 109,4 -4,4\"/>\n",
       "<!-- node4681540872 -->\n",
       "<g id=\"node1\" class=\"node\">\n",
       "<title>node4681540872</title>\n",
       "<polygon fill=\"none\" stroke=\"#000000\" stroke-width=\".5\" points=\"105,-30 0,-30 0,0 105,0 105,-30\"/>\n",
       "<polygon fill=\"#fefecd\" stroke=\"transparent\" points=\"1.5,-18 1.5,-29 57.5,-29 57.5,-18 1.5,-18\"/>\n",
       "<polyline fill=\"none\" stroke=\"#000000\" points=\"1.5,-18 57.5,-18 57.5,-29 \"/>\n",
       "<text text-anchor=\"start\" x=\"26.9973\" y=\"-20.8\" font-family=\"Helvetica,sans-Serif\" font-size=\"9.00\" fill=\"#444443\">0</text>\n",
       "<polygon fill=\"#fefecd\" stroke=\"transparent\" points=\"57.5,-18 57.5,-29 104.5,-29 104.5,-18 57.5,-18\"/>\n",
       "<polyline fill=\"none\" stroke=\"#000000\" points=\"57.5,-18 104.5,-18 \"/>\n",
       "<text text-anchor=\"start\" x=\"78.4973\" y=\"-20.8\" font-family=\"Helvetica,sans-Serif\" font-size=\"9.00\" fill=\"#444443\">1</text>\n",
       "<polygon fill=\"#fefecd\" stroke=\"transparent\" points=\"1.5,-1 1.5,-18 57.5,-18 57.5,-1 1.5,-1\"/>\n",
       "<polyline fill=\"none\" stroke=\"#000000\" points=\"57.5,-1 57.5,-18 \"/>\n",
       "<text text-anchor=\"start\" x=\"4.1646\" y=\"-6.2\" font-family=\"Helvetica,sans-Serif\" font-size=\"11.00\" fill=\"#444443\">&#39;Amadeus&#39;</text>\n",
       "<polygon fill=\"#fefecd\" stroke=\"transparent\" points=\"57.5,-1 57.5,-18 104.5,-18 104.5,-1 57.5,-1\"/>\n",
       "<text text-anchor=\"start\" x=\"59.3411\" y=\"-6.2\" font-family=\"Helvetica,sans-Serif\" font-size=\"11.00\" fill=\"#444443\">&#39;Witness&#39;</text>\n",
       "</g>\n",
       "</g>\n",
       "</svg>\n"
      ],
      "text/plain": [
       "<graphviz.files.Source at 0x1170a29b0>"
      ]
     },
     "execution_count": 94,
     "metadata": {},
     "output_type": "execute_result"
    }
   ],
   "source": [
    "movies = {'Amadeus':1984, 'Witness':1985}\n",
    "print(movies)\n",
    "objviz(movies)"
   ]
  },
  {
   "cell_type": "code",
   "execution_count": 95,
   "metadata": {},
   "outputs": [
    {
     "name": "stdout",
     "output_type": "stream",
     "text": [
      "dict_keys(['Amadeus', 'Witness'])\n",
      "dict_values([1984, 1985])\n"
     ]
    }
   ],
   "source": [
    "print(movies.keys())\n",
    "print(movies.values())"
   ]
  },
  {
   "cell_type": "code",
   "execution_count": 96,
   "metadata": {},
   "outputs": [
    {
     "data": {
      "text/plain": [
       "1984"
      ]
     },
     "execution_count": 96,
     "metadata": {},
     "output_type": "execute_result"
    }
   ],
   "source": [
    "movies['Amadeus']"
   ]
  },
  {
   "cell_type": "markdown",
   "metadata": {},
   "source": [
    "```\n",
    "movies['foo']\n",
    "```\n",
    "\n",
    "gets a KeyError:\n",
    "\n",
    "```\n",
    "---------------------------------------------------------------------------\n",
    "KeyError                                  Traceback (most recent call last)\n",
    "<ipython-input-40-72c06b90f573> in <module>()\n",
    "----> 1 movies['foo'] # gets a KeyError\n",
    "\n",
    "KeyError: 'foo'\n",
    "```"
   ]
  },
  {
   "cell_type": "markdown",
   "metadata": {},
   "source": [
    "## Traversing data structures"
   ]
  },
  {
   "cell_type": "markdown",
   "metadata": {},
   "source": [
    "The spreadsheet model is a good one for understanding data structures but it's important to keep in mind that computers process one element (number or string) at a time.\n",
    "As humans, we can look at the spreadsheet or data structure from above in its entirety, but programs must **walk** or **traverse** the elements of a data structure one after the other. It's kind of like sliding a magnifying glass over the elements of a list:\n",
    "\n",
    "<img src=\"images/int-list-item.png\" width=\"230\">\n",
    "\n",
    "This notion of traversal abstracts to any **sequence** (or **stream**) of elements, not just lists. For example, we will eventually traverse the lines of a text file or a sequence of filenames obtained from the operating system. Sequences are extremely powerful because it allows us to process data that is much bigger than the memory of our computer. We can process the data piecemeal whereas a list requires all elements to be in memory at once.\n",
    "\n",
    "Typically we iterate through the elements of a list with a `for`-each statement:"
   ]
  },
  {
   "cell_type": "code",
   "execution_count": 97,
   "metadata": {},
   "outputs": [
    {
     "name": "stdout",
     "output_type": "stream",
     "text": [
      "6\n",
      "49\n",
      "27\n",
      "30\n",
      "19\n",
      "21\n",
      "12\n",
      "22\n",
      "21\n"
     ]
    }
   ],
   "source": [
    "for q in Quantity:\n",
    "    print(q)"
   ]
  },
  {
   "cell_type": "markdown",
   "metadata": {},
   "source": [
    "Here, the type of the objects pointed to by `q` is `int`.  We can also iterate through that list using an indexed loop:"
   ]
  },
  {
   "cell_type": "code",
   "execution_count": 98,
   "metadata": {},
   "outputs": [
    {
     "name": "stdout",
     "output_type": "stream",
     "text": [
      "6\n",
      "49\n",
      "27\n",
      "30\n",
      "19\n",
      "21\n",
      "12\n",
      "22\n",
      "21\n"
     ]
    }
   ],
   "source": [
    "for i in range(len(Quantity)):\n",
    "    print(Quantity[i])"
   ]
  },
  {
   "cell_type": "markdown",
   "metadata": {},
   "source": [
    "For lists and other structures that fit completely in memory, we often find a **reverse traversal** useful, that examines elements from last to first:"
   ]
  },
  {
   "cell_type": "code",
   "execution_count": 99,
   "metadata": {},
   "outputs": [
    {
     "name": "stdout",
     "output_type": "stream",
     "text": [
      "21\n",
      "22\n",
      "12\n",
      "21\n",
      "19\n",
      "30\n",
      "27\n",
      "49\n",
      "6\n"
     ]
    }
   ],
   "source": [
    "for q in reversed(Quantity):\n",
    "    print(q)"
   ]
  },
  {
   "cell_type": "markdown",
   "metadata": {},
   "source": [
    "Walking a dictionary is also easy but we have to decide whether we want to walk the keys or the values:"
   ]
  },
  {
   "cell_type": "code",
   "execution_count": 100,
   "metadata": {},
   "outputs": [
    {
     "name": "stdout",
     "output_type": "stream",
     "text": [
      "Amadeus\n",
      "Witness\n"
     ]
    }
   ],
   "source": [
    "movies = {'Amadeus':1984, 'Witness':1985}\n",
    "for m in movies: # walk keys\n",
    "    print(m)"
   ]
  },
  {
   "cell_type": "code",
   "execution_count": 101,
   "metadata": {},
   "outputs": [
    {
     "name": "stdout",
     "output_type": "stream",
     "text": [
      "1984\n",
      "1985\n"
     ]
    }
   ],
   "source": [
    "for m in movies.values(): # walk values\n",
    "    print(m)"
   ]
  },
  {
   "cell_type": "markdown",
   "metadata": {},
   "source": [
    "## Summary"
   ]
  },
  {
   "cell_type": "markdown",
   "metadata": {},
   "source": [
    "Here are the commonly-used data types:\n",
    "\n",
    "* integer numbers like -2, 0, 99\n",
    "* real numbers (floating-point numbers) like -2.3, 99.1932\n",
    "* strings like \"Mary\", \"President Obama\"\n",
    "\n",
    "And here are the commonly-used data structures:\n",
    "\n",
    "* ordered list\n",
    "* set (just an unordered, unique list)\n",
    "* list of lists such as tables or matrices with rows and columns \n",
    "* tuples are immutable lists\n",
    "* dictionary such as mapping a student name to their student ID; we can think of this as a table where each row in the table associates the key with a value.\n",
    "\n",
    "Remember that all variable names are actually indirect references to a memory location. Everything is a pointer to the data in the implementation. That means we can have two variable names that refer to the same memory location and hence the variables are aliased. Changing one variable's elements appears to change the other variables elements.\n",
    "\n",
    "Now that we know what data looks like in memory, let's consider a [computation model](computation.ipynb)."
   ]
  }
 ],
 "metadata": {
  "kernelspec": {
   "display_name": "Python 3",
   "language": "python",
   "name": "python3"
  },
  "language_info": {
   "codemirror_mode": {
    "name": "ipython",
    "version": 3
   },
   "file_extension": ".py",
   "mimetype": "text/x-python",
   "name": "python",
   "nbconvert_exporter": "python",
   "pygments_lexer": "ipython3",
   "version": "3.6.5"
  }
 },
 "nbformat": 4,
 "nbformat_minor": 2
}
