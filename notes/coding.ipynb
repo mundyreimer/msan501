{
 "cells": [
  {
   "cell_type": "markdown",
   "metadata": {},
   "source": [
    "# Introduction to Python coding\n",
    "\n",
    "*TODO*:Perhaps recognize to the students that I know they know the simple conditional and looping statements. The goal here is to get them retrained from birth so to speak to properly understand these operations in context. I'd like to show them how to think about these things. We never just decide to stick in another loop because we haven't done one in a while or randomly insert a conditional statement.  Either here or somewhere else, we need to really stress the difference between atomic element assignment like numbers and assignment between references. Students had their minds blown in the linked list stuff later. Emphasize that functions can change lists that come in also.\n",
    "\n",
    "Now that we've studied a problem-solving process and learned the common programming patterns using pseudocode, it's finally time to express ourselves using actual Python programming language syntax. Keep in mind that, to implement any program, we should follow the problem-solving process and write things out in pseudocode first. Then, coding is a simple matter of translating pseudocode to Python.\n",
    "\n",
    "Let's review our computation model.  Our basic raw ingredient is data (numbers or text strings) that lives on our disk typically (or SSDs nowadays). Note: we might have to go get that data with code; see MSAN692. The disk is very large but cannot serve up data fast enough for the processor, which is many orders of magnitude faster than the disk. Consequently, our first act in an analytics program is often to load some data from the disk into temporary memory. The memory is faster than the disk but smaller and disappears when the power goes off or your program terminates. The processor is still much faster than the memory but we have lots of tricks to increase the speed of communication between the processor and memory (e.g., caches).\n",
    "\n",
    "The processor is where all of the action occurs because it is the entity that executes the statements in a program. The operations in a program boil down to one of these fundamental instructions within the processor:\n",
    "\n",
    "* load small chunks of data from memory into the CPU\n",
    "* perform arithmetic computations on data in the CPU\n",
    "* store small chunks of data back to memory\n",
    "* conditionally perform computations\n",
    "* repeat operations\n",
    "\n",
    "In [Model of Computation](computation.md), we studied pseudocode that maps to one or more of these fundamental instructions. We saw how some of the [higher-level programming patterns](operations.md) map down to pseudocode chosen from these fundamental instructions. We finished up by looking at some of the [low-level programming patterns](combinations.md) that combine fundamental instructions to do useful things like filtering and image processing.\n",
    "\n",
    "The act of translating a pseudocode operation into Python code involves choosing the right Python construct, just like programming involves choosing the right pattern to solve a piece of a real-world problem.  Then, it's a matter of shoehorning our free-form pseudocode into the straitjacket of programming language syntax. Before we get to those details, however, let's look at the big picture and a general strategy for writing programs.\n",
    "\n",
    "## Coding is similar to writing a paper\n",
    "\n",
    "Writing and executing a program are remarkably similar to writing and reading a paper or report. Just as with our program work plan, we begin writing a paper by clearly identifying a thesis or problem statement. Analogous to identifying input-output pairs, we might identify the target audience and what we hope readers will come away with after reading the paper. With this in mind, we should write an outline of the paper, which corresponds to identifying the processing steps in the program work plan. Sections and chapters in a paper might correspond to functions and packages in the programming world.\n",
    "\n",
    "When reading a paper, we read the sections and paragraphs in order, like a processor executes a program. The paper text can ask the reader to jump temporarily to a figure or different section and return. This is analogous to a program calling a function and returning, possibly with some information.  When reading a paper, we might also encounter conditional sections, such as \"*If you've studied quantum physics, you can skip this section*.\"  There can even be loops in a paper, such as \"*Now's a good time to reread the background section on linear algebra*.\"\n",
    "\n",
    "The point is that, if you've been taught how to properly write a paper, the process of writing code should feel very familiar. To simplify the process of learning to code in Python, we're going to restrict ourselves to a subset of the language and follow a few templates that will help us organize our programs.\n",
    "\n",
    "## A small introductory Python subset\n",
    "\n",
    "While I was in graduate school, I worked in Paris for six months (building an industrial robot control language). A friend, who didn't speak French, came over to work as well and got a tutor.  The tutor started him out with just the present tense, four verbs, and a few key nouns like *café* and *croissant*.   Moreover, the tutor gave him simple sentence templates in the French equivalent of these English templates:\n",
    "\n",
    "`_______ go _______.`\n",
    "\n",
    "and\n",
    "\n",
    "`I am _________.`\n",
    "\n",
    "that he could fill in with subjects and objects (nouns, pronouns).\n",
    "\n",
    "That's also an excellent approach for learning to code in a programming language.  We're going to start out playing around in a small sandbox, picking a simple subset of python that lets us do some interesting things. \n",
    "\n",
    "The \"nouns\" in this subset are numbers like `34` and `3.4`, strings like `parrt`, and lists of nouns like `[3,1.5,4]`.  We can name these values using *variables* just as we use names like Mary to refer to a specific human being. The \"verbs\", which act on nouns, are arithmetic operators like `cost + tax`, relational operators like `quantity<10`, and some built-in functions like `len(names)`.  We'll also use some sentence templates for conditional statements and loops. Finally, we'll also need the ability to pull in (`import`) code written by other programmers to help us out. It's like opening a cookbook that lets us refer to existing recipes."
   ]
  },
  {
   "cell_type": "markdown",
   "metadata": {},
   "source": [
    "### Values and variables\n",
    "\n",
    "The atomic elements in python, so to speak, are numbers and strings of text. We distinguish between integer and real numbers, which we call floating-point numbers, because computers represent the two internally in a different way. Here's where the *data type* comes back into play. Numbers like `34`, `-9`, and `0` are said to have type `int` whereas `3.14159` and `0.123` are type `float`. These values are called int or float *literals*.  Strings of text are just a sequence of characters in single quotes (there are more quoting options but we can ignore that for now) and have type `string`.  For example, `'parrt'` and `'May 25, 1999'`. Note that the string representation of `'207'` is very different than the integer `207`. The former is a sequence, which we can think of as a list, with three characters and the latter is a numeric value that we could, say, multiply by 10.\n",
    "\n",
    "Let's look at our first python program!"
   ]
  },
  {
   "cell_type": "code",
   "execution_count": 35,
   "metadata": {
    "collapsed": false
   },
   "outputs": [
    {
     "name": "stdout",
     "output_type": "stream",
     "text": [
      "hi\n"
     ]
    }
   ],
   "source": [
    "print 'hi'"
   ]
  },
  {
   "cell_type": "markdown",
   "metadata": {},
   "source": [
    "That code is a kind of *statement* that instructs the computer to print the specified value to the computer screen (the console).\n",
    "\n",
    "**Exercise**: Try that statement out yourself. Using PyCharm, we see an editor window and the results of running the one-line program using the Run menu:\n",
    "\n",
    "<img src=\"images/hi-pycharm.png\" style=\"width: 400px\">\n",
    "\n",
    "You can also try things out interactively using the interactive Python *console* (also called a Python *shell*) without actually creating a Python file containing the code. After typing the print statement and hitting the newline (return) key, the console looks like:\n",
    "\n",
    "<img src=\"images/hi-pycharm-console.png\" style=\"width: 400px\">\n",
    "\n",
    "So here is our first statement template:\n",
    "\n",
    "`print ___________`\n",
    "\n",
    "We can fill that hole with any kind of *expression*; right now, we only know about values (the simplest expressions) so we can do things like:"
   ]
  },
  {
   "cell_type": "code",
   "execution_count": 36,
   "metadata": {
    "collapsed": false,
    "scrolled": true
   },
   "outputs": [
    {
     "name": "stdout",
     "output_type": "stream",
     "text": [
      "34\n",
      "3.14159\n"
     ]
    }
   ],
   "source": [
    "print 34\n",
    "print 3.14159"
   ]
  },
  {
   "cell_type": "markdown",
   "metadata": {},
   "source": [
    "Notice the order of execution. The processor is executing one statement after the other.\n",
    "\n",
    "Instead of printing values to the screen, let's store values into memory through variable assignment statements. The assignment statement template looks like:\n",
    "\n",
    "*variablename* `= __________`\n",
    "\n",
    "For example, we can store the value one into a variable called `count` and then reference that variable to load the data back from memory for use by a print statement:"
   ]
  },
  {
   "cell_type": "code",
   "execution_count": 37,
   "metadata": {
    "collapsed": false
   },
   "outputs": [
    {
     "name": "stdout",
     "output_type": "stream",
     "text": [
      "1\n"
     ]
    }
   ],
   "source": [
    "count = 1\n",
    "print count"
   ]
  },
  {
   "cell_type": "markdown",
   "metadata": {},
   "source": [
    "Again, the sequence matters. Putting the `print` before the assignment will cause an error because `count` is not defined as a variable until after the assignment.\n",
    "\n",
    "To see how things are stored in memory, let's look at three assignments."
   ]
  },
  {
   "cell_type": "code",
   "execution_count": 38,
   "metadata": {
    "collapsed": true
   },
   "outputs": [],
   "source": [
    "count = 1\n",
    "name = 'iPhone'\n",
    "price = 699.99"
   ]
  },
  {
   "cell_type": "markdown",
   "metadata": {},
   "source": [
    "We can visualize the state of computer memory after executing that program using [pythontutor.com](https://goo.gl/5kLND1). It shows a snapshot of memory like this:"
   ]
  },
  {
   "cell_type": "markdown",
   "metadata": {},
   "source": [
    "<img src=\"images/assign-python-tutor.png\" style=\"width: 100px\">\n",
    "\n",
    "(fyi, the \"Global frame\" holds what we call *global variables*. For now, everything will be globally visible and so we can just call them variables.)\n",
    "\n",
    "**Exercise**: Type in those assignments yourself and then print each variable.\n",
    "\n",
    "Another important thing about variables in a program, is that we can reassign variables to new values. For example, programs tend to count things and so you will often see assignments that looks like `count = count + 1`. Here's a contrived example:"
   ]
  },
  {
   "cell_type": "code",
   "execution_count": 39,
   "metadata": {
    "collapsed": false
   },
   "outputs": [
    {
     "name": "stdout",
     "output_type": "stream",
     "text": [
      "1\n"
     ]
    }
   ],
   "source": [
    "count = 0\n",
    "count = count + 1\n",
    "print count"
   ]
  },
  {
   "cell_type": "markdown",
   "metadata": {},
   "source": [
    "From a mathematical point of view, it looks weird/nonsensical to say that a value is equal to itself plus something else. Programmers don't mean that the two are equal; we are assigning a value to a variable, which just happens to be the same variable referenced on the right-hand side.  The act of assignment corresponds to the fundamental processor \"store to memory\" operation we discussed earlier. The Python language differentiates between assignment, `=`, and equality, `==`, using two different operators."
   ]
  },
  {
   "cell_type": "markdown",
   "metadata": {},
   "source": [
    "### Lists of values\n",
    "\n",
    "Just as we use columns of data in spreadsheets frequently, we also use lists of values a lot in Python coding. A list is just an ordered sequence of elements. The simplest list has numbers or strings as elements. For example, `[2, 4, 8]` is a list with three numbers in it. We call this a *list literal* just like `4` is an integer literal. Of course, we can also associate a name with a list:"
   ]
  },
  {
   "cell_type": "code",
   "execution_count": 40,
   "metadata": {
    "collapsed": false
   },
   "outputs": [
    {
     "name": "stdout",
     "output_type": "stream",
     "text": [
      "[2, 4, 8]\n"
     ]
    }
   ],
   "source": [
    "values = [2, 4, 8]\n",
    "print values"
   ]
  },
  {
   "cell_type": "markdown",
   "metadata": {},
   "source": [
    "Python tutor shows the following snapshot of memory. Notice how indexing of the list, the numbers in grey, start from zero. In other words, the element in the 1st position has index 0, the element in the second position has index 1, etc...  The last valid index in a list has the length of the list - 1."
   ]
  },
  {
   "cell_type": "markdown",
   "metadata": {},
   "source": [
    "<img src=\"images/list-python-tutor.png\"  style=\"width:250px\">"
   ]
  },
  {
   "cell_type": "markdown",
   "metadata": {},
   "source": [
    "Here's an example list with string elements:"
   ]
  },
  {
   "cell_type": "code",
   "execution_count": 41,
   "metadata": {
    "collapsed": false
   },
   "outputs": [
    {
     "name": "stdout",
     "output_type": "stream",
     "text": [
      "['Xue', 'Mary', 'Bob']\n"
     ]
    }
   ],
   "source": [
    "names = ['Xue', 'Mary', 'Bob']\n",
    "print names"
   ]
  },
  {
   "cell_type": "markdown",
   "metadata": {},
   "source": [
    "**Exercise**: Try printing the result of adding 2 list literals together using the `+` operator. E.g., `[34,99]` and `[1,3,7]`.\n",
    "\n",
    "The list elements don't all have to be of the same type. For example, we might group the name and enrollment of a course in the same list:"
   ]
  },
  {
   "cell_type": "code",
   "execution_count": 42,
   "metadata": {
    "collapsed": true
   },
   "outputs": [],
   "source": [
    "course = ['msan692', 51]"
   ]
  },
  {
   "cell_type": "markdown",
   "metadata": {},
   "source": [
    "This list might be a single row in a table with lots of courses. Because a table is a list of rows, a table is a list of lists. For example, a table like this:\n",
    "\n",
    "<img src=\"images/courses-table.png\" style=\"width:100px\">\n",
    "\n",
    "could be associated with variable `courses` using this python list of row lists."
   ]
  },
  {
   "cell_type": "code",
   "execution_count": 43,
   "metadata": {
    "collapsed": true
   },
   "outputs": [],
   "source": [
    "courses = [\n",
    "    ['msan501', 51],\n",
    "    ['msan502', 32],\n",
    "    ['msan692', 101]\n",
    "]"
   ]
  },
  {
   "cell_type": "markdown",
   "metadata": {},
   "source": [
    "Python tutor gives a snapshot of memory that looks like this:\n",
    "\n",
    "<img src=\"images/table-python-tutor.png\" style=\"width:330px\">\n",
    "\n",
    "This example code also highlights an important python characteristic. Assignment and print statements must be completed on the same line *unless* we break the line in a `[...]` construct (or `(...)` for future reference). For example, if we finish the line with the `=` symbol, we get a syntax error from python:\n",
    "\n",
    "```python\n",
    "badcourses = \n",
    "[\n",
    "    ['msan501', 51],\n",
    "    ['msan502', 32],\n",
    "    ['msan692', 101]\n",
    "]\n",
    "```\n",
    "\n",
    "yields error:\n",
    "\n",
    "```python\n",
    "  File \"<ipython-input-17-55e90f1fbebb>\", line 1\n",
    "    badcourses =\n",
    "                 ^\n",
    "SyntaxError: invalid syntax\n",
    "```"
   ]
  },
  {
   "cell_type": "markdown",
   "metadata": {},
   "source": [
    "Besides creating lists, we need to *access the elements*, which we do using square brackets and an index value. For example, to get the first course at index 0 from this list, we would use `courses[0]`:"
   ]
  },
  {
   "cell_type": "code",
   "execution_count": 44,
   "metadata": {
    "collapsed": false
   },
   "outputs": [
    {
     "name": "stdout",
     "output_type": "stream",
     "text": [
      "['msan501', 51]\n",
      "['msan502', 32]\n"
     ]
    }
   ],
   "source": [
    "print courses[0] # print the first one\n",
    "print courses[1] # print the 2nd one"
   ]
  },
  {
   "cell_type": "markdown",
   "metadata": {},
   "source": [
    "Because this is a list of lists, we use two-step array indexing like `courses[i][j]` to access row `i` and column `j`.\n",
    "\n",
    "**Exercise**: Try printing out the `msan502` and `32` values using array index notation.\n",
    "\n",
    "We can also set list values by using the array indexing notation on the left-hand side of an assignment statement:"
   ]
  },
  {
   "cell_type": "code",
   "execution_count": 45,
   "metadata": {
    "collapsed": false
   },
   "outputs": [
    {
     "name": "stdout",
     "output_type": "stream",
     "text": [
      "101\n",
      "['msan692', 99]\n"
     ]
    }
   ],
   "source": [
    "print courses[2][1]\n",
    "courses[2][1] = 99\n",
    "print courses[2]"
   ]
  },
  {
   "cell_type": "markdown",
   "metadata": {},
   "source": [
    "This indexing notation also works to access the elements of a string (but you cannot assign to individual characters in a string because strings are immutable):"
   ]
  },
  {
   "cell_type": "code",
   "execution_count": 46,
   "metadata": {
    "collapsed": false
   },
   "outputs": [
    {
     "name": "stdout",
     "output_type": "stream",
     "text": [
      "p\n",
      "a\n"
     ]
    }
   ],
   "source": [
    "name = 'parrt'\n",
    "print name[0]\n",
    "print name[1]"
   ]
  },
  {
   "cell_type": "markdown",
   "metadata": {},
   "source": [
    "### References\n",
    "\n",
    "Looking at the python tutor representation of our `courses` list, we can see that Python definitely represents that table as a list of lists in memory. Also notice that variable `courses` *refers* to the list, meaning that `courses` is a variable that points at some memory space organized into a list. For example, if we assign another variable to `courses`, then they *both* point at the same organized chunk of memory:"
   ]
  },
  {
   "cell_type": "code",
   "execution_count": 47,
   "metadata": {
    "collapsed": true
   },
   "outputs": [],
   "source": [
    "courses = [\n",
    "    ['msan501', 51],\n",
    "    ['msan502', 32],\n",
    "    ['msan692', 101]\n",
    "]\n",
    "mycourses = courses"
   ]
  },
  {
   "cell_type": "markdown",
   "metadata": {},
   "source": [
    "Python tutor illustrates [this](https://goo.gl/BSMY6y) nicely:"
   ]
  },
  {
   "cell_type": "markdown",
   "metadata": {},
   "source": [
    "While the python tutor does not illustrate it this way, variables assigned to strings also refer to them with the same pointer concept. After executing the following two assignments, variables `name` and `myname` refer to the same sequence of characters in memory."
   ]
  },
  {
   "cell_type": "code",
   "execution_count": 48,
   "metadata": {
    "collapsed": true
   },
   "outputs": [],
   "source": [
    "name = 'parrt'\n",
    "myname = name"
   ]
  },
  {
   "cell_type": "markdown",
   "metadata": {},
   "source": [
    "The general rule is that assignment only makes copies of numbers, not strings or lists. We'll learn more about this later."
   ]
  },
  {
   "cell_type": "markdown",
   "metadata": {},
   "source": [
    "### Expressions\n",
    "\n",
    "So far, we've seen the assignment and print statements, both of which have \"holes\" where we can stick in values. More generally, we can insert *expressions*. An expression is just a combination of values and operators, corresponding to nouns and verbs in natural language. We use arithmetic operators (`+`, `-`, `*`, `/`) and parentheses for computing values:"
   ]
  },
  {
   "cell_type": "code",
   "execution_count": 49,
   "metadata": {
    "collapsed": false
   },
   "outputs": [
    {
     "name": "stdout",
     "output_type": "stream",
     "text": [
      "59.0\n"
     ]
    }
   ],
   "source": [
    "price = 50.00\n",
    "cost = price * 1.10 + 4  # add 10% tax and 4$ for shipping\n",
    "print cost"
   ]
  },
  {
   "cell_type": "markdown",
   "metadata": {},
   "source": [
    "The expression is `price * 1.10 + 4` and it follows the normal operator precedence rules that multiplies are done before additions. For example, `4 + price * 1.10` gives the same result:"
   ]
  },
  {
   "cell_type": "code",
   "execution_count": 50,
   "metadata": {
    "collapsed": false
   },
   "outputs": [
    {
     "name": "stdout",
     "output_type": "stream",
     "text": [
      "59.0\n"
     ]
    }
   ],
   "source": [
    "price = 50.00\n",
    "cost = 4 + price * 1.10  # add 10% tax and 4$ for shipping\n",
    "print cost"
   ]
  },
  {
   "cell_type": "markdown",
   "metadata": {},
   "source": [
    "There is another kind of expression called a *conditional expression* or *Boolean expression* that is a combination of values and relational operators (`<`, `>`, `<=`, `>=`, `==` equal, `!=` not equal). These are primarily used in conditional statements and loops, which we'll see next."
   ]
  },
  {
   "cell_type": "markdown",
   "metadata": {},
   "source": [
    "### Conditional statements\n",
    "\n",
    "Ok, we've now got a basic understanding of how to compute and print values, and we have seen that the processor execute statements one after the other. Processors can also execute statements conditionally so let's see how to express that in python. The basic template for a conditional statement looks like:\n",
    "\n",
    "```\n",
    "if _____: _______\n",
    "```\n",
    "\n",
    "if there is one conditional statement or\n",
    "\n",
    "```\n",
    "if _____:\n",
    "    _____\n",
    "    _____\n",
    "    ...\n",
    "```\n",
    "\n",
    "if there is more than one conditional statement.\n",
    "\n",
    "<img src=\"images/redbang.png\" style=\"width:30px\" align=\"left\"> Please note that any statements associated with this `if` are **indented** from the starting column of the `if` keyword. Indentation is how python groups statements and associates statements with conditionals and loops. All statements starting at the same column number are grouped together. The exception is when we associate a single statement with a conditional or loop on the same line (the first `if` template).\n",
    "\n",
    "Here's a simple example that tests whether the temperature is greater than 90 degrees (Fahrenheit, let's say)."
   ]
  },
  {
   "cell_type": "code",
   "execution_count": 51,
   "metadata": {
    "collapsed": false
   },
   "outputs": [
    {
     "name": "stdout",
     "output_type": "stream",
     "text": [
      "hot!\n"
     ]
    }
   ],
   "source": [
    "temp = 95\n",
    "if temp>90: print 'hot!'"
   ]
  },
  {
   "cell_type": "markdown",
   "metadata": {},
   "source": [
    "The processor executes the assignment first then tests the value of variable `temp` against value `90`. The result of that conditional expression has type boolean (`bool`). If the result is true, the processor executes the print statement guarded by the conditional. If the result is false, the processor skips the print statement.\n",
    "\n",
    "As always, the sequence of operations is critical to proper program execution. It's worth pointing out that this `if` statement is different than what we might find in a recipe meant for humans. For example, the `if` statement above evaluates `temp>90` at a very specific point in time, directly after the previous assignment statement executes. In a recipe, however, we might see something like \"*if the cream starts to boil, turn down the heat.*\" What this really means is that if the cream **ever** starts to boil, turn down the heat. In most programming languages, there is no direct way to express this real-world functionality. Just keep in mind that Python `if` statements execute only when the processor reaches it. The `if` statement is not somehow constantly and repeatedly evaluating `temp>90`.\n",
    "\n",
    "In [Model of Computation](computation.md), we also saw and if-else type conditional statement.  We can also directly expressed this in python. The template looks like:\n",
    "\n",
    "```\n",
    "if _____:\n",
    "    _____\n",
    "    _____\n",
    "    ...\n",
    "else:\n",
    "    _____\n",
    "    _____\n",
    "    ...\n",
    "```\n",
    "\n",
    "Continuing with our previous example, we might use the `else` clause like this:"
   ]
  },
  {
   "cell_type": "code",
   "execution_count": 52,
   "metadata": {
    "collapsed": false,
    "scrolled": true
   },
   "outputs": [
    {
     "name": "stdout",
     "output_type": "stream",
     "text": [
      "hot!\n"
     ]
    }
   ],
   "source": [
    "temp = 95\n",
    "if temp>90:\n",
    "    print 'hot!'\n",
    "else:\n",
    "    print 'nice'"
   ]
  },
  {
   "cell_type": "code",
   "execution_count": 53,
   "metadata": {
    "collapsed": false
   },
   "outputs": [
    {
     "name": "stdout",
     "output_type": "stream",
     "text": [
      "nice\n"
     ]
    }
   ],
   "source": [
    "temp = 75\n",
    "if temp>90:\n",
    "    print 'hot!'\n",
    "else:\n",
    "    print 'nice'"
   ]
  },
  {
   "cell_type": "markdown",
   "metadata": {},
   "source": [
    "### Loop statements \n",
    "\n",
    "Our model of computation also allows us to repeat statements using a variety of loops. The most general loop tested a condition expression and has a template that looks like this:\n",
    "\n",
    "```\n",
    "while _____:\n",
    "    _____\n",
    "    _____\n",
    "    ...\n",
    "```\n",
    "\n",
    "where one of the statements within the `while` loop must change the conditions of the test to avoid an infinite loop. \n",
    "\n",
    "Let's translate this simple pseudocode program:\n",
    "\n",
    "*init a counter to 1*<br>\n",
    "*while counter <= 5*:<br>\n",
    "&nbsp;&nbsp;&nbsp;&nbsp;*print \"hi\"*<br>\n",
    "&nbsp;&nbsp;&nbsp;&nbsp;*add 1 to counter*<br>\n",
    "\n",
    "to Python:"
   ]
  },
  {
   "cell_type": "code",
   "execution_count": 54,
   "metadata": {
    "collapsed": false
   },
   "outputs": [
    {
     "name": "stdout",
     "output_type": "stream",
     "text": [
      "hi\n",
      "hi\n",
      "hi\n",
      "hi\n",
      "hi\n",
      "hi\n"
     ]
    }
   ],
   "source": [
    "count = 0\n",
    "while count <= 5:\n",
    "    print \"hi\"\n",
    "    count = count + 1"
   ]
  },
  {
   "cell_type": "markdown",
   "metadata": {},
   "source": [
    "**Exercise**:  Using the same coding template, alter the loop so that it prints out the `count` variable each time through the loop instead of `hi`.\n",
    "\n",
    "Another kind of loop we saw is the for-each loop, which has the template:\n",
    "\n",
    "```\n",
    "for x in _____:\n",
    "    _____\n",
    "    _____\n",
    "    ...\n",
    "```\n",
    "\n",
    "where `x` can be any variable name we want. For example,We can print each name from a list on a line by itself:"
   ]
  },
  {
   "cell_type": "code",
   "execution_count": 59,
   "metadata": {
    "collapsed": false
   },
   "outputs": [
    {
     "name": "stdout",
     "output_type": "stream",
     "text": [
      "Xue\n",
      "Mary\n",
      "Bob\n"
     ]
    }
   ],
   "source": [
    "names = ['Xue', 'Mary', 'Bob']\n",
    "for name in names:\n",
    "    print name"
   ]
  },
  {
   "cell_type": "markdown",
   "metadata": {},
   "source": [
    "Similarly, we can print out the rows of our courses table like this:"
   ]
  },
  {
   "cell_type": "code",
   "execution_count": 55,
   "metadata": {
    "collapsed": false
   },
   "outputs": [
    {
     "name": "stdout",
     "output_type": "stream",
     "text": [
      "['msan501', 51]\n",
      "['msan502', 32]\n",
      "['msan692', 101]\n"
     ]
    }
   ],
   "source": [
    "for course in courses:\n",
    "    print course"
   ]
  },
  {
   "cell_type": "markdown",
   "metadata": {},
   "source": [
    "When we need to loop through multiple lists simultaneously, we use indexed loops following this template:\n",
    "\n",
    "```\n",
    "n = _____ # n is the length of the lists (should be same length)\n",
    "for i in range(n):\n",
    "    _____\n",
    "    _____\n",
    "    ...\n",
    "```\n",
    "\n",
    "The `range(n)` function returns a range from 0 to n-1 or $[0..n)$ in math notation.\n",
    "\n",
    "Here is an indexed loop that is equivalent of the for-each loop:"
   ]
  },
  {
   "cell_type": "code",
   "execution_count": 61,
   "metadata": {
    "collapsed": false,
    "scrolled": true
   },
   "outputs": [
    {
     "name": "stdout",
     "output_type": "stream",
     "text": [
      "msan501 51\n",
      "msan502 32\n",
      "msan692 101\n"
     ]
    }
   ],
   "source": [
    "names = ['msan501', 'msan502', 'msan692']\n",
    "enrollment = [51, 32, 101]\n",
    "n = 3\n",
    "for i in range(n):\n",
    "    print names[i], enrollment[i]   # print the ith element of names and enrollment lists"
   ]
  },
  {
   "cell_type": "markdown",
   "metadata": {},
   "source": [
    "Usually we don't know the length of the list (3 in this case) and so we must ask python to compute it using the commonly-used `len(...)` function. Rewriting the example to be more general, we'd see:"
   ]
  },
  {
   "cell_type": "code",
   "execution_count": 62,
   "metadata": {
    "collapsed": false
   },
   "outputs": [
    {
     "name": "stdout",
     "output_type": "stream",
     "text": [
      "msan501 51\n",
      "msan502 32\n",
      "msan692 101\n"
     ]
    }
   ],
   "source": [
    "n = len(names)\n",
    "for i in range(n):\n",
    "    print names[i], enrollment[i]"
   ]
  },
  {
   "cell_type": "markdown",
   "metadata": {},
   "source": [
    "As a shorthand, programmers often combine the `range` and `len` as follows:"
   ]
  },
  {
   "cell_type": "code",
   "execution_count": 58,
   "metadata": {
    "collapsed": false,
    "scrolled": true
   },
   "outputs": [
    {
     "name": "stdout",
     "output_type": "stream",
     "text": [
      "msan501 51\n",
      "msan502 32\n",
      "msan692 101\n"
     ]
    }
   ],
   "source": [
    "for i in range(len(courses)):\n",
    "    print names[i], enrollment[i]"
   ]
  },
  {
   "cell_type": "markdown",
   "metadata": {},
   "source": [
    "## Importing libraries\n",
    "\n",
    "We've seen the use of some predefined functions, such as `range` and `len`, but those are available without doing anything special in your Python program. Now let's take a look at importing a library of code and data. Because there are perhaps millions of libraries out there and Python can't automatically load them all into memory (slow and they wouldn't fit), we must explicitly `import` the libraries we want to use. This is like opening a specific cookbook.\n",
    "\n",
    "For example, let's say we need the value of &pi;, which I can only remember to five decimal points. If we type `pi` in the Python console, we get an error because that variable is not defined:\n"
   ]
  },
  {
   "cell_type": "code",
   "execution_count": 27,
   "metadata": {
    "collapsed": false
   },
   "outputs": [
    {
     "ename": "NameError",
     "evalue": "name 'pi' is not defined",
     "output_type": "error",
     "traceback": [
      "\u001b[0;31m---------------------------------------------------------------------------\u001b[0m",
      "\u001b[0;31mNameError\u001b[0m                                 Traceback (most recent call last)",
      "\u001b[0;32m<ipython-input-27-178c179120f5>\u001b[0m in \u001b[0;36m<module>\u001b[0;34m()\u001b[0m\n\u001b[0;32m----> 1\u001b[0;31m \u001b[0;32mprint\u001b[0m \u001b[0mpi\u001b[0m\u001b[0;34m\u001b[0m\u001b[0m\n\u001b[0m",
      "\u001b[0;31mNameError\u001b[0m: name 'pi' is not defined"
     ]
    }
   ],
   "source": [
    "print pi"
   ]
  },
  {
   "cell_type": "markdown",
   "metadata": {},
   "source": [
    "However, the Python `math` library has that variable and much more, so let's import it."
   ]
  },
  {
   "cell_type": "code",
   "execution_count": 28,
   "metadata": {
    "collapsed": true
   },
   "outputs": [],
   "source": [
    "import math"
   ]
  },
  {
   "cell_type": "markdown",
   "metadata": {},
   "source": [
    "That tells Python to bring in the `math` library and so now we can access the stuff inside. A crude way to ask Python for the list of stuff in a package is to use the `dir` function, similar to the Windows commandline `dir` command."
   ]
  },
  {
   "cell_type": "code",
   "execution_count": 29,
   "metadata": {
    "collapsed": false
   },
   "outputs": [
    {
     "name": "stdout",
     "output_type": "stream",
     "text": [
      "['__doc__', '__file__', '__name__', '__package__', 'acos', 'acosh', 'asin', 'asinh', 'atan', 'atan2', 'atanh', 'ceil', 'copysign', 'cos', 'cosh', 'degrees', 'e', 'erf', 'erfc', 'exp', 'expm1', 'fabs', 'factorial', 'floor', 'fmod', 'frexp', 'fsum', 'gamma', 'hypot', 'isinf', 'isnan', 'ldexp', 'lgamma', 'log', 'log10', 'log1p', 'modf', 'pi', 'pow', 'radians', 'sin', 'sinh', 'sqrt', 'tan', 'tanh', 'trunc']\n"
     ]
    }
   ],
   "source": [
    "print dir(math)"
   ]
  },
  {
   "cell_type": "markdown",
   "metadata": {},
   "source": [
    "It's better to use the [online math documentation](https://docs.python.org/2/library/math.html), but sometimes that command is helpful if you just can't remember the name of something.\n",
    "\n",
    "Anyway, now we can finally get the value of `pi`:"
   ]
  },
  {
   "cell_type": "code",
   "execution_count": 30,
   "metadata": {
    "collapsed": false
   },
   "outputs": [
    {
     "name": "stdout",
     "output_type": "stream",
     "text": [
      "3.14159265359\n"
     ]
    }
   ],
   "source": [
    "print math.pi"
   ]
  },
  {
   "cell_type": "markdown",
   "metadata": {},
   "source": [
    "We can access anything we want by prefixing it with the name of the library followed by the dot operator which is kind of like an \"access\" operator. `pi` is a variable but there are also functions such as `sqrt`:"
   ]
  },
  {
   "cell_type": "code",
   "execution_count": 31,
   "metadata": {
    "collapsed": false
   },
   "outputs": [
    {
     "name": "stdout",
     "output_type": "stream",
     "text": [
      "10.0\n"
     ]
    }
   ],
   "source": [
    "print math.sqrt(100)"
   ]
  },
  {
   "cell_type": "markdown",
   "metadata": {},
   "source": [
    "## Summary\n",
    "\n",
    "Take a look back at the summary in [Model of Computation](computation.md).  You'll notice that the high level pseudocode operations look remarkably like the actual python equivalent. Great news!  Let's review all of our python statement templates as it defines the basic \"sentence structure\" we'll use going forward to write some real programs.\n",
    "\n",
    "<ul>\n",
    "<li>Values: integers, floating-point numbers, strings; lists of values in square brackets.</li>\n",
    "<li>Assignments:<br><i>varname</i> <b><tt>=</tt></b> <i>expression</i></li>\n",
    "<li>Printing to console:<br><b><tt>print</tt> <i>expression</i></b></li>\n",
    "<li>Conditional statements:<br><b><tt>if</tt> <i>expression</i><tt>:</tt><br>&nbsp;&nbsp;&nbsp;&nbsp;<i>statement(s)</i></b><br>\n",
    "Or with <tt>else</tt> clause:,<br>\n",
    "<b><tt>if</tt> <i>expression</i><tt>:</tt><br>&nbsp;&nbsp;&nbsp;&nbsp;<i>statement(s)</i><br><tt>else:</tt><br>&nbsp;&nbsp;&nbsp;&nbsp;<i>statement(s)</i></b></li>\n",
    "<li>Basic loop:<br><b><tt>while</tt> <i>expression</i><tt>:</tt><br>&nbsp;&nbsp;&nbsp;&nbsp;<i>statement(s)</i></b></li>\n",
    "<li>For-each loop:<br><b><tt>for</tt> <i>varname</i> <tt>in</tt> <i>expression</i><tt>:</tt><br>&nbsp;&nbsp;&nbsp;&nbsp;<i>statement(s)</i></b></li>\n",
    "<li>Indexed loop:<br><b><tt>for i in range(len(</tt><i>listvarname</i><tt>)):</tt><br>&nbsp;&nbsp;&nbsp;&nbsp;<i>statement(s)</i></b></li>\n",
    "</ul>\n",
    "\n",
    "We import packages with `import` and can refer to the elements using the dot `.` operator.\n"
   ]
  },
  {
   "cell_type": "code",
   "execution_count": null,
   "metadata": {},
   "outputs": [],
   "source": []
  }
 ],
 "metadata": {
  "anaconda-cloud": {},
  "kernelspec": {
   "display_name": "Python 3",
   "language": "python",
   "name": "python3"
  },
  "language_info": {
   "codemirror_mode": {
    "name": "ipython",
    "version": 3
   },
   "file_extension": ".py",
   "mimetype": "text/x-python",
   "name": "python",
   "nbconvert_exporter": "python",
   "pygments_lexer": "ipython3",
   "version": "3.6.5"
  },
  "toc": {
   "colors": {
    "hover_highlight": "#DAA520",
    "navigate_num": "#000000",
    "navigate_text": "#333333",
    "running_highlight": "#FF0000",
    "selected_highlight": "#FFD700",
    "sidebar_border": "#EEEEEE",
    "wrapper_background": "#FFFFFF"
   },
   "moveMenuLeft": true,
   "nav_menu": {
    "height": "226px",
    "width": "252px"
   },
   "navigate_menu": true,
   "number_sections": true,
   "sideBar": true,
   "threshold": 4,
   "toc_cell": false,
   "toc_section_display": "block",
   "toc_window_display": false,
   "widenNotebook": false
  }
 },
 "nbformat": 4,
 "nbformat_minor": 2
}
